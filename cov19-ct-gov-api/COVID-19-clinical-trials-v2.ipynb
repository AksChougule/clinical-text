{
 "cells": [
  {
   "cell_type": "markdown",
   "metadata": {},
   "source": [
    "<pre>This notebook contains exploratory data analysis of covid-19 trials using clinicaltrials.gov api.\n",
    "\n",
    "Author - Akshay Chougule\n",
    "Created on - 16th April 2020\n",
    "Last Updated - 10th May 2020\n",
    "\n",
    "Note: This exploration considers covid-19 trials available on clinicaltrials.gov. Although clinicaltrials.gov contains trials running outside the United States, the data might not be comprehensive or up to date."
   ]
  },
  {
   "cell_type": "code",
   "execution_count": 1,
   "metadata": {},
   "outputs": [],
   "source": [
    "import pandas as pd\n",
    "import numpy as np\n",
    "import requests\n",
    "import datetime\n",
    "import json\n",
    "import seaborn as sns\n",
    "import matplotlib.pyplot as plt"
   ]
  },
  {
   "cell_type": "code",
   "execution_count": 2,
   "metadata": {},
   "outputs": [],
   "source": [
    "pd.set_option('max_colwidth', 800)"
   ]
  },
  {
   "cell_type": "markdown",
   "metadata": {},
   "source": [
    "### Section 0. Data Collection and Preprocessing\n",
    "#### Skip to section 1 if you are interesting in findings."
   ]
  },
  {
   "cell_type": "markdown",
   "metadata": {},
   "source": [
    "Since we can get only 1000 trials as the result of this api query and the total number of covid-19 trials exceed 100, we will have to break our query in 2 parts. The first part will cover first thousand results `&min_rnk=1&max_rnk=1000`, the second part would cover next thousand `&min_rnk=1001&max_rnk=2000` and so on."
   ]
  },
  {
   "cell_type": "code",
   "execution_count": 3,
   "metadata": {},
   "outputs": [],
   "source": [
    "CT_GOV_URL = 'https://clinicaltrials.gov/api/query/study_fields?expr=COVID-19&min_rnk=1&max_rnk=1000&fmt=json'"
   ]
  },
  {
   "cell_type": "code",
   "execution_count": 4,
   "metadata": {},
   "outputs": [],
   "source": [
    "rct_fields = [\n",
    "    'NCTId',\n",
    "    'DesignAllocation',\n",
    "    'DesignMasking',\n",
    "    'LeadSponsorClass',\n",
    "    'DesignPrimaryPurpose',\n",
    "    'EnrollmentCount',\n",
    "    'InterventionName',\n",
    "    'InterventionType',\n",
    "    'LastKnownStatus',\n",
    "    'LeadSponsorName',\n",
    "    'OutcomeMeasureTimeFrame',\n",
    "    'LocationCountry',\n",
    "    'StudyFirstPostDate',\n",
    "    'StudyFirstPostDateType',\n",
    "    'StudyFirstSubmitDate',\n",
    "    'StudyFirstSubmitQCDate',\n",
    "    'OverallStatus',\n",
    "    'StudyType',\n",
    "    'WhyStopped'\n",
    "]"
   ]
  },
  {
   "cell_type": "code",
   "execution_count": 5,
   "metadata": {},
   "outputs": [
    {
     "name": "stdout",
     "output_type": "stream",
     "text": [
      "https://clinicaltrials.gov/api/query/study_fields?expr=COVID-19&min_rnk=1&max_rnk=1000&fmt=json&fields=NCTId,DesignAllocation,DesignMasking,LeadSponsorClass,DesignPrimaryPurpose,EnrollmentCount,InterventionName,InterventionType,LastKnownStatus,LeadSponsorName,OutcomeMeasureTimeFrame,LocationCountry,StudyFirstPostDate,StudyFirstPostDateType,StudyFirstSubmitDate,StudyFirstSubmitQCDate,OverallStatus,StudyType,WhyStopped\n"
     ]
    }
   ],
   "source": [
    "query_url = f'{CT_GOV_URL}&fields={\",\".join(rct_fields)}'\n",
    "print(query_url)"
   ]
  },
  {
   "cell_type": "code",
   "execution_count": 6,
   "metadata": {},
   "outputs": [
    {
     "data": {
      "text/plain": [
       "200"
      ]
     },
     "execution_count": 6,
     "metadata": {},
     "output_type": "execute_result"
    }
   ],
   "source": [
    "r = requests.get(query_url)\n",
    "r.status_code"
   ]
  },
  {
   "cell_type": "code",
   "execution_count": 7,
   "metadata": {},
   "outputs": [
    {
     "data": {
      "text/plain": [
       "(1000, 20)"
      ]
     },
     "execution_count": 7,
     "metadata": {},
     "output_type": "execute_result"
    }
   ],
   "source": [
    "j = json.loads(r.content)\n",
    "df1 = pd.DataFrame(j['StudyFieldsResponse']['StudyFields'])\n",
    "df1.shape"
   ]
  },
  {
   "cell_type": "code",
   "execution_count": 8,
   "metadata": {},
   "outputs": [
    {
     "data": {
      "text/plain": [
       "(373, 20)"
      ]
     },
     "execution_count": 8,
     "metadata": {},
     "output_type": "execute_result"
    }
   ],
   "source": [
    "# Let's get the next 1000\n",
    "CT_GOV_URL = 'https://clinicaltrials.gov/api/query/study_fields?expr=COVID-19&min_rnk=1001&max_rnk=2000&fmt=json'\n",
    "query_url = f'{CT_GOV_URL}&fields={\",\".join(rct_fields)}'\n",
    "r = requests.get(query_url)\n",
    "r.status_code\n",
    "j = json.loads(r.content)\n",
    "df2 = pd.DataFrame(j['StudyFieldsResponse']['StudyFields'])\n",
    "df2.shape"
   ]
  },
  {
   "cell_type": "code",
   "execution_count": 9,
   "metadata": {},
   "outputs": [
    {
     "data": {
      "text/plain": [
       "(1373, 20)"
      ]
     },
     "execution_count": 9,
     "metadata": {},
     "output_type": "execute_result"
    }
   ],
   "source": [
    "df_base = pd.concat([df1, df2])\n",
    "df_base.shape"
   ]
  },
  {
   "cell_type": "markdown",
   "metadata": {},
   "source": [
    "#### There are total 1373 trials registered on clinicaltrials.gov for covid-19, as of may 10th 2020"
   ]
  },
  {
   "cell_type": "code",
   "execution_count": 10,
   "metadata": {},
   "outputs": [
    {
     "data": {
      "text/html": [
       "<div>\n",
       "<style scoped>\n",
       "    .dataframe tbody tr th:only-of-type {\n",
       "        vertical-align: middle;\n",
       "    }\n",
       "\n",
       "    .dataframe tbody tr th {\n",
       "        vertical-align: top;\n",
       "    }\n",
       "\n",
       "    .dataframe thead th {\n",
       "        text-align: right;\n",
       "    }\n",
       "</style>\n",
       "<table border=\"1\" class=\"dataframe\">\n",
       "  <thead>\n",
       "    <tr style=\"text-align: right;\">\n",
       "      <th></th>\n",
       "      <th>Rank</th>\n",
       "      <th>NCTId</th>\n",
       "      <th>DesignAllocation</th>\n",
       "      <th>DesignMasking</th>\n",
       "      <th>LeadSponsorClass</th>\n",
       "      <th>DesignPrimaryPurpose</th>\n",
       "      <th>EnrollmentCount</th>\n",
       "      <th>InterventionName</th>\n",
       "      <th>InterventionType</th>\n",
       "      <th>LastKnownStatus</th>\n",
       "      <th>LeadSponsorName</th>\n",
       "      <th>OutcomeMeasureTimeFrame</th>\n",
       "      <th>LocationCountry</th>\n",
       "      <th>StudyFirstPostDate</th>\n",
       "      <th>StudyFirstPostDateType</th>\n",
       "      <th>StudyFirstSubmitDate</th>\n",
       "      <th>StudyFirstSubmitQCDate</th>\n",
       "      <th>OverallStatus</th>\n",
       "      <th>StudyType</th>\n",
       "      <th>WhyStopped</th>\n",
       "    </tr>\n",
       "  </thead>\n",
       "  <tbody>\n",
       "    <tr>\n",
       "      <th>0</th>\n",
       "      <td>1</td>\n",
       "      <td>[NCT04372004]</td>\n",
       "      <td>[Non-Randomized]</td>\n",
       "      <td>[None (Open Label)]</td>\n",
       "      <td>[OTHER]</td>\n",
       "      <td>[Diagnostic]</td>\n",
       "      <td>[100]</td>\n",
       "      <td>[diagnostic tests for COVID-19 infection]</td>\n",
       "      <td>[Diagnostic Test]</td>\n",
       "      <td>[]</td>\n",
       "      <td>[Texas Cardiac Arrhythmia Research Foundation]</td>\n",
       "      <td>[]</td>\n",
       "      <td>[]</td>\n",
       "      <td>[May 1, 2020]</td>\n",
       "      <td>[Actual]</td>\n",
       "      <td>[April 29, 2020]</td>\n",
       "      <td>[April 29, 2020]</td>\n",
       "      <td>[Not yet recruiting]</td>\n",
       "      <td>[Interventional]</td>\n",
       "      <td>[]</td>\n",
       "    </tr>\n",
       "    <tr>\n",
       "      <th>1</th>\n",
       "      <td>2</td>\n",
       "      <td>[NCT04367805]</td>\n",
       "      <td>[]</td>\n",
       "      <td>[]</td>\n",
       "      <td>[OTHER]</td>\n",
       "      <td>[]</td>\n",
       "      <td>[50]</td>\n",
       "      <td>[nasopharyngeal Covid 19 RT-PCR]</td>\n",
       "      <td>[Diagnostic Test]</td>\n",
       "      <td>[]</td>\n",
       "      <td>[Centre Hospitalier Universitaire, Amiens]</td>\n",
       "      <td>[]</td>\n",
       "      <td>[France]</td>\n",
       "      <td>[April 29, 2020]</td>\n",
       "      <td>[Actual]</td>\n",
       "      <td>[April 27, 2020]</td>\n",
       "      <td>[April 27, 2020]</td>\n",
       "      <td>[Recruiting]</td>\n",
       "      <td>[Observational]</td>\n",
       "      <td>[]</td>\n",
       "    </tr>\n",
       "    <tr>\n",
       "      <th>2</th>\n",
       "      <td>3</td>\n",
       "      <td>[NCT04342637]</td>\n",
       "      <td>[]</td>\n",
       "      <td>[]</td>\n",
       "      <td>[OTHER]</td>\n",
       "      <td>[]</td>\n",
       "      <td>[40]</td>\n",
       "      <td>[Practice details]</td>\n",
       "      <td>[Other]</td>\n",
       "      <td>[]</td>\n",
       "      <td>[Al-Azhar University]</td>\n",
       "      <td>[]</td>\n",
       "      <td>[United States, Egypt, Egypt, Iran, Islamic Republic of]</td>\n",
       "      <td>[April 13, 2020]</td>\n",
       "      <td>[Actual]</td>\n",
       "      <td>[April 7, 2020]</td>\n",
       "      <td>[April 8, 2020]</td>\n",
       "      <td>[Recruiting]</td>\n",
       "      <td>[Observational]</td>\n",
       "      <td>[]</td>\n",
       "    </tr>\n",
       "    <tr>\n",
       "      <th>3</th>\n",
       "      <td>4</td>\n",
       "      <td>[NCT04323787]</td>\n",
       "      <td>[]</td>\n",
       "      <td>[]</td>\n",
       "      <td>[OTHER]</td>\n",
       "      <td>[]</td>\n",
       "      <td>[50000]</td>\n",
       "      <td>[observational]</td>\n",
       "      <td>[Other]</td>\n",
       "      <td>[]</td>\n",
       "      <td>[Mayo Clinic]</td>\n",
       "      <td>[]</td>\n",
       "      <td>[United States, United States, United States, United States]</td>\n",
       "      <td>[March 27, 2020]</td>\n",
       "      <td>[Actual]</td>\n",
       "      <td>[March 24, 2020]</td>\n",
       "      <td>[March 25, 2020]</td>\n",
       "      <td>[Recruiting]</td>\n",
       "      <td>[Observational]</td>\n",
       "      <td>[]</td>\n",
       "    </tr>\n",
       "    <tr>\n",
       "      <th>4</th>\n",
       "      <td>5</td>\n",
       "      <td>[NCT04339322]</td>\n",
       "      <td>[]</td>\n",
       "      <td>[]</td>\n",
       "      <td>[OTHER]</td>\n",
       "      <td>[]</td>\n",
       "      <td>[200]</td>\n",
       "      <td>[Follow up]</td>\n",
       "      <td>[Other]</td>\n",
       "      <td>[]</td>\n",
       "      <td>[Assiut University]</td>\n",
       "      <td>[]</td>\n",
       "      <td>[]</td>\n",
       "      <td>[April 9, 2020]</td>\n",
       "      <td>[Actual]</td>\n",
       "      <td>[April 7, 2020]</td>\n",
       "      <td>[April 7, 2020]</td>\n",
       "      <td>[Not yet recruiting]</td>\n",
       "      <td>[Observational]</td>\n",
       "      <td>[]</td>\n",
       "    </tr>\n",
       "  </tbody>\n",
       "</table>\n",
       "</div>"
      ],
      "text/plain": [
       "   Rank          NCTId  DesignAllocation        DesignMasking  \\\n",
       "0     1  [NCT04372004]  [Non-Randomized]  [None (Open Label)]   \n",
       "1     2  [NCT04367805]                []                   []   \n",
       "2     3  [NCT04342637]                []                   []   \n",
       "3     4  [NCT04323787]                []                   []   \n",
       "4     5  [NCT04339322]                []                   []   \n",
       "\n",
       "  LeadSponsorClass DesignPrimaryPurpose EnrollmentCount  \\\n",
       "0          [OTHER]         [Diagnostic]           [100]   \n",
       "1          [OTHER]                   []            [50]   \n",
       "2          [OTHER]                   []            [40]   \n",
       "3          [OTHER]                   []         [50000]   \n",
       "4          [OTHER]                   []           [200]   \n",
       "\n",
       "                            InterventionName   InterventionType  \\\n",
       "0  [diagnostic tests for COVID-19 infection]  [Diagnostic Test]   \n",
       "1           [nasopharyngeal Covid 19 RT-PCR]  [Diagnostic Test]   \n",
       "2                         [Practice details]            [Other]   \n",
       "3                            [observational]            [Other]   \n",
       "4                                [Follow up]            [Other]   \n",
       "\n",
       "  LastKnownStatus                                 LeadSponsorName  \\\n",
       "0              []  [Texas Cardiac Arrhythmia Research Foundation]   \n",
       "1              []      [Centre Hospitalier Universitaire, Amiens]   \n",
       "2              []                           [Al-Azhar University]   \n",
       "3              []                                   [Mayo Clinic]   \n",
       "4              []                             [Assiut University]   \n",
       "\n",
       "  OutcomeMeasureTimeFrame  \\\n",
       "0                      []   \n",
       "1                      []   \n",
       "2                      []   \n",
       "3                      []   \n",
       "4                      []   \n",
       "\n",
       "                                                LocationCountry  \\\n",
       "0                                                            []   \n",
       "1                                                      [France]   \n",
       "2      [United States, Egypt, Egypt, Iran, Islamic Republic of]   \n",
       "3  [United States, United States, United States, United States]   \n",
       "4                                                            []   \n",
       "\n",
       "  StudyFirstPostDate StudyFirstPostDateType StudyFirstSubmitDate  \\\n",
       "0      [May 1, 2020]               [Actual]     [April 29, 2020]   \n",
       "1   [April 29, 2020]               [Actual]     [April 27, 2020]   \n",
       "2   [April 13, 2020]               [Actual]      [April 7, 2020]   \n",
       "3   [March 27, 2020]               [Actual]     [March 24, 2020]   \n",
       "4    [April 9, 2020]               [Actual]      [April 7, 2020]   \n",
       "\n",
       "  StudyFirstSubmitQCDate         OverallStatus         StudyType WhyStopped  \n",
       "0       [April 29, 2020]  [Not yet recruiting]  [Interventional]         []  \n",
       "1       [April 27, 2020]          [Recruiting]   [Observational]         []  \n",
       "2        [April 8, 2020]          [Recruiting]   [Observational]         []  \n",
       "3       [March 25, 2020]          [Recruiting]   [Observational]         []  \n",
       "4        [April 7, 2020]  [Not yet recruiting]   [Observational]         []  "
      ]
     },
     "execution_count": 10,
     "metadata": {},
     "output_type": "execute_result"
    }
   ],
   "source": [
    "df = df_base\n",
    "df.head()"
   ]
  },
  {
   "cell_type": "code",
   "execution_count": 11,
   "metadata": {},
   "outputs": [
    {
     "data": {
      "text/plain": [
       "0    NCT04372004\n",
       "1    NCT04367805\n",
       "2    NCT04342637\n",
       "3    NCT04323787\n",
       "4    NCT04339322\n",
       "Name: NCTId, dtype: object"
      ]
     },
     "execution_count": 11,
     "metadata": {},
     "output_type": "execute_result"
    }
   ],
   "source": [
    "temp = df['NCTId'].str[0]\n",
    "temp.head()"
   ]
  },
  {
   "cell_type": "code",
   "execution_count": 12,
   "metadata": {},
   "outputs": [
    {
     "name": "stdout",
     "output_type": "stream",
     "text": [
      "NCTId\n",
      "DesignAllocation\n",
      "DesignMasking\n",
      "LeadSponsorClass\n",
      "DesignPrimaryPurpose\n",
      "EnrollmentCount\n",
      "InterventionName\n",
      "InterventionType\n",
      "LastKnownStatus\n",
      "LeadSponsorName\n",
      "OutcomeMeasureTimeFrame\n",
      "LocationCountry\n",
      "StudyFirstPostDate\n",
      "StudyFirstPostDateType\n",
      "StudyFirstSubmitDate\n",
      "StudyFirstSubmitQCDate\n",
      "OverallStatus\n",
      "StudyType\n",
      "WhyStopped\n"
     ]
    }
   ],
   "source": [
    "for col in df.columns[1:]:\n",
    "    print(col)\n",
    "    df[col] = df[col].str[0]"
   ]
  },
  {
   "cell_type": "code",
   "execution_count": 13,
   "metadata": {},
   "outputs": [
    {
     "data": {
      "text/html": [
       "<div>\n",
       "<style scoped>\n",
       "    .dataframe tbody tr th:only-of-type {\n",
       "        vertical-align: middle;\n",
       "    }\n",
       "\n",
       "    .dataframe tbody tr th {\n",
       "        vertical-align: top;\n",
       "    }\n",
       "\n",
       "    .dataframe thead th {\n",
       "        text-align: right;\n",
       "    }\n",
       "</style>\n",
       "<table border=\"1\" class=\"dataframe\">\n",
       "  <thead>\n",
       "    <tr style=\"text-align: right;\">\n",
       "      <th></th>\n",
       "      <th>Rank</th>\n",
       "      <th>NCTId</th>\n",
       "      <th>DesignAllocation</th>\n",
       "      <th>DesignMasking</th>\n",
       "      <th>LeadSponsorClass</th>\n",
       "      <th>DesignPrimaryPurpose</th>\n",
       "      <th>EnrollmentCount</th>\n",
       "      <th>InterventionName</th>\n",
       "      <th>InterventionType</th>\n",
       "      <th>LastKnownStatus</th>\n",
       "      <th>LeadSponsorName</th>\n",
       "      <th>OutcomeMeasureTimeFrame</th>\n",
       "      <th>LocationCountry</th>\n",
       "      <th>StudyFirstPostDate</th>\n",
       "      <th>StudyFirstPostDateType</th>\n",
       "      <th>StudyFirstSubmitDate</th>\n",
       "      <th>StudyFirstSubmitQCDate</th>\n",
       "      <th>OverallStatus</th>\n",
       "      <th>StudyType</th>\n",
       "      <th>WhyStopped</th>\n",
       "    </tr>\n",
       "  </thead>\n",
       "  <tbody>\n",
       "    <tr>\n",
       "      <th>0</th>\n",
       "      <td>1</td>\n",
       "      <td>NCT04372004</td>\n",
       "      <td>Non-Randomized</td>\n",
       "      <td>None (Open Label)</td>\n",
       "      <td>OTHER</td>\n",
       "      <td>Diagnostic</td>\n",
       "      <td>100</td>\n",
       "      <td>diagnostic tests for COVID-19 infection</td>\n",
       "      <td>Diagnostic Test</td>\n",
       "      <td>NaN</td>\n",
       "      <td>Texas Cardiac Arrhythmia Research Foundation</td>\n",
       "      <td>NaN</td>\n",
       "      <td>NaN</td>\n",
       "      <td>May 1, 2020</td>\n",
       "      <td>Actual</td>\n",
       "      <td>April 29, 2020</td>\n",
       "      <td>April 29, 2020</td>\n",
       "      <td>Not yet recruiting</td>\n",
       "      <td>Interventional</td>\n",
       "      <td>NaN</td>\n",
       "    </tr>\n",
       "    <tr>\n",
       "      <th>1</th>\n",
       "      <td>2</td>\n",
       "      <td>NCT04367805</td>\n",
       "      <td>NaN</td>\n",
       "      <td>NaN</td>\n",
       "      <td>OTHER</td>\n",
       "      <td>NaN</td>\n",
       "      <td>50</td>\n",
       "      <td>nasopharyngeal Covid 19 RT-PCR</td>\n",
       "      <td>Diagnostic Test</td>\n",
       "      <td>NaN</td>\n",
       "      <td>Centre Hospitalier Universitaire, Amiens</td>\n",
       "      <td>NaN</td>\n",
       "      <td>France</td>\n",
       "      <td>April 29, 2020</td>\n",
       "      <td>Actual</td>\n",
       "      <td>April 27, 2020</td>\n",
       "      <td>April 27, 2020</td>\n",
       "      <td>Recruiting</td>\n",
       "      <td>Observational</td>\n",
       "      <td>NaN</td>\n",
       "    </tr>\n",
       "    <tr>\n",
       "      <th>2</th>\n",
       "      <td>3</td>\n",
       "      <td>NCT04342637</td>\n",
       "      <td>NaN</td>\n",
       "      <td>NaN</td>\n",
       "      <td>OTHER</td>\n",
       "      <td>NaN</td>\n",
       "      <td>40</td>\n",
       "      <td>Practice details</td>\n",
       "      <td>Other</td>\n",
       "      <td>NaN</td>\n",
       "      <td>Al-Azhar University</td>\n",
       "      <td>NaN</td>\n",
       "      <td>United States</td>\n",
       "      <td>April 13, 2020</td>\n",
       "      <td>Actual</td>\n",
       "      <td>April 7, 2020</td>\n",
       "      <td>April 8, 2020</td>\n",
       "      <td>Recruiting</td>\n",
       "      <td>Observational</td>\n",
       "      <td>NaN</td>\n",
       "    </tr>\n",
       "    <tr>\n",
       "      <th>3</th>\n",
       "      <td>4</td>\n",
       "      <td>NCT04323787</td>\n",
       "      <td>NaN</td>\n",
       "      <td>NaN</td>\n",
       "      <td>OTHER</td>\n",
       "      <td>NaN</td>\n",
       "      <td>50000</td>\n",
       "      <td>observational</td>\n",
       "      <td>Other</td>\n",
       "      <td>NaN</td>\n",
       "      <td>Mayo Clinic</td>\n",
       "      <td>NaN</td>\n",
       "      <td>United States</td>\n",
       "      <td>March 27, 2020</td>\n",
       "      <td>Actual</td>\n",
       "      <td>March 24, 2020</td>\n",
       "      <td>March 25, 2020</td>\n",
       "      <td>Recruiting</td>\n",
       "      <td>Observational</td>\n",
       "      <td>NaN</td>\n",
       "    </tr>\n",
       "    <tr>\n",
       "      <th>4</th>\n",
       "      <td>5</td>\n",
       "      <td>NCT04339322</td>\n",
       "      <td>NaN</td>\n",
       "      <td>NaN</td>\n",
       "      <td>OTHER</td>\n",
       "      <td>NaN</td>\n",
       "      <td>200</td>\n",
       "      <td>Follow up</td>\n",
       "      <td>Other</td>\n",
       "      <td>NaN</td>\n",
       "      <td>Assiut University</td>\n",
       "      <td>NaN</td>\n",
       "      <td>NaN</td>\n",
       "      <td>April 9, 2020</td>\n",
       "      <td>Actual</td>\n",
       "      <td>April 7, 2020</td>\n",
       "      <td>April 7, 2020</td>\n",
       "      <td>Not yet recruiting</td>\n",
       "      <td>Observational</td>\n",
       "      <td>NaN</td>\n",
       "    </tr>\n",
       "  </tbody>\n",
       "</table>\n",
       "</div>"
      ],
      "text/plain": [
       "   Rank        NCTId DesignAllocation      DesignMasking LeadSponsorClass  \\\n",
       "0     1  NCT04372004   Non-Randomized  None (Open Label)            OTHER   \n",
       "1     2  NCT04367805              NaN                NaN            OTHER   \n",
       "2     3  NCT04342637              NaN                NaN            OTHER   \n",
       "3     4  NCT04323787              NaN                NaN            OTHER   \n",
       "4     5  NCT04339322              NaN                NaN            OTHER   \n",
       "\n",
       "  DesignPrimaryPurpose EnrollmentCount  \\\n",
       "0           Diagnostic             100   \n",
       "1                  NaN              50   \n",
       "2                  NaN              40   \n",
       "3                  NaN           50000   \n",
       "4                  NaN             200   \n",
       "\n",
       "                          InterventionName InterventionType  LastKnownStatus  \\\n",
       "0  diagnostic tests for COVID-19 infection  Diagnostic Test              NaN   \n",
       "1           nasopharyngeal Covid 19 RT-PCR  Diagnostic Test              NaN   \n",
       "2                         Practice details            Other              NaN   \n",
       "3                            observational            Other              NaN   \n",
       "4                                Follow up            Other              NaN   \n",
       "\n",
       "                                LeadSponsorName  OutcomeMeasureTimeFrame  \\\n",
       "0  Texas Cardiac Arrhythmia Research Foundation                      NaN   \n",
       "1      Centre Hospitalier Universitaire, Amiens                      NaN   \n",
       "2                           Al-Azhar University                      NaN   \n",
       "3                                   Mayo Clinic                      NaN   \n",
       "4                             Assiut University                      NaN   \n",
       "\n",
       "  LocationCountry StudyFirstPostDate StudyFirstPostDateType  \\\n",
       "0             NaN        May 1, 2020                 Actual   \n",
       "1          France     April 29, 2020                 Actual   \n",
       "2   United States     April 13, 2020                 Actual   \n",
       "3   United States     March 27, 2020                 Actual   \n",
       "4             NaN      April 9, 2020                 Actual   \n",
       "\n",
       "  StudyFirstSubmitDate StudyFirstSubmitQCDate       OverallStatus  \\\n",
       "0       April 29, 2020         April 29, 2020  Not yet recruiting   \n",
       "1       April 27, 2020         April 27, 2020          Recruiting   \n",
       "2        April 7, 2020          April 8, 2020          Recruiting   \n",
       "3       March 24, 2020         March 25, 2020          Recruiting   \n",
       "4        April 7, 2020          April 7, 2020  Not yet recruiting   \n",
       "\n",
       "        StudyType WhyStopped  \n",
       "0  Interventional        NaN  \n",
       "1   Observational        NaN  \n",
       "2   Observational        NaN  \n",
       "3   Observational        NaN  \n",
       "4   Observational        NaN  "
      ]
     },
     "execution_count": 13,
     "metadata": {},
     "output_type": "execute_result"
    }
   ],
   "source": [
    "df.head()"
   ]
  },
  {
   "cell_type": "markdown",
   "metadata": {},
   "source": [
    "^ This looks good now."
   ]
  },
  {
   "cell_type": "markdown",
   "metadata": {},
   "source": [
    "### 1. Distribution of Trial Registration Dates"
   ]
  },
  {
   "cell_type": "code",
   "execution_count": 14,
   "metadata": {},
   "outputs": [
    {
     "data": {
      "text/plain": [
       "(Timestamp('2020-05-08 00:00:00'), Timestamp('2011-03-01 00:00:00'))"
      ]
     },
     "execution_count": 14,
     "metadata": {},
     "output_type": "execute_result"
    }
   ],
   "source": [
    "df[\"StudyFirstPostDate\"] = df[\"StudyFirstPostDate\"].astype(\"datetime64\")\n",
    "df.StudyFirstPostDate.max(), df.StudyFirstPostDate.min()"
   ]
  },
  {
   "cell_type": "markdown",
   "metadata": {},
   "source": [
    "<pre>The max date looks good but the min date here is from 2011.\n",
    "\n",
    "According to the WHO the first case of covid-19 was found in late December 2019. So let's use that as a cutoff date.\n",
    "\n",
    "source: https://www.who.int/news-room/detail/27-04-2020-who-timeline---covid-19\n"
   ]
  },
  {
   "cell_type": "code",
   "execution_count": 15,
   "metadata": {},
   "outputs": [
    {
     "name": "stderr",
     "output_type": "stream",
     "text": [
      "/home/ubuntu/.local/lib/python3.6/site-packages/ipykernel_launcher.py:2: FutureWarning: Comparing Series of datetimes with 'datetime.date'.  Currently, the\n",
      "'datetime.date' is coerced to a datetime. In the future pandas will\n",
      "not coerce, and a TypeError will be raised. To retain the current\n",
      "behavior, convert the 'datetime.date' to a datetime with\n",
      "'pd.Timestamp'.\n",
      "  \n"
     ]
    },
    {
     "data": {
      "text/plain": [
       "(1338, 20)"
      ]
     },
     "execution_count": 15,
     "metadata": {},
     "output_type": "execute_result"
    }
   ],
   "source": [
    "# Select trials registered only after Jan 1st 2020\n",
    "df = df[df.StudyFirstPostDate>datetime.date(2020,1,1)]\n",
    "df.shape"
   ]
  },
  {
   "cell_type": "code",
   "execution_count": 16,
   "metadata": {},
   "outputs": [
    {
     "data": {
      "text/plain": [
       "(Timestamp('2020-05-08 00:00:00'), Timestamp('2020-01-27 00:00:00'))"
      ]
     },
     "execution_count": 16,
     "metadata": {},
     "output_type": "execute_result"
    }
   ],
   "source": [
    "df.StudyFirstPostDate.max(), df.StudyFirstPostDate.min()"
   ]
  },
  {
   "cell_type": "markdown",
   "metadata": {},
   "source": [
    "<pre>^ Now the dates look good.\n",
    "\n",
    "So we have 1338 covid-19 trials registered on clinicaltrials.gov since Jan 1st, 2020.\n",
    "\n",
    "Let's check the month-based distribution."
   ]
  },
  {
   "cell_type": "code",
   "execution_count": 17,
   "metadata": {},
   "outputs": [
    {
     "data": {
      "text/plain": [
       "StudyFirstPostDate\n",
       "1      3\n",
       "2     61\n",
       "3    179\n",
       "4    857\n",
       "5    238\n",
       "Name: NCTId, dtype: int64"
      ]
     },
     "execution_count": 17,
     "metadata": {},
     "output_type": "execute_result"
    }
   ],
   "source": [
    "df.groupby([df[\"StudyFirstPostDate\"].dt.month]).NCTId.count()"
   ]
  },
  {
   "cell_type": "code",
   "execution_count": 18,
   "metadata": {},
   "outputs": [
    {
     "data": {
      "text/plain": [
       "<matplotlib.axes._subplots.AxesSubplot at 0x7fd59ec420f0>"
      ]
     },
     "execution_count": 18,
     "metadata": {},
     "output_type": "execute_result"
    },
    {
     "data": {
      "image/png": "[encoded data removed]",
      "text/plain": [
       "<Figure size 432x288 with 1 Axes>"
      ]
     },
     "metadata": {
      "needs_background": "light"
     },
     "output_type": "display_data"
    }
   ],
   "source": [
    "# Let's plot the results on log scale since per month trials vary from 3 to 857\n",
    "df.groupby([df[\"StudyFirstPostDate\"].dt.month]).NCTId.count().plot(kind=\"bar\", log=True)"
   ]
  },
  {
   "cell_type": "markdown",
   "metadata": {},
   "source": [
    "### Breakdown of covid-19 clinical trials since Jan 1st, 2020,\n",
    "<pre>\n",
    "Jan 2020 - 3\n",
    "Feb 2020 - 61\n",
    "Mar 2020 - 179\n",
    "Apr 2020 - 857\n",
    "May 2020 - 238 (till 10th May only)\n",
    "</pre>"
   ]
  },
  {
   "cell_type": "markdown",
   "metadata": {},
   "source": [
    "### 2. Types of Intervention and Design Purpose"
   ]
  },
  {
   "cell_type": "code",
   "execution_count": 19,
   "metadata": {},
   "outputs": [
    {
     "data": {
      "text/plain": [
       "1338"
      ]
     },
     "execution_count": 19,
     "metadata": {},
     "output_type": "execute_result"
    }
   ],
   "source": [
    "# All covid-19 trials\n",
    "df.shape[0]"
   ]
  },
  {
   "cell_type": "code",
   "execution_count": 20,
   "metadata": {},
   "outputs": [
    {
     "data": {
      "text/plain": [
       "787"
      ]
     },
     "execution_count": 20,
     "metadata": {},
     "output_type": "execute_result"
    }
   ],
   "source": [
    "# Select Interventional trials \n",
    "df = df[df.StudyType=='Interventional']\n",
    "df.shape[0]"
   ]
  },
  {
   "cell_type": "markdown",
   "metadata": {},
   "source": [
    "<pre>^ Roughly 60% of trials (787 out of the 1338) are interventional.\n",
    "\n",
    "Let's see what type of interventions they are recieving."
   ]
  },
  {
   "cell_type": "code",
   "execution_count": 21,
   "metadata": {},
   "outputs": [
    {
     "data": {
      "text/html": [
       "<div>\n",
       "<style scoped>\n",
       "    .dataframe tbody tr th:only-of-type {\n",
       "        vertical-align: middle;\n",
       "    }\n",
       "\n",
       "    .dataframe tbody tr th {\n",
       "        vertical-align: top;\n",
       "    }\n",
       "\n",
       "    .dataframe thead th {\n",
       "        text-align: right;\n",
       "    }\n",
       "</style>\n",
       "<table border=\"1\" class=\"dataframe\">\n",
       "  <thead>\n",
       "    <tr style=\"text-align: right;\">\n",
       "      <th></th>\n",
       "      <th>InterventionType</th>\n",
       "      <th>NCTId</th>\n",
       "    </tr>\n",
       "  </thead>\n",
       "  <tbody>\n",
       "    <tr>\n",
       "      <th>6</th>\n",
       "      <td>Drug</td>\n",
       "      <td>465</td>\n",
       "    </tr>\n",
       "    <tr>\n",
       "      <th>1</th>\n",
       "      <td>Biological</td>\n",
       "      <td>99</td>\n",
       "    </tr>\n",
       "    <tr>\n",
       "      <th>8</th>\n",
       "      <td>Other</td>\n",
       "      <td>76</td>\n",
       "    </tr>\n",
       "    <tr>\n",
       "      <th>3</th>\n",
       "      <td>Device</td>\n",
       "      <td>48</td>\n",
       "    </tr>\n",
       "    <tr>\n",
       "      <th>0</th>\n",
       "      <td>Behavioral</td>\n",
       "      <td>38</td>\n",
       "    </tr>\n",
       "    <tr>\n",
       "      <th>4</th>\n",
       "      <td>Diagnostic Test</td>\n",
       "      <td>20</td>\n",
       "    </tr>\n",
       "    <tr>\n",
       "      <th>9</th>\n",
       "      <td>Procedure</td>\n",
       "      <td>18</td>\n",
       "    </tr>\n",
       "    <tr>\n",
       "      <th>5</th>\n",
       "      <td>Dietary Supplement</td>\n",
       "      <td>11</td>\n",
       "    </tr>\n",
       "    <tr>\n",
       "      <th>2</th>\n",
       "      <td>Combination Product</td>\n",
       "      <td>7</td>\n",
       "    </tr>\n",
       "    <tr>\n",
       "      <th>10</th>\n",
       "      <td>Radiation</td>\n",
       "      <td>3</td>\n",
       "    </tr>\n",
       "    <tr>\n",
       "      <th>7</th>\n",
       "      <td>Genetic</td>\n",
       "      <td>2</td>\n",
       "    </tr>\n",
       "  </tbody>\n",
       "</table>\n",
       "</div>"
      ],
      "text/plain": [
       "       InterventionType  NCTId\n",
       "6                  Drug    465\n",
       "1            Biological     99\n",
       "8                 Other     76\n",
       "3                Device     48\n",
       "0            Behavioral     38\n",
       "4       Diagnostic Test     20\n",
       "9             Procedure     18\n",
       "5    Dietary Supplement     11\n",
       "2   Combination Product      7\n",
       "10            Radiation      3\n",
       "7               Genetic      2"
      ]
     },
     "execution_count": 21,
     "metadata": {},
     "output_type": "execute_result"
    }
   ],
   "source": [
    "tt = df.groupby(\"InterventionType\", as_index=False).NCTId.count().sort_values(by=['NCTId'], ascending=False)\n",
    "tt"
   ]
  },
  {
   "cell_type": "markdown",
   "metadata": {},
   "source": [
    "<pre>^ As expected majority of the interventional trials (564 out of 787, or 71.66 %) are recieving Drug or Biological \n",
    "interventions.\n",
    "\n",
    "However, surprisingly only 20 trials (~ 2.5%) are associated with diagnostic tests.\n"
   ]
  },
  {
   "cell_type": "code",
   "execution_count": 22,
   "metadata": {},
   "outputs": [
    {
     "data": {
      "image/png": "[encoded data removed]",
      "text/plain": [
       "<Figure size 1008x576 with 1 Axes>"
      ]
     },
     "metadata": {
      "needs_background": "light"
     },
     "output_type": "display_data"
    }
   ],
   "source": [
    "plt.figure(figsize=(14,8))\n",
    "graph = sns.barplot(y=\"InterventionType\", x=\"NCTId\", data=tt, palette=\"Blues_d\", log=True)\n",
    "for p in graph.patches:\n",
    "        graph.annotate('{:.0f}'.format(p.get_width()), (p.get_width()+(p.get_width()/10), p.get_y()+0.6),\n",
    "                    ha='center', va='bottom', color= 'black')"
   ]
  },
  {
   "cell_type": "markdown",
   "metadata": {},
   "source": [
    "**What is the distribution of primary purpose of trials?**"
   ]
  },
  {
   "cell_type": "code",
   "execution_count": 23,
   "metadata": {},
   "outputs": [
    {
     "data": {
      "text/html": [
       "<div>\n",
       "<style scoped>\n",
       "    .dataframe tbody tr th:only-of-type {\n",
       "        vertical-align: middle;\n",
       "    }\n",
       "\n",
       "    .dataframe tbody tr th {\n",
       "        vertical-align: top;\n",
       "    }\n",
       "\n",
       "    .dataframe thead th {\n",
       "        text-align: right;\n",
       "    }\n",
       "</style>\n",
       "<table border=\"1\" class=\"dataframe\">\n",
       "  <thead>\n",
       "    <tr style=\"text-align: right;\">\n",
       "      <th></th>\n",
       "      <th>DesignPrimaryPurpose</th>\n",
       "      <th>NCTId</th>\n",
       "    </tr>\n",
       "  </thead>\n",
       "  <tbody>\n",
       "    <tr>\n",
       "      <th>8</th>\n",
       "      <td>Treatment</td>\n",
       "      <td>569</td>\n",
       "    </tr>\n",
       "    <tr>\n",
       "      <th>5</th>\n",
       "      <td>Prevention</td>\n",
       "      <td>106</td>\n",
       "    </tr>\n",
       "    <tr>\n",
       "      <th>7</th>\n",
       "      <td>Supportive Care</td>\n",
       "      <td>32</td>\n",
       "    </tr>\n",
       "    <tr>\n",
       "      <th>2</th>\n",
       "      <td>Diagnostic</td>\n",
       "      <td>28</td>\n",
       "    </tr>\n",
       "    <tr>\n",
       "      <th>4</th>\n",
       "      <td>Other</td>\n",
       "      <td>27</td>\n",
       "    </tr>\n",
       "    <tr>\n",
       "      <th>3</th>\n",
       "      <td>Health Services Research</td>\n",
       "      <td>11</td>\n",
       "    </tr>\n",
       "    <tr>\n",
       "      <th>0</th>\n",
       "      <td>Basic Science</td>\n",
       "      <td>6</td>\n",
       "    </tr>\n",
       "    <tr>\n",
       "      <th>6</th>\n",
       "      <td>Screening</td>\n",
       "      <td>6</td>\n",
       "    </tr>\n",
       "    <tr>\n",
       "      <th>1</th>\n",
       "      <td>Device Feasibility</td>\n",
       "      <td>2</td>\n",
       "    </tr>\n",
       "  </tbody>\n",
       "</table>\n",
       "</div>"
      ],
      "text/plain": [
       "       DesignPrimaryPurpose  NCTId\n",
       "8                 Treatment    569\n",
       "5                Prevention    106\n",
       "7           Supportive Care     32\n",
       "2                Diagnostic     28\n",
       "4                     Other     27\n",
       "3  Health Services Research     11\n",
       "0             Basic Science      6\n",
       "6                 Screening      6\n",
       "1        Device Feasibility      2"
      ]
     },
     "execution_count": 23,
     "metadata": {},
     "output_type": "execute_result"
    }
   ],
   "source": [
    "tt = df.groupby(\"DesignPrimaryPurpose\", as_index=False).NCTId.count().sort_values(by=['NCTId'], ascending=False)\n",
    "tt"
   ]
  },
  {
   "cell_type": "code",
   "execution_count": 24,
   "metadata": {},
   "outputs": [
    {
     "data": {
      "image/png": "[encoded data removed]",
      "text/plain": [
       "<Figure size 1008x432 with 1 Axes>"
      ]
     },
     "metadata": {
      "needs_background": "light"
     },
     "output_type": "display_data"
    }
   ],
   "source": [
    "plt.figure(figsize=(14,6))\n",
    "graph = sns.barplot(y=\"DesignPrimaryPurpose\", x=\"NCTId\", data=tt, palette=\"Blues_d\")\n",
    "for p in graph.patches:\n",
    "        graph.annotate('{:.0f}'.format(p.get_width()), (p.get_width()+6, p.get_y()+0.6),\n",
    "                    ha='center', va='bottom', color= 'black')"
   ]
  },
  {
   "cell_type": "code",
   "execution_count": 25,
   "metadata": {},
   "outputs": [
    {
     "data": {
      "image/png": "[encoded data removed]",
      "text/plain": [
       "<Figure size 1008x432 with 1 Axes>"
      ]
     },
     "metadata": {
      "needs_background": "light"
     },
     "output_type": "display_data"
    }
   ],
   "source": [
    "# Adding log scale to make the viz better\n",
    "plt.figure(figsize=(14,6))\n",
    "graph = sns.barplot(y=\"DesignPrimaryPurpose\", x=\"NCTId\", data=tt, palette=\"Blues_d\", log=True)\n",
    "for p in graph.patches:\n",
    "        graph.annotate('{:.0f}'.format(p.get_width()), (p.get_width()+(p.get_width()/10), p.get_y()+0.6),\n",
    "                    ha='center', va='bottom', color= 'black')"
   ]
  },
  {
   "cell_type": "markdown",
   "metadata": {},
   "source": [
    "### 3. Treatment interventions for covid-19"
   ]
  },
  {
   "cell_type": "code",
   "execution_count": 26,
   "metadata": {},
   "outputs": [
    {
     "data": {
      "text/plain": [
       "569"
      ]
     },
     "execution_count": 26,
     "metadata": {},
     "output_type": "execute_result"
    }
   ],
   "source": [
    "tt = df.loc[df.DesignPrimaryPurpose=='Treatment',]\n",
    "tt.shape[0]"
   ]
  },
  {
   "cell_type": "markdown",
   "metadata": {},
   "source": [
    "<pre>^ So there are 569 treatment intervention trials. And the distribution of the intervention type looks \n",
    "like this:"
   ]
  },
  {
   "cell_type": "code",
   "execution_count": 27,
   "metadata": {},
   "outputs": [
    {
     "data": {
      "text/html": [
       "<div>\n",
       "<style scoped>\n",
       "    .dataframe tbody tr th:only-of-type {\n",
       "        vertical-align: middle;\n",
       "    }\n",
       "\n",
       "    .dataframe tbody tr th {\n",
       "        vertical-align: top;\n",
       "    }\n",
       "\n",
       "    .dataframe thead th {\n",
       "        text-align: right;\n",
       "    }\n",
       "</style>\n",
       "<table border=\"1\" class=\"dataframe\">\n",
       "  <thead>\n",
       "    <tr style=\"text-align: right;\">\n",
       "      <th></th>\n",
       "      <th>InterventionType</th>\n",
       "      <th>NCTId</th>\n",
       "    </tr>\n",
       "  </thead>\n",
       "  <tbody>\n",
       "    <tr>\n",
       "      <th>5</th>\n",
       "      <td>Drug</td>\n",
       "      <td>397</td>\n",
       "    </tr>\n",
       "    <tr>\n",
       "      <th>1</th>\n",
       "      <td>Biological</td>\n",
       "      <td>75</td>\n",
       "    </tr>\n",
       "    <tr>\n",
       "      <th>7</th>\n",
       "      <td>Other</td>\n",
       "      <td>34</td>\n",
       "    </tr>\n",
       "    <tr>\n",
       "      <th>3</th>\n",
       "      <td>Device</td>\n",
       "      <td>27</td>\n",
       "    </tr>\n",
       "    <tr>\n",
       "      <th>0</th>\n",
       "      <td>Behavioral</td>\n",
       "      <td>10</td>\n",
       "    </tr>\n",
       "    <tr>\n",
       "      <th>8</th>\n",
       "      <td>Procedure</td>\n",
       "      <td>10</td>\n",
       "    </tr>\n",
       "    <tr>\n",
       "      <th>2</th>\n",
       "      <td>Combination Product</td>\n",
       "      <td>7</td>\n",
       "    </tr>\n",
       "    <tr>\n",
       "      <th>4</th>\n",
       "      <td>Dietary Supplement</td>\n",
       "      <td>6</td>\n",
       "    </tr>\n",
       "    <tr>\n",
       "      <th>9</th>\n",
       "      <td>Radiation</td>\n",
       "      <td>2</td>\n",
       "    </tr>\n",
       "    <tr>\n",
       "      <th>6</th>\n",
       "      <td>Genetic</td>\n",
       "      <td>1</td>\n",
       "    </tr>\n",
       "  </tbody>\n",
       "</table>\n",
       "</div>"
      ],
      "text/plain": [
       "      InterventionType  NCTId\n",
       "5                 Drug    397\n",
       "1           Biological     75\n",
       "7                Other     34\n",
       "3               Device     27\n",
       "0           Behavioral     10\n",
       "8            Procedure     10\n",
       "2  Combination Product      7\n",
       "4   Dietary Supplement      6\n",
       "9            Radiation      2\n",
       "6              Genetic      1"
      ]
     },
     "execution_count": 27,
     "metadata": {},
     "output_type": "execute_result"
    }
   ],
   "source": [
    "tt1 = tt.groupby(\"InterventionType\", as_index=False).NCTId.count().sort_values(by=['NCTId'], ascending=False)\n",
    "tt1"
   ]
  },
  {
   "cell_type": "code",
   "execution_count": 28,
   "metadata": {},
   "outputs": [
    {
     "data": {
      "text/plain": [
       "Text(0.5, 1.0, 'Intervention Type distribution where Purpose = Treatment')"
      ]
     },
     "execution_count": 28,
     "metadata": {},
     "output_type": "execute_result"
    },
    {
     "data": {
      "image/png": "[encoded data removed]",
      "text/plain": [
       "<Figure size 1008x576 with 1 Axes>"
      ]
     },
     "metadata": {
      "needs_background": "light"
     },
     "output_type": "display_data"
    }
   ],
   "source": [
    "plt.figure(figsize=(14,8))\n",
    "graph = sns.barplot(y=\"InterventionType\", x=\"NCTId\", data=tt1, palette=\"Blues_d\", log=True)\n",
    "for p in graph.patches:\n",
    "        graph.annotate('{:.0f}'.format(p.get_width()), (p.get_width()+(p.get_width()/10), p.get_y()+0.6),\n",
    "                    ha='center', va='bottom',\n",
    "                    color= 'black')\n",
    "graph.set_title('Intervention Type distribution where Purpose = Treatment')"
   ]
  },
  {
   "cell_type": "markdown",
   "metadata": {},
   "source": [
    "**What are some widely used drugs for treatment of covid-19?**"
   ]
  },
  {
   "cell_type": "code",
   "execution_count": 29,
   "metadata": {},
   "outputs": [
    {
     "data": {
      "text/html": [
       "<div>\n",
       "<style scoped>\n",
       "    .dataframe tbody tr th:only-of-type {\n",
       "        vertical-align: middle;\n",
       "    }\n",
       "\n",
       "    .dataframe tbody tr th {\n",
       "        vertical-align: top;\n",
       "    }\n",
       "\n",
       "    .dataframe thead th {\n",
       "        text-align: right;\n",
       "    }\n",
       "</style>\n",
       "<table border=\"1\" class=\"dataframe\">\n",
       "  <thead>\n",
       "    <tr style=\"text-align: right;\">\n",
       "      <th></th>\n",
       "      <th>InterventionName</th>\n",
       "      <th>NCTId</th>\n",
       "    </tr>\n",
       "  </thead>\n",
       "  <tbody>\n",
       "    <tr>\n",
       "      <th>121</th>\n",
       "      <td>Hydroxychloroquine</td>\n",
       "      <td>36</td>\n",
       "    </tr>\n",
       "    <tr>\n",
       "      <th>241</th>\n",
       "      <td>Tocilizumab</td>\n",
       "      <td>11</td>\n",
       "    </tr>\n",
       "    <tr>\n",
       "      <th>101</th>\n",
       "      <td>Favipiravir</td>\n",
       "      <td>7</td>\n",
       "    </tr>\n",
       "    <tr>\n",
       "      <th>129</th>\n",
       "      <td>Hydroxychloroquine Sulfate</td>\n",
       "      <td>6</td>\n",
       "    </tr>\n",
       "    <tr>\n",
       "      <th>69</th>\n",
       "      <td>Colchicine</td>\n",
       "      <td>6</td>\n",
       "    </tr>\n",
       "    <tr>\n",
       "      <th>203</th>\n",
       "      <td>Remdesivir</td>\n",
       "      <td>5</td>\n",
       "    </tr>\n",
       "    <tr>\n",
       "      <th>206</th>\n",
       "      <td>Ruxolitinib</td>\n",
       "      <td>5</td>\n",
       "    </tr>\n",
       "    <tr>\n",
       "      <th>33</th>\n",
       "      <td>Azithromycin</td>\n",
       "      <td>5</td>\n",
       "    </tr>\n",
       "    <tr>\n",
       "      <th>212</th>\n",
       "      <td>Sarilumab</td>\n",
       "      <td>4</td>\n",
       "    </tr>\n",
       "    <tr>\n",
       "      <th>160</th>\n",
       "      <td>Lopinavir/ritonavir</td>\n",
       "      <td>4</td>\n",
       "    </tr>\n",
       "    <tr>\n",
       "      <th>122</th>\n",
       "      <td>Hydroxychloroquine (HCQ)</td>\n",
       "      <td>3</td>\n",
       "    </tr>\n",
       "    <tr>\n",
       "      <th>50</th>\n",
       "      <td>Camostat Mesilate</td>\n",
       "      <td>3</td>\n",
       "    </tr>\n",
       "    <tr>\n",
       "      <th>178</th>\n",
       "      <td>Nitric Oxide Gas</td>\n",
       "      <td>3</td>\n",
       "    </tr>\n",
       "    <tr>\n",
       "      <th>18</th>\n",
       "      <td>Anakinra</td>\n",
       "      <td>3</td>\n",
       "    </tr>\n",
       "    <tr>\n",
       "      <th>37</th>\n",
       "      <td>Baricitinib</td>\n",
       "      <td>3</td>\n",
       "    </tr>\n",
       "  </tbody>\n",
       "</table>\n",
       "</div>"
      ],
      "text/plain": [
       "               InterventionName  NCTId\n",
       "121          Hydroxychloroquine     36\n",
       "241                 Tocilizumab     11\n",
       "101                 Favipiravir      7\n",
       "129  Hydroxychloroquine Sulfate      6\n",
       "69                   Colchicine      6\n",
       "203                  Remdesivir      5\n",
       "206                 Ruxolitinib      5\n",
       "33                 Azithromycin      5\n",
       "212                   Sarilumab      4\n",
       "160         Lopinavir/ritonavir      4\n",
       "122    Hydroxychloroquine (HCQ)      3\n",
       "50            Camostat Mesilate      3\n",
       "178            Nitric Oxide Gas      3\n",
       "18                     Anakinra      3\n",
       "37                  Baricitinib      3"
      ]
     },
     "execution_count": 29,
     "metadata": {},
     "output_type": "execute_result"
    }
   ],
   "source": [
    "tt = df.loc[(df.DesignPrimaryPurpose=='Treatment') & (df.InterventionType=='Drug'),]\n",
    "covid_drugs = tt.groupby('InterventionName', as_index=False).NCTId.count().sort_values('NCTId', ascending=False)\n",
    "covid_drugs.reset_index(drop=True)\n",
    "covid_drugs.iloc[:15,]"
   ]
  },
  {
   "cell_type": "markdown",
   "metadata": {},
   "source": [
    "<pre>Let's standardize the HQC treatment names, and look at top 15 drugs"
   ]
  },
  {
   "cell_type": "code",
   "execution_count": 30,
   "metadata": {},
   "outputs": [
    {
     "data": {
      "text/html": [
       "<div>\n",
       "<style scoped>\n",
       "    .dataframe tbody tr th:only-of-type {\n",
       "        vertical-align: middle;\n",
       "    }\n",
       "\n",
       "    .dataframe tbody tr th {\n",
       "        vertical-align: top;\n",
       "    }\n",
       "\n",
       "    .dataframe thead th {\n",
       "        text-align: right;\n",
       "    }\n",
       "</style>\n",
       "<table border=\"1\" class=\"dataframe\">\n",
       "  <thead>\n",
       "    <tr style=\"text-align: right;\">\n",
       "      <th></th>\n",
       "      <th>InterventionName</th>\n",
       "      <th>NCTId</th>\n",
       "    </tr>\n",
       "  </thead>\n",
       "  <tbody>\n",
       "    <tr>\n",
       "      <th>121</th>\n",
       "      <td>Hydroxychloroquine</td>\n",
       "      <td>45</td>\n",
       "    </tr>\n",
       "    <tr>\n",
       "      <th>239</th>\n",
       "      <td>Tocilizumab</td>\n",
       "      <td>11</td>\n",
       "    </tr>\n",
       "    <tr>\n",
       "      <th>101</th>\n",
       "      <td>Favipiravir</td>\n",
       "      <td>7</td>\n",
       "    </tr>\n",
       "    <tr>\n",
       "      <th>69</th>\n",
       "      <td>Colchicine</td>\n",
       "      <td>6</td>\n",
       "    </tr>\n",
       "    <tr>\n",
       "      <th>204</th>\n",
       "      <td>Ruxolitinib</td>\n",
       "      <td>5</td>\n",
       "    </tr>\n",
       "    <tr>\n",
       "      <th>201</th>\n",
       "      <td>Remdesivir</td>\n",
       "      <td>5</td>\n",
       "    </tr>\n",
       "    <tr>\n",
       "      <th>33</th>\n",
       "      <td>Azithromycin</td>\n",
       "      <td>5</td>\n",
       "    </tr>\n",
       "    <tr>\n",
       "      <th>210</th>\n",
       "      <td>Sarilumab</td>\n",
       "      <td>4</td>\n",
       "    </tr>\n",
       "    <tr>\n",
       "      <th>158</th>\n",
       "      <td>Lopinavir/ritonavir</td>\n",
       "      <td>4</td>\n",
       "    </tr>\n",
       "    <tr>\n",
       "      <th>66</th>\n",
       "      <td>Clazakizumab</td>\n",
       "      <td>3</td>\n",
       "    </tr>\n",
       "    <tr>\n",
       "      <th>18</th>\n",
       "      <td>Anakinra</td>\n",
       "      <td>3</td>\n",
       "    </tr>\n",
       "    <tr>\n",
       "      <th>166</th>\n",
       "      <td>Methylprednisolone</td>\n",
       "      <td>3</td>\n",
       "    </tr>\n",
       "    <tr>\n",
       "      <th>159</th>\n",
       "      <td>Losartan</td>\n",
       "      <td>3</td>\n",
       "    </tr>\n",
       "    <tr>\n",
       "      <th>75</th>\n",
       "      <td>DAS181</td>\n",
       "      <td>3</td>\n",
       "    </tr>\n",
       "    <tr>\n",
       "      <th>37</th>\n",
       "      <td>Baricitinib</td>\n",
       "      <td>3</td>\n",
       "    </tr>\n",
       "  </tbody>\n",
       "</table>\n",
       "</div>"
      ],
      "text/plain": [
       "        InterventionName  NCTId\n",
       "121   Hydroxychloroquine     45\n",
       "239          Tocilizumab     11\n",
       "101          Favipiravir      7\n",
       "69            Colchicine      6\n",
       "204          Ruxolitinib      5\n",
       "201           Remdesivir      5\n",
       "33          Azithromycin      5\n",
       "210            Sarilumab      4\n",
       "158  Lopinavir/ritonavir      4\n",
       "66          Clazakizumab      3\n",
       "18              Anakinra      3\n",
       "166   Methylprednisolone      3\n",
       "159             Losartan      3\n",
       "75                DAS181      3\n",
       "37           Baricitinib      3"
      ]
     },
     "execution_count": 30,
     "metadata": {},
     "output_type": "execute_result"
    }
   ],
   "source": [
    "df.InterventionName.replace(to_replace='Hydroxychloroquine Sulfate',value='Hydroxychloroquine',inplace=True)\n",
    "df.InterventionName.replace(to_replace='Hydroxychloroquine (HCQ)',value='Hydroxychloroquine',inplace=True)\n",
    "\n",
    "tt = df.loc[(df.DesignPrimaryPurpose=='Treatment') & (df.InterventionType=='Drug'),]\n",
    "tt1 = tt.groupby('InterventionName', as_index=False).NCTId.count()\n",
    "covid_drugs = tt1.sort_values('NCTId', ascending=False)\n",
    "covid_drugs.iloc[:15,]"
   ]
  },
  {
   "cell_type": "markdown",
   "metadata": {},
   "source": [
    "<pre>^ These are the top drug interventions used for the treatment in covid-19 trials.\n",
    "\n",
    "As Hydroxychloroquine is most common intervention, it would be interesting to see combotherapies with it."
   ]
  },
  {
   "cell_type": "markdown",
   "metadata": {},
   "source": [
    "#### What therapies are combined with Hydroxychloroquine?"
   ]
  },
  {
   "cell_type": "code",
   "execution_count": 31,
   "metadata": {},
   "outputs": [
    {
     "data": {
      "text/html": [
       "<div>\n",
       "<style scoped>\n",
       "    .dataframe tbody tr th:only-of-type {\n",
       "        vertical-align: middle;\n",
       "    }\n",
       "\n",
       "    .dataframe tbody tr th {\n",
       "        vertical-align: top;\n",
       "    }\n",
       "\n",
       "    .dataframe thead th {\n",
       "        text-align: right;\n",
       "    }\n",
       "</style>\n",
       "<table border=\"1\" class=\"dataframe\">\n",
       "  <thead>\n",
       "    <tr style=\"text-align: right;\">\n",
       "      <th></th>\n",
       "      <th>InterventionName</th>\n",
       "      <th>NCTId</th>\n",
       "    </tr>\n",
       "  </thead>\n",
       "  <tbody>\n",
       "    <tr>\n",
       "      <th>121</th>\n",
       "      <td>Hydroxychloroquine</td>\n",
       "      <td>45</td>\n",
       "    </tr>\n",
       "    <tr>\n",
       "      <th>129</th>\n",
       "      <td>Hydroxychloroquine Sulfate Regular dose</td>\n",
       "      <td>2</td>\n",
       "    </tr>\n",
       "    <tr>\n",
       "      <th>264</th>\n",
       "      <td>hydroxychloroquine in combination with camostat mesylate</td>\n",
       "      <td>1</td>\n",
       "    </tr>\n",
       "    <tr>\n",
       "      <th>265</th>\n",
       "      <td>hydroxychloroquine sulfate 200 MG</td>\n",
       "      <td>1</td>\n",
       "    </tr>\n",
       "    <tr>\n",
       "      <th>45</th>\n",
       "      <td>Bromhexine Oral Tablet and/or hydroxychloroquine tablet</td>\n",
       "      <td>1</td>\n",
       "    </tr>\n",
       "    <tr>\n",
       "      <th>59</th>\n",
       "      <td>Chloroquine or Hydroxychloroquine</td>\n",
       "      <td>1</td>\n",
       "    </tr>\n",
       "    <tr>\n",
       "      <th>60</th>\n",
       "      <td>Chloroquine or hydroxychloroquine</td>\n",
       "      <td>1</td>\n",
       "    </tr>\n",
       "    <tr>\n",
       "      <th>130</th>\n",
       "      <td>Hydroxychloroquine and Azithromycin</td>\n",
       "      <td>1</td>\n",
       "    </tr>\n",
       "    <tr>\n",
       "      <th>122</th>\n",
       "      <td>Hydroxychloroquine + Azithromycin</td>\n",
       "      <td>1</td>\n",
       "    </tr>\n",
       "    <tr>\n",
       "      <th>123</th>\n",
       "      <td>Hydroxychloroquine + azithromycin</td>\n",
       "      <td>1</td>\n",
       "    </tr>\n",
       "    <tr>\n",
       "      <th>124</th>\n",
       "      <td>Hydroxychloroquine + placebo</td>\n",
       "      <td>1</td>\n",
       "    </tr>\n",
       "    <tr>\n",
       "      <th>125</th>\n",
       "      <td>Hydroxychloroquine 200 Mg Oral Tablet</td>\n",
       "      <td>1</td>\n",
       "    </tr>\n",
       "    <tr>\n",
       "      <th>126</th>\n",
       "      <td>Hydroxychloroquine Oral Product</td>\n",
       "      <td>1</td>\n",
       "    </tr>\n",
       "    <tr>\n",
       "      <th>127</th>\n",
       "      <td>Hydroxychloroquine SAR321068</td>\n",
       "      <td>1</td>\n",
       "    </tr>\n",
       "    <tr>\n",
       "      <th>128</th>\n",
       "      <td>Hydroxychloroquine Sulfate 400 mg twice a day</td>\n",
       "      <td>1</td>\n",
       "    </tr>\n",
       "    <tr>\n",
       "      <th>131</th>\n",
       "      <td>Hydroxychloroquine and azithromycin treatment</td>\n",
       "      <td>1</td>\n",
       "    </tr>\n",
       "    <tr>\n",
       "      <th>132</th>\n",
       "      <td>Hydroxychloroquine and azithromycin treatment arm.</td>\n",
       "      <td>1</td>\n",
       "    </tr>\n",
       "    <tr>\n",
       "      <th>133</th>\n",
       "      <td>Hydroxychloroquine sulfate &amp;Azithromycin</td>\n",
       "      <td>1</td>\n",
       "    </tr>\n",
       "    <tr>\n",
       "      <th>134</th>\n",
       "      <td>Hydroxychloroquine, Azithromycin</td>\n",
       "      <td>1</td>\n",
       "    </tr>\n",
       "    <tr>\n",
       "      <th>85</th>\n",
       "      <td>Dexamethasone and Hydroxychloroquine</td>\n",
       "      <td>1</td>\n",
       "    </tr>\n",
       "  </tbody>\n",
       "</table>\n",
       "</div>"
      ],
      "text/plain": [
       "                                             InterventionName  NCTId\n",
       "121                                        Hydroxychloroquine     45\n",
       "129                   Hydroxychloroquine Sulfate Regular dose      2\n",
       "264  hydroxychloroquine in combination with camostat mesylate      1\n",
       "265                         hydroxychloroquine sulfate 200 MG      1\n",
       "45    Bromhexine Oral Tablet and/or hydroxychloroquine tablet      1\n",
       "59                          Chloroquine or Hydroxychloroquine      1\n",
       "60                          Chloroquine or hydroxychloroquine      1\n",
       "130                       Hydroxychloroquine and Azithromycin      1\n",
       "122                         Hydroxychloroquine + Azithromycin      1\n",
       "123                         Hydroxychloroquine + azithromycin      1\n",
       "124                              Hydroxychloroquine + placebo      1\n",
       "125                     Hydroxychloroquine 200 Mg Oral Tablet      1\n",
       "126                           Hydroxychloroquine Oral Product      1\n",
       "127                              Hydroxychloroquine SAR321068      1\n",
       "128             Hydroxychloroquine Sulfate 400 mg twice a day      1\n",
       "131             Hydroxychloroquine and azithromycin treatment      1\n",
       "132        Hydroxychloroquine and azithromycin treatment arm.      1\n",
       "133                  Hydroxychloroquine sulfate &Azithromycin      1\n",
       "134                          Hydroxychloroquine, Azithromycin      1\n",
       "85                       Dexamethasone and Hydroxychloroquine      1"
      ]
     },
     "execution_count": 31,
     "metadata": {},
     "output_type": "execute_result"
    }
   ],
   "source": [
    "tt = df.loc[(df.DesignPrimaryPurpose=='Treatment') & (df.InterventionType=='Drug'),]\n",
    "covid_drugs = tt.groupby('InterventionName', as_index=False).NCTId.count().sort_values('NCTId', ascending=False)\n",
    "covid_drugs[covid_drugs.InterventionName.str.lower().str.contains('hydroxychloroquine')]"
   ]
  },
  {
   "cell_type": "markdown",
   "metadata": {},
   "source": [
    "<pre>\n",
    "^ Azithromycin looks like a top choice for combination with Hydroxychloroquine.\n",
    "\n",
    "\"Azithromycin is an antibiotic that fights bacteria. It is used to treat many different types of infections caused by bacteria, such as respiratory infections, skin infections, ear infections, eye infections, and \n",
    "sexually transmitted diseases.\" - <a href=\"https://www.drugs.com/azithromycin.html\">drugs.com</a>\n",
    "\n",
    "There is this widely cited paper of Hydroxychloroquine treatment of covid-19 patients. It claims in the \n",
    "result section that \"Azithromycin added to hydroxychloroquine was significantly more efficient for virus \n",
    "elimination.\" However this study had a pretty small population. <a href=\"https://www.ncbi.nlm.nih.gov/pmc/articles/PMC7102549/\">PubMed</a>\n",
    "\n",
    "</pre>\n"
   ]
  },
  {
   "cell_type": "markdown",
   "metadata": {},
   "source": [
    "**What kind of biological interventions are used for treatment of covid-19?**"
   ]
  },
  {
   "cell_type": "code",
   "execution_count": 32,
   "metadata": {},
   "outputs": [
    {
     "data": {
      "text/html": [
       "<div>\n",
       "<style scoped>\n",
       "    .dataframe tbody tr th:only-of-type {\n",
       "        vertical-align: middle;\n",
       "    }\n",
       "\n",
       "    .dataframe tbody tr th {\n",
       "        vertical-align: top;\n",
       "    }\n",
       "\n",
       "    .dataframe thead th {\n",
       "        text-align: right;\n",
       "    }\n",
       "</style>\n",
       "<table border=\"1\" class=\"dataframe\">\n",
       "  <thead>\n",
       "    <tr style=\"text-align: right;\">\n",
       "      <th></th>\n",
       "      <th>InterventionName</th>\n",
       "      <th>NCTId</th>\n",
       "    </tr>\n",
       "  </thead>\n",
       "  <tbody>\n",
       "    <tr>\n",
       "      <th>17</th>\n",
       "      <td>Convalescent Plasma</td>\n",
       "      <td>7</td>\n",
       "    </tr>\n",
       "    <tr>\n",
       "      <th>21</th>\n",
       "      <td>Convalescent plasma</td>\n",
       "      <td>3</td>\n",
       "    </tr>\n",
       "    <tr>\n",
       "      <th>56</th>\n",
       "      <td>anti-SARS-CoV-2 convalescent plasma</td>\n",
       "      <td>3</td>\n",
       "    </tr>\n",
       "    <tr>\n",
       "      <th>50</th>\n",
       "      <td>UC-MSCs</td>\n",
       "      <td>3</td>\n",
       "    </tr>\n",
       "    <tr>\n",
       "      <th>30</th>\n",
       "      <td>MSCs</td>\n",
       "      <td>2</td>\n",
       "    </tr>\n",
       "    <tr>\n",
       "      <th>0</th>\n",
       "      <td>Allogeneic NK transfer</td>\n",
       "      <td>1</td>\n",
       "    </tr>\n",
       "    <tr>\n",
       "      <th>41</th>\n",
       "      <td>Ozone auto-hemotherapy</td>\n",
       "      <td>1</td>\n",
       "    </tr>\n",
       "    <tr>\n",
       "      <th>44</th>\n",
       "      <td>Plasma exchange</td>\n",
       "      <td>1</td>\n",
       "    </tr>\n",
       "    <tr>\n",
       "      <th>43</th>\n",
       "      <td>Plasma</td>\n",
       "      <td>1</td>\n",
       "    </tr>\n",
       "    <tr>\n",
       "      <th>42</th>\n",
       "      <td>Pathogen-specific aAPC</td>\n",
       "      <td>1</td>\n",
       "    </tr>\n",
       "    <tr>\n",
       "      <th>39</th>\n",
       "      <td>NestCell®</td>\n",
       "      <td>1</td>\n",
       "    </tr>\n",
       "    <tr>\n",
       "      <th>40</th>\n",
       "      <td>Otilimab</td>\n",
       "      <td>1</td>\n",
       "    </tr>\n",
       "    <tr>\n",
       "      <th>38</th>\n",
       "      <td>NT-17</td>\n",
       "      <td>1</td>\n",
       "    </tr>\n",
       "    <tr>\n",
       "      <th>37</th>\n",
       "      <td>NK cells,IL15-NK cells,NKG2D CAR-NK cells,ACE2 CAR-NK cells,NKG2D-ACE2 CAR-NK cells</td>\n",
       "      <td>1</td>\n",
       "    </tr>\n",
       "    <tr>\n",
       "      <th>36</th>\n",
       "      <td>NK Cells</td>\n",
       "      <td>1</td>\n",
       "    </tr>\n",
       "  </tbody>\n",
       "</table>\n",
       "</div>"
      ],
      "text/plain": [
       "                                                                       InterventionName  \\\n",
       "17                                                                  Convalescent Plasma   \n",
       "21                                                                  Convalescent plasma   \n",
       "56                                                  anti-SARS-CoV-2 convalescent plasma   \n",
       "50                                                                              UC-MSCs   \n",
       "30                                                                                 MSCs   \n",
       "0                                                                Allogeneic NK transfer   \n",
       "41                                                               Ozone auto-hemotherapy   \n",
       "44                                                                      Plasma exchange   \n",
       "43                                                                               Plasma   \n",
       "42                                                               Pathogen-specific aAPC   \n",
       "39                                                                            NestCell®   \n",
       "40                                                                             Otilimab   \n",
       "38                                                                                NT-17   \n",
       "37  NK cells,IL15-NK cells,NKG2D CAR-NK cells,ACE2 CAR-NK cells,NKG2D-ACE2 CAR-NK cells   \n",
       "36                                                                             NK Cells   \n",
       "\n",
       "    NCTId  \n",
       "17      7  \n",
       "21      3  \n",
       "56      3  \n",
       "50      3  \n",
       "30      2  \n",
       "0       1  \n",
       "41      1  \n",
       "44      1  \n",
       "43      1  \n",
       "42      1  \n",
       "39      1  \n",
       "40      1  \n",
       "38      1  \n",
       "37      1  \n",
       "36      1  "
      ]
     },
     "execution_count": 32,
     "metadata": {},
     "output_type": "execute_result"
    }
   ],
   "source": [
    "# Let's look at the top 15 records\n",
    "tt = df.loc[(df.DesignPrimaryPurpose=='Treatment') & (df.InterventionType=='Biological'),]\n",
    "covid_biological = tt.groupby('InterventionName', as_index=False).NCTId.count().sort_values('NCTId', ascending=False)\n",
    "covid_biological.iloc[:15,]"
   ]
  },
  {
   "cell_type": "markdown",
   "metadata": {},
   "source": [
    "#### What kind of dietary supplements are used?"
   ]
  },
  {
   "cell_type": "code",
   "execution_count": 33,
   "metadata": {},
   "outputs": [
    {
     "data": {
      "text/html": [
       "<div>\n",
       "<style scoped>\n",
       "    .dataframe tbody tr th:only-of-type {\n",
       "        vertical-align: middle;\n",
       "    }\n",
       "\n",
       "    .dataframe tbody tr th {\n",
       "        vertical-align: top;\n",
       "    }\n",
       "\n",
       "    .dataframe thead th {\n",
       "        text-align: right;\n",
       "    }\n",
       "</style>\n",
       "<table border=\"1\" class=\"dataframe\">\n",
       "  <thead>\n",
       "    <tr style=\"text-align: right;\">\n",
       "      <th></th>\n",
       "      <th>InterventionName</th>\n",
       "      <th>NCTId</th>\n",
       "    </tr>\n",
       "  </thead>\n",
       "  <tbody>\n",
       "    <tr>\n",
       "      <th>0</th>\n",
       "      <td>Ketogenic diet</td>\n",
       "      <td>1</td>\n",
       "    </tr>\n",
       "    <tr>\n",
       "      <th>1</th>\n",
       "      <td>Natural Honey</td>\n",
       "      <td>1</td>\n",
       "    </tr>\n",
       "    <tr>\n",
       "      <th>2</th>\n",
       "      <td>Vitamin C</td>\n",
       "      <td>1</td>\n",
       "    </tr>\n",
       "    <tr>\n",
       "      <th>3</th>\n",
       "      <td>Vitamin D</td>\n",
       "      <td>1</td>\n",
       "    </tr>\n",
       "    <tr>\n",
       "      <th>4</th>\n",
       "      <td>Vitamins</td>\n",
       "      <td>1</td>\n",
       "    </tr>\n",
       "    <tr>\n",
       "      <th>5</th>\n",
       "      <td>Zinc gluconate</td>\n",
       "      <td>1</td>\n",
       "    </tr>\n",
       "  </tbody>\n",
       "</table>\n",
       "</div>"
      ],
      "text/plain": [
       "  InterventionName  NCTId\n",
       "0   Ketogenic diet      1\n",
       "1    Natural Honey      1\n",
       "2        Vitamin C      1\n",
       "3        Vitamin D      1\n",
       "4         Vitamins      1\n",
       "5   Zinc gluconate      1"
      ]
     },
     "execution_count": 33,
     "metadata": {},
     "output_type": "execute_result"
    }
   ],
   "source": [
    "tt = df.loc[(df.DesignPrimaryPurpose=='Treatment') & (df.InterventionType=='Dietary Supplement'),]\n",
    "covid_supplement = tt.groupby('InterventionName', as_index=False).NCTId.count().sort_values('NCTId', ascending=False)\n",
    "covid_supplement"
   ]
  },
  {
   "cell_type": "markdown",
   "metadata": {},
   "source": [
    "### 4. Geographical distribution of covid-19 trials"
   ]
  },
  {
   "cell_type": "markdown",
   "metadata": {},
   "source": [
    "**Which countries are part of the covid-19 trials?**"
   ]
  },
  {
   "cell_type": "code",
   "execution_count": 34,
   "metadata": {},
   "outputs": [
    {
     "data": {
      "text/plain": [
       "(52,\n",
       " array([nan, 'Colombia', 'Egypt', 'Belgium', 'France', 'Thailand',\n",
       "        'United States', 'China', 'Canada', 'Iceland', 'India', 'Chile',\n",
       "        'Austria', 'Italy', 'Spain', 'Turkey', 'Iran, Islamic Republic of',\n",
       "        'Switzerland', 'Mexico', 'Jordan', 'Malaysia', 'French Guiana',\n",
       "        'Germany', 'Denmark', 'Hong Kong', 'Saudi Arabia', 'Pakistan',\n",
       "        'Russian Federation', 'South Africa', 'United Kingdom', 'Tunisia',\n",
       "        'Bosnia and Herzegovina', 'Australia', 'Poland', 'Brazil',\n",
       "        'Bahrain', 'Argentina', 'Israel', 'Greece', 'Netherlands',\n",
       "        'Korea, Republic of', 'Vietnam', 'Sweden', 'Norway', 'Ireland',\n",
       "        'Puerto Rico', 'Slovenia', 'Nigeria', 'Iraq', 'Indonesia',\n",
       "        'Gibraltar', 'Romania'], dtype=object))"
      ]
     },
     "execution_count": 34,
     "metadata": {},
     "output_type": "execute_result"
    }
   ],
   "source": [
    "len(df.LocationCountry.unique()), df.LocationCountry.unique()"
   ]
  },
  {
   "cell_type": "markdown",
   "metadata": {},
   "source": [
    "<pre>\n",
    "^ The trials are based in 52 countries.\n",
    "\n",
    "This does NOT seem right, the number seems too low. The United Nations has 193 countries. So probably the  information on sites is not comprehensive or updated.\n",
    "\n",
    "Interestingly (rather unfortunately) there are hardly any countries from Africa.\n",
    "</pre>"
   ]
  },
  {
   "cell_type": "code",
   "execution_count": 35,
   "metadata": {},
   "outputs": [],
   "source": [
    "df['EnrollmentCount'] = pd.to_numeric(df['EnrollmentCount'])"
   ]
  },
  {
   "cell_type": "code",
   "execution_count": 36,
   "metadata": {},
   "outputs": [
    {
     "data": {
      "text/html": [
       "<div>\n",
       "<style scoped>\n",
       "    .dataframe tbody tr th:only-of-type {\n",
       "        vertical-align: middle;\n",
       "    }\n",
       "\n",
       "    .dataframe tbody tr th {\n",
       "        vertical-align: top;\n",
       "    }\n",
       "\n",
       "    .dataframe thead tr th {\n",
       "        text-align: left;\n",
       "    }\n",
       "</style>\n",
       "<table border=\"1\" class=\"dataframe\">\n",
       "  <thead>\n",
       "    <tr>\n",
       "      <th></th>\n",
       "      <th>LocationCountry</th>\n",
       "      <th colspan=\"3\" halign=\"left\">EnrollmentCount</th>\n",
       "    </tr>\n",
       "    <tr>\n",
       "      <th></th>\n",
       "      <th></th>\n",
       "      <th>count</th>\n",
       "      <th>sum</th>\n",
       "      <th>mean</th>\n",
       "    </tr>\n",
       "  </thead>\n",
       "  <tbody>\n",
       "    <tr>\n",
       "      <th>45</th>\n",
       "      <td>United States</td>\n",
       "      <td>137</td>\n",
       "      <td>61248</td>\n",
       "      <td>447.065693</td>\n",
       "    </tr>\n",
       "    <tr>\n",
       "      <th>8</th>\n",
       "      <td>China</td>\n",
       "      <td>51</td>\n",
       "      <td>6239</td>\n",
       "      <td>122.333333</td>\n",
       "    </tr>\n",
       "    <tr>\n",
       "      <th>12</th>\n",
       "      <td>France</td>\n",
       "      <td>46</td>\n",
       "      <td>16431</td>\n",
       "      <td>357.195652</td>\n",
       "    </tr>\n",
       "    <tr>\n",
       "      <th>38</th>\n",
       "      <td>Spain</td>\n",
       "      <td>25</td>\n",
       "      <td>3497</td>\n",
       "      <td>139.880000</td>\n",
       "    </tr>\n",
       "    <tr>\n",
       "      <th>24</th>\n",
       "      <td>Italy</td>\n",
       "      <td>21</td>\n",
       "      <td>7766</td>\n",
       "      <td>369.809524</td>\n",
       "    </tr>\n",
       "    <tr>\n",
       "      <th>6</th>\n",
       "      <td>Canada</td>\n",
       "      <td>16</td>\n",
       "      <td>10063</td>\n",
       "      <td>628.937500</td>\n",
       "    </tr>\n",
       "    <tr>\n",
       "      <th>5</th>\n",
       "      <td>Brazil</td>\n",
       "      <td>15</td>\n",
       "      <td>5198</td>\n",
       "      <td>346.533333</td>\n",
       "    </tr>\n",
       "    <tr>\n",
       "      <th>20</th>\n",
       "      <td>Iran, Islamic Republic of</td>\n",
       "      <td>13</td>\n",
       "      <td>570</td>\n",
       "      <td>43.846154</td>\n",
       "    </tr>\n",
       "    <tr>\n",
       "      <th>11</th>\n",
       "      <td>Egypt</td>\n",
       "      <td>13</td>\n",
       "      <td>1640</td>\n",
       "      <td>126.153846</td>\n",
       "    </tr>\n",
       "    <tr>\n",
       "      <th>13</th>\n",
       "      <td>Germany</td>\n",
       "      <td>11</td>\n",
       "      <td>4584</td>\n",
       "      <td>416.727273</td>\n",
       "    </tr>\n",
       "    <tr>\n",
       "      <th>28</th>\n",
       "      <td>Mexico</td>\n",
       "      <td>10</td>\n",
       "      <td>1954</td>\n",
       "      <td>195.400000</td>\n",
       "    </tr>\n",
       "    <tr>\n",
       "      <th>44</th>\n",
       "      <td>United Kingdom</td>\n",
       "      <td>7</td>\n",
       "      <td>5240</td>\n",
       "      <td>748.571429</td>\n",
       "    </tr>\n",
       "    <tr>\n",
       "      <th>10</th>\n",
       "      <td>Denmark</td>\n",
       "      <td>7</td>\n",
       "      <td>3761</td>\n",
       "      <td>537.285714</td>\n",
       "    </tr>\n",
       "    <tr>\n",
       "      <th>23</th>\n",
       "      <td>Israel</td>\n",
       "      <td>6</td>\n",
       "      <td>940</td>\n",
       "      <td>156.666667</td>\n",
       "    </tr>\n",
       "    <tr>\n",
       "      <th>29</th>\n",
       "      <td>Netherlands</td>\n",
       "      <td>5</td>\n",
       "      <td>2245</td>\n",
       "      <td>449.000000</td>\n",
       "    </tr>\n",
       "    <tr>\n",
       "      <th>34</th>\n",
       "      <td>Russian Federation</td>\n",
       "      <td>5</td>\n",
       "      <td>1466</td>\n",
       "      <td>293.200000</td>\n",
       "    </tr>\n",
       "    <tr>\n",
       "      <th>33</th>\n",
       "      <td>Poland</td>\n",
       "      <td>5</td>\n",
       "      <td>1030</td>\n",
       "      <td>206.000000</td>\n",
       "    </tr>\n",
       "    <tr>\n",
       "      <th>40</th>\n",
       "      <td>Switzerland</td>\n",
       "      <td>4</td>\n",
       "      <td>444</td>\n",
       "      <td>111.000000</td>\n",
       "    </tr>\n",
       "    <tr>\n",
       "      <th>18</th>\n",
       "      <td>India</td>\n",
       "      <td>4</td>\n",
       "      <td>230</td>\n",
       "      <td>57.500000</td>\n",
       "    </tr>\n",
       "    <tr>\n",
       "      <th>9</th>\n",
       "      <td>Colombia</td>\n",
       "      <td>4</td>\n",
       "      <td>1700</td>\n",
       "      <td>425.000000</td>\n",
       "    </tr>\n",
       "  </tbody>\n",
       "</table>\n",
       "</div>"
      ],
      "text/plain": [
       "              LocationCountry EnrollmentCount                   \n",
       "                                        count    sum        mean\n",
       "45              United States             137  61248  447.065693\n",
       "8                       China              51   6239  122.333333\n",
       "12                     France              46  16431  357.195652\n",
       "38                      Spain              25   3497  139.880000\n",
       "24                      Italy              21   7766  369.809524\n",
       "6                      Canada              16  10063  628.937500\n",
       "5                      Brazil              15   5198  346.533333\n",
       "20  Iran, Islamic Republic of              13    570   43.846154\n",
       "11                      Egypt              13   1640  126.153846\n",
       "13                    Germany              11   4584  416.727273\n",
       "28                     Mexico              10   1954  195.400000\n",
       "44             United Kingdom               7   5240  748.571429\n",
       "10                    Denmark               7   3761  537.285714\n",
       "23                     Israel               6    940  156.666667\n",
       "29                Netherlands               5   2245  449.000000\n",
       "34         Russian Federation               5   1466  293.200000\n",
       "33                     Poland               5   1030  206.000000\n",
       "40                Switzerland               4    444  111.000000\n",
       "18                      India               4    230   57.500000\n",
       "9                    Colombia               4   1700  425.000000"
      ]
     },
     "execution_count": 36,
     "metadata": {},
     "output_type": "execute_result"
    }
   ],
   "source": [
    "# Let's explore the treatment trial distribution across geographies.\n",
    "tt = df[(df.DesignPrimaryPurpose=='Treatment') & (df.StudyType=='Interventional')]\n",
    "tt.groupby('LocationCountry', as_index=False).agg({'EnrollmentCount': ['count','sum', 'mean']}).sort_values([('EnrollmentCount', 'count')], ascending=False)[:20]"
   ]
  },
  {
   "cell_type": "markdown",
   "metadata": {},
   "source": [
    "<pre>^ This represents the country, number of treatment-purposed trials, total number of patients part of \n",
    "treatment-purposed trials, average number of patients enrolled in these trials.\n",
    "\n",
    "The United States has 1 out of 4 treatment-purposed interventional trials (137 out of 569).\n",
    "\n",
    "Although China is at second position the total number of enrolled subjects is small. This might be due to \n",
    "the recovery the country has claimed.\n",
    "\n",
    "France and Germany has same number* of covid-19 positive cases - 170k to 175k. However, France is running 4 times more trials with roughly 4 times more patients. This might be because Germany's covid-19 mortality 4 times lower than France.\n",
    "\n",
    "*Data as of 10th of May, source: https://www.worldometers.info/coronavirus/"
   ]
  },
  {
   "cell_type": "markdown",
   "metadata": {},
   "source": [
    "### 5. Trial enrollment distribution"
   ]
  },
  {
   "cell_type": "markdown",
   "metadata": {},
   "source": [
    "**How many total subjects are part of these trials?**"
   ]
  },
  {
   "cell_type": "code",
   "execution_count": 37,
   "metadata": {},
   "outputs": [
    {
     "data": {
      "text/plain": [
       "913577"
      ]
     },
     "execution_count": 37,
     "metadata": {},
     "output_type": "execute_result"
    }
   ],
   "source": [
    "df.EnrollmentCount.sum()"
   ]
  },
  {
   "cell_type": "markdown",
   "metadata": {},
   "source": [
    "<pre>\n",
    "Considering the total covid-19 cases are around 4M, this number close to 1M seems a little high.\n",
    "\n",
    "This might be a data entry error. So let's explore more.\n",
    "</pre>"
   ]
  },
  {
   "cell_type": "code",
   "execution_count": 38,
   "metadata": {},
   "outputs": [
    {
     "data": {
      "text/plain": [
       "<matplotlib.axes._subplots.AxesSubplot at 0x7fd59beba400>"
      ]
     },
     "execution_count": 38,
     "metadata": {},
     "output_type": "execute_result"
    },
    {
     "data": {
      "image/png": "[encoded data removed]",
      "text/plain": [
       "<Figure size 432x288 with 1 Axes>"
      ]
     },
     "metadata": {
      "needs_background": "light"
     },
     "output_type": "display_data"
    }
   ],
   "source": [
    "df.boxplot(column='EnrollmentCount')"
   ]
  },
  {
   "cell_type": "markdown",
   "metadata": {},
   "source": [
    "<pre> There seems to be an outlier - a single trial, which is 8 times bigger than the second biggest trial. </pre>"
   ]
  },
  {
   "cell_type": "code",
   "execution_count": 39,
   "metadata": {},
   "outputs": [
    {
     "data": {
      "text/plain": [
       "394578"
      ]
     },
     "execution_count": 39,
     "metadata": {},
     "output_type": "execute_result"
    }
   ],
   "source": [
    "df.EnrollmentCount.max()"
   ]
  },
  {
   "cell_type": "code",
   "execution_count": 40,
   "metadata": {},
   "outputs": [
    {
     "data": {
      "text/plain": [
       "144    NCT04370886\n",
       "Name: NCTId, dtype: object"
      ]
     },
     "execution_count": 40,
     "metadata": {},
     "output_type": "execute_result"
    }
   ],
   "source": [
    "df[df.EnrollmentCount==df.EnrollmentCount.max()].NCTId"
   ]
  },
  {
   "cell_type": "markdown",
   "metadata": {},
   "source": [
    "<pre>So the trial NCT04370886 has expected enrollment of 394,578. If you check the trial on clinicaltrials.gov \n",
    "the information is true, however this is a trial to \"Recruit Blood Donors Via SMS With Different Contents \n",
    "During Epidemic of COVID-19\". \n",
    "\n",
    "So the intervention here is the text in the sms.\n",
    "\n",
    "We can eliminate these types of trials by adding a filter of PrimaryPurpose=Treatment.\n",
    "</pre>"
   ]
  },
  {
   "cell_type": "code",
   "execution_count": 41,
   "metadata": {},
   "outputs": [
    {
     "data": {
      "text/plain": [
       "195478"
      ]
     },
     "execution_count": 41,
     "metadata": {},
     "output_type": "execute_result"
    }
   ],
   "source": [
    "tt = df[df.DesignPrimaryPurpose=='Treatment']\n",
    "tt.EnrollmentCount.sum()"
   ]
  },
  {
   "cell_type": "markdown",
   "metadata": {},
   "source": [
    "<pre>This looks better. The (expected) enrollment count for trials treating covid-19 is approaching 200,000. \n",
    "\n",
    "Even this number should be taken with a grain of salt as\n",
    "- not all trials will meet their enrollmemt targets\n",
    "- there might be more inteventional trials which are not yet registered on clinicaltrials.gov\n",
    "</pre>"
   ]
  },
  {
   "cell_type": "markdown",
   "metadata": {},
   "source": [
    "**Let's explore more about the subject count distribution in treatment-purposed trials.**"
   ]
  },
  {
   "cell_type": "code",
   "execution_count": 42,
   "metadata": {},
   "outputs": [
    {
     "data": {
      "text/plain": [
       "<matplotlib.axes._subplots.AxesSubplot at 0x7fd59be814a8>"
      ]
     },
     "execution_count": 42,
     "metadata": {},
     "output_type": "execute_result"
    },
    {
     "data": {
      "image/png": "[encoded data removed]",
      "text/plain": [
       "<Figure size 432x288 with 1 Axes>"
      ]
     },
     "metadata": {
      "needs_background": "light"
     },
     "output_type": "display_data"
    }
   ],
   "source": [
    "tt.boxplot(column='EnrollmentCount')"
   ]
  },
  {
   "cell_type": "markdown",
   "metadata": {},
   "source": [
    "<pre>Again there are a few outliers here. Let's check the top one."
   ]
  },
  {
   "cell_type": "code",
   "execution_count": 43,
   "metadata": {},
   "outputs": [
    {
     "data": {
      "text/plain": [
       "816    NCT04343001\n",
       "Name: NCTId, dtype: object"
      ]
     },
     "execution_count": 43,
     "metadata": {},
     "output_type": "execute_result"
    }
   ],
   "source": [
    "tt[tt.EnrollmentCount==tt.EnrollmentCount.max()].NCTId"
   ]
  },
  {
   "cell_type": "markdown",
   "metadata": {},
   "source": [
    "<pre> \n",
    "NCT04343001 is an interesting trial by London School of Hygiene and Tropical Medicine with expected \n",
    "enrollment of 10,000.\n",
    "</pre>"
   ]
  },
  {
   "cell_type": "markdown",
   "metadata": {},
   "source": [
    "<pre>\n",
    "Let's look at the interquartile range of the expected enrollment counts/.</pre>"
   ]
  },
  {
   "cell_type": "code",
   "execution_count": 44,
   "metadata": {},
   "outputs": [
    {
     "data": {
      "text/plain": [
       "count      569.000000\n",
       "mean       343.546573\n",
       "std        754.310252\n",
       "min          0.000000\n",
       "25%         49.000000\n",
       "50%        120.000000\n",
       "75%        330.000000\n",
       "max      10000.000000\n",
       "Name: EnrollmentCount, dtype: float64"
      ]
     },
     "execution_count": 44,
     "metadata": {},
     "output_type": "execute_result"
    }
   ],
   "source": [
    "tt.EnrollmentCount.describe()"
   ]
  },
  {
   "cell_type": "markdown",
   "metadata": {},
   "source": [
    "<pre>^ The median subject enrollment is 120 for treatment-purposed intervention trials.\n",
    "\n",
    "And the middle 50% of the trials (w treatment interventions) enroll between 49 to 330 patients."
   ]
  },
  {
   "cell_type": "code",
   "execution_count": 45,
   "metadata": {},
   "outputs": [
    {
     "data": {
      "text/plain": [
       "<matplotlib.axes._subplots.AxesSubplot at 0x7fd59bddf588>"
      ]
     },
     "execution_count": 45,
     "metadata": {},
     "output_type": "execute_result"
    },
    {
     "data": {
      "image/png": "[encoded data removed]",
      "text/plain": [
       "<Figure size 432x288 with 1 Axes>"
      ]
     },
     "metadata": {
      "needs_background": "light"
     },
     "output_type": "display_data"
    }
   ],
   "source": [
    "tt.EnrollmentCount.plot(kind=\"bar\", log=True)"
   ]
  },
  {
   "cell_type": "markdown",
   "metadata": {},
   "source": [
    "<pre> ^ Not a very helpful graph but it looks there is no unimodal or bimodal distribution here."
   ]
  },
  {
   "cell_type": "markdown",
   "metadata": {},
   "source": [
    "### 6. Trial sponsor distribution"
   ]
  },
  {
   "cell_type": "markdown",
   "metadata": {},
   "source": [
    "**What are the leading sponsors running the covid-19 trials?**"
   ]
  },
  {
   "cell_type": "code",
   "execution_count": 46,
   "metadata": {},
   "outputs": [
    {
     "data": {
      "text/plain": [
       "525"
      ]
     },
     "execution_count": 46,
     "metadata": {},
     "output_type": "execute_result"
    }
   ],
   "source": [
    "len(df.LeadSponsorName.unique())"
   ]
  },
  {
   "cell_type": "code",
   "execution_count": 47,
   "metadata": {},
   "outputs": [
    {
     "data": {
      "text/plain": [
       "(787, 20)"
      ]
     },
     "execution_count": 47,
     "metadata": {},
     "output_type": "execute_result"
    }
   ],
   "source": [
    "df.shape"
   ]
  },
  {
   "cell_type": "markdown",
   "metadata": {},
   "source": [
    "<pre>\n",
    "^ Wow, there are more than 500+ unique lead sponsors for 787 interventional trials.\n",
    "\n",
    "Let's look at the top sponsors with maximum number of (expected) enrollment.</pre>"
   ]
  },
  {
   "cell_type": "code",
   "execution_count": 48,
   "metadata": {},
   "outputs": [
    {
     "data": {
      "text/html": [
       "<div>\n",
       "<style scoped>\n",
       "    .dataframe tbody tr th:only-of-type {\n",
       "        vertical-align: middle;\n",
       "    }\n",
       "\n",
       "    .dataframe tbody tr th {\n",
       "        vertical-align: top;\n",
       "    }\n",
       "\n",
       "    .dataframe thead th {\n",
       "        text-align: right;\n",
       "    }\n",
       "</style>\n",
       "<table border=\"1\" class=\"dataframe\">\n",
       "  <thead>\n",
       "    <tr style=\"text-align: right;\">\n",
       "      <th></th>\n",
       "      <th>LeadSponsorName</th>\n",
       "      <th>EnrollmentCount</th>\n",
       "    </tr>\n",
       "  </thead>\n",
       "  <tbody>\n",
       "    <tr>\n",
       "      <th>187</th>\n",
       "      <td>London School of Hygiene and Tropical Medicine</td>\n",
       "      <td>10000</td>\n",
       "    </tr>\n",
       "    <tr>\n",
       "      <th>13</th>\n",
       "      <td>Assistance Publique - Hôpitaux de Paris</td>\n",
       "      <td>8124</td>\n",
       "    </tr>\n",
       "    <tr>\n",
       "      <th>100</th>\n",
       "      <td>Gilead Sciences</td>\n",
       "      <td>7600</td>\n",
       "    </tr>\n",
       "    <tr>\n",
       "      <th>368</th>\n",
       "      <td>University of Minnesota</td>\n",
       "      <td>7280</td>\n",
       "    </tr>\n",
       "    <tr>\n",
       "      <th>212</th>\n",
       "      <td>Montreal Heart Institute</td>\n",
       "      <td>6000</td>\n",
       "    </tr>\n",
       "    <tr>\n",
       "      <th>337</th>\n",
       "      <td>University Hospital, Angers</td>\n",
       "      <td>5560</td>\n",
       "    </tr>\n",
       "    <tr>\n",
       "      <th>24</th>\n",
       "      <td>Bassett Healthcare</td>\n",
       "      <td>4000</td>\n",
       "    </tr>\n",
       "    <tr>\n",
       "      <th>342</th>\n",
       "      <td>University Hospital, Lille</td>\n",
       "      <td>3620</td>\n",
       "    </tr>\n",
       "    <tr>\n",
       "      <th>335</th>\n",
       "      <td>University Hospital Tuebingen</td>\n",
       "      <td>3510</td>\n",
       "    </tr>\n",
       "    <tr>\n",
       "      <th>143</th>\n",
       "      <td>Imperial College London</td>\n",
       "      <td>3170</td>\n",
       "    </tr>\n",
       "    <tr>\n",
       "      <th>149</th>\n",
       "      <td>Institut National de la Santé Et de la Recherche Médicale, France</td>\n",
       "      <td>3100</td>\n",
       "    </tr>\n",
       "    <tr>\n",
       "      <th>365</th>\n",
       "      <td>University of Manitoba</td>\n",
       "      <td>3000</td>\n",
       "    </tr>\n",
       "    <tr>\n",
       "      <th>215</th>\n",
       "      <td>NYU Langone Health</td>\n",
       "      <td>2954</td>\n",
       "    </tr>\n",
       "    <tr>\n",
       "      <th>218</th>\n",
       "      <td>National Institute of Allergy and Infectious Diseases (NIAID)</td>\n",
       "      <td>2800</td>\n",
       "    </tr>\n",
       "    <tr>\n",
       "      <th>225</th>\n",
       "      <td>Niguarda Hospital</td>\n",
       "      <td>2712</td>\n",
       "    </tr>\n",
       "  </tbody>\n",
       "</table>\n",
       "</div>"
      ],
      "text/plain": [
       "                                                       LeadSponsorName  \\\n",
       "187                     London School of Hygiene and Tropical Medicine   \n",
       "13                             Assistance Publique - Hôpitaux de Paris   \n",
       "100                                                    Gilead Sciences   \n",
       "368                                            University of Minnesota   \n",
       "212                                           Montreal Heart Institute   \n",
       "337                                        University Hospital, Angers   \n",
       "24                                                  Bassett Healthcare   \n",
       "342                                         University Hospital, Lille   \n",
       "335                                      University Hospital Tuebingen   \n",
       "143                                            Imperial College London   \n",
       "149  Institut National de la Santé Et de la Recherche Médicale, France   \n",
       "365                                             University of Manitoba   \n",
       "215                                                 NYU Langone Health   \n",
       "218      National Institute of Allergy and Infectious Diseases (NIAID)   \n",
       "225                                                  Niguarda Hospital   \n",
       "\n",
       "     EnrollmentCount  \n",
       "187            10000  \n",
       "13              8124  \n",
       "100             7600  \n",
       "368             7280  \n",
       "212             6000  \n",
       "337             5560  \n",
       "24              4000  \n",
       "342             3620  \n",
       "335             3510  \n",
       "143             3170  \n",
       "149             3100  \n",
       "365             3000  \n",
       "215             2954  \n",
       "218             2800  \n",
       "225             2712  "
      ]
     },
     "execution_count": 48,
     "metadata": {},
     "output_type": "execute_result"
    }
   ],
   "source": [
    "tt1 = tt.groupby('LeadSponsorName', as_index=False).EnrollmentCount.sum()\n",
    "covid_drugs = tt1.sort_values('EnrollmentCount', ascending=False)\n",
    "covid_drugs.iloc[:15,]"
   ]
  },
  {
   "cell_type": "markdown",
   "metadata": {},
   "source": [
    "<pre>Interestingly there are hardly any industry sponsors in here, with the exception of Gilead.\n",
    "\n",
    "So let's look at the sponsor class distribution."
   ]
  },
  {
   "cell_type": "code",
   "execution_count": 49,
   "metadata": {},
   "outputs": [
    {
     "data": {
      "text/html": [
       "<div>\n",
       "<style scoped>\n",
       "    .dataframe tbody tr th:only-of-type {\n",
       "        vertical-align: middle;\n",
       "    }\n",
       "\n",
       "    .dataframe tbody tr th {\n",
       "        vertical-align: top;\n",
       "    }\n",
       "\n",
       "    .dataframe thead th {\n",
       "        text-align: right;\n",
       "    }\n",
       "</style>\n",
       "<table border=\"1\" class=\"dataframe\">\n",
       "  <thead>\n",
       "    <tr style=\"text-align: right;\">\n",
       "      <th></th>\n",
       "      <th>LeadSponsorClass</th>\n",
       "      <th>EnrollmentCount</th>\n",
       "    </tr>\n",
       "  </thead>\n",
       "  <tbody>\n",
       "    <tr>\n",
       "      <th>4</th>\n",
       "      <td>OTHER</td>\n",
       "      <td>152695</td>\n",
       "    </tr>\n",
       "    <tr>\n",
       "      <th>1</th>\n",
       "      <td>INDUSTRY</td>\n",
       "      <td>27088</td>\n",
       "    </tr>\n",
       "    <tr>\n",
       "      <th>5</th>\n",
       "      <td>OTHER_GOV</td>\n",
       "      <td>12175</td>\n",
       "    </tr>\n",
       "    <tr>\n",
       "      <th>3</th>\n",
       "      <td>NIH</td>\n",
       "      <td>2800</td>\n",
       "    </tr>\n",
       "    <tr>\n",
       "      <th>0</th>\n",
       "      <td>FED</td>\n",
       "      <td>440</td>\n",
       "    </tr>\n",
       "    <tr>\n",
       "      <th>2</th>\n",
       "      <td>NETWORK</td>\n",
       "      <td>280</td>\n",
       "    </tr>\n",
       "  </tbody>\n",
       "</table>\n",
       "</div>"
      ],
      "text/plain": [
       "  LeadSponsorClass  EnrollmentCount\n",
       "4            OTHER           152695\n",
       "1         INDUSTRY            27088\n",
       "5        OTHER_GOV            12175\n",
       "3              NIH             2800\n",
       "0              FED              440\n",
       "2          NETWORK              280"
      ]
     },
     "execution_count": 49,
     "metadata": {},
     "output_type": "execute_result"
    }
   ],
   "source": [
    "tt1 = tt.groupby('LeadSponsorClass', as_index=False).EnrollmentCount.sum()\n",
    "covid_drugs = tt1.sort_values('EnrollmentCount', ascending=False)\n",
    "covid_drugs.iloc[:15,]"
   ]
  },
  {
   "cell_type": "markdown",
   "metadata": {},
   "source": [
    "<pre>The industry sponsors were able to get less than 14% of the pie.\n",
    "\n",
    "Perhaps this is due to collaboration where a hospital or university is the lead sponsor and industry player is the secondary sponsor.\n",
    "\n",
    "Let's check top players for each class."
   ]
  },
  {
   "cell_type": "markdown",
   "metadata": {},
   "source": [
    "**Top Sponsors in 'Industry' category - includes pharmaceutical, biotech and device companies**"
   ]
  },
  {
   "cell_type": "code",
   "execution_count": 50,
   "metadata": {},
   "outputs": [
    {
     "data": {
      "text/html": [
       "<div>\n",
       "<style scoped>\n",
       "    .dataframe tbody tr th:only-of-type {\n",
       "        vertical-align: middle;\n",
       "    }\n",
       "\n",
       "    .dataframe tbody tr th {\n",
       "        vertical-align: top;\n",
       "    }\n",
       "\n",
       "    .dataframe thead tr th {\n",
       "        text-align: left;\n",
       "    }\n",
       "</style>\n",
       "<table border=\"1\" class=\"dataframe\">\n",
       "  <thead>\n",
       "    <tr>\n",
       "      <th></th>\n",
       "      <th>LeadSponsorName</th>\n",
       "      <th colspan=\"3\" halign=\"left\">EnrollmentCount</th>\n",
       "    </tr>\n",
       "    <tr>\n",
       "      <th></th>\n",
       "      <th></th>\n",
       "      <th>sum</th>\n",
       "      <th>count</th>\n",
       "      <th>mean</th>\n",
       "    </tr>\n",
       "  </thead>\n",
       "  <tbody>\n",
       "    <tr>\n",
       "      <th>29</th>\n",
       "      <td>Gilead Sciences</td>\n",
       "      <td>7600</td>\n",
       "      <td>2</td>\n",
       "      <td>3800.0</td>\n",
       "    </tr>\n",
       "    <tr>\n",
       "      <th>49</th>\n",
       "      <td>Marker Therapeutics AG</td>\n",
       "      <td>2000</td>\n",
       "      <td>1</td>\n",
       "      <td>2000.0</td>\n",
       "    </tr>\n",
       "    <tr>\n",
       "      <th>53</th>\n",
       "      <td>Novartis Pharmaceuticals</td>\n",
       "      <td>1296</td>\n",
       "      <td>3</td>\n",
       "      <td>432.0</td>\n",
       "    </tr>\n",
       "    <tr>\n",
       "      <th>69</th>\n",
       "      <td>UnitedHealth Group</td>\n",
       "      <td>850</td>\n",
       "      <td>1</td>\n",
       "      <td>850.0</td>\n",
       "    </tr>\n",
       "    <tr>\n",
       "      <th>30</th>\n",
       "      <td>GlaxoSmithKline</td>\n",
       "      <td>800</td>\n",
       "      <td>1</td>\n",
       "      <td>800.0</td>\n",
       "    </tr>\n",
       "    <tr>\n",
       "      <th>10</th>\n",
       "      <td>Azidus Brasil</td>\n",
       "      <td>758</td>\n",
       "      <td>5</td>\n",
       "      <td>151.6</td>\n",
       "    </tr>\n",
       "    <tr>\n",
       "      <th>36</th>\n",
       "      <td>Immunic AG</td>\n",
       "      <td>600</td>\n",
       "      <td>1</td>\n",
       "      <td>600.0</td>\n",
       "    </tr>\n",
       "    <tr>\n",
       "      <th>19</th>\n",
       "      <td>Cadila Pharnmaceuticals</td>\n",
       "      <td>520</td>\n",
       "      <td>2</td>\n",
       "      <td>260.0</td>\n",
       "    </tr>\n",
       "    <tr>\n",
       "      <th>62</th>\n",
       "      <td>Sanofi</td>\n",
       "      <td>510</td>\n",
       "      <td>2</td>\n",
       "      <td>255.0</td>\n",
       "    </tr>\n",
       "    <tr>\n",
       "      <th>6</th>\n",
       "      <td>Apsen Farmaceutica S.A.</td>\n",
       "      <td>500</td>\n",
       "      <td>1</td>\n",
       "      <td>500.0</td>\n",
       "    </tr>\n",
       "    <tr>\n",
       "      <th>38</th>\n",
       "      <td>Incyte Corporation</td>\n",
       "      <td>500</td>\n",
       "      <td>1</td>\n",
       "      <td>500.0</td>\n",
       "    </tr>\n",
       "    <tr>\n",
       "      <th>8</th>\n",
       "      <td>AstraZeneca</td>\n",
       "      <td>488</td>\n",
       "      <td>2</td>\n",
       "      <td>244.0</td>\n",
       "    </tr>\n",
       "    <tr>\n",
       "      <th>24</th>\n",
       "      <td>CytoDyn, Inc.</td>\n",
       "      <td>465</td>\n",
       "      <td>2</td>\n",
       "      <td>232.5</td>\n",
       "    </tr>\n",
       "    <tr>\n",
       "      <th>31</th>\n",
       "      <td>Hamad Medical Corporation</td>\n",
       "      <td>456</td>\n",
       "      <td>1</td>\n",
       "      <td>456.0</td>\n",
       "    </tr>\n",
       "    <tr>\n",
       "      <th>33</th>\n",
       "      <td>Hoffmann-La Roche</td>\n",
       "      <td>430</td>\n",
       "      <td>2</td>\n",
       "      <td>215.0</td>\n",
       "    </tr>\n",
       "    <tr>\n",
       "      <th>44</th>\n",
       "      <td>Jiangxi Qingfeng Pharmaceutical Co. Ltd.</td>\n",
       "      <td>428</td>\n",
       "      <td>2</td>\n",
       "      <td>214.0</td>\n",
       "    </tr>\n",
       "    <tr>\n",
       "      <th>58</th>\n",
       "      <td>Regeneron Pharmaceuticals</td>\n",
       "      <td>400</td>\n",
       "      <td>1</td>\n",
       "      <td>400.0</td>\n",
       "    </tr>\n",
       "    <tr>\n",
       "      <th>9</th>\n",
       "      <td>Athersys, Inc</td>\n",
       "      <td>400</td>\n",
       "      <td>1</td>\n",
       "      <td>400.0</td>\n",
       "    </tr>\n",
       "    <tr>\n",
       "      <th>48</th>\n",
       "      <td>Laboratorio Elea Phoenix S.A.</td>\n",
       "      <td>400</td>\n",
       "      <td>1</td>\n",
       "      <td>400.0</td>\n",
       "    </tr>\n",
       "    <tr>\n",
       "      <th>23</th>\n",
       "      <td>Covis Pharma S.à.r.l.</td>\n",
       "      <td>400</td>\n",
       "      <td>1</td>\n",
       "      <td>400.0</td>\n",
       "    </tr>\n",
       "  </tbody>\n",
       "</table>\n",
       "</div>"
      ],
      "text/plain": [
       "                             LeadSponsorName EnrollmentCount              \n",
       "                                                         sum count    mean\n",
       "29                           Gilead Sciences            7600     2  3800.0\n",
       "49                    Marker Therapeutics AG            2000     1  2000.0\n",
       "53                  Novartis Pharmaceuticals            1296     3   432.0\n",
       "69                        UnitedHealth Group             850     1   850.0\n",
       "30                           GlaxoSmithKline             800     1   800.0\n",
       "10                             Azidus Brasil             758     5   151.6\n",
       "36                                Immunic AG             600     1   600.0\n",
       "19                   Cadila Pharnmaceuticals             520     2   260.0\n",
       "62                                    Sanofi             510     2   255.0\n",
       "6                    Apsen Farmaceutica S.A.             500     1   500.0\n",
       "38                        Incyte Corporation             500     1   500.0\n",
       "8                                AstraZeneca             488     2   244.0\n",
       "24                             CytoDyn, Inc.             465     2   232.5\n",
       "31                 Hamad Medical Corporation             456     1   456.0\n",
       "33                         Hoffmann-La Roche             430     2   215.0\n",
       "44  Jiangxi Qingfeng Pharmaceutical Co. Ltd.             428     2   214.0\n",
       "58                 Regeneron Pharmaceuticals             400     1   400.0\n",
       "9                              Athersys, Inc             400     1   400.0\n",
       "48             Laboratorio Elea Phoenix S.A.             400     1   400.0\n",
       "23                     Covis Pharma S.à.r.l.             400     1   400.0"
      ]
     },
     "execution_count": 50,
     "metadata": {},
     "output_type": "execute_result"
    }
   ],
   "source": [
    "ss = tt[tt.LeadSponsorClass=='INDUSTRY']\n",
    "tt1 = ss.groupby('LeadSponsorName', as_index=False).agg({'EnrollmentCount': ['sum', 'count', 'mean']})\n",
    "tt1.sort_values([('EnrollmentCount', 'sum')], ascending=False)[:20]"
   ]
  },
  {
   "cell_type": "markdown",
   "metadata": {},
   "source": [
    "<pre>^ This represents top 20 sponsors in terms of subject enrollment. The columns represent total number of \n",
    "subjects, number of trials and average number of subjects in each trial for these sponsors.\n",
    "\n",
    "Gilead sciences seems to have maximum target enrollment, more than next 8 sponsors combined.</pre>"
   ]
  },
  {
   "cell_type": "code",
   "execution_count": 51,
   "metadata": {},
   "outputs": [
    {
     "data": {
      "text/html": [
       "<div>\n",
       "<style scoped>\n",
       "    .dataframe tbody tr th:only-of-type {\n",
       "        vertical-align: middle;\n",
       "    }\n",
       "\n",
       "    .dataframe tbody tr th {\n",
       "        vertical-align: top;\n",
       "    }\n",
       "\n",
       "    .dataframe thead tr th {\n",
       "        text-align: left;\n",
       "    }\n",
       "</style>\n",
       "<table border=\"1\" class=\"dataframe\">\n",
       "  <thead>\n",
       "    <tr>\n",
       "      <th></th>\n",
       "      <th>LeadSponsorName</th>\n",
       "      <th colspan=\"3\" halign=\"left\">EnrollmentCount</th>\n",
       "    </tr>\n",
       "    <tr>\n",
       "      <th></th>\n",
       "      <th></th>\n",
       "      <th>sum</th>\n",
       "      <th>count</th>\n",
       "      <th>mean</th>\n",
       "    </tr>\n",
       "  </thead>\n",
       "  <tbody>\n",
       "    <tr>\n",
       "      <th>10</th>\n",
       "      <td>Azidus Brasil</td>\n",
       "      <td>758</td>\n",
       "      <td>5</td>\n",
       "      <td>151.6</td>\n",
       "    </tr>\n",
       "    <tr>\n",
       "      <th>53</th>\n",
       "      <td>Novartis Pharmaceuticals</td>\n",
       "      <td>1296</td>\n",
       "      <td>3</td>\n",
       "      <td>432.0</td>\n",
       "    </tr>\n",
       "    <tr>\n",
       "      <th>8</th>\n",
       "      <td>AstraZeneca</td>\n",
       "      <td>488</td>\n",
       "      <td>2</td>\n",
       "      <td>244.0</td>\n",
       "    </tr>\n",
       "    <tr>\n",
       "      <th>24</th>\n",
       "      <td>CytoDyn, Inc.</td>\n",
       "      <td>465</td>\n",
       "      <td>2</td>\n",
       "      <td>232.5</td>\n",
       "    </tr>\n",
       "    <tr>\n",
       "      <th>29</th>\n",
       "      <td>Gilead Sciences</td>\n",
       "      <td>7600</td>\n",
       "      <td>2</td>\n",
       "      <td>3800.0</td>\n",
       "    </tr>\n",
       "    <tr>\n",
       "      <th>62</th>\n",
       "      <td>Sanofi</td>\n",
       "      <td>510</td>\n",
       "      <td>2</td>\n",
       "      <td>255.0</td>\n",
       "    </tr>\n",
       "    <tr>\n",
       "      <th>45</th>\n",
       "      <td>Karyopharm Therapeutics Inc</td>\n",
       "      <td>310</td>\n",
       "      <td>2</td>\n",
       "      <td>155.0</td>\n",
       "    </tr>\n",
       "    <tr>\n",
       "      <th>19</th>\n",
       "      <td>Cadila Pharnmaceuticals</td>\n",
       "      <td>520</td>\n",
       "      <td>2</td>\n",
       "      <td>260.0</td>\n",
       "    </tr>\n",
       "    <tr>\n",
       "      <th>33</th>\n",
       "      <td>Hoffmann-La Roche</td>\n",
       "      <td>430</td>\n",
       "      <td>2</td>\n",
       "      <td>215.0</td>\n",
       "    </tr>\n",
       "    <tr>\n",
       "      <th>44</th>\n",
       "      <td>Jiangxi Qingfeng Pharmaceutical Co. Ltd.</td>\n",
       "      <td>428</td>\n",
       "      <td>2</td>\n",
       "      <td>214.0</td>\n",
       "    </tr>\n",
       "  </tbody>\n",
       "</table>\n",
       "</div>"
      ],
      "text/plain": [
       "                             LeadSponsorName EnrollmentCount              \n",
       "                                                         sum count    mean\n",
       "10                             Azidus Brasil             758     5   151.6\n",
       "53                  Novartis Pharmaceuticals            1296     3   432.0\n",
       "8                                AstraZeneca             488     2   244.0\n",
       "24                             CytoDyn, Inc.             465     2   232.5\n",
       "29                           Gilead Sciences            7600     2  3800.0\n",
       "62                                    Sanofi             510     2   255.0\n",
       "45               Karyopharm Therapeutics Inc             310     2   155.0\n",
       "19                   Cadila Pharnmaceuticals             520     2   260.0\n",
       "33                         Hoffmann-La Roche             430     2   215.0\n",
       "44  Jiangxi Qingfeng Pharmaceutical Co. Ltd.             428     2   214.0"
      ]
     },
     "execution_count": 51,
     "metadata": {},
     "output_type": "execute_result"
    }
   ],
   "source": [
    "tt1.sort_values([('EnrollmentCount', 'count')], ascending=False)[:10]"
   ]
  },
  {
   "cell_type": "markdown",
   "metadata": {},
   "source": [
    "<pre>Azidus, a Brazil based CRO has maximum number of trials (5) running."
   ]
  },
  {
   "cell_type": "markdown",
   "metadata": {},
   "source": [
    "**Top Sponsors in 'Other' category - includes individuals, universities, and community-based organizations**"
   ]
  },
  {
   "cell_type": "code",
   "execution_count": 52,
   "metadata": {},
   "outputs": [
    {
     "data": {
      "text/html": [
       "<div>\n",
       "<style scoped>\n",
       "    .dataframe tbody tr th:only-of-type {\n",
       "        vertical-align: middle;\n",
       "    }\n",
       "\n",
       "    .dataframe tbody tr th {\n",
       "        vertical-align: top;\n",
       "    }\n",
       "\n",
       "    .dataframe thead tr th {\n",
       "        text-align: left;\n",
       "    }\n",
       "</style>\n",
       "<table border=\"1\" class=\"dataframe\">\n",
       "  <thead>\n",
       "    <tr>\n",
       "      <th></th>\n",
       "      <th>LeadSponsorName</th>\n",
       "      <th colspan=\"3\" halign=\"left\">EnrollmentCount</th>\n",
       "    </tr>\n",
       "    <tr>\n",
       "      <th></th>\n",
       "      <th></th>\n",
       "      <th>sum</th>\n",
       "      <th>count</th>\n",
       "      <th>mean</th>\n",
       "    </tr>\n",
       "  </thead>\n",
       "  <tbody>\n",
       "    <tr>\n",
       "      <th>127</th>\n",
       "      <td>London School of Hygiene and Tropical Medicine</td>\n",
       "      <td>10000</td>\n",
       "      <td>1</td>\n",
       "      <td>10000.00</td>\n",
       "    </tr>\n",
       "    <tr>\n",
       "      <th>5</th>\n",
       "      <td>Assistance Publique - Hôpitaux de Paris</td>\n",
       "      <td>8124</td>\n",
       "      <td>20</td>\n",
       "      <td>406.20</td>\n",
       "    </tr>\n",
       "    <tr>\n",
       "      <th>279</th>\n",
       "      <td>University of Minnesota</td>\n",
       "      <td>7280</td>\n",
       "      <td>4</td>\n",
       "      <td>1820.00</td>\n",
       "    </tr>\n",
       "    <tr>\n",
       "      <th>151</th>\n",
       "      <td>Montreal Heart Institute</td>\n",
       "      <td>6000</td>\n",
       "      <td>1</td>\n",
       "      <td>6000.00</td>\n",
       "    </tr>\n",
       "    <tr>\n",
       "      <th>11</th>\n",
       "      <td>Bassett Healthcare</td>\n",
       "      <td>4000</td>\n",
       "      <td>1</td>\n",
       "      <td>4000.00</td>\n",
       "    </tr>\n",
       "    <tr>\n",
       "      <th>253</th>\n",
       "      <td>University Hospital, Lille</td>\n",
       "      <td>3620</td>\n",
       "      <td>2</td>\n",
       "      <td>1810.00</td>\n",
       "    </tr>\n",
       "    <tr>\n",
       "      <th>247</th>\n",
       "      <td>University Hospital Tuebingen</td>\n",
       "      <td>3510</td>\n",
       "      <td>5</td>\n",
       "      <td>702.00</td>\n",
       "    </tr>\n",
       "    <tr>\n",
       "      <th>97</th>\n",
       "      <td>Imperial College London</td>\n",
       "      <td>3170</td>\n",
       "      <td>1</td>\n",
       "      <td>3170.00</td>\n",
       "    </tr>\n",
       "    <tr>\n",
       "      <th>276</th>\n",
       "      <td>University of Manitoba</td>\n",
       "      <td>3000</td>\n",
       "      <td>1</td>\n",
       "      <td>3000.00</td>\n",
       "    </tr>\n",
       "    <tr>\n",
       "      <th>153</th>\n",
       "      <td>NYU Langone Health</td>\n",
       "      <td>2954</td>\n",
       "      <td>8</td>\n",
       "      <td>369.25</td>\n",
       "    </tr>\n",
       "  </tbody>\n",
       "</table>\n",
       "</div>"
      ],
      "text/plain": [
       "                                    LeadSponsorName EnrollmentCount        \\\n",
       "                                                                sum count   \n",
       "127  London School of Hygiene and Tropical Medicine           10000     1   \n",
       "5           Assistance Publique - Hôpitaux de Paris            8124    20   \n",
       "279                         University of Minnesota            7280     4   \n",
       "151                        Montreal Heart Institute            6000     1   \n",
       "11                               Bassett Healthcare            4000     1   \n",
       "253                      University Hospital, Lille            3620     2   \n",
       "247                   University Hospital Tuebingen            3510     5   \n",
       "97                          Imperial College London            3170     1   \n",
       "276                          University of Manitoba            3000     1   \n",
       "153                              NYU Langone Health            2954     8   \n",
       "\n",
       "               \n",
       "         mean  \n",
       "127  10000.00  \n",
       "5      406.20  \n",
       "279   1820.00  \n",
       "151   6000.00  \n",
       "11    4000.00  \n",
       "253   1810.00  \n",
       "247    702.00  \n",
       "97    3170.00  \n",
       "276   3000.00  \n",
       "153    369.25  "
      ]
     },
     "execution_count": 52,
     "metadata": {},
     "output_type": "execute_result"
    }
   ],
   "source": [
    "# Sorted by total enrollment per sponsor\n",
    "ss = tt[tt.LeadSponsorClass=='OTHER']\n",
    "tt1 = ss.groupby('LeadSponsorName', as_index=False).agg({'EnrollmentCount': ['sum', 'count', 'mean']})\n",
    "tt1.sort_values([('EnrollmentCount', 'sum')], ascending=False)[:10]"
   ]
  },
  {
   "cell_type": "code",
   "execution_count": 53,
   "metadata": {},
   "outputs": [
    {
     "data": {
      "text/html": [
       "<div>\n",
       "<style scoped>\n",
       "    .dataframe tbody tr th:only-of-type {\n",
       "        vertical-align: middle;\n",
       "    }\n",
       "\n",
       "    .dataframe tbody tr th {\n",
       "        vertical-align: top;\n",
       "    }\n",
       "\n",
       "    .dataframe thead tr th {\n",
       "        text-align: left;\n",
       "    }\n",
       "</style>\n",
       "<table border=\"1\" class=\"dataframe\">\n",
       "  <thead>\n",
       "    <tr>\n",
       "      <th></th>\n",
       "      <th>LeadSponsorName</th>\n",
       "      <th colspan=\"3\" halign=\"left\">EnrollmentCount</th>\n",
       "    </tr>\n",
       "    <tr>\n",
       "      <th></th>\n",
       "      <th></th>\n",
       "      <th>count</th>\n",
       "      <th>sum</th>\n",
       "      <th>mean</th>\n",
       "    </tr>\n",
       "  </thead>\n",
       "  <tbody>\n",
       "    <tr>\n",
       "      <th>5</th>\n",
       "      <td>Assistance Publique - Hôpitaux de Paris</td>\n",
       "      <td>20</td>\n",
       "      <td>8124</td>\n",
       "      <td>406.200000</td>\n",
       "    </tr>\n",
       "    <tr>\n",
       "      <th>222</th>\n",
       "      <td>Tanta University</td>\n",
       "      <td>8</td>\n",
       "      <td>820</td>\n",
       "      <td>102.500000</td>\n",
       "    </tr>\n",
       "    <tr>\n",
       "      <th>153</th>\n",
       "      <td>NYU Langone Health</td>\n",
       "      <td>8</td>\n",
       "      <td>2954</td>\n",
       "      <td>369.250000</td>\n",
       "    </tr>\n",
       "    <tr>\n",
       "      <th>236</th>\n",
       "      <td>Tongji Hospital</td>\n",
       "      <td>7</td>\n",
       "      <td>1548</td>\n",
       "      <td>221.142857</td>\n",
       "    </tr>\n",
       "    <tr>\n",
       "      <th>112</th>\n",
       "      <td>Johns Hopkins University</td>\n",
       "      <td>7</td>\n",
       "      <td>1859</td>\n",
       "      <td>265.571429</td>\n",
       "    </tr>\n",
       "    <tr>\n",
       "      <th>139</th>\n",
       "      <td>Massachusetts General Hospital</td>\n",
       "      <td>7</td>\n",
       "      <td>1840</td>\n",
       "      <td>262.857143</td>\n",
       "    </tr>\n",
       "    <tr>\n",
       "      <th>201</th>\n",
       "      <td>Shahid Beheshti University of Medical Sciences</td>\n",
       "      <td>6</td>\n",
       "      <td>300</td>\n",
       "      <td>50.000000</td>\n",
       "    </tr>\n",
       "    <tr>\n",
       "      <th>247</th>\n",
       "      <td>University Hospital Tuebingen</td>\n",
       "      <td>5</td>\n",
       "      <td>3510</td>\n",
       "      <td>702.000000</td>\n",
       "    </tr>\n",
       "    <tr>\n",
       "      <th>298</th>\n",
       "      <td>Washington University School of Medicine</td>\n",
       "      <td>5</td>\n",
       "      <td>732</td>\n",
       "      <td>146.400000</td>\n",
       "    </tr>\n",
       "    <tr>\n",
       "      <th>279</th>\n",
       "      <td>University of Minnesota</td>\n",
       "      <td>4</td>\n",
       "      <td>7280</td>\n",
       "      <td>1820.000000</td>\n",
       "    </tr>\n",
       "  </tbody>\n",
       "</table>\n",
       "</div>"
      ],
      "text/plain": [
       "                                    LeadSponsorName EnrollmentCount        \\\n",
       "                                                              count   sum   \n",
       "5           Assistance Publique - Hôpitaux de Paris              20  8124   \n",
       "222                                Tanta University               8   820   \n",
       "153                              NYU Langone Health               8  2954   \n",
       "236                                 Tongji Hospital               7  1548   \n",
       "112                        Johns Hopkins University               7  1859   \n",
       "139                  Massachusetts General Hospital               7  1840   \n",
       "201  Shahid Beheshti University of Medical Sciences               6   300   \n",
       "247                   University Hospital Tuebingen               5  3510   \n",
       "298        Washington University School of Medicine               5   732   \n",
       "279                         University of Minnesota               4  7280   \n",
       "\n",
       "                  \n",
       "            mean  \n",
       "5     406.200000  \n",
       "222   102.500000  \n",
       "153   369.250000  \n",
       "236   221.142857  \n",
       "112   265.571429  \n",
       "139   262.857143  \n",
       "201    50.000000  \n",
       "247   702.000000  \n",
       "298   146.400000  \n",
       "279  1820.000000  "
      ]
     },
     "execution_count": 53,
     "metadata": {},
     "output_type": "execute_result"
    }
   ],
   "source": [
    "# Sorted by total number of trials per sponsor\n",
    "ss = tt[tt.LeadSponsorClass=='OTHER']\n",
    "tt1 = ss.groupby('LeadSponsorName', as_index=False).agg({'EnrollmentCount': ['count', 'sum', 'mean']})\n",
    "tt1.sort_values([('EnrollmentCount', 'count')], ascending=False)[:10]"
   ]
  },
  {
   "cell_type": "markdown",
   "metadata": {},
   "source": [
    "<pre>Assistance publique – Hôpitaux de Paris (AP-HP) is running 20 trials, it is the university hospital trust \n",
    "operating in Paris and its surroundings. It is the largest hospital system in Europe and one of the largest in the world"
   ]
  },
  {
   "cell_type": "markdown",
   "metadata": {},
   "source": [
    "**Top Sponsors in 'Other Gov' category**"
   ]
  },
  {
   "cell_type": "code",
   "execution_count": 54,
   "metadata": {},
   "outputs": [
    {
     "data": {
      "text/html": [
       "<div>\n",
       "<style scoped>\n",
       "    .dataframe tbody tr th:only-of-type {\n",
       "        vertical-align: middle;\n",
       "    }\n",
       "\n",
       "    .dataframe tbody tr th {\n",
       "        vertical-align: top;\n",
       "    }\n",
       "\n",
       "    .dataframe thead tr th {\n",
       "        text-align: left;\n",
       "    }\n",
       "</style>\n",
       "<table border=\"1\" class=\"dataframe\">\n",
       "  <thead>\n",
       "    <tr>\n",
       "      <th></th>\n",
       "      <th>LeadSponsorName</th>\n",
       "      <th colspan=\"3\" halign=\"left\">EnrollmentCount</th>\n",
       "    </tr>\n",
       "    <tr>\n",
       "      <th></th>\n",
       "      <th></th>\n",
       "      <th>sum</th>\n",
       "      <th>count</th>\n",
       "      <th>mean</th>\n",
       "    </tr>\n",
       "  </thead>\n",
       "  <tbody>\n",
       "    <tr>\n",
       "      <th>14</th>\n",
       "      <td>University Hospital, Angers</td>\n",
       "      <td>5560</td>\n",
       "      <td>3</td>\n",
       "      <td>1853.333333</td>\n",
       "    </tr>\n",
       "    <tr>\n",
       "      <th>6</th>\n",
       "      <td>Institut National de la Santé Et de la Recherche Médicale, France</td>\n",
       "      <td>3100</td>\n",
       "      <td>1</td>\n",
       "      <td>3100.000000</td>\n",
       "    </tr>\n",
       "    <tr>\n",
       "      <th>5</th>\n",
       "      <td>Government of Punjab, Specialized Healthcare and Medical Education Department</td>\n",
       "      <td>800</td>\n",
       "      <td>2</td>\n",
       "      <td>400.000000</td>\n",
       "    </tr>\n",
       "    <tr>\n",
       "      <th>2</th>\n",
       "      <td>Burnasyan Federal Medical Biophysical Center</td>\n",
       "      <td>640</td>\n",
       "      <td>2</td>\n",
       "      <td>320.000000</td>\n",
       "    </tr>\n",
       "    <tr>\n",
       "      <th>9</th>\n",
       "      <td>National Institute of Respiratory Diseases, Mexico</td>\n",
       "      <td>500</td>\n",
       "      <td>1</td>\n",
       "      <td>500.000000</td>\n",
       "    </tr>\n",
       "    <tr>\n",
       "      <th>1</th>\n",
       "      <td>Azienda Unità Sanitaria Locale Reggio Emilia</td>\n",
       "      <td>398</td>\n",
       "      <td>1</td>\n",
       "      <td>398.000000</td>\n",
       "    </tr>\n",
       "    <tr>\n",
       "      <th>10</th>\n",
       "      <td>Rajavithi Hospital</td>\n",
       "      <td>320</td>\n",
       "      <td>1</td>\n",
       "      <td>320.000000</td>\n",
       "    </tr>\n",
       "    <tr>\n",
       "      <th>7</th>\n",
       "      <td>Instituto Nacional de Perinatologia</td>\n",
       "      <td>298</td>\n",
       "      <td>1</td>\n",
       "      <td>298.000000</td>\n",
       "    </tr>\n",
       "    <tr>\n",
       "      <th>13</th>\n",
       "      <td>Sheba Medical Center</td>\n",
       "      <td>250</td>\n",
       "      <td>1</td>\n",
       "      <td>250.000000</td>\n",
       "    </tr>\n",
       "    <tr>\n",
       "      <th>8</th>\n",
       "      <td>Instituto de Seguridad y Servicios Sociales de los Trabajadores del Estado</td>\n",
       "      <td>90</td>\n",
       "      <td>1</td>\n",
       "      <td>90.000000</td>\n",
       "    </tr>\n",
       "  </tbody>\n",
       "</table>\n",
       "</div>"
      ],
      "text/plain": [
       "                                                                  LeadSponsorName  \\\n",
       "                                                                                    \n",
       "14                                                    University Hospital, Angers   \n",
       "6               Institut National de la Santé Et de la Recherche Médicale, France   \n",
       "5   Government of Punjab, Specialized Healthcare and Medical Education Department   \n",
       "2                                    Burnasyan Federal Medical Biophysical Center   \n",
       "9                              National Institute of Respiratory Diseases, Mexico   \n",
       "1                                    Azienda Unità Sanitaria Locale Reggio Emilia   \n",
       "10                                                             Rajavithi Hospital   \n",
       "7                                             Instituto Nacional de Perinatologia   \n",
       "13                                                           Sheba Medical Center   \n",
       "8      Instituto de Seguridad y Servicios Sociales de los Trabajadores del Estado   \n",
       "\n",
       "   EnrollmentCount                     \n",
       "               sum count         mean  \n",
       "14            5560     3  1853.333333  \n",
       "6             3100     1  3100.000000  \n",
       "5              800     2   400.000000  \n",
       "2              640     2   320.000000  \n",
       "9              500     1   500.000000  \n",
       "1              398     1   398.000000  \n",
       "10             320     1   320.000000  \n",
       "7              298     1   298.000000  \n",
       "13             250     1   250.000000  \n",
       "8               90     1    90.000000  "
      ]
     },
     "execution_count": 54,
     "metadata": {},
     "output_type": "execute_result"
    }
   ],
   "source": [
    "# Sorted by total enrollment per sponsor\n",
    "ss = tt[tt.LeadSponsorClass=='OTHER_GOV']\n",
    "tt1 = ss.groupby('LeadSponsorName', as_index=False).agg({'EnrollmentCount': ['sum', 'count', 'mean']})\n",
    "tt1.sort_values([('EnrollmentCount', 'sum')], ascending=False)[:10]"
   ]
  },
  {
   "cell_type": "code",
   "execution_count": 55,
   "metadata": {},
   "outputs": [
    {
     "data": {
      "text/html": [
       "<div>\n",
       "<style scoped>\n",
       "    .dataframe tbody tr th:only-of-type {\n",
       "        vertical-align: middle;\n",
       "    }\n",
       "\n",
       "    .dataframe tbody tr th {\n",
       "        vertical-align: top;\n",
       "    }\n",
       "\n",
       "    .dataframe thead tr th {\n",
       "        text-align: left;\n",
       "    }\n",
       "</style>\n",
       "<table border=\"1\" class=\"dataframe\">\n",
       "  <thead>\n",
       "    <tr>\n",
       "      <th></th>\n",
       "      <th>LeadSponsorName</th>\n",
       "      <th colspan=\"3\" halign=\"left\">EnrollmentCount</th>\n",
       "    </tr>\n",
       "    <tr>\n",
       "      <th></th>\n",
       "      <th></th>\n",
       "      <th>sum</th>\n",
       "      <th>count</th>\n",
       "      <th>mean</th>\n",
       "    </tr>\n",
       "  </thead>\n",
       "  <tbody>\n",
       "    <tr>\n",
       "      <th>14</th>\n",
       "      <td>University Hospital, Angers</td>\n",
       "      <td>5560</td>\n",
       "      <td>3</td>\n",
       "      <td>1853.333333</td>\n",
       "    </tr>\n",
       "    <tr>\n",
       "      <th>2</th>\n",
       "      <td>Burnasyan Federal Medical Biophysical Center</td>\n",
       "      <td>640</td>\n",
       "      <td>2</td>\n",
       "      <td>320.000000</td>\n",
       "    </tr>\n",
       "    <tr>\n",
       "      <th>5</th>\n",
       "      <td>Government of Punjab, Specialized Healthcare and Medical Education Department</td>\n",
       "      <td>800</td>\n",
       "      <td>2</td>\n",
       "      <td>400.000000</td>\n",
       "    </tr>\n",
       "    <tr>\n",
       "      <th>12</th>\n",
       "      <td>Shanghai Public Health Clinical Center</td>\n",
       "      <td>60</td>\n",
       "      <td>2</td>\n",
       "      <td>30.000000</td>\n",
       "    </tr>\n",
       "    <tr>\n",
       "      <th>0</th>\n",
       "      <td>Assaf-Harofeh Medical Center</td>\n",
       "      <td>30</td>\n",
       "      <td>1</td>\n",
       "      <td>30.000000</td>\n",
       "    </tr>\n",
       "  </tbody>\n",
       "</table>\n",
       "</div>"
      ],
      "text/plain": [
       "                                                                  LeadSponsorName  \\\n",
       "                                                                                    \n",
       "14                                                    University Hospital, Angers   \n",
       "2                                    Burnasyan Federal Medical Biophysical Center   \n",
       "5   Government of Punjab, Specialized Healthcare and Medical Education Department   \n",
       "12                                         Shanghai Public Health Clinical Center   \n",
       "0                                                    Assaf-Harofeh Medical Center   \n",
       "\n",
       "   EnrollmentCount                     \n",
       "               sum count         mean  \n",
       "14            5560     3  1853.333333  \n",
       "2              640     2   320.000000  \n",
       "5              800     2   400.000000  \n",
       "12              60     2    30.000000  \n",
       "0               30     1    30.000000  "
      ]
     },
     "execution_count": 55,
     "metadata": {},
     "output_type": "execute_result"
    }
   ],
   "source": [
    "# Sorted by total number of trials per sponsor\n",
    "ss = tt[tt.LeadSponsorClass=='OTHER_GOV']\n",
    "tt1 = ss.groupby('LeadSponsorName', as_index=False).agg({'EnrollmentCount': ['sum', 'count', 'mean']})\n",
    "tt1.sort_values([('EnrollmentCount', 'count')], ascending=False)[:5]"
   ]
  },
  {
   "cell_type": "markdown",
   "metadata": {},
   "source": [
    "### 7. Overall status of the trials"
   ]
  },
  {
   "cell_type": "code",
   "execution_count": 56,
   "metadata": {},
   "outputs": [
    {
     "data": {
      "text/html": [
       "<div>\n",
       "<style scoped>\n",
       "    .dataframe tbody tr th:only-of-type {\n",
       "        vertical-align: middle;\n",
       "    }\n",
       "\n",
       "    .dataframe tbody tr th {\n",
       "        vertical-align: top;\n",
       "    }\n",
       "\n",
       "    .dataframe thead th {\n",
       "        text-align: right;\n",
       "    }\n",
       "</style>\n",
       "<table border=\"1\" class=\"dataframe\">\n",
       "  <thead>\n",
       "    <tr style=\"text-align: right;\">\n",
       "      <th></th>\n",
       "      <th>OverallStatus</th>\n",
       "      <th>NCTId</th>\n",
       "    </tr>\n",
       "  </thead>\n",
       "  <tbody>\n",
       "    <tr>\n",
       "      <th>3</th>\n",
       "      <td>Not yet recruiting</td>\n",
       "      <td>364</td>\n",
       "    </tr>\n",
       "    <tr>\n",
       "      <th>4</th>\n",
       "      <td>Recruiting</td>\n",
       "      <td>343</td>\n",
       "    </tr>\n",
       "    <tr>\n",
       "      <th>2</th>\n",
       "      <td>Enrolling by invitation</td>\n",
       "      <td>29</td>\n",
       "    </tr>\n",
       "    <tr>\n",
       "      <th>1</th>\n",
       "      <td>Completed</td>\n",
       "      <td>19</td>\n",
       "    </tr>\n",
       "    <tr>\n",
       "      <th>0</th>\n",
       "      <td>Active, not recruiting</td>\n",
       "      <td>18</td>\n",
       "    </tr>\n",
       "    <tr>\n",
       "      <th>7</th>\n",
       "      <td>Withdrawn</td>\n",
       "      <td>8</td>\n",
       "    </tr>\n",
       "    <tr>\n",
       "      <th>5</th>\n",
       "      <td>Suspended</td>\n",
       "      <td>5</td>\n",
       "    </tr>\n",
       "    <tr>\n",
       "      <th>6</th>\n",
       "      <td>Terminated</td>\n",
       "      <td>1</td>\n",
       "    </tr>\n",
       "  </tbody>\n",
       "</table>\n",
       "</div>"
      ],
      "text/plain": [
       "             OverallStatus  NCTId\n",
       "3       Not yet recruiting    364\n",
       "4               Recruiting    343\n",
       "2  Enrolling by invitation     29\n",
       "1                Completed     19\n",
       "0   Active, not recruiting     18\n",
       "7                Withdrawn      8\n",
       "5                Suspended      5\n",
       "6               Terminated      1"
      ]
     },
     "execution_count": 56,
     "metadata": {},
     "output_type": "execute_result"
    }
   ],
   "source": [
    "df.groupby('OverallStatus', as_index=False).NCTId.count().sort_values([('NCTId')], ascending=False)"
   ]
  },
  {
   "cell_type": "markdown",
   "metadata": {},
   "source": [
    "<pre>^In the 787 interventional trials these are 736 trials ( ~93.5% ) which are recruiting subjects (status =  Recruiting or Enrolling by invitation) or will start the recruitment soon (status = Not yet recruiting).\n",
    "\n",
    "Roughly 2% of the trials are either withdrawn, suspended or terminated. We can look at the reason in the \n",
    "field 'Why Stopped\" as seen below:"
   ]
  },
  {
   "cell_type": "code",
   "execution_count": 57,
   "metadata": {},
   "outputs": [
    {
     "data": {
      "text/html": [
       "<div>\n",
       "<style scoped>\n",
       "    .dataframe tbody tr th:only-of-type {\n",
       "        vertical-align: middle;\n",
       "    }\n",
       "\n",
       "    .dataframe tbody tr th {\n",
       "        vertical-align: top;\n",
       "    }\n",
       "\n",
       "    .dataframe thead th {\n",
       "        text-align: right;\n",
       "    }\n",
       "</style>\n",
       "<table border=\"1\" class=\"dataframe\">\n",
       "  <thead>\n",
       "    <tr style=\"text-align: right;\">\n",
       "      <th></th>\n",
       "      <th>WhyStopped</th>\n",
       "      <th>NCTId</th>\n",
       "    </tr>\n",
       "  </thead>\n",
       "  <tbody>\n",
       "    <tr>\n",
       "      <th>1</th>\n",
       "      <td>Azidus, the CRO hired for this study by Prevent Senior has lost the interest to conduct this study.</td>\n",
       "      <td>2</td>\n",
       "    </tr>\n",
       "    <tr>\n",
       "      <th>10</th>\n",
       "      <td>We cannot enroll enough participants.</td>\n",
       "      <td>2</td>\n",
       "    </tr>\n",
       "    <tr>\n",
       "      <th>0</th>\n",
       "      <td>A new coordinating center has been defined (Massachusetts General Hospital)</td>\n",
       "      <td>1</td>\n",
       "    </tr>\n",
       "    <tr>\n",
       "      <th>2</th>\n",
       "      <td>DSMB recommendation (futility)</td>\n",
       "      <td>1</td>\n",
       "    </tr>\n",
       "    <tr>\n",
       "      <th>3</th>\n",
       "      <td>Follow new disciplines on disease control from government</td>\n",
       "      <td>1</td>\n",
       "    </tr>\n",
       "    <tr>\n",
       "      <th>4</th>\n",
       "      <td>New coordinating center has been defined (Massachusetts General Hospital)</td>\n",
       "      <td>1</td>\n",
       "    </tr>\n",
       "    <tr>\n",
       "      <th>5</th>\n",
       "      <td>Patients were transferred to designated hospitals for treatment as needed, the clinical trials cannot be conducted.</td>\n",
       "      <td>1</td>\n",
       "    </tr>\n",
       "    <tr>\n",
       "      <th>6</th>\n",
       "      <td>Study stopped due to opening Expanded Access Protocol.</td>\n",
       "      <td>1</td>\n",
       "    </tr>\n",
       "    <tr>\n",
       "      <th>7</th>\n",
       "      <td>The epidemic of COVID-19 has been controlled well at present, no eligible patients can be recruitted.</td>\n",
       "      <td>1</td>\n",
       "    </tr>\n",
       "    <tr>\n",
       "      <th>8</th>\n",
       "      <td>The epidemic of COVID-19 has been controlled well in China, no eligible patients can be enrolled at present.</td>\n",
       "      <td>1</td>\n",
       "    </tr>\n",
       "    <tr>\n",
       "      <th>9</th>\n",
       "      <td>The epidemic of COVID-19 in China has been coming to an end.</td>\n",
       "      <td>1</td>\n",
       "    </tr>\n",
       "    <tr>\n",
       "      <th>11</th>\n",
       "      <td>Without CDE Approval</td>\n",
       "      <td>1</td>\n",
       "    </tr>\n",
       "  </tbody>\n",
       "</table>\n",
       "</div>"
      ],
      "text/plain": [
       "                                                                                                             WhyStopped  \\\n",
       "1                   Azidus, the CRO hired for this study by Prevent Senior has lost the interest to conduct this study.   \n",
       "10                                                                                We cannot enroll enough participants.   \n",
       "0                                           A new coordinating center has been defined (Massachusetts General Hospital)   \n",
       "2                                                                                        DSMB recommendation (futility)   \n",
       "3                                                             Follow new disciplines on disease control from government   \n",
       "4                                             New coordinating center has been defined (Massachusetts General Hospital)   \n",
       "5   Patients were transferred to designated hospitals for treatment as needed, the clinical trials cannot be conducted.   \n",
       "6                                                                Study stopped due to opening Expanded Access Protocol.   \n",
       "7                 The epidemic of COVID-19 has been controlled well at present, no eligible patients can be recruitted.   \n",
       "8          The epidemic of COVID-19 has been controlled well in China, no eligible patients can be enrolled at present.   \n",
       "9                                                          The epidemic of COVID-19 in China has been coming to an end.   \n",
       "11                                                                                                 Without CDE Approval   \n",
       "\n",
       "    NCTId  \n",
       "1       2  \n",
       "10      2  \n",
       "0       1  \n",
       "2       1  \n",
       "3       1  \n",
       "4       1  \n",
       "5       1  \n",
       "6       1  \n",
       "7       1  \n",
       "8       1  \n",
       "9       1  \n",
       "11      1  "
      ]
     },
     "execution_count": 57,
     "metadata": {},
     "output_type": "execute_result"
    }
   ],
   "source": [
    "df.groupby('WhyStopped', as_index=False).NCTId.count().sort_values([('NCTId')], ascending=False)"
   ]
  },
  {
   "cell_type": "markdown",
   "metadata": {},
   "source": [
    "<pre>We see a bunch of interesting results here, from CRO not interested in pursuing this study to unable to \n",
    "find enough patients.\n",
    "\n",
    "Note that the CRO Azidus who lost interest in puyrsuing 2 studies, is also the top lead sponsors in \n",
    "industry running maximum number of number of clinical trials (n = 5) from the section 6."
   ]
  },
  {
   "cell_type": "markdown",
   "metadata": {},
   "source": [
    "### 8. Masking and Randomization in the trials"
   ]
  },
  {
   "cell_type": "code",
   "execution_count": 58,
   "metadata": {},
   "outputs": [
    {
     "data": {
      "text/html": [
       "<div>\n",
       "<style scoped>\n",
       "    .dataframe tbody tr th:only-of-type {\n",
       "        vertical-align: middle;\n",
       "    }\n",
       "\n",
       "    .dataframe tbody tr th {\n",
       "        vertical-align: top;\n",
       "    }\n",
       "\n",
       "    .dataframe thead th {\n",
       "        text-align: right;\n",
       "    }\n",
       "</style>\n",
       "<table border=\"1\" class=\"dataframe\">\n",
       "  <thead>\n",
       "    <tr style=\"text-align: right;\">\n",
       "      <th></th>\n",
       "      <th>DesignMasking</th>\n",
       "      <th>NCTId</th>\n",
       "    </tr>\n",
       "  </thead>\n",
       "  <tbody>\n",
       "    <tr>\n",
       "      <th>1</th>\n",
       "      <td>None (Open Label)</td>\n",
       "      <td>476</td>\n",
       "    </tr>\n",
       "    <tr>\n",
       "      <th>2</th>\n",
       "      <td>Quadruple</td>\n",
       "      <td>101</td>\n",
       "    </tr>\n",
       "    <tr>\n",
       "      <th>3</th>\n",
       "      <td>Single</td>\n",
       "      <td>84</td>\n",
       "    </tr>\n",
       "    <tr>\n",
       "      <th>0</th>\n",
       "      <td>Double</td>\n",
       "      <td>73</td>\n",
       "    </tr>\n",
       "    <tr>\n",
       "      <th>4</th>\n",
       "      <td>Triple</td>\n",
       "      <td>53</td>\n",
       "    </tr>\n",
       "  </tbody>\n",
       "</table>\n",
       "</div>"
      ],
      "text/plain": [
       "       DesignMasking  NCTId\n",
       "1  None (Open Label)    476\n",
       "2          Quadruple    101\n",
       "3             Single     84\n",
       "0             Double     73\n",
       "4             Triple     53"
      ]
     },
     "execution_count": 58,
     "metadata": {},
     "output_type": "execute_result"
    }
   ],
   "source": [
    "# In all interventional trials\n",
    "df.groupby('DesignMasking', as_index=False).NCTId.count().sort_values([('NCTId')], ascending=False)"
   ]
  },
  {
   "cell_type": "code",
   "execution_count": 59,
   "metadata": {},
   "outputs": [
    {
     "data": {
      "text/html": [
       "<div>\n",
       "<style scoped>\n",
       "    .dataframe tbody tr th:only-of-type {\n",
       "        vertical-align: middle;\n",
       "    }\n",
       "\n",
       "    .dataframe tbody tr th {\n",
       "        vertical-align: top;\n",
       "    }\n",
       "\n",
       "    .dataframe thead th {\n",
       "        text-align: right;\n",
       "    }\n",
       "</style>\n",
       "<table border=\"1\" class=\"dataframe\">\n",
       "  <thead>\n",
       "    <tr style=\"text-align: right;\">\n",
       "      <th></th>\n",
       "      <th>DesignMasking</th>\n",
       "      <th>NCTId</th>\n",
       "    </tr>\n",
       "  </thead>\n",
       "  <tbody>\n",
       "    <tr>\n",
       "      <th>1</th>\n",
       "      <td>None (Open Label)</td>\n",
       "      <td>340</td>\n",
       "    </tr>\n",
       "    <tr>\n",
       "      <th>2</th>\n",
       "      <td>Quadruple</td>\n",
       "      <td>80</td>\n",
       "    </tr>\n",
       "    <tr>\n",
       "      <th>0</th>\n",
       "      <td>Double</td>\n",
       "      <td>55</td>\n",
       "    </tr>\n",
       "    <tr>\n",
       "      <th>3</th>\n",
       "      <td>Single</td>\n",
       "      <td>54</td>\n",
       "    </tr>\n",
       "    <tr>\n",
       "      <th>4</th>\n",
       "      <td>Triple</td>\n",
       "      <td>40</td>\n",
       "    </tr>\n",
       "  </tbody>\n",
       "</table>\n",
       "</div>"
      ],
      "text/plain": [
       "       DesignMasking  NCTId\n",
       "1  None (Open Label)    340\n",
       "2          Quadruple     80\n",
       "0             Double     55\n",
       "3             Single     54\n",
       "4             Triple     40"
      ]
     },
     "execution_count": 59,
     "metadata": {},
     "output_type": "execute_result"
    }
   ],
   "source": [
    "# In treatment-only interventional trials\n",
    "tt.groupby('DesignMasking', as_index=False).NCTId.count().sort_values([('NCTId')], ascending=False)"
   ]
  },
  {
   "cell_type": "code",
   "execution_count": 60,
   "metadata": {},
   "outputs": [
    {
     "data": {
      "text/html": [
       "<div>\n",
       "<style scoped>\n",
       "    .dataframe tbody tr th:only-of-type {\n",
       "        vertical-align: middle;\n",
       "    }\n",
       "\n",
       "    .dataframe tbody tr th {\n",
       "        vertical-align: top;\n",
       "    }\n",
       "\n",
       "    .dataframe thead th {\n",
       "        text-align: right;\n",
       "    }\n",
       "</style>\n",
       "<table border=\"1\" class=\"dataframe\">\n",
       "  <thead>\n",
       "    <tr style=\"text-align: right;\">\n",
       "      <th></th>\n",
       "      <th>DesignMasking</th>\n",
       "      <th>NCTId</th>\n",
       "    </tr>\n",
       "  </thead>\n",
       "  <tbody>\n",
       "    <tr>\n",
       "      <th>1</th>\n",
       "      <td>None (Open Label)</td>\n",
       "      <td>36</td>\n",
       "    </tr>\n",
       "    <tr>\n",
       "      <th>2</th>\n",
       "      <td>Quadruple</td>\n",
       "      <td>14</td>\n",
       "    </tr>\n",
       "    <tr>\n",
       "      <th>0</th>\n",
       "      <td>Double</td>\n",
       "      <td>8</td>\n",
       "    </tr>\n",
       "    <tr>\n",
       "      <th>3</th>\n",
       "      <td>Single</td>\n",
       "      <td>5</td>\n",
       "    </tr>\n",
       "    <tr>\n",
       "      <th>4</th>\n",
       "      <td>Triple</td>\n",
       "      <td>4</td>\n",
       "    </tr>\n",
       "  </tbody>\n",
       "</table>\n",
       "</div>"
      ],
      "text/plain": [
       "       DesignMasking  NCTId\n",
       "1  None (Open Label)     36\n",
       "2          Quadruple     14\n",
       "0             Double      8\n",
       "3             Single      5\n",
       "4             Triple      4"
      ]
     },
     "execution_count": 60,
     "metadata": {},
     "output_type": "execute_result"
    }
   ],
   "source": [
    "# Masking in Hydroxychloroquine (as mono or combo therapy) trials\n",
    "tt[tt.InterventionName.str.lower().str.contains('hydroxychloroquine')].groupby('DesignMasking', as_index=False).NCTId.count().sort_values([('NCTId')], ascending=False)"
   ]
  },
  {
   "cell_type": "markdown",
   "metadata": {},
   "source": [
    "<pre>Just a little over half of the trials (54%) are unblinded.\n",
    "\n",
    "Let's also look at the design allocation."
   ]
  },
  {
   "cell_type": "code",
   "execution_count": 61,
   "metadata": {},
   "outputs": [
    {
     "data": {
      "text/html": [
       "<div>\n",
       "<style scoped>\n",
       "    .dataframe tbody tr th:only-of-type {\n",
       "        vertical-align: middle;\n",
       "    }\n",
       "\n",
       "    .dataframe tbody tr th {\n",
       "        vertical-align: top;\n",
       "    }\n",
       "\n",
       "    .dataframe thead th {\n",
       "        text-align: right;\n",
       "    }\n",
       "</style>\n",
       "<table border=\"1\" class=\"dataframe\">\n",
       "  <thead>\n",
       "    <tr style=\"text-align: right;\">\n",
       "      <th></th>\n",
       "      <th>DesignAllocation</th>\n",
       "      <th>NCTId</th>\n",
       "    </tr>\n",
       "  </thead>\n",
       "  <tbody>\n",
       "    <tr>\n",
       "      <th>2</th>\n",
       "      <td>Randomized</td>\n",
       "      <td>450</td>\n",
       "    </tr>\n",
       "    <tr>\n",
       "      <th>0</th>\n",
       "      <td>N/A</td>\n",
       "      <td>77</td>\n",
       "    </tr>\n",
       "    <tr>\n",
       "      <th>1</th>\n",
       "      <td>Non-Randomized</td>\n",
       "      <td>42</td>\n",
       "    </tr>\n",
       "  </tbody>\n",
       "</table>\n",
       "</div>"
      ],
      "text/plain": [
       "  DesignAllocation  NCTId\n",
       "2       Randomized    450\n",
       "0              N/A     77\n",
       "1   Non-Randomized     42"
      ]
     },
     "execution_count": 61,
     "metadata": {},
     "output_type": "execute_result"
    }
   ],
   "source": [
    "tt.groupby('DesignAllocation', as_index=False).NCTId.count().sort_values([('NCTId')], ascending=False)"
   ]
  },
  {
   "cell_type": "markdown",
   "metadata": {},
   "source": [
    "<pre>Out of the 569 treatment-intervention trials, the majority (80%) are randomized."
   ]
  },
  {
   "cell_type": "markdown",
   "metadata": {},
   "source": [
    "<pre>Let's look at how the randomized trials were masked:"
   ]
  },
  {
   "cell_type": "code",
   "execution_count": 62,
   "metadata": {},
   "outputs": [
    {
     "data": {
      "text/html": [
       "<div>\n",
       "<style scoped>\n",
       "    .dataframe tbody tr th:only-of-type {\n",
       "        vertical-align: middle;\n",
       "    }\n",
       "\n",
       "    .dataframe tbody tr th {\n",
       "        vertical-align: top;\n",
       "    }\n",
       "\n",
       "    .dataframe thead th {\n",
       "        text-align: right;\n",
       "    }\n",
       "</style>\n",
       "<table border=\"1\" class=\"dataframe\">\n",
       "  <thead>\n",
       "    <tr style=\"text-align: right;\">\n",
       "      <th></th>\n",
       "      <th>DesignAllocation</th>\n",
       "      <th>DesignMasking</th>\n",
       "      <th>NCTId</th>\n",
       "    </tr>\n",
       "  </thead>\n",
       "  <tbody>\n",
       "    <tr>\n",
       "      <th>1</th>\n",
       "      <td>Randomized</td>\n",
       "      <td>None (Open Label)</td>\n",
       "      <td>222</td>\n",
       "    </tr>\n",
       "    <tr>\n",
       "      <th>2</th>\n",
       "      <td>Randomized</td>\n",
       "      <td>Quadruple</td>\n",
       "      <td>80</td>\n",
       "    </tr>\n",
       "    <tr>\n",
       "      <th>0</th>\n",
       "      <td>Randomized</td>\n",
       "      <td>Double</td>\n",
       "      <td>55</td>\n",
       "    </tr>\n",
       "    <tr>\n",
       "      <th>3</th>\n",
       "      <td>Randomized</td>\n",
       "      <td>Single</td>\n",
       "      <td>53</td>\n",
       "    </tr>\n",
       "    <tr>\n",
       "      <th>4</th>\n",
       "      <td>Randomized</td>\n",
       "      <td>Triple</td>\n",
       "      <td>40</td>\n",
       "    </tr>\n",
       "  </tbody>\n",
       "</table>\n",
       "</div>"
      ],
      "text/plain": [
       "  DesignAllocation      DesignMasking  NCTId\n",
       "1       Randomized  None (Open Label)    222\n",
       "2       Randomized          Quadruple     80\n",
       "0       Randomized             Double     55\n",
       "3       Randomized             Single     53\n",
       "4       Randomized             Triple     40"
      ]
     },
     "execution_count": 62,
     "metadata": {},
     "output_type": "execute_result"
    }
   ],
   "source": [
    "tt[tt.DesignAllocation=='Randomized'].groupby(['DesignAllocation','DesignMasking'], as_index=False).NCTId.count().sort_values([('NCTId')], ascending=False)"
   ]
  },
  {
   "cell_type": "markdown",
   "metadata": {},
   "source": [
    "<pre>^ Out of the 450 randomized treatment-purposed trials half (222) are blinded (has a single, double, triple \n",
    "or quadruple masking)."
   ]
  },
  {
   "cell_type": "code",
   "execution_count": 63,
   "metadata": {},
   "outputs": [
    {
     "data": {
      "text/html": [
       "<div>\n",
       "<style scoped>\n",
       "    .dataframe tbody tr th:only-of-type {\n",
       "        vertical-align: middle;\n",
       "    }\n",
       "\n",
       "    .dataframe tbody tr th {\n",
       "        vertical-align: top;\n",
       "    }\n",
       "\n",
       "    .dataframe thead th {\n",
       "        text-align: right;\n",
       "    }\n",
       "</style>\n",
       "<table border=\"1\" class=\"dataframe\">\n",
       "  <thead>\n",
       "    <tr style=\"text-align: right;\">\n",
       "      <th></th>\n",
       "      <th>DesignAllocation</th>\n",
       "      <th>DesignMasking</th>\n",
       "      <th>NCTId</th>\n",
       "    </tr>\n",
       "  </thead>\n",
       "  <tbody>\n",
       "    <tr>\n",
       "      <th>1</th>\n",
       "      <td>Randomized</td>\n",
       "      <td>None (Open Label)</td>\n",
       "      <td>17</td>\n",
       "    </tr>\n",
       "    <tr>\n",
       "      <th>2</th>\n",
       "      <td>Randomized</td>\n",
       "      <td>Quadruple</td>\n",
       "      <td>9</td>\n",
       "    </tr>\n",
       "    <tr>\n",
       "      <th>0</th>\n",
       "      <td>Randomized</td>\n",
       "      <td>Double</td>\n",
       "      <td>5</td>\n",
       "    </tr>\n",
       "    <tr>\n",
       "      <th>4</th>\n",
       "      <td>Randomized</td>\n",
       "      <td>Triple</td>\n",
       "      <td>3</td>\n",
       "    </tr>\n",
       "    <tr>\n",
       "      <th>3</th>\n",
       "      <td>Randomized</td>\n",
       "      <td>Single</td>\n",
       "      <td>2</td>\n",
       "    </tr>\n",
       "  </tbody>\n",
       "</table>\n",
       "</div>"
      ],
      "text/plain": [
       "  DesignAllocation      DesignMasking  NCTId\n",
       "1       Randomized  None (Open Label)     17\n",
       "2       Randomized          Quadruple      9\n",
       "0       Randomized             Double      5\n",
       "4       Randomized             Triple      3\n",
       "3       Randomized             Single      2"
      ]
     },
     "execution_count": 63,
     "metadata": {},
     "output_type": "execute_result"
    }
   ],
   "source": [
    "# Hydroxychloroquine monotherapy\n",
    "tt[(tt.InterventionName=='Hydroxychloroquine') & (tt.DesignAllocation=='Randomized')].groupby(['DesignAllocation','DesignMasking'], as_index=False).NCTId.count().sort_values([('NCTId')], ascending=False)"
   ]
  },
  {
   "cell_type": "code",
   "execution_count": 64,
   "metadata": {},
   "outputs": [
    {
     "data": {
      "text/html": [
       "<div>\n",
       "<style scoped>\n",
       "    .dataframe tbody tr th:only-of-type {\n",
       "        vertical-align: middle;\n",
       "    }\n",
       "\n",
       "    .dataframe tbody tr th {\n",
       "        vertical-align: top;\n",
       "    }\n",
       "\n",
       "    .dataframe thead th {\n",
       "        text-align: right;\n",
       "    }\n",
       "</style>\n",
       "<table border=\"1\" class=\"dataframe\">\n",
       "  <thead>\n",
       "    <tr style=\"text-align: right;\">\n",
       "      <th></th>\n",
       "      <th>DesignAllocation</th>\n",
       "      <th>DesignMasking</th>\n",
       "      <th>NCTId</th>\n",
       "    </tr>\n",
       "  </thead>\n",
       "  <tbody>\n",
       "    <tr>\n",
       "      <th>1</th>\n",
       "      <td>Randomized</td>\n",
       "      <td>None (Open Label)</td>\n",
       "      <td>27</td>\n",
       "    </tr>\n",
       "    <tr>\n",
       "      <th>2</th>\n",
       "      <td>Randomized</td>\n",
       "      <td>Quadruple</td>\n",
       "      <td>14</td>\n",
       "    </tr>\n",
       "    <tr>\n",
       "      <th>0</th>\n",
       "      <td>Randomized</td>\n",
       "      <td>Double</td>\n",
       "      <td>8</td>\n",
       "    </tr>\n",
       "    <tr>\n",
       "      <th>3</th>\n",
       "      <td>Randomized</td>\n",
       "      <td>Single</td>\n",
       "      <td>5</td>\n",
       "    </tr>\n",
       "    <tr>\n",
       "      <th>4</th>\n",
       "      <td>Randomized</td>\n",
       "      <td>Triple</td>\n",
       "      <td>4</td>\n",
       "    </tr>\n",
       "  </tbody>\n",
       "</table>\n",
       "</div>"
      ],
      "text/plain": [
       "  DesignAllocation      DesignMasking  NCTId\n",
       "1       Randomized  None (Open Label)     27\n",
       "2       Randomized          Quadruple     14\n",
       "0       Randomized             Double      8\n",
       "3       Randomized             Single      5\n",
       "4       Randomized             Triple      4"
      ]
     },
     "execution_count": 64,
     "metadata": {},
     "output_type": "execute_result"
    }
   ],
   "source": [
    "# Hydroxychloroquine mono or combo therapy\n",
    "tt[(tt.InterventionName.str.lower().str.contains('hydroxychloroquine')) & (tt.DesignAllocation=='Randomized')].groupby(['DesignAllocation','DesignMasking'], as_index=False).NCTId.count().sort_values([('NCTId')], ascending=False)"
   ]
  },
  {
   "cell_type": "markdown",
   "metadata": {},
   "source": [
    "<pre>^ Out of the 58 randomized trials recieving Hydroxychloroquine, a little over half (31) are blinded.\n",
    "\n",
    "If Hydroxychloroquine does end up being the savior it is likely from these 31 trials."
   ]
  },
  {
   "cell_type": "markdown",
   "metadata": {},
   "source": [
    "<pre>A week ago the FDA has also issue emergency approval for Remdesivir. Let's look it a similar distribution \n",
    "of the remdesivir trials."
   ]
  },
  {
   "cell_type": "code",
   "execution_count": 65,
   "metadata": {},
   "outputs": [
    {
     "data": {
      "text/html": [
       "<div>\n",
       "<style scoped>\n",
       "    .dataframe tbody tr th:only-of-type {\n",
       "        vertical-align: middle;\n",
       "    }\n",
       "\n",
       "    .dataframe tbody tr th {\n",
       "        vertical-align: top;\n",
       "    }\n",
       "\n",
       "    .dataframe thead th {\n",
       "        text-align: right;\n",
       "    }\n",
       "</style>\n",
       "<table border=\"1\" class=\"dataframe\">\n",
       "  <thead>\n",
       "    <tr style=\"text-align: right;\">\n",
       "      <th></th>\n",
       "      <th>DesignAllocation</th>\n",
       "      <th>DesignMasking</th>\n",
       "      <th>NCTId</th>\n",
       "    </tr>\n",
       "  </thead>\n",
       "  <tbody>\n",
       "    <tr>\n",
       "      <th>0</th>\n",
       "      <td>Randomized</td>\n",
       "      <td>None (Open Label)</td>\n",
       "      <td>3</td>\n",
       "    </tr>\n",
       "    <tr>\n",
       "      <th>1</th>\n",
       "      <td>Randomized</td>\n",
       "      <td>Quadruple</td>\n",
       "      <td>2</td>\n",
       "    </tr>\n",
       "  </tbody>\n",
       "</table>\n",
       "</div>"
      ],
      "text/plain": [
       "  DesignAllocation      DesignMasking  NCTId\n",
       "0       Randomized  None (Open Label)      3\n",
       "1       Randomized          Quadruple      2"
      ]
     },
     "execution_count": 65,
     "metadata": {},
     "output_type": "execute_result"
    }
   ],
   "source": [
    "# Remdesivir mono or combo therapy\n",
    "tt[(tt.InterventionName.str.lower().str.contains('remdesivir')) & (tt.DesignAllocation=='Randomized')].groupby(['DesignAllocation','DesignMasking'], as_index=False).NCTId.count().sort_values([('NCTId')], ascending=False)"
   ]
  },
  {
   "cell_type": "markdown",
   "metadata": {},
   "source": [
    "<pre>There are only 2 randomized and blinded trials for remdesivir."
   ]
  }
 ],
 "metadata": {
  "kernelspec": {
   "display_name": "Python 3",
   "language": "python",
   "name": "python3"
  },
  "language_info": {
   "codemirror_mode": {
    "name": "ipython",
    "version": 3
   },
   "file_extension": ".py",
   "mimetype": "text/x-python",
   "name": "python",
   "nbconvert_exporter": "python",
   "pygments_lexer": "ipython3",
   "version": "3.6.10"
  }
 },
 "nbformat": 4,
 "nbformat_minor": 4
}
