{
 "cells": [
  {
   "cell_type": "markdown",
   "metadata": {},
   "source": [
    "This notebook contains exploratory data analysis of covid-19 trials."
   ]
  },
  {
   "cell_type": "code",
   "execution_count": 1,
   "metadata": {},
   "outputs": [],
   "source": [
    "import requests\n",
    "import json\n",
    "import pandas as pd\n",
    "import datetime\n",
    "import numpy as np"
   ]
  },
  {
   "cell_type": "code",
   "execution_count": 2,
   "metadata": {},
   "outputs": [],
   "source": [
    "import seaborn as sns\n",
    "import matplotlib.pyplot as plt\n",
    "sns.set(style=\"whitegrid\")"
   ]
  },
  {
   "cell_type": "markdown",
   "metadata": {},
   "source": [
    "Since we can get only 1000 trials as the result of this api query and the total number of covid-19 trials exceed 100, we will have to break our query in 2 parts. The first part will cover first thousand results `&min_rnk=1&max_rnk=1000`, the second part would cover next thousand `&min_rnk=1001&max_rnk=2000` and so on."
   ]
  },
  {
   "cell_type": "code",
   "execution_count": 3,
   "metadata": {},
   "outputs": [],
   "source": [
    "CDC_BASE_URL = 'https://clinicaltrials.gov/api/query/study_fields?expr=COVID-19&min_rnk=1&max_rnk=1000&fmt=json'"
   ]
  },
  {
   "cell_type": "code",
   "execution_count": 4,
   "metadata": {},
   "outputs": [],
   "source": [
    "cdc_extract_fields = [\n",
    "    'NCTId',\n",
    "    'DesignAllocation',\n",
    "    'DesignMasking',\n",
    "    'DesignMaskingDescription',\n",
    "    'DesignPrimaryPurpose',\n",
    "    'EnrollmentCount',\n",
    "    'InterventionName',\n",
    "    'InterventionType',\n",
    "    'LastKnownStatus',\n",
    "    'LeadSponsorName',\n",
    "    'OutcomeAnalysisStatisticalMethod',\n",
    "    'OutcomeMeasureTimeFrame',\n",
    "    'LocationCountry',\n",
    "    'StudyFirstPostDate',\n",
    "    'StudyFirstPostDateType',\n",
    "    'StudyFirstSubmitDate',\n",
    "    'StudyFirstSubmitQCDate',\n",
    "    'OverallStatus',\n",
    "    'StudyType',\n",
    "    'WhyStopped'\n",
    "]"
   ]
  },
  {
   "cell_type": "code",
   "execution_count": 5,
   "metadata": {},
   "outputs": [
    {
     "name": "stdout",
     "output_type": "stream",
     "text": [
      "https://clinicaltrials.gov/api/query/study_fields?expr=COVID-19&min_rnk=1&max_rnk=1000&fmt=json&fields=NCTId,DesignAllocation,DesignMasking,DesignMaskingDescription,DesignPrimaryPurpose,EnrollmentCount,InterventionName,InterventionType,LastKnownStatus,LeadSponsorName,OutcomeAnalysisStatisticalMethod,OutcomeMeasureTimeFrame,LocationCountry,StudyFirstPostDate,StudyFirstPostDateType,StudyFirstSubmitDate,StudyFirstSubmitQCDate,OverallStatus,StudyType,WhyStopped\n"
     ]
    }
   ],
   "source": [
    "query_url = f'{CDC_BASE_URL}&fields={\",\".join(cdc_extract_fields)}'\n",
    "print(query_url)"
   ]
  },
  {
   "cell_type": "code",
   "execution_count": 6,
   "metadata": {},
   "outputs": [
    {
     "data": {
      "text/plain": [
       "200"
      ]
     },
     "execution_count": 6,
     "metadata": {},
     "output_type": "execute_result"
    }
   ],
   "source": [
    "r = requests.get(query_url)\n",
    "r.status_code"
   ]
  },
  {
   "cell_type": "code",
   "execution_count": 7,
   "metadata": {},
   "outputs": [
    {
     "data": {
      "text/plain": [
       "(1000, 21)"
      ]
     },
     "execution_count": 7,
     "metadata": {},
     "output_type": "execute_result"
    }
   ],
   "source": [
    "j = json.loads(r.content)\n",
    "df1 = pd.DataFrame(j['StudyFieldsResponse']['StudyFields'])\n",
    "df1.shape"
   ]
  },
  {
   "cell_type": "code",
   "execution_count": 8,
   "metadata": {},
   "outputs": [
    {
     "data": {
      "text/plain": [
       "(373, 21)"
      ]
     },
     "execution_count": 8,
     "metadata": {},
     "output_type": "execute_result"
    }
   ],
   "source": [
    "# Let's get the next 1000\n",
    "CDC_BASE_URL = 'https://clinicaltrials.gov/api/query/study_fields?expr=COVID-19&min_rnk=1001&max_rnk=2000&fmt=json'\n",
    "query_url = f'{CDC_BASE_URL}&fields={\",\".join(cdc_extract_fields)}'\n",
    "r = requests.get(query_url)\n",
    "r.status_code\n",
    "j = json.loads(r.content)\n",
    "df2 = pd.DataFrame(j['StudyFieldsResponse']['StudyFields'])\n",
    "df2.shape"
   ]
  },
  {
   "cell_type": "code",
   "execution_count": 9,
   "metadata": {},
   "outputs": [
    {
     "data": {
      "text/plain": [
       "(1373, 21)"
      ]
     },
     "execution_count": 9,
     "metadata": {},
     "output_type": "execute_result"
    }
   ],
   "source": [
    "df_base = pd.concat([df1, df2])\n",
    "df_base.shape"
   ]
  },
  {
   "cell_type": "markdown",
   "metadata": {},
   "source": [
    "There are total 1373 trials registered on clinicaltrials.gov for covid-19, as of may 8th 2020"
   ]
  },
  {
   "cell_type": "code",
   "execution_count": 10,
   "metadata": {},
   "outputs": [
    {
     "data": {
      "text/html": [
       "<div>\n",
       "<style scoped>\n",
       "    .dataframe tbody tr th:only-of-type {\n",
       "        vertical-align: middle;\n",
       "    }\n",
       "\n",
       "    .dataframe tbody tr th {\n",
       "        vertical-align: top;\n",
       "    }\n",
       "\n",
       "    .dataframe thead th {\n",
       "        text-align: right;\n",
       "    }\n",
       "</style>\n",
       "<table border=\"1\" class=\"dataframe\">\n",
       "  <thead>\n",
       "    <tr style=\"text-align: right;\">\n",
       "      <th></th>\n",
       "      <th>Rank</th>\n",
       "      <th>NCTId</th>\n",
       "      <th>DesignAllocation</th>\n",
       "      <th>DesignMasking</th>\n",
       "      <th>DesignMaskingDescription</th>\n",
       "      <th>DesignPrimaryPurpose</th>\n",
       "      <th>EnrollmentCount</th>\n",
       "      <th>InterventionName</th>\n",
       "      <th>InterventionType</th>\n",
       "      <th>LastKnownStatus</th>\n",
       "      <th>...</th>\n",
       "      <th>OutcomeAnalysisStatisticalMethod</th>\n",
       "      <th>OutcomeMeasureTimeFrame</th>\n",
       "      <th>LocationCountry</th>\n",
       "      <th>StudyFirstPostDate</th>\n",
       "      <th>StudyFirstPostDateType</th>\n",
       "      <th>StudyFirstSubmitDate</th>\n",
       "      <th>StudyFirstSubmitQCDate</th>\n",
       "      <th>OverallStatus</th>\n",
       "      <th>StudyType</th>\n",
       "      <th>WhyStopped</th>\n",
       "    </tr>\n",
       "  </thead>\n",
       "  <tbody>\n",
       "    <tr>\n",
       "      <th>0</th>\n",
       "      <td>1</td>\n",
       "      <td>[NCT04372004]</td>\n",
       "      <td>[Non-Randomized]</td>\n",
       "      <td>[None (Open Label)]</td>\n",
       "      <td>[]</td>\n",
       "      <td>[Diagnostic]</td>\n",
       "      <td>[100]</td>\n",
       "      <td>[diagnostic tests for COVID-19 infection]</td>\n",
       "      <td>[Diagnostic Test]</td>\n",
       "      <td>[]</td>\n",
       "      <td>...</td>\n",
       "      <td>[]</td>\n",
       "      <td>[]</td>\n",
       "      <td>[]</td>\n",
       "      <td>[May 1, 2020]</td>\n",
       "      <td>[Actual]</td>\n",
       "      <td>[April 29, 2020]</td>\n",
       "      <td>[April 29, 2020]</td>\n",
       "      <td>[Not yet recruiting]</td>\n",
       "      <td>[Interventional]</td>\n",
       "      <td>[]</td>\n",
       "    </tr>\n",
       "    <tr>\n",
       "      <th>1</th>\n",
       "      <td>2</td>\n",
       "      <td>[NCT04367805]</td>\n",
       "      <td>[]</td>\n",
       "      <td>[]</td>\n",
       "      <td>[]</td>\n",
       "      <td>[]</td>\n",
       "      <td>[50]</td>\n",
       "      <td>[nasopharyngeal Covid 19 RT-PCR]</td>\n",
       "      <td>[Diagnostic Test]</td>\n",
       "      <td>[]</td>\n",
       "      <td>...</td>\n",
       "      <td>[]</td>\n",
       "      <td>[]</td>\n",
       "      <td>[France]</td>\n",
       "      <td>[April 29, 2020]</td>\n",
       "      <td>[Actual]</td>\n",
       "      <td>[April 27, 2020]</td>\n",
       "      <td>[April 27, 2020]</td>\n",
       "      <td>[Recruiting]</td>\n",
       "      <td>[Observational]</td>\n",
       "      <td>[]</td>\n",
       "    </tr>\n",
       "    <tr>\n",
       "      <th>2</th>\n",
       "      <td>3</td>\n",
       "      <td>[NCT04342637]</td>\n",
       "      <td>[]</td>\n",
       "      <td>[]</td>\n",
       "      <td>[]</td>\n",
       "      <td>[]</td>\n",
       "      <td>[40]</td>\n",
       "      <td>[Practice details]</td>\n",
       "      <td>[Other]</td>\n",
       "      <td>[]</td>\n",
       "      <td>...</td>\n",
       "      <td>[]</td>\n",
       "      <td>[]</td>\n",
       "      <td>[United States, Egypt, Egypt, Iran, Islamic Re...</td>\n",
       "      <td>[April 13, 2020]</td>\n",
       "      <td>[Actual]</td>\n",
       "      <td>[April 7, 2020]</td>\n",
       "      <td>[April 8, 2020]</td>\n",
       "      <td>[Recruiting]</td>\n",
       "      <td>[Observational]</td>\n",
       "      <td>[]</td>\n",
       "    </tr>\n",
       "    <tr>\n",
       "      <th>3</th>\n",
       "      <td>4</td>\n",
       "      <td>[NCT04323787]</td>\n",
       "      <td>[]</td>\n",
       "      <td>[]</td>\n",
       "      <td>[]</td>\n",
       "      <td>[]</td>\n",
       "      <td>[50000]</td>\n",
       "      <td>[observational]</td>\n",
       "      <td>[Other]</td>\n",
       "      <td>[]</td>\n",
       "      <td>...</td>\n",
       "      <td>[]</td>\n",
       "      <td>[]</td>\n",
       "      <td>[United States, United States, United States, ...</td>\n",
       "      <td>[March 27, 2020]</td>\n",
       "      <td>[Actual]</td>\n",
       "      <td>[March 24, 2020]</td>\n",
       "      <td>[March 25, 2020]</td>\n",
       "      <td>[Recruiting]</td>\n",
       "      <td>[Observational]</td>\n",
       "      <td>[]</td>\n",
       "    </tr>\n",
       "    <tr>\n",
       "      <th>4</th>\n",
       "      <td>5</td>\n",
       "      <td>[NCT04339322]</td>\n",
       "      <td>[]</td>\n",
       "      <td>[]</td>\n",
       "      <td>[]</td>\n",
       "      <td>[]</td>\n",
       "      <td>[200]</td>\n",
       "      <td>[Follow up]</td>\n",
       "      <td>[Other]</td>\n",
       "      <td>[]</td>\n",
       "      <td>...</td>\n",
       "      <td>[]</td>\n",
       "      <td>[]</td>\n",
       "      <td>[]</td>\n",
       "      <td>[April 9, 2020]</td>\n",
       "      <td>[Actual]</td>\n",
       "      <td>[April 7, 2020]</td>\n",
       "      <td>[April 7, 2020]</td>\n",
       "      <td>[Not yet recruiting]</td>\n",
       "      <td>[Observational]</td>\n",
       "      <td>[]</td>\n",
       "    </tr>\n",
       "  </tbody>\n",
       "</table>\n",
       "<p>5 rows × 21 columns</p>\n",
       "</div>"
      ],
      "text/plain": [
       "   Rank          NCTId  DesignAllocation        DesignMasking  \\\n",
       "0     1  [NCT04372004]  [Non-Randomized]  [None (Open Label)]   \n",
       "1     2  [NCT04367805]                []                   []   \n",
       "2     3  [NCT04342637]                []                   []   \n",
       "3     4  [NCT04323787]                []                   []   \n",
       "4     5  [NCT04339322]                []                   []   \n",
       "\n",
       "  DesignMaskingDescription DesignPrimaryPurpose EnrollmentCount  \\\n",
       "0                       []         [Diagnostic]           [100]   \n",
       "1                       []                   []            [50]   \n",
       "2                       []                   []            [40]   \n",
       "3                       []                   []         [50000]   \n",
       "4                       []                   []           [200]   \n",
       "\n",
       "                            InterventionName   InterventionType  \\\n",
       "0  [diagnostic tests for COVID-19 infection]  [Diagnostic Test]   \n",
       "1           [nasopharyngeal Covid 19 RT-PCR]  [Diagnostic Test]   \n",
       "2                         [Practice details]            [Other]   \n",
       "3                            [observational]            [Other]   \n",
       "4                                [Follow up]            [Other]   \n",
       "\n",
       "  LastKnownStatus  ... OutcomeAnalysisStatisticalMethod  \\\n",
       "0              []  ...                               []   \n",
       "1              []  ...                               []   \n",
       "2              []  ...                               []   \n",
       "3              []  ...                               []   \n",
       "4              []  ...                               []   \n",
       "\n",
       "  OutcomeMeasureTimeFrame                                    LocationCountry  \\\n",
       "0                      []                                                 []   \n",
       "1                      []                                           [France]   \n",
       "2                      []  [United States, Egypt, Egypt, Iran, Islamic Re...   \n",
       "3                      []  [United States, United States, United States, ...   \n",
       "4                      []                                                 []   \n",
       "\n",
       "  StudyFirstPostDate StudyFirstPostDateType StudyFirstSubmitDate  \\\n",
       "0      [May 1, 2020]               [Actual]     [April 29, 2020]   \n",
       "1   [April 29, 2020]               [Actual]     [April 27, 2020]   \n",
       "2   [April 13, 2020]               [Actual]      [April 7, 2020]   \n",
       "3   [March 27, 2020]               [Actual]     [March 24, 2020]   \n",
       "4    [April 9, 2020]               [Actual]      [April 7, 2020]   \n",
       "\n",
       "  StudyFirstSubmitQCDate         OverallStatus         StudyType WhyStopped  \n",
       "0       [April 29, 2020]  [Not yet recruiting]  [Interventional]         []  \n",
       "1       [April 27, 2020]          [Recruiting]   [Observational]         []  \n",
       "2        [April 8, 2020]          [Recruiting]   [Observational]         []  \n",
       "3       [March 25, 2020]          [Recruiting]   [Observational]         []  \n",
       "4        [April 7, 2020]  [Not yet recruiting]   [Observational]         []  \n",
       "\n",
       "[5 rows x 21 columns]"
      ]
     },
     "execution_count": 10,
     "metadata": {},
     "output_type": "execute_result"
    }
   ],
   "source": [
    "df = df_base\n",
    "df.head()"
   ]
  },
  {
   "cell_type": "code",
   "execution_count": 11,
   "metadata": {},
   "outputs": [
    {
     "data": {
      "text/plain": [
       "0    NCT04372004\n",
       "1    NCT04367805\n",
       "2    NCT04342637\n",
       "3    NCT04323787\n",
       "4    NCT04339322\n",
       "Name: NCTId, dtype: object"
      ]
     },
     "execution_count": 11,
     "metadata": {},
     "output_type": "execute_result"
    }
   ],
   "source": [
    "tt = df['NCTId'].str[0]\n",
    "tt.head()"
   ]
  },
  {
   "cell_type": "code",
   "execution_count": 12,
   "metadata": {},
   "outputs": [
    {
     "name": "stdout",
     "output_type": "stream",
     "text": [
      "NCTId\n",
      "DesignAllocation\n",
      "DesignMasking\n",
      "DesignMaskingDescription\n",
      "DesignPrimaryPurpose\n",
      "EnrollmentCount\n",
      "InterventionName\n",
      "InterventionType\n",
      "LastKnownStatus\n",
      "LeadSponsorName\n",
      "OutcomeAnalysisStatisticalMethod\n",
      "OutcomeMeasureTimeFrame\n",
      "LocationCountry\n",
      "StudyFirstPostDate\n",
      "StudyFirstPostDateType\n",
      "StudyFirstSubmitDate\n",
      "StudyFirstSubmitQCDate\n",
      "OverallStatus\n",
      "StudyType\n",
      "WhyStopped\n"
     ]
    }
   ],
   "source": [
    "for col in df.columns[1:]:\n",
    "    print(col)\n",
    "    df[col] = df[col].str[0]"
   ]
  },
  {
   "cell_type": "code",
   "execution_count": 13,
   "metadata": {},
   "outputs": [
    {
     "data": {
      "text/html": [
       "<div>\n",
       "<style scoped>\n",
       "    .dataframe tbody tr th:only-of-type {\n",
       "        vertical-align: middle;\n",
       "    }\n",
       "\n",
       "    .dataframe tbody tr th {\n",
       "        vertical-align: top;\n",
       "    }\n",
       "\n",
       "    .dataframe thead th {\n",
       "        text-align: right;\n",
       "    }\n",
       "</style>\n",
       "<table border=\"1\" class=\"dataframe\">\n",
       "  <thead>\n",
       "    <tr style=\"text-align: right;\">\n",
       "      <th></th>\n",
       "      <th>Rank</th>\n",
       "      <th>NCTId</th>\n",
       "      <th>DesignAllocation</th>\n",
       "      <th>DesignMasking</th>\n",
       "      <th>DesignMaskingDescription</th>\n",
       "      <th>DesignPrimaryPurpose</th>\n",
       "      <th>EnrollmentCount</th>\n",
       "      <th>InterventionName</th>\n",
       "      <th>InterventionType</th>\n",
       "      <th>LastKnownStatus</th>\n",
       "      <th>...</th>\n",
       "      <th>OutcomeAnalysisStatisticalMethod</th>\n",
       "      <th>OutcomeMeasureTimeFrame</th>\n",
       "      <th>LocationCountry</th>\n",
       "      <th>StudyFirstPostDate</th>\n",
       "      <th>StudyFirstPostDateType</th>\n",
       "      <th>StudyFirstSubmitDate</th>\n",
       "      <th>StudyFirstSubmitQCDate</th>\n",
       "      <th>OverallStatus</th>\n",
       "      <th>StudyType</th>\n",
       "      <th>WhyStopped</th>\n",
       "    </tr>\n",
       "  </thead>\n",
       "  <tbody>\n",
       "    <tr>\n",
       "      <th>0</th>\n",
       "      <td>1</td>\n",
       "      <td>NCT04372004</td>\n",
       "      <td>Non-Randomized</td>\n",
       "      <td>None (Open Label)</td>\n",
       "      <td>NaN</td>\n",
       "      <td>Diagnostic</td>\n",
       "      <td>100</td>\n",
       "      <td>diagnostic tests for COVID-19 infection</td>\n",
       "      <td>Diagnostic Test</td>\n",
       "      <td>NaN</td>\n",
       "      <td>...</td>\n",
       "      <td>NaN</td>\n",
       "      <td>NaN</td>\n",
       "      <td>NaN</td>\n",
       "      <td>May 1, 2020</td>\n",
       "      <td>Actual</td>\n",
       "      <td>April 29, 2020</td>\n",
       "      <td>April 29, 2020</td>\n",
       "      <td>Not yet recruiting</td>\n",
       "      <td>Interventional</td>\n",
       "      <td>NaN</td>\n",
       "    </tr>\n",
       "    <tr>\n",
       "      <th>1</th>\n",
       "      <td>2</td>\n",
       "      <td>NCT04367805</td>\n",
       "      <td>NaN</td>\n",
       "      <td>NaN</td>\n",
       "      <td>NaN</td>\n",
       "      <td>NaN</td>\n",
       "      <td>50</td>\n",
       "      <td>nasopharyngeal Covid 19 RT-PCR</td>\n",
       "      <td>Diagnostic Test</td>\n",
       "      <td>NaN</td>\n",
       "      <td>...</td>\n",
       "      <td>NaN</td>\n",
       "      <td>NaN</td>\n",
       "      <td>France</td>\n",
       "      <td>April 29, 2020</td>\n",
       "      <td>Actual</td>\n",
       "      <td>April 27, 2020</td>\n",
       "      <td>April 27, 2020</td>\n",
       "      <td>Recruiting</td>\n",
       "      <td>Observational</td>\n",
       "      <td>NaN</td>\n",
       "    </tr>\n",
       "    <tr>\n",
       "      <th>2</th>\n",
       "      <td>3</td>\n",
       "      <td>NCT04342637</td>\n",
       "      <td>NaN</td>\n",
       "      <td>NaN</td>\n",
       "      <td>NaN</td>\n",
       "      <td>NaN</td>\n",
       "      <td>40</td>\n",
       "      <td>Practice details</td>\n",
       "      <td>Other</td>\n",
       "      <td>NaN</td>\n",
       "      <td>...</td>\n",
       "      <td>NaN</td>\n",
       "      <td>NaN</td>\n",
       "      <td>United States</td>\n",
       "      <td>April 13, 2020</td>\n",
       "      <td>Actual</td>\n",
       "      <td>April 7, 2020</td>\n",
       "      <td>April 8, 2020</td>\n",
       "      <td>Recruiting</td>\n",
       "      <td>Observational</td>\n",
       "      <td>NaN</td>\n",
       "    </tr>\n",
       "    <tr>\n",
       "      <th>3</th>\n",
       "      <td>4</td>\n",
       "      <td>NCT04323787</td>\n",
       "      <td>NaN</td>\n",
       "      <td>NaN</td>\n",
       "      <td>NaN</td>\n",
       "      <td>NaN</td>\n",
       "      <td>50000</td>\n",
       "      <td>observational</td>\n",
       "      <td>Other</td>\n",
       "      <td>NaN</td>\n",
       "      <td>...</td>\n",
       "      <td>NaN</td>\n",
       "      <td>NaN</td>\n",
       "      <td>United States</td>\n",
       "      <td>March 27, 2020</td>\n",
       "      <td>Actual</td>\n",
       "      <td>March 24, 2020</td>\n",
       "      <td>March 25, 2020</td>\n",
       "      <td>Recruiting</td>\n",
       "      <td>Observational</td>\n",
       "      <td>NaN</td>\n",
       "    </tr>\n",
       "    <tr>\n",
       "      <th>4</th>\n",
       "      <td>5</td>\n",
       "      <td>NCT04339322</td>\n",
       "      <td>NaN</td>\n",
       "      <td>NaN</td>\n",
       "      <td>NaN</td>\n",
       "      <td>NaN</td>\n",
       "      <td>200</td>\n",
       "      <td>Follow up</td>\n",
       "      <td>Other</td>\n",
       "      <td>NaN</td>\n",
       "      <td>...</td>\n",
       "      <td>NaN</td>\n",
       "      <td>NaN</td>\n",
       "      <td>NaN</td>\n",
       "      <td>April 9, 2020</td>\n",
       "      <td>Actual</td>\n",
       "      <td>April 7, 2020</td>\n",
       "      <td>April 7, 2020</td>\n",
       "      <td>Not yet recruiting</td>\n",
       "      <td>Observational</td>\n",
       "      <td>NaN</td>\n",
       "    </tr>\n",
       "  </tbody>\n",
       "</table>\n",
       "<p>5 rows × 21 columns</p>\n",
       "</div>"
      ],
      "text/plain": [
       "   Rank        NCTId DesignAllocation      DesignMasking  \\\n",
       "0     1  NCT04372004   Non-Randomized  None (Open Label)   \n",
       "1     2  NCT04367805              NaN                NaN   \n",
       "2     3  NCT04342637              NaN                NaN   \n",
       "3     4  NCT04323787              NaN                NaN   \n",
       "4     5  NCT04339322              NaN                NaN   \n",
       "\n",
       "  DesignMaskingDescription DesignPrimaryPurpose EnrollmentCount  \\\n",
       "0                      NaN           Diagnostic             100   \n",
       "1                      NaN                  NaN              50   \n",
       "2                      NaN                  NaN              40   \n",
       "3                      NaN                  NaN           50000   \n",
       "4                      NaN                  NaN             200   \n",
       "\n",
       "                          InterventionName InterventionType  LastKnownStatus  \\\n",
       "0  diagnostic tests for COVID-19 infection  Diagnostic Test              NaN   \n",
       "1           nasopharyngeal Covid 19 RT-PCR  Diagnostic Test              NaN   \n",
       "2                         Practice details            Other              NaN   \n",
       "3                            observational            Other              NaN   \n",
       "4                                Follow up            Other              NaN   \n",
       "\n",
       "   ... OutcomeAnalysisStatisticalMethod  OutcomeMeasureTimeFrame  \\\n",
       "0  ...                              NaN                      NaN   \n",
       "1  ...                              NaN                      NaN   \n",
       "2  ...                              NaN                      NaN   \n",
       "3  ...                              NaN                      NaN   \n",
       "4  ...                              NaN                      NaN   \n",
       "\n",
       "   LocationCountry StudyFirstPostDate StudyFirstPostDateType  \\\n",
       "0              NaN        May 1, 2020                 Actual   \n",
       "1           France     April 29, 2020                 Actual   \n",
       "2    United States     April 13, 2020                 Actual   \n",
       "3    United States     March 27, 2020                 Actual   \n",
       "4              NaN      April 9, 2020                 Actual   \n",
       "\n",
       "  StudyFirstSubmitDate StudyFirstSubmitQCDate       OverallStatus  \\\n",
       "0       April 29, 2020         April 29, 2020  Not yet recruiting   \n",
       "1       April 27, 2020         April 27, 2020          Recruiting   \n",
       "2        April 7, 2020          April 8, 2020          Recruiting   \n",
       "3       March 24, 2020         March 25, 2020          Recruiting   \n",
       "4        April 7, 2020          April 7, 2020  Not yet recruiting   \n",
       "\n",
       "        StudyType WhyStopped  \n",
       "0  Interventional        NaN  \n",
       "1   Observational        NaN  \n",
       "2   Observational        NaN  \n",
       "3   Observational        NaN  \n",
       "4   Observational        NaN  \n",
       "\n",
       "[5 rows x 21 columns]"
      ]
     },
     "execution_count": 13,
     "metadata": {},
     "output_type": "execute_result"
    }
   ],
   "source": [
    "df.head()"
   ]
  },
  {
   "cell_type": "code",
   "execution_count": 14,
   "metadata": {},
   "outputs": [
    {
     "data": {
      "text/plain": [
       "array(['Interventional', 'Observational', 'Expanded Access'], dtype=object)"
      ]
     },
     "execution_count": 14,
     "metadata": {},
     "output_type": "execute_result"
    }
   ],
   "source": [
    "df.StudyType.unique()"
   ]
  },
  {
   "cell_type": "markdown",
   "metadata": {},
   "source": [
    "### Distribution of Trial Registrations of CT.gov"
   ]
  },
  {
   "cell_type": "code",
   "execution_count": 15,
   "metadata": {},
   "outputs": [
    {
     "data": {
      "text/plain": [
       "(Timestamp('2020-05-08 00:00:00'), Timestamp('2011-03-01 00:00:00'))"
      ]
     },
     "execution_count": 15,
     "metadata": {},
     "output_type": "execute_result"
    }
   ],
   "source": [
    "df[\"StudyFirstPostDate\"] = df[\"StudyFirstPostDate\"].astype(\"datetime64\")\n",
    "df.StudyFirstPostDate.max(), df.StudyFirstPostDate.min()"
   ]
  },
  {
   "cell_type": "markdown",
   "metadata": {},
   "source": [
    "According to WHO the first case of covid-19 was found in December 2019. So let's use that as a cutoff date"
   ]
  },
  {
   "cell_type": "code",
   "execution_count": 16,
   "metadata": {},
   "outputs": [
    {
     "name": "stderr",
     "output_type": "stream",
     "text": [
      "/home/ubuntu/.local/lib/python3.6/site-packages/ipykernel_launcher.py:1: FutureWarning: Comparing Series of datetimes with 'datetime.date'.  Currently, the\n",
      "'datetime.date' is coerced to a datetime. In the future pandas will\n",
      "not coerce, and a TypeError will be raised. To retain the current\n",
      "behavior, convert the 'datetime.date' to a datetime with\n",
      "'pd.Timestamp'.\n",
      "  \"\"\"Entry point for launching an IPython kernel.\n"
     ]
    },
    {
     "data": {
      "text/plain": [
       "(1338, 21)"
      ]
     },
     "execution_count": 16,
     "metadata": {},
     "output_type": "execute_result"
    }
   ],
   "source": [
    "df = df[df.StudyFirstPostDate>datetime.date(2020,1,1)]\n",
    "df.shape"
   ]
  },
  {
   "cell_type": "code",
   "execution_count": 17,
   "metadata": {},
   "outputs": [
    {
     "data": {
      "text/plain": [
       "(Timestamp('2020-05-08 00:00:00'), Timestamp('2020-01-27 00:00:00'))"
      ]
     },
     "execution_count": 17,
     "metadata": {},
     "output_type": "execute_result"
    }
   ],
   "source": [
    "df.StudyFirstPostDate.max(), df.StudyFirstPostDate.min()"
   ]
  },
  {
   "cell_type": "markdown",
   "metadata": {},
   "source": [
    "^ Now the dates look good"
   ]
  },
  {
   "cell_type": "code",
   "execution_count": 18,
   "metadata": {},
   "outputs": [
    {
     "data": {
      "text/plain": [
       "StudyFirstPostDate\n",
       "1      3\n",
       "2     61\n",
       "3    179\n",
       "4    857\n",
       "5    238\n",
       "Name: NCTId, dtype: int64"
      ]
     },
     "execution_count": 18,
     "metadata": {},
     "output_type": "execute_result"
    }
   ],
   "source": [
    "df.groupby([df[\"StudyFirstPostDate\"].dt.month]).NCTId.count()"
   ]
  },
  {
   "cell_type": "code",
   "execution_count": 19,
   "metadata": {},
   "outputs": [
    {
     "data": {
      "text/plain": [
       "<matplotlib.axes._subplots.AxesSubplot at 0x7f7fba96c320>"
      ]
     },
     "execution_count": 19,
     "metadata": {},
     "output_type": "execute_result"
    },
    {
     "data": {
      "image/png": "[encoded data removed]",
      "text/plain": [
       "<Figure size 432x288 with 1 Axes>"
      ]
     },
     "metadata": {},
     "output_type": "display_data"
    }
   ],
   "source": [
    "# Let's plot the resukts on log scale since it varies from 3 to 857\n",
    "df.groupby([df[\"StudyFirstPostDate\"].dt.month]).NCTId.count().plot(kind=\"bar\", log=True)"
   ]
  },
  {
   "cell_type": "markdown",
   "metadata": {},
   "source": [
    "### Covid-19 clinicaltrials since Jan 1st, 2020,<br>\n",
    "Jan 2020 - 3<br>\n",
    "Feb 2020 - 61<br>\n",
    "Mar 2020 - 179<br>\n",
    "Apr 2020 - 857<br>\n",
    "May 2020 - 238 (till 8th May only)"
   ]
  },
  {
   "cell_type": "markdown",
   "metadata": {},
   "source": [
    "### Let's look at the types of intervention"
   ]
  },
  {
   "cell_type": "code",
   "execution_count": 20,
   "metadata": {},
   "outputs": [
    {
     "data": {
      "text/plain": [
       "(1338, 21)"
      ]
     },
     "execution_count": 20,
     "metadata": {},
     "output_type": "execute_result"
    }
   ],
   "source": [
    "df.shape"
   ]
  },
  {
   "cell_type": "code",
   "execution_count": 21,
   "metadata": {},
   "outputs": [
    {
     "data": {
      "text/plain": [
       "(787, 21)"
      ]
     },
     "execution_count": 21,
     "metadata": {},
     "output_type": "execute_result"
    }
   ],
   "source": [
    "# Select Interentional trials \n",
    "df = df[df.StudyType=='Interventional']\n",
    "df.shape"
   ]
  },
  {
   "cell_type": "markdown",
   "metadata": {},
   "source": [
    "#### ^ Roughly 60% of trials are interventional"
   ]
  },
  {
   "cell_type": "code",
   "execution_count": 22,
   "metadata": {},
   "outputs": [
    {
     "data": {
      "text/html": [
       "<div>\n",
       "<style scoped>\n",
       "    .dataframe tbody tr th:only-of-type {\n",
       "        vertical-align: middle;\n",
       "    }\n",
       "\n",
       "    .dataframe tbody tr th {\n",
       "        vertical-align: top;\n",
       "    }\n",
       "\n",
       "    .dataframe thead th {\n",
       "        text-align: right;\n",
       "    }\n",
       "</style>\n",
       "<table border=\"1\" class=\"dataframe\">\n",
       "  <thead>\n",
       "    <tr style=\"text-align: right;\">\n",
       "      <th></th>\n",
       "      <th>Trial_Count</th>\n",
       "      <th>Intervention_Type</th>\n",
       "    </tr>\n",
       "  </thead>\n",
       "  <tbody>\n",
       "    <tr>\n",
       "      <th>6</th>\n",
       "      <td>465</td>\n",
       "      <td>Drug</td>\n",
       "    </tr>\n",
       "    <tr>\n",
       "      <th>1</th>\n",
       "      <td>99</td>\n",
       "      <td>Biological</td>\n",
       "    </tr>\n",
       "    <tr>\n",
       "      <th>8</th>\n",
       "      <td>76</td>\n",
       "      <td>Other</td>\n",
       "    </tr>\n",
       "    <tr>\n",
       "      <th>3</th>\n",
       "      <td>48</td>\n",
       "      <td>Device</td>\n",
       "    </tr>\n",
       "    <tr>\n",
       "      <th>0</th>\n",
       "      <td>38</td>\n",
       "      <td>Behavioral</td>\n",
       "    </tr>\n",
       "    <tr>\n",
       "      <th>4</th>\n",
       "      <td>20</td>\n",
       "      <td>Diagnostic Test</td>\n",
       "    </tr>\n",
       "    <tr>\n",
       "      <th>9</th>\n",
       "      <td>18</td>\n",
       "      <td>Procedure</td>\n",
       "    </tr>\n",
       "    <tr>\n",
       "      <th>5</th>\n",
       "      <td>11</td>\n",
       "      <td>Dietary Supplement</td>\n",
       "    </tr>\n",
       "    <tr>\n",
       "      <th>2</th>\n",
       "      <td>7</td>\n",
       "      <td>Combination Product</td>\n",
       "    </tr>\n",
       "    <tr>\n",
       "      <th>10</th>\n",
       "      <td>3</td>\n",
       "      <td>Radiation</td>\n",
       "    </tr>\n",
       "    <tr>\n",
       "      <th>7</th>\n",
       "      <td>2</td>\n",
       "      <td>Genetic</td>\n",
       "    </tr>\n",
       "  </tbody>\n",
       "</table>\n",
       "</div>"
      ],
      "text/plain": [
       "    Trial_Count    Intervention_Type\n",
       "6           465                 Drug\n",
       "1            99           Biological\n",
       "8            76                Other\n",
       "3            48               Device\n",
       "0            38           Behavioral\n",
       "4            20      Diagnostic Test\n",
       "9            18            Procedure\n",
       "5            11   Dietary Supplement\n",
       "2             7  Combination Product\n",
       "10            3            Radiation\n",
       "7             2              Genetic"
      ]
     },
     "execution_count": 22,
     "metadata": {},
     "output_type": "execute_result"
    }
   ],
   "source": [
    "# Let's see what kind of interventions they are recieving\n",
    "tt = pd.DataFrame(df.groupby(\"InterventionType\").InterventionType.count())\n",
    "tt = tt.rename(index=str, columns={\"InterventionType\": \"Trial_Count\"})\n",
    "tt['Intervention_Type'] = tt.index\n",
    "tt = tt.reset_index(drop=True)\n",
    "tt=tt.sort_values(by=['Trial_Count'], ascending=False)\n",
    "tt"
   ]
  },
  {
   "cell_type": "markdown",
   "metadata": {},
   "source": [
    "#### ^ As expected majority of the trials (564 out of 787, or 71.66 %) are recieving Drug or Biological interventions.\n",
    "\n",
    "#### However, surprisingly only 20 trials (~ 2.5%) are associated with diagnostic tests."
   ]
  },
  {
   "cell_type": "code",
   "execution_count": 23,
   "metadata": {},
   "outputs": [
    {
     "data": {
      "image/png": "[encoded data removed]",
      "text/plain": [
       "<Figure size 1008x576 with 1 Axes>"
      ]
     },
     "metadata": {},
     "output_type": "display_data"
    }
   ],
   "source": [
    "plt.figure(figsize=(14,8))\n",
    "graph = sns.barplot(y=\"Intervention_Type\", x=\"Trial_Count\", data=tt, palette=\"Blues_d\")\n",
    "for p in graph.patches:\n",
    "        graph.annotate('{:.0f}'.format(p.get_width()), (p.get_width()+6, p.get_y()+0.6),\n",
    "                    ha='center', va='bottom',\n",
    "                    color= 'black')"
   ]
  },
  {
   "cell_type": "code",
   "execution_count": 24,
   "metadata": {},
   "outputs": [
    {
     "data": {
      "text/html": [
       "<div>\n",
       "<style scoped>\n",
       "    .dataframe tbody tr th:only-of-type {\n",
       "        vertical-align: middle;\n",
       "    }\n",
       "\n",
       "    .dataframe tbody tr th {\n",
       "        vertical-align: top;\n",
       "    }\n",
       "\n",
       "    .dataframe thead th {\n",
       "        text-align: right;\n",
       "    }\n",
       "</style>\n",
       "<table border=\"1\" class=\"dataframe\">\n",
       "  <thead>\n",
       "    <tr style=\"text-align: right;\">\n",
       "      <th></th>\n",
       "      <th>Trial_Count</th>\n",
       "      <th>Primary_Purpose</th>\n",
       "    </tr>\n",
       "  </thead>\n",
       "  <tbody>\n",
       "    <tr>\n",
       "      <th>0</th>\n",
       "      <td>569</td>\n",
       "      <td>Treatment</td>\n",
       "    </tr>\n",
       "    <tr>\n",
       "      <th>1</th>\n",
       "      <td>106</td>\n",
       "      <td>Prevention</td>\n",
       "    </tr>\n",
       "    <tr>\n",
       "      <th>2</th>\n",
       "      <td>32</td>\n",
       "      <td>Supportive Care</td>\n",
       "    </tr>\n",
       "    <tr>\n",
       "      <th>3</th>\n",
       "      <td>28</td>\n",
       "      <td>Diagnostic</td>\n",
       "    </tr>\n",
       "    <tr>\n",
       "      <th>4</th>\n",
       "      <td>27</td>\n",
       "      <td>Other</td>\n",
       "    </tr>\n",
       "    <tr>\n",
       "      <th>5</th>\n",
       "      <td>11</td>\n",
       "      <td>Health Services Research</td>\n",
       "    </tr>\n",
       "    <tr>\n",
       "      <th>6</th>\n",
       "      <td>6</td>\n",
       "      <td>Basic Science</td>\n",
       "    </tr>\n",
       "    <tr>\n",
       "      <th>7</th>\n",
       "      <td>6</td>\n",
       "      <td>Screening</td>\n",
       "    </tr>\n",
       "    <tr>\n",
       "      <th>8</th>\n",
       "      <td>2</td>\n",
       "      <td>Device Feasibility</td>\n",
       "    </tr>\n",
       "  </tbody>\n",
       "</table>\n",
       "</div>"
      ],
      "text/plain": [
       "   Trial_Count           Primary_Purpose\n",
       "0          569                 Treatment\n",
       "1          106                Prevention\n",
       "2           32           Supportive Care\n",
       "3           28                Diagnostic\n",
       "4           27                     Other\n",
       "5           11  Health Services Research\n",
       "6            6             Basic Science\n",
       "7            6                 Screening\n",
       "8            2        Device Feasibility"
      ]
     },
     "execution_count": 24,
     "metadata": {},
     "output_type": "execute_result"
    }
   ],
   "source": [
    "tt = pd.DataFrame(df.groupby(\"DesignPrimaryPurpose\").DesignPrimaryPurpose.count())\n",
    "tt = tt.rename(index=str, columns={\"DesignPrimaryPurpose\": \"Trial_Count\"})\n",
    "tt['Primary_Purpose'] = tt.index\n",
    "tt=tt.sort_values(by=['Trial_Count'], ascending=False)\n",
    "tt = tt.reset_index(drop=True)\n",
    "tt"
   ]
  },
  {
   "cell_type": "code",
   "execution_count": 25,
   "metadata": {},
   "outputs": [
    {
     "data": {
      "image/png": "[encoded data removed]",
      "text/plain": [
       "<Figure size 1008x432 with 1 Axes>"
      ]
     },
     "metadata": {},
     "output_type": "display_data"
    }
   ],
   "source": [
    "plt.figure(figsize=(14,6))\n",
    "graph = sns.barplot(y=\"Primary_Purpose\", x=\"Trial_Count\", data=tt, palette=\"Blues_d\")\n",
    "for p in graph.patches:\n",
    "        graph.annotate('{:.0f}'.format(p.get_width()), (p.get_width()+6, p.get_y()+0.6),\n",
    "                    ha='center', va='bottom',\n",
    "                    color= 'black')"
   ]
  },
  {
   "cell_type": "code",
   "execution_count": 26,
   "metadata": {},
   "outputs": [
    {
     "data": {
      "image/png": "[encoded data removed]",
      "text/plain": [
       "<Figure size 1008x432 with 1 Axes>"
      ]
     },
     "metadata": {},
     "output_type": "display_data"
    }
   ],
   "source": [
    "# Adding log scale to make the viz better\n",
    "plt.figure(figsize=(14,6))\n",
    "graph = sns.barplot(y=\"Primary_Purpose\", x=\"Trial_Count\", data=tt, palette=\"Blues_d\", log=True)\n",
    "for p in graph.patches:\n",
    "        graph.annotate('{:.0f}'.format(p.get_width()), (p.get_width()+(p.get_width()/10), p.get_y()+0.6),\n",
    "                    ha='center', va='bottom',\n",
    "                    color= 'black')"
   ]
  },
  {
   "cell_type": "markdown",
   "metadata": {},
   "source": [
    "**What type of interventions are used in treatment of covid-19?**"
   ]
  },
  {
   "cell_type": "code",
   "execution_count": 27,
   "metadata": {},
   "outputs": [
    {
     "data": {
      "text/plain": [
       "(569, 21)"
      ]
     },
     "execution_count": 27,
     "metadata": {},
     "output_type": "execute_result"
    }
   ],
   "source": [
    "tt = df.loc[df.DesignPrimaryPurpose=='Treatment',]\n",
    "tt.shape"
   ]
  },
  {
   "cell_type": "code",
   "execution_count": 28,
   "metadata": {},
   "outputs": [
    {
     "data": {
      "text/html": [
       "<div>\n",
       "<style scoped>\n",
       "    .dataframe tbody tr th:only-of-type {\n",
       "        vertical-align: middle;\n",
       "    }\n",
       "\n",
       "    .dataframe tbody tr th {\n",
       "        vertical-align: top;\n",
       "    }\n",
       "\n",
       "    .dataframe thead th {\n",
       "        text-align: right;\n",
       "    }\n",
       "</style>\n",
       "<table border=\"1\" class=\"dataframe\">\n",
       "  <thead>\n",
       "    <tr style=\"text-align: right;\">\n",
       "      <th></th>\n",
       "      <th>Trial_Count</th>\n",
       "      <th>Intervention_Type</th>\n",
       "    </tr>\n",
       "  </thead>\n",
       "  <tbody>\n",
       "    <tr>\n",
       "      <th>5</th>\n",
       "      <td>397</td>\n",
       "      <td>Drug</td>\n",
       "    </tr>\n",
       "    <tr>\n",
       "      <th>1</th>\n",
       "      <td>75</td>\n",
       "      <td>Biological</td>\n",
       "    </tr>\n",
       "    <tr>\n",
       "      <th>7</th>\n",
       "      <td>34</td>\n",
       "      <td>Other</td>\n",
       "    </tr>\n",
       "    <tr>\n",
       "      <th>3</th>\n",
       "      <td>27</td>\n",
       "      <td>Device</td>\n",
       "    </tr>\n",
       "    <tr>\n",
       "      <th>0</th>\n",
       "      <td>10</td>\n",
       "      <td>Behavioral</td>\n",
       "    </tr>\n",
       "    <tr>\n",
       "      <th>8</th>\n",
       "      <td>10</td>\n",
       "      <td>Procedure</td>\n",
       "    </tr>\n",
       "    <tr>\n",
       "      <th>2</th>\n",
       "      <td>7</td>\n",
       "      <td>Combination Product</td>\n",
       "    </tr>\n",
       "    <tr>\n",
       "      <th>4</th>\n",
       "      <td>6</td>\n",
       "      <td>Dietary Supplement</td>\n",
       "    </tr>\n",
       "    <tr>\n",
       "      <th>9</th>\n",
       "      <td>2</td>\n",
       "      <td>Radiation</td>\n",
       "    </tr>\n",
       "    <tr>\n",
       "      <th>6</th>\n",
       "      <td>1</td>\n",
       "      <td>Genetic</td>\n",
       "    </tr>\n",
       "  </tbody>\n",
       "</table>\n",
       "</div>"
      ],
      "text/plain": [
       "   Trial_Count    Intervention_Type\n",
       "5          397                 Drug\n",
       "1           75           Biological\n",
       "7           34                Other\n",
       "3           27               Device\n",
       "0           10           Behavioral\n",
       "8           10            Procedure\n",
       "2            7  Combination Product\n",
       "4            6   Dietary Supplement\n",
       "9            2            Radiation\n",
       "6            1              Genetic"
      ]
     },
     "execution_count": 28,
     "metadata": {},
     "output_type": "execute_result"
    }
   ],
   "source": [
    "tt = pd.DataFrame(tt.groupby(\"InterventionType\").InterventionType.count())\n",
    "tt = tt.rename(index=str, columns={\"InterventionType\": \"Trial_Count\"})\n",
    "tt['Intervention_Type'] = tt.index\n",
    "tt = tt.reset_index(drop=True)\n",
    "tt=tt.sort_values(by=['Trial_Count'], ascending=False)\n",
    "tt"
   ]
  },
  {
   "cell_type": "code",
   "execution_count": 29,
   "metadata": {},
   "outputs": [
    {
     "data": {
      "text/plain": [
       "Text(0.5, 1.0, 'Intervention Type distribution where Purpose = Treatment')"
      ]
     },
     "execution_count": 29,
     "metadata": {},
     "output_type": "execute_result"
    },
    {
     "data": {
      "image/png": "[encoded data removed]",
      "text/plain": [
       "<Figure size 1008x576 with 1 Axes>"
      ]
     },
     "metadata": {},
     "output_type": "display_data"
    }
   ],
   "source": [
    "plt.figure(figsize=(14,8))\n",
    "graph = sns.barplot(y=\"Intervention_Type\", x=\"Trial_Count\", data=tt, palette=\"Blues_d\", log=True)\n",
    "for p in graph.patches:\n",
    "        graph.annotate('{:.0f}'.format(p.get_width()), (p.get_width()+(p.get_width()/10), p.get_y()+0.6),\n",
    "                    ha='center', va='bottom',\n",
    "                    color= 'black')\n",
    "graph.set_title('Intervention Type distribution where Purpose = Treatment')"
   ]
  },
  {
   "cell_type": "markdown",
   "metadata": {},
   "source": [
    "**What are some widely used drugs for treatment of covid-19?**"
   ]
  },
  {
   "cell_type": "code",
   "execution_count": 30,
   "metadata": {},
   "outputs": [
    {
     "data": {
      "text/plain": [
       "((274, 2),\n",
       "                InterventionName  NCTId\n",
       " 121          Hydroxychloroquine     36\n",
       " 241                 Tocilizumab     11\n",
       " 101                 Favipiravir      7\n",
       " 129  Hydroxychloroquine Sulfate      6\n",
       " 69                   Colchicine      6\n",
       " 203                  Remdesivir      5\n",
       " 206                 Ruxolitinib      5\n",
       " 33                 Azithromycin      5\n",
       " 212                   Sarilumab      4\n",
       " 160         Lopinavir/ritonavir      4\n",
       " 122    Hydroxychloroquine (HCQ)      3\n",
       " 50            Camostat Mesilate      3\n",
       " 178            Nitric Oxide Gas      3\n",
       " 18                     Anakinra      3\n",
       " 37                  Baricitinib      3)"
      ]
     },
     "execution_count": 30,
     "metadata": {},
     "output_type": "execute_result"
    }
   ],
   "source": [
    "tt = df.loc[(df.DesignPrimaryPurpose=='Treatment') & (df.InterventionType=='Drug'),]\n",
    "tt1 = tt.groupby('InterventionName', as_index=False).NCTId.count()\n",
    "covid_drugs = tt1.sort_values('NCTId', ascending=False)\n",
    "covid_drugs.shape, covid_drugs.iloc[:15,]"
   ]
  },
  {
   "cell_type": "markdown",
   "metadata": {},
   "source": [
    "Let's standardize the treatments, and look at top 5 or 7 drugs"
   ]
  },
  {
   "cell_type": "code",
   "execution_count": 35,
   "metadata": {},
   "outputs": [
    {
     "data": {
      "text/plain": [
       "((272, 2),\n",
       "         InterventionName  NCTId\n",
       " 121   Hydroxychloroquine     45\n",
       " 239          Tocilizumab     11\n",
       " 101          Favipiravir      7\n",
       " 69            Colchicine      6\n",
       " 204          Ruxolitinib      5\n",
       " 201           Remdesivir      5\n",
       " 33          Azithromycin      5\n",
       " 210            Sarilumab      4\n",
       " 158  Lopinavir/ritonavir      4\n",
       " 66          Clazakizumab      3\n",
       " 18              Anakinra      3\n",
       " 166   Methylprednisolone      3\n",
       " 159             Losartan      3\n",
       " 75                DAS181      3\n",
       " 37           Baricitinib      3)"
      ]
     },
     "execution_count": 35,
     "metadata": {},
     "output_type": "execute_result"
    }
   ],
   "source": [
    "df.InterventionName.replace(to_replace='Hydroxychloroquine Sulfate',value='Hydroxychloroquine',inplace=True)\n",
    "df.InterventionName.replace(to_replace='Hydroxychloroquine (HCQ)',value='Hydroxychloroquine',inplace=True)\n",
    "\n",
    "tt = df.loc[(df.DesignPrimaryPurpose=='Treatment') & (df.InterventionType=='Drug'),]\n",
    "tt1 = tt.groupby('InterventionName', as_index=False).NCTId.count()\n",
    "covid_drugs = tt1.sort_values('NCTId', ascending=False)\n",
    "covid_drugs.shape, covid_drugs.iloc[:15,]"
   ]
  },
  {
   "cell_type": "markdown",
   "metadata": {},
   "source": [
    "#### What therapies are combined with Hydroxychloroquine?"
   ]
  },
  {
   "cell_type": "code",
   "execution_count": 36,
   "metadata": {},
   "outputs": [
    {
     "data": {
      "text/html": [
       "<div>\n",
       "<style scoped>\n",
       "    .dataframe tbody tr th:only-of-type {\n",
       "        vertical-align: middle;\n",
       "    }\n",
       "\n",
       "    .dataframe tbody tr th {\n",
       "        vertical-align: top;\n",
       "    }\n",
       "\n",
       "    .dataframe thead th {\n",
       "        text-align: right;\n",
       "    }\n",
       "</style>\n",
       "<table border=\"1\" class=\"dataframe\">\n",
       "  <thead>\n",
       "    <tr style=\"text-align: right;\">\n",
       "      <th></th>\n",
       "      <th>InterventionName</th>\n",
       "      <th>NCTId</th>\n",
       "    </tr>\n",
       "  </thead>\n",
       "  <tbody>\n",
       "    <tr>\n",
       "      <th>121</th>\n",
       "      <td>Hydroxychloroquine</td>\n",
       "      <td>45</td>\n",
       "    </tr>\n",
       "    <tr>\n",
       "      <th>129</th>\n",
       "      <td>Hydroxychloroquine Sulfate Regular dose</td>\n",
       "      <td>2</td>\n",
       "    </tr>\n",
       "    <tr>\n",
       "      <th>59</th>\n",
       "      <td>Chloroquine or Hydroxychloroquine</td>\n",
       "      <td>1</td>\n",
       "    </tr>\n",
       "    <tr>\n",
       "      <th>130</th>\n",
       "      <td>Hydroxychloroquine and Azithromycin</td>\n",
       "      <td>1</td>\n",
       "    </tr>\n",
       "    <tr>\n",
       "      <th>122</th>\n",
       "      <td>Hydroxychloroquine + Azithromycin</td>\n",
       "      <td>1</td>\n",
       "    </tr>\n",
       "    <tr>\n",
       "      <th>123</th>\n",
       "      <td>Hydroxychloroquine + azithromycin</td>\n",
       "      <td>1</td>\n",
       "    </tr>\n",
       "    <tr>\n",
       "      <th>124</th>\n",
       "      <td>Hydroxychloroquine + placebo</td>\n",
       "      <td>1</td>\n",
       "    </tr>\n",
       "    <tr>\n",
       "      <th>125</th>\n",
       "      <td>Hydroxychloroquine 200 Mg Oral Tablet</td>\n",
       "      <td>1</td>\n",
       "    </tr>\n",
       "    <tr>\n",
       "      <th>126</th>\n",
       "      <td>Hydroxychloroquine Oral Product</td>\n",
       "      <td>1</td>\n",
       "    </tr>\n",
       "    <tr>\n",
       "      <th>127</th>\n",
       "      <td>Hydroxychloroquine SAR321068</td>\n",
       "      <td>1</td>\n",
       "    </tr>\n",
       "    <tr>\n",
       "      <th>128</th>\n",
       "      <td>Hydroxychloroquine Sulfate 400 mg twice a day</td>\n",
       "      <td>1</td>\n",
       "    </tr>\n",
       "    <tr>\n",
       "      <th>131</th>\n",
       "      <td>Hydroxychloroquine and azithromycin treatment</td>\n",
       "      <td>1</td>\n",
       "    </tr>\n",
       "    <tr>\n",
       "      <th>132</th>\n",
       "      <td>Hydroxychloroquine and azithromycin treatment ...</td>\n",
       "      <td>1</td>\n",
       "    </tr>\n",
       "    <tr>\n",
       "      <th>133</th>\n",
       "      <td>Hydroxychloroquine sulfate &amp;Azithromycin</td>\n",
       "      <td>1</td>\n",
       "    </tr>\n",
       "    <tr>\n",
       "      <th>134</th>\n",
       "      <td>Hydroxychloroquine, Azithromycin</td>\n",
       "      <td>1</td>\n",
       "    </tr>\n",
       "    <tr>\n",
       "      <th>85</th>\n",
       "      <td>Dexamethasone and Hydroxychloroquine</td>\n",
       "      <td>1</td>\n",
       "    </tr>\n",
       "  </tbody>\n",
       "</table>\n",
       "</div>"
      ],
      "text/plain": [
       "                                      InterventionName  NCTId\n",
       "121                                 Hydroxychloroquine     45\n",
       "129            Hydroxychloroquine Sulfate Regular dose      2\n",
       "59                   Chloroquine or Hydroxychloroquine      1\n",
       "130                Hydroxychloroquine and Azithromycin      1\n",
       "122                  Hydroxychloroquine + Azithromycin      1\n",
       "123                  Hydroxychloroquine + azithromycin      1\n",
       "124                       Hydroxychloroquine + placebo      1\n",
       "125              Hydroxychloroquine 200 Mg Oral Tablet      1\n",
       "126                    Hydroxychloroquine Oral Product      1\n",
       "127                       Hydroxychloroquine SAR321068      1\n",
       "128      Hydroxychloroquine Sulfate 400 mg twice a day      1\n",
       "131      Hydroxychloroquine and azithromycin treatment      1\n",
       "132  Hydroxychloroquine and azithromycin treatment ...      1\n",
       "133           Hydroxychloroquine sulfate &Azithromycin      1\n",
       "134                   Hydroxychloroquine, Azithromycin      1\n",
       "85                Dexamethasone and Hydroxychloroquine      1"
      ]
     },
     "execution_count": 36,
     "metadata": {},
     "output_type": "execute_result"
    }
   ],
   "source": [
    "tt = df.loc[(df.DesignPrimaryPurpose=='Treatment') & (df.InterventionType=='Drug'),]\n",
    "tt1 = tt.groupby('InterventionName', as_index=False).NCTId.count()\n",
    "covid_drugs = tt1.sort_values('NCTId', ascending=False)\n",
    "covid_drugs[covid_drugs.InterventionName.str.contains('Hydroxychloroquine')]"
   ]
  },
  {
   "cell_type": "markdown",
   "metadata": {},
   "source": [
    "<pre>\n",
    "^ Azithromycin looks like a top choice for combination with Hydroxychloroquine.\n",
    "\n",
    "Azithromycin is an antibiotic that fights bacteria. It is used to treat many different types of infections caused by bacteria, such as respiratory infections, skin infections, ear infections, eye infections, and \n",
    "sexually transmitted diseases. - <a href=\"https://www.drugs.com/azithromycin.html\">drugs.com</a>\n",
    "</pre>\n"
   ]
  },
  {
   "cell_type": "markdown",
   "metadata": {},
   "source": [
    "**What kind of biological interventions are used for treatment of covid-19?**"
   ]
  },
  {
   "cell_type": "code",
   "execution_count": 37,
   "metadata": {},
   "outputs": [
    {
     "data": {
      "text/plain": [
       "((62, 2),\n",
       "                                      InterventionName  NCTId\n",
       " 17                                Convalescent Plasma      7\n",
       " 21                                Convalescent plasma      3\n",
       " 56                anti-SARS-CoV-2 convalescent plasma      3\n",
       " 50                                            UC-MSCs      3\n",
       " 30                                               MSCs      2\n",
       " 0                              Allogeneic NK transfer      1\n",
       " 41                             Ozone auto-hemotherapy      1\n",
       " 44                                    Plasma exchange      1\n",
       " 43                                             Plasma      1\n",
       " 42                             Pathogen-specific aAPC      1\n",
       " 39                                          NestCell®      1\n",
       " 40                                           Otilimab      1\n",
       " 38                                              NT-17      1\n",
       " 37  NK cells,IL15-NK cells,NKG2D CAR-NK cells,ACE2...      1\n",
       " 36                                           NK Cells      1)"
      ]
     },
     "execution_count": 37,
     "metadata": {},
     "output_type": "execute_result"
    }
   ],
   "source": [
    "tt = df.loc[(df.DesignPrimaryPurpose=='Treatment') & (df.InterventionType=='Biological'),]\n",
    "tt1 = tt.groupby('InterventionName', as_index=False).NCTId.count()\n",
    "covid_drugs = tt1.sort_values('NCTId', ascending=False)\n",
    "covid_drugs.shape, covid_drugs.iloc[:15,]"
   ]
  },
  {
   "cell_type": "markdown",
   "metadata": {},
   "source": [
    "#### What kind of dietary supplements are used?"
   ]
  },
  {
   "cell_type": "code",
   "execution_count": 39,
   "metadata": {},
   "outputs": [
    {
     "data": {
      "text/html": [
       "<div>\n",
       "<style scoped>\n",
       "    .dataframe tbody tr th:only-of-type {\n",
       "        vertical-align: middle;\n",
       "    }\n",
       "\n",
       "    .dataframe tbody tr th {\n",
       "        vertical-align: top;\n",
       "    }\n",
       "\n",
       "    .dataframe thead th {\n",
       "        text-align: right;\n",
       "    }\n",
       "</style>\n",
       "<table border=\"1\" class=\"dataframe\">\n",
       "  <thead>\n",
       "    <tr style=\"text-align: right;\">\n",
       "      <th></th>\n",
       "      <th>InterventionName</th>\n",
       "      <th>NCTId</th>\n",
       "    </tr>\n",
       "  </thead>\n",
       "  <tbody>\n",
       "    <tr>\n",
       "      <th>0</th>\n",
       "      <td>Ketogenic diet</td>\n",
       "      <td>1</td>\n",
       "    </tr>\n",
       "    <tr>\n",
       "      <th>1</th>\n",
       "      <td>Natural Honey</td>\n",
       "      <td>1</td>\n",
       "    </tr>\n",
       "    <tr>\n",
       "      <th>2</th>\n",
       "      <td>Vitamin C</td>\n",
       "      <td>1</td>\n",
       "    </tr>\n",
       "    <tr>\n",
       "      <th>3</th>\n",
       "      <td>Vitamin D</td>\n",
       "      <td>1</td>\n",
       "    </tr>\n",
       "    <tr>\n",
       "      <th>4</th>\n",
       "      <td>Vitamins</td>\n",
       "      <td>1</td>\n",
       "    </tr>\n",
       "    <tr>\n",
       "      <th>5</th>\n",
       "      <td>Zinc gluconate</td>\n",
       "      <td>1</td>\n",
       "    </tr>\n",
       "  </tbody>\n",
       "</table>\n",
       "</div>"
      ],
      "text/plain": [
       "  InterventionName  NCTId\n",
       "0   Ketogenic diet      1\n",
       "1    Natural Honey      1\n",
       "2        Vitamin C      1\n",
       "3        Vitamin D      1\n",
       "4         Vitamins      1\n",
       "5   Zinc gluconate      1"
      ]
     },
     "execution_count": 39,
     "metadata": {},
     "output_type": "execute_result"
    }
   ],
   "source": [
    "tt = df.loc[(df.DesignPrimaryPurpose=='Treatment') & (df.InterventionType=='Dietary Supplement'),]\n",
    "tt1 = tt.groupby('InterventionName', as_index=False).NCTId.count()\n",
    "covid_supplement = tt1.sort_values('NCTId', ascending=False); covid_supplement"
   ]
  },
  {
   "cell_type": "markdown",
   "metadata": {},
   "source": [
    "**Which countries are part of the covid-19 trials?**"
   ]
  },
  {
   "cell_type": "code",
   "execution_count": 43,
   "metadata": {},
   "outputs": [
    {
     "data": {
      "text/plain": [
       "(52,\n",
       " array([nan, 'Colombia', 'Egypt', 'Belgium', 'France', 'Thailand',\n",
       "        'United States', 'China', 'Canada', 'Iceland', 'India', 'Chile',\n",
       "        'Austria', 'Italy', 'Spain', 'Turkey', 'Iran, Islamic Republic of',\n",
       "        'Switzerland', 'Mexico', 'Jordan', 'Malaysia', 'French Guiana',\n",
       "        'Germany', 'Denmark', 'Hong Kong', 'Saudi Arabia', 'Pakistan',\n",
       "        'Russian Federation', 'South Africa', 'United Kingdom', 'Tunisia',\n",
       "        'Bosnia and Herzegovina', 'Australia', 'Poland', 'Brazil',\n",
       "        'Bahrain', 'Argentina', 'Israel', 'Greece', 'Netherlands',\n",
       "        'Korea, Republic of', 'Vietnam', 'Sweden', 'Norway', 'Ireland',\n",
       "        'Puerto Rico', 'Slovenia', 'Nigeria', 'Iraq', 'Indonesia',\n",
       "        'Gibraltar', 'Romania'], dtype=object))"
      ]
     },
     "execution_count": 43,
     "metadata": {},
     "output_type": "execute_result"
    }
   ],
   "source": [
    "len(df.LocationCountry.unique()), df.LocationCountry.unique()"
   ]
  },
  {
   "cell_type": "markdown",
   "metadata": {},
   "source": [
    "<pre>\n",
    "^ The trials are based in 52 countries.\n",
    "\n",
    "This does NOT seem right, the number seems too low. The United Nations has 193 countries. So probably the  information on sites is not updated.\n",
    "\n",
    "Interestingly (rather unfortunately) there are hardly any countries from Africa.\n",
    "</pre>"
   ]
  },
  {
   "cell_type": "markdown",
   "metadata": {},
   "source": [
    "**How many total subject are part of these trials?**"
   ]
  },
  {
   "cell_type": "code",
   "execution_count": 53,
   "metadata": {},
   "outputs": [
    {
     "data": {
      "text/plain": [
       "913577"
      ]
     },
     "execution_count": 53,
     "metadata": {},
     "output_type": "execute_result"
    }
   ],
   "source": [
    "df['EnrollmentCount'] = pd.to_numeric(df['EnrollmentCount'])\n",
    "df.EnrollmentCount.sum()"
   ]
  },
  {
   "cell_type": "markdown",
   "metadata": {},
   "source": [
    "<pre>\n",
    "Considering the total covid-19 cases are around 4M, this number of 1M seems a little high.\n",
    "\n",
    "This might be a data entry error. So let's explore more.\n",
    "</pre>"
   ]
  },
  {
   "cell_type": "code",
   "execution_count": 55,
   "metadata": {},
   "outputs": [
    {
     "data": {
      "text/plain": [
       "<matplotlib.axes._subplots.AxesSubplot at 0x7f7fb2c8ecc0>"
      ]
     },
     "execution_count": 55,
     "metadata": {},
     "output_type": "execute_result"
    },
    {
     "data": {
      "image/png": "[encoded data removed]",
      "text/plain": [
       "<Figure size 432x288 with 1 Axes>"
      ]
     },
     "metadata": {},
     "output_type": "display_data"
    }
   ],
   "source": [
    "df.boxplot(column='EnrollmentCount')"
   ]
  },
  {
   "cell_type": "markdown",
   "metadata": {},
   "source": [
    "<pre> There seems to be a outlier - single trial, which is almost 10 times bigger than the second biggest trial. </pre>"
   ]
  },
  {
   "cell_type": "code",
   "execution_count": 60,
   "metadata": {},
   "outputs": [
    {
     "data": {
      "text/plain": [
       "394578"
      ]
     },
     "execution_count": 60,
     "metadata": {},
     "output_type": "execute_result"
    }
   ],
   "source": [
    "df.EnrollmentCount.max()"
   ]
  },
  {
   "cell_type": "code",
   "execution_count": 58,
   "metadata": {},
   "outputs": [
    {
     "data": {
      "text/plain": [
       "144    NCT04370886\n",
       "Name: NCTId, dtype: object"
      ]
     },
     "execution_count": 58,
     "metadata": {},
     "output_type": "execute_result"
    }
   ],
   "source": [
    "df[df.EnrollmentCount==df.EnrollmentCount.max()].NCTId"
   ]
  },
  {
   "cell_type": "markdown",
   "metadata": {},
   "source": [
    "<pre>So the trial NCT04370886 has expected enrollment of 394,578. If you check the trials on clinicaltrials.gov the information is true, however this is a trial is to \"Recruit Blood Donors Via SMS With Different Contents During Epidemic of COVID-19\". \n",
    "\n",
    "We can eliminate these types of trials by adding a filter of PrimaryPurpose=Treatment.\n",
    "</pre>"
   ]
  },
  {
   "cell_type": "code",
   "execution_count": 59,
   "metadata": {},
   "outputs": [
    {
     "data": {
      "text/plain": [
       "195478"
      ]
     },
     "execution_count": 59,
     "metadata": {},
     "output_type": "execute_result"
    }
   ],
   "source": [
    "tt = df[df.DesignPrimaryPurpose=='Treatment']\n",
    "tt.EnrollmentCount.sum()"
   ]
  },
  {
   "cell_type": "markdown",
   "metadata": {},
   "source": [
    "<pre>The enrollment count is approaching 200,000 for the trials treating covid-19. \n",
    "\n",
    "Even this number should be taken with a grain of salt as\n",
    "- not all trials will meet their enrollmemt targets\n",
    "- there might be more inteventional trials which are not yet registered on clinicaltrials.gov\n",
    "</pre>"
   ]
  },
  {
   "cell_type": "code",
   "execution_count": 62,
   "metadata": {},
   "outputs": [
    {
     "data": {
      "text/plain": [
       "<matplotlib.axes._subplots.AxesSubplot at 0x7f7fb2e05588>"
      ]
     },
     "execution_count": 62,
     "metadata": {},
     "output_type": "execute_result"
    },
    {
     "data": {
      "image/png": "[encoded data removed]",
      "text/plain": [
       "<Figure size 432x288 with 1 Axes>"
      ]
     },
     "metadata": {},
     "output_type": "display_data"
    }
   ],
   "source": [
    "tt.boxplot(column='EnrollmentCount')"
   ]
  },
  {
   "cell_type": "code",
   "execution_count": 63,
   "metadata": {},
   "outputs": [
    {
     "data": {
      "text/plain": [
       "816    NCT04343001\n",
       "Name: NCTId, dtype: object"
      ]
     },
     "execution_count": 63,
     "metadata": {},
     "output_type": "execute_result"
    }
   ],
   "source": [
    "tt[tt.EnrollmentCount==tt.EnrollmentCount.max()].NCTId"
   ]
  },
  {
   "cell_type": "markdown",
   "metadata": {},
   "source": [
    "<pre> \n",
    "NCT04343001 is an interesting trial by London School of Hygiene and Tropical Medicine with expected \n",
    "enrollment of 10,000.\n",
    "</pre>"
   ]
  },
  {
   "cell_type": "code",
   "execution_count": null,
   "metadata": {},
   "outputs": [],
   "source": []
  },
  {
   "cell_type": "code",
   "execution_count": null,
   "metadata": {},
   "outputs": [],
   "source": []
  },
  {
   "cell_type": "code",
   "execution_count": null,
   "metadata": {},
   "outputs": [],
   "source": []
  },
  {
   "cell_type": "code",
   "execution_count": null,
   "metadata": {},
   "outputs": [],
   "source": []
  },
  {
   "cell_type": "code",
   "execution_count": null,
   "metadata": {},
   "outputs": [],
   "source": []
  },
  {
   "cell_type": "markdown",
   "metadata": {},
   "source": [
    "**What are the leading sponsors running the covid-19 trials?**"
   ]
  },
  {
   "cell_type": "code",
   "execution_count": 45,
   "metadata": {},
   "outputs": [
    {
     "data": {
      "text/plain": [
       "525"
      ]
     },
     "execution_count": 45,
     "metadata": {},
     "output_type": "execute_result"
    }
   ],
   "source": [
    "len(df.LeadSponsorName.unique())"
   ]
  },
  {
   "cell_type": "code",
   "execution_count": 46,
   "metadata": {},
   "outputs": [
    {
     "data": {
      "text/plain": [
       "(787, 21)"
      ]
     },
     "execution_count": 46,
     "metadata": {},
     "output_type": "execute_result"
    }
   ],
   "source": [
    "df.shape"
   ]
  },
  {
   "cell_type": "markdown",
   "metadata": {},
   "source": [
    "<pre>\n",
    "^ Wow, there are more than 500+ unique lead sponsors for 787 interventional trials.\n",
    "\n",
    "Let's look at the top sponsors with maximum number of (expected) enrollment.</pre>"
   ]
  },
  {
   "cell_type": "code",
   "execution_count": 47,
   "metadata": {},
   "outputs": [
    {
     "data": {
      "text/plain": [
       "((525, 2),\n",
       "                                        LeadSponsorName EnrollmentCount\n",
       " 507                                Versailles Hospital            9950\n",
       " 276                                       Megan Landes             988\n",
       " 500                      University of the Philippines             960\n",
       " 181                                       Huilan Zhang              96\n",
       " 429                                        UMC Utrecht         9501500\n",
       " 132                      Fundación de investigación HM              94\n",
       " 487                               University of Padova              92\n",
       " 121                                   Fondation Lenval             914\n",
       " 421                       The University of Queensland            9000\n",
       " 360                         Saint Luke's Health System             900\n",
       " 304                                         Noah Merin              90\n",
       " 64                                      Carlos Tornero              90\n",
       " 0                                        4D pharma plc              90\n",
       " 138                General and Teaching Hospital Celje              90\n",
       " 211  Instituto de Seguridad y Servicios Sociales de...              90)"
      ]
     },
     "execution_count": 47,
     "metadata": {},
     "output_type": "execute_result"
    }
   ],
   "source": [
    "#tt = df.loc[(df.DesignPrimaryPurpose=='Treatment') & (df.InterventionType=='Biological'),]\n",
    "tt1 = df.groupby('LeadSponsorName', as_index=False).EnrollmentCount.sum()\n",
    "covid_drugs = tt1.sort_values('EnrollmentCount', ascending=False)\n",
    "covid_drugs.shape, covid_drugs.iloc[:15,]"
   ]
  },
  {
   "cell_type": "code",
   "execution_count": null,
   "metadata": {},
   "outputs": [],
   "source": []
  },
  {
   "cell_type": "code",
   "execution_count": null,
   "metadata": {},
   "outputs": [],
   "source": []
  },
  {
   "cell_type": "code",
   "execution_count": null,
   "metadata": {},
   "outputs": [],
   "source": []
  },
  {
   "cell_type": "code",
   "execution_count": null,
   "metadata": {},
   "outputs": [],
   "source": []
  },
  {
   "cell_type": "code",
   "execution_count": null,
   "metadata": {},
   "outputs": [],
   "source": []
  },
  {
   "cell_type": "code",
   "execution_count": null,
   "metadata": {},
   "outputs": [],
   "source": []
  },
  {
   "cell_type": "markdown",
   "metadata": {},
   "source": [
    "Let's make this exploration interactive"
   ]
  },
  {
   "cell_type": "code",
   "execution_count": 29,
   "metadata": {},
   "outputs": [],
   "source": [
    "from ipywidgets import interact"
   ]
  },
  {
   "cell_type": "code",
   "execution_count": 34,
   "metadata": {},
   "outputs": [
    {
     "data": {
      "application/vnd.jupyter.widget-view+json": {
       "model_id": "9adb1720635046e0a27ae0da0dc641dd",
       "version_major": 2,
       "version_minor": 0
      },
      "text/plain": [
       "interactive(children=(Dropdown(description='Purpose', options=('Treatment', 'Prevention', 'Supportive Care', '…"
      ]
     },
     "metadata": {},
     "output_type": "display_data"
    }
   ],
   "source": [
    "@interact(Purpose=['Treatment', 'Prevention', 'Supportive Care','Diagnostic'])\n",
    "def plot(Purpose):\n",
    "    tt = df.loc[df.DesignPrimaryPurpose==Purpose,]\n",
    "    tt = pd.DataFrame(tt.groupby(\"InterventionType\").InterventionType.count())\n",
    "    tt = tt.rename(index=str, columns={\"InterventionType\": \"Trial_Count\"})\n",
    "    tt['Intervention_Type'] = tt.index\n",
    "    tt = tt.reset_index(drop=True)\n",
    "    tt=tt.sort_values(by=['Trial_Count'], ascending=False)\n",
    "    plt.figure(figsize=(14,8))\n",
    "    graph = sns.barplot(y=\"Intervention_Type\", x=\"Trial_Count\", data=tt, palette=\"Blues_d\")\n",
    "    for p in graph.patches:\n",
    "        graph.annotate('{:.0f}'.format(p.get_width()), (p.get_width()+6, p.get_y()+0.6), ha='center', va='bottom', color= 'black')"
   ]
  },
  {
   "cell_type": "code",
   "execution_count": 33,
   "metadata": {},
   "outputs": [
    {
     "data": {
      "application/vnd.jupyter.widget-view+json": {
       "model_id": "889ecb3874d84dafa431619faa9026c4",
       "version_major": 2,
       "version_minor": 0
      },
      "text/plain": [
       "interactive(children=(Dropdown(description='Intervention', options=('Drug', 'Biological', 'device', 'Behaviora…"
      ]
     },
     "metadata": {},
     "output_type": "display_data"
    }
   ],
   "source": [
    "@interact(Intervention=['Drug','Biological','device','Behavioral','Dietary Supplement'])\n",
    "def plot(Intervention):\n",
    "    tt = df.loc[(df.DesignPrimaryPurpose=='Treatment') & (df.InterventionType==Intervention),]\n",
    "    tt1 = tt.groupby('InterventionName', as_index=False).NCTId.count()\n",
    "    covid_drugs = tt1.sort_values('NCTId', ascending=False)\n",
    "    print(covid_drugs.iloc[:15,])"
   ]
  },
  {
   "cell_type": "code",
   "execution_count": null,
   "metadata": {},
   "outputs": [],
   "source": []
  }
 ],
 "metadata": {
  "kernelspec": {
   "display_name": "Python 3",
   "language": "python",
   "name": "python3"
  },
  "language_info": {
   "codemirror_mode": {
    "name": "ipython",
    "version": 3
   },
   "file_extension": ".py",
   "mimetype": "text/x-python",
   "name": "python",
   "nbconvert_exporter": "python",
   "pygments_lexer": "ipython3",
   "version": "3.6.10"
  }
 },
 "nbformat": 4,
 "nbformat_minor": 4
}
