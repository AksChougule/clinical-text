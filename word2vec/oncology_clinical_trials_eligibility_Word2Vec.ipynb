{
 "cells": [
  {
   "cell_type": "code",
   "execution_count": 42,
   "metadata": {},
   "outputs": [],
   "source": [
    "#!pip3 install turicreate\n",
    "#conda install gensim worked"
   ]
  },
  {
   "cell_type": "code",
   "execution_count": 50,
   "metadata": {},
   "outputs": [],
   "source": [
    "import re\n",
    "import gensim\n",
    "from gensim import corpora, models, similarities\n",
    "import nltk\n",
    "import pandas as pd\n",
    "import os\n",
    "import codecs\n",
    "import gensim.models.word2vec as w2v\n",
    "import time"
   ]
  },
  {
   "cell_type": "code",
   "execution_count": 64,
   "metadata": {},
   "outputs": [],
   "source": [
    "import warnings\n",
    "warnings.filterwarnings('ignore')"
   ]
  },
  {
   "cell_type": "code",
   "execution_count": 48,
   "metadata": {},
   "outputs": [],
   "source": [
    "# to use multiple cores for heavy duty functions, but the installation did not work\n",
    "# import turicreate"
   ]
  },
  {
   "cell_type": "code",
   "execution_count": 65,
   "metadata": {},
   "outputs": [],
   "source": [
    "# # word2vec with 50 embeddings\n",
    "# def getWord2Vec(toFeed, dim=50):\n",
    "#     return gensim.models.Word2Vec(toFeed, min_count=1,  size=dim)"
   ]
  },
  {
   "cell_type": "code",
   "execution_count": 4,
   "metadata": {},
   "outputs": [],
   "source": [
    "corpus = pd.read_csv(\"/home/ubuntu/datasets/cancer-clinical-trials-eligibility/labeledEligibilitySample1000000.csv\", \n",
    "                     sep='\\t',\n",
    "                     error_bad_lines=False,\n",
    "                     header=None)"
   ]
  },
  {
   "cell_type": "code",
   "execution_count": 5,
   "metadata": {},
   "outputs": [
    {
     "data": {
      "text/plain": [
       "1000000"
      ]
     },
     "execution_count": 5,
     "metadata": {},
     "output_type": "execute_result"
    }
   ],
   "source": [
    "len(corpus)"
   ]
  },
  {
   "cell_type": "code",
   "execution_count": 6,
   "metadata": {},
   "outputs": [
    {
     "data": {
      "text/html": [
       "<div>\n",
       "<style scoped>\n",
       "    .dataframe tbody tr th:only-of-type {\n",
       "        vertical-align: middle;\n",
       "    }\n",
       "\n",
       "    .dataframe tbody tr th {\n",
       "        vertical-align: top;\n",
       "    }\n",
       "\n",
       "    .dataframe thead th {\n",
       "        text-align: right;\n",
       "    }\n",
       "</style>\n",
       "<table border=\"1\" class=\"dataframe\">\n",
       "  <thead>\n",
       "    <tr style=\"text-align: right;\">\n",
       "      <th></th>\n",
       "      <th>0</th>\n",
       "      <th>1</th>\n",
       "    </tr>\n",
       "  </thead>\n",
       "  <tbody>\n",
       "    <tr>\n",
       "      <th>0</th>\n",
       "      <td>__label__0</td>\n",
       "      <td>study interventions are recombinant CD40-ligan...</td>\n",
       "    </tr>\n",
       "    <tr>\n",
       "      <th>1</th>\n",
       "      <td>__label__0</td>\n",
       "      <td>study interventions are Liposomal doxorubicin ...</td>\n",
       "    </tr>\n",
       "    <tr>\n",
       "      <th>2</th>\n",
       "      <td>__label__0</td>\n",
       "      <td>study interventions are BI 836909 . multiple m...</td>\n",
       "    </tr>\n",
       "    <tr>\n",
       "      <th>3</th>\n",
       "      <td>__label__0</td>\n",
       "      <td>study interventions are Immunoglobulins . recu...</td>\n",
       "    </tr>\n",
       "    <tr>\n",
       "      <th>4</th>\n",
       "      <td>__label__0</td>\n",
       "      <td>study interventions are Paclitaxel . stage ova...</td>\n",
       "    </tr>\n",
       "  </tbody>\n",
       "</table>\n",
       "</div>"
      ],
      "text/plain": [
       "            0                                                  1\n",
       "0  __label__0  study interventions are recombinant CD40-ligan...\n",
       "1  __label__0  study interventions are Liposomal doxorubicin ...\n",
       "2  __label__0  study interventions are BI 836909 . multiple m...\n",
       "3  __label__0  study interventions are Immunoglobulins . recu...\n",
       "4  __label__0  study interventions are Paclitaxel . stage ova..."
      ]
     },
     "execution_count": 6,
     "metadata": {},
     "output_type": "execute_result"
    }
   ],
   "source": [
    "corpus.head()"
   ]
  },
  {
   "cell_type": "code",
   "execution_count": 9,
   "metadata": {},
   "outputs": [
    {
     "data": {
      "text/plain": [
       "array(['__label__0', '__label__1'], dtype=object)"
      ]
     },
     "execution_count": 9,
     "metadata": {},
     "output_type": "execute_result"
    }
   ],
   "source": [
    "corpus.iloc[:,0].unique()"
   ]
  },
  {
   "cell_type": "code",
   "execution_count": 11,
   "metadata": {},
   "outputs": [
    {
     "data": {
      "text/plain": [
       "0    study interventions are recombinant CD40-ligan...\n",
       "1    study interventions are Liposomal doxorubicin ...\n",
       "2    study interventions are BI 836909 . multiple m...\n",
       "3    study interventions are Immunoglobulins . recu...\n",
       "4    study interventions are Paclitaxel . stage ova...\n",
       "Name: 1, dtype: object"
      ]
     },
     "execution_count": 11,
     "metadata": {},
     "output_type": "execute_result"
    }
   ],
   "source": [
    "corpus.iloc[:,1].head()"
   ]
  },
  {
   "cell_type": "code",
   "execution_count": 12,
   "metadata": {},
   "outputs": [],
   "source": [
    "corpus_data= pd.DataFrame(corpus.iloc[:,1])"
   ]
  },
  {
   "cell_type": "code",
   "execution_count": 13,
   "metadata": {},
   "outputs": [
    {
     "data": {
      "text/plain": [
       "((1000000, 2), pandas.core.frame.DataFrame)"
      ]
     },
     "execution_count": 13,
     "metadata": {},
     "output_type": "execute_result"
    }
   ],
   "source": [
    "corpus.shape, type(corpus)"
   ]
  },
  {
   "cell_type": "code",
   "execution_count": 14,
   "metadata": {},
   "outputs": [
    {
     "data": {
      "text/html": [
       "<div>\n",
       "<style scoped>\n",
       "    .dataframe tbody tr th:only-of-type {\n",
       "        vertical-align: middle;\n",
       "    }\n",
       "\n",
       "    .dataframe tbody tr th {\n",
       "        vertical-align: top;\n",
       "    }\n",
       "\n",
       "    .dataframe thead th {\n",
       "        text-align: right;\n",
       "    }\n",
       "</style>\n",
       "<table border=\"1\" class=\"dataframe\">\n",
       "  <thead>\n",
       "    <tr style=\"text-align: right;\">\n",
       "      <th></th>\n",
       "      <th>label</th>\n",
       "      <th>text</th>\n",
       "    </tr>\n",
       "  </thead>\n",
       "  <tbody>\n",
       "    <tr>\n",
       "      <th>0</th>\n",
       "      <td>__label__0</td>\n",
       "      <td>study interventions are recombinant CD40-ligan...</td>\n",
       "    </tr>\n",
       "    <tr>\n",
       "      <th>1</th>\n",
       "      <td>__label__0</td>\n",
       "      <td>study interventions are Liposomal doxorubicin ...</td>\n",
       "    </tr>\n",
       "    <tr>\n",
       "      <th>2</th>\n",
       "      <td>__label__0</td>\n",
       "      <td>study interventions are BI 836909 . multiple m...</td>\n",
       "    </tr>\n",
       "    <tr>\n",
       "      <th>3</th>\n",
       "      <td>__label__0</td>\n",
       "      <td>study interventions are Immunoglobulins . recu...</td>\n",
       "    </tr>\n",
       "    <tr>\n",
       "      <th>4</th>\n",
       "      <td>__label__0</td>\n",
       "      <td>study interventions are Paclitaxel . stage ova...</td>\n",
       "    </tr>\n",
       "  </tbody>\n",
       "</table>\n",
       "</div>"
      ],
      "text/plain": [
       "        label                                               text\n",
       "0  __label__0  study interventions are recombinant CD40-ligan...\n",
       "1  __label__0  study interventions are Liposomal doxorubicin ...\n",
       "2  __label__0  study interventions are BI 836909 . multiple m...\n",
       "3  __label__0  study interventions are Immunoglobulins . recu...\n",
       "4  __label__0  study interventions are Paclitaxel . stage ova..."
      ]
     },
     "execution_count": 14,
     "metadata": {},
     "output_type": "execute_result"
    }
   ],
   "source": [
    "corpus.columns = ['label','text']\n",
    "corpus.head()"
   ]
  },
  {
   "cell_type": "code",
   "execution_count": 15,
   "metadata": {},
   "outputs": [
    {
     "data": {
      "text/html": [
       "<div>\n",
       "<style scoped>\n",
       "    .dataframe tbody tr th:only-of-type {\n",
       "        vertical-align: middle;\n",
       "    }\n",
       "\n",
       "    .dataframe tbody tr th {\n",
       "        vertical-align: top;\n",
       "    }\n",
       "\n",
       "    .dataframe thead th {\n",
       "        text-align: right;\n",
       "    }\n",
       "</style>\n",
       "<table border=\"1\" class=\"dataframe\">\n",
       "  <thead>\n",
       "    <tr style=\"text-align: right;\">\n",
       "      <th></th>\n",
       "      <th>label</th>\n",
       "      <th>text</th>\n",
       "    </tr>\n",
       "  </thead>\n",
       "  <tbody>\n",
       "    <tr>\n",
       "      <th>0</th>\n",
       "      <td>__label__0</td>\n",
       "      <td>study interventions are recombinant CD40-ligan...</td>\n",
       "    </tr>\n",
       "    <tr>\n",
       "      <th>1</th>\n",
       "      <td>__label__1</td>\n",
       "      <td>study interventions are Prednisone . patients ...</td>\n",
       "    </tr>\n",
       "  </tbody>\n",
       "</table>\n",
       "</div>"
      ],
      "text/plain": [
       "        label                                               text\n",
       "0  __label__0  study interventions are recombinant CD40-ligan...\n",
       "1  __label__1  study interventions are Prednisone . patients ..."
      ]
     },
     "execution_count": 15,
     "metadata": {},
     "output_type": "execute_result"
    }
   ],
   "source": [
    "corpus_blob = corpus.groupby('label')['text'].apply(' '.join).reset_index()\n",
    "corpus_blob"
   ]
  },
  {
   "cell_type": "code",
   "execution_count": 16,
   "metadata": {},
   "outputs": [
    {
     "data": {
      "text/plain": [
       "(83466072,\n",
       " 'study interventions are recombinant CD40-ligand . melanoma skin diagnosis and no active cns metastases by ct scan or mri study interventions are Liposomal doxorubicin . colorectal cancer diagnosis and cardiovascular study interventions are BI 836909 . multiple myeloma diagnosis and indwelling central venous cateder or willingness to undergo intra venous central line placement study interventions are Immunoglobulins . recurrent fallopian tube carcinoma diagnosis and patients are allowed to receiv')"
      ]
     },
     "execution_count": 16,
     "metadata": {},
     "output_type": "execute_result"
    }
   ],
   "source": [
    "inclusion_criteria_0 = corpus_blob['text'][0]\n",
    "len(inclusion_criteria_0),inclusion_criteria_0[0:500]"
   ]
  },
  {
   "cell_type": "code",
   "execution_count": 17,
   "metadata": {},
   "outputs": [],
   "source": [
    "inclusion_criteria = corpus['text']"
   ]
  },
  {
   "cell_type": "code",
   "execution_count": 32,
   "metadata": {},
   "outputs": [],
   "source": [
    "stoplist = set('for a of the and to in is at an must be with are but not no none has have other from as prior or except none see below . study , use \" one two three four five six patients before start greater than any allowed by for they since'.split())\n",
    "texts = [[word for word in inclusion_criteria.split() if word not in stoplist]\n",
    "         for inclusion_criteria in inclusion_criteria]"
   ]
  },
  {
   "cell_type": "code",
   "execution_count": 33,
   "metadata": {},
   "outputs": [
    {
     "data": {
      "text/plain": [
       "1000000"
      ]
     },
     "execution_count": 33,
     "metadata": {},
     "output_type": "execute_result"
    }
   ],
   "source": [
    "len(texts)"
   ]
  },
  {
   "cell_type": "code",
   "execution_count": 34,
   "metadata": {},
   "outputs": [
    {
     "data": {
      "text/plain": [
       "[['interventions',\n",
       "  'Androgens',\n",
       "  'prostate',\n",
       "  'cancer',\n",
       "  'diagnosis',\n",
       "  'patient',\n",
       "  'characteristics'],\n",
       " ['interventions',\n",
       "  'Bortezomib',\n",
       "  'multiple',\n",
       "  'myeloma',\n",
       "  'diagnosis',\n",
       "  'renal',\n",
       "  'insufficiency',\n",
       "  's'],\n",
       " ['interventions',\n",
       "  'Prednisone',\n",
       "  'testicular',\n",
       "  'lymphoma',\n",
       "  'diagnosis',\n",
       "  'bulky',\n",
       "  'disease',\n",
       "  'greater_than',\n",
       "  'equal_than',\n",
       "  'cm',\n",
       "  'least',\n",
       "  'dimension'],\n",
       " ['interventions',\n",
       "  'Razoxane',\n",
       "  'unspecified',\n",
       "  'adult',\n",
       "  'solid',\n",
       "  'tumor',\n",
       "  'protocol',\n",
       "  'specific',\n",
       "  'diagnosis',\n",
       "  'platelet',\n",
       "  'count',\n",
       "  'greater_than',\n",
       "  'hundred',\n",
       "  'zero',\n",
       "  'mm³'],\n",
       " ['interventions',\n",
       "  'Fludarabine',\n",
       "  'natural_killer',\n",
       "  'cell',\n",
       "  'lymphoblastic',\n",
       "  'leukemia',\n",
       "  'lymphoma',\n",
       "  'diagnosis',\n",
       "  'bilirubin',\n",
       "  'more',\n",
       "  'doc',\n",
       "  'mg',\n",
       "  'dl',\n",
       "  'alanine',\n",
       "  'aminotransferase',\n",
       "  'alt',\n",
       "  'aspartate',\n",
       "  'aminotransferase',\n",
       "  'ast',\n",
       "  'alkaline',\n",
       "  'phosphatase',\n",
       "  'alp',\n",
       "  'more',\n",
       "  'times',\n",
       "  'upper',\n",
       "  'limit',\n",
       "  'normal',\n",
       "  'uln'],\n",
       " ['interventions',\n",
       "  'Fludarabine',\n",
       "  'phosphate',\n",
       "  'stage',\n",
       "  'iv',\n",
       "  'adult',\n",
       "  'immunoblastic',\n",
       "  'large',\n",
       "  'cell',\n",
       "  'lymphoma',\n",
       "  'diagnosis',\n",
       "  'unrelated',\n",
       "  'donor'],\n",
       " ['interventions',\n",
       "  'Interferon-gamma',\n",
       "  'lung',\n",
       "  'cancer',\n",
       "  'diagnosis',\n",
       "  'endocrine',\n",
       "  'therapy'],\n",
       " ['interventions',\n",
       "  'Antibodies',\n",
       "  'intraocular',\n",
       "  'lymphoma',\n",
       "  'diagnosis',\n",
       "  'may',\n",
       "  'treated',\n",
       "  'first',\n",
       "  'cr'],\n",
       " ['interventions',\n",
       "  'Pharmacological',\n",
       "  'Study',\n",
       "  'dermatofibrosarcoma_protuberans',\n",
       "  'diagnosis',\n",
       "  'platelets',\n",
       "  'greater_than',\n",
       "  'equal_than',\n",
       "  'hundred',\n",
       "  'zero',\n",
       "  'mcl']]"
      ]
     },
     "execution_count": 34,
     "metadata": {},
     "output_type": "execute_result"
    }
   ],
   "source": [
    "texts[11:20]"
   ]
  },
  {
   "cell_type": "code",
   "execution_count": 35,
   "metadata": {},
   "outputs": [
    {
     "data": {
      "text/plain": [
       "(1000000,\n",
       " [['interventions',\n",
       "   'Liposomal',\n",
       "   'doxorubicin',\n",
       "   'colorectal',\n",
       "   'cancer',\n",
       "   'diagnosis',\n",
       "   'cardiovascular'],\n",
       "  ['interventions',\n",
       "   'BI',\n",
       "   '836909',\n",
       "   'multiple',\n",
       "   'myeloma',\n",
       "   'diagnosis',\n",
       "   'indwelling',\n",
       "   'central',\n",
       "   'venous',\n",
       "   'cateder',\n",
       "   'willingness',\n",
       "   'undergo',\n",
       "   'intra',\n",
       "   'venous',\n",
       "   'central',\n",
       "   'line',\n",
       "   'placement'],\n",
       "  ['interventions',\n",
       "   'Immunoglobulins',\n",
       "   'recurrent',\n",
       "   'fallopian',\n",
       "   'tube',\n",
       "   'carcinoma',\n",
       "   'diagnosis',\n",
       "   'receive',\n",
       "   'required',\n",
       "   'receive',\n",
       "   'additional',\n",
       "   'cytotoxic',\n",
       "   'regimens',\n",
       "   'management',\n",
       "   'recurrent',\n",
       "   'persistent',\n",
       "   'disease',\n",
       "   'more',\n",
       "   'non',\n",
       "   'platinum',\n",
       "   'non',\n",
       "   'taxane',\n",
       "   'regimen'],\n",
       "  ['interventions',\n",
       "   'Paclitaxel',\n",
       "   'stage',\n",
       "   'ovarian',\n",
       "   'cancer',\n",
       "   'diagnosis',\n",
       "   'recovered',\n",
       "   'effects',\n",
       "   'recent',\n",
       "   'surgery',\n",
       "   'radiotherapy',\n",
       "   'therapy'],\n",
       "  ['interventions',\n",
       "   'Antibodies,',\n",
       "   'Monoclonal',\n",
       "   'recurrent',\n",
       "   'verrucous',\n",
       "   'carcinoma',\n",
       "   'oral',\n",
       "   'cavity',\n",
       "   'diagnosis',\n",
       "   'undergone',\n",
       "   'radiotherapy',\n",
       "   'component',\n",
       "   'treatment'],\n",
       "  ['interventions',\n",
       "   'Hormones',\n",
       "   'prostate',\n",
       "   'cancer',\n",
       "   'diagnosis',\n",
       "   'imaging',\n",
       "   'examinations',\n",
       "   'including',\n",
       "   'emission',\n",
       "   'computed',\n",
       "   'tomography',\n",
       "   'ect',\n",
       "   'positron_emission',\n",
       "   'tomography',\n",
       "   'pet',\n",
       "   'computed',\n",
       "   'tomography',\n",
       "   'ct',\n",
       "   'magnetic',\n",
       "   'resonance',\n",
       "   'imaging',\n",
       "   'mri',\n",
       "   'revealed',\n",
       "   'non',\n",
       "   'regional',\n",
       "   'lymph',\n",
       "   'node',\n",
       "   'metastasis',\n",
       "   'bone',\n",
       "   'metastasis',\n",
       "   'visceral',\n",
       "   'metastasis'],\n",
       "  ['interventions',\n",
       "   'Bendamustine',\n",
       "   'Hydrochloride',\n",
       "   'diffuse',\n",
       "   'large',\n",
       "   'cell',\n",
       "   'lymphoma',\n",
       "   'diagnosis',\n",
       "   'previous',\n",
       "   'treatment'],\n",
       "  ['interventions',\n",
       "   'Nivolumab',\n",
       "   'recovered',\n",
       "   'all',\n",
       "   'toxicities',\n",
       "   'associated',\n",
       "   'treatment',\n",
       "   'acceptable',\n",
       "   'baseline',\n",
       "   'status',\n",
       "   'laboratory',\n",
       "   'toxicity',\n",
       "   'limits',\n",
       "   'inclusion',\n",
       "   'national',\n",
       "   'cancer',\n",
       "   'institute',\n",
       "   'common',\n",
       "   'terminology',\n",
       "   'criteria',\n",
       "   'adverse',\n",
       "   'events',\n",
       "   'nci',\n",
       "   'ctcae',\n",
       "   'version',\n",
       "   'doc',\n",
       "   'grade',\n",
       "   'zero',\n",
       "   'toxicities',\n",
       "   'considered',\n",
       "   'safety',\n",
       "   'risk',\n",
       "   'alopecia',\n",
       "   'vitiligo'],\n",
       "  ['interventions',\n",
       "   'Thalidomide',\n",
       "   'kidney',\n",
       "   'cancer',\n",
       "   'diagnosis',\n",
       "   'diabetes',\n",
       "   'mellitus']])"
      ]
     },
     "execution_count": 35,
     "metadata": {},
     "output_type": "execute_result"
    }
   ],
   "source": [
    "len(texts), texts[1:10]"
   ]
  },
  {
   "cell_type": "code",
   "execution_count": 28,
   "metadata": {},
   "outputs": [
    {
     "name": "stderr",
     "output_type": "stream",
     "text": [
      "[nltk_data] Downloading package punkt to /home/ubuntu/nltk_data...\n",
      "[nltk_data]   Unzipping tokenizers/punkt.zip.\n",
      "[nltk_data] Downloading package stopwords to /home/ubuntu/nltk_data...\n",
      "[nltk_data]   Unzipping corpora/stopwords.zip.\n"
     ]
    },
    {
     "data": {
      "text/plain": [
       "True"
      ]
     },
     "execution_count": 28,
     "metadata": {},
     "output_type": "execute_result"
    }
   ],
   "source": [
    "nltk.download(\"punkt\")\n",
    "nltk.download(\"stopwords\")"
   ]
  },
  {
   "cell_type": "code",
   "execution_count": 29,
   "metadata": {},
   "outputs": [
    {
     "data": {
      "text/plain": [
       "list"
      ]
     },
     "execution_count": 29,
     "metadata": {},
     "output_type": "execute_result"
    }
   ],
   "source": [
    "type(texts)"
   ]
  },
  {
   "cell_type": "code",
   "execution_count": 36,
   "metadata": {},
   "outputs": [],
   "source": [
    "#f = codecs.open('C:\\Python26\\text.txt', 'r', 'utf-8-sig')\n",
    "#text = f.read()\n",
    "tok_corp = nltk.word_tokenize(str(texts))"
   ]
  },
  {
   "cell_type": "code",
   "execution_count": 37,
   "metadata": {},
   "outputs": [
    {
     "data": {
      "text/plain": [
       "(49526478,\n",
       " ['[',\n",
       "  \"'interventions\",\n",
       "  \"'\",\n",
       "  ',',\n",
       "  \"'recombinant\",\n",
       "  \"'\",\n",
       "  ',',\n",
       "  \"'CD40-ligand\",\n",
       "  \"'\",\n",
       "  ',',\n",
       "  \"'melanoma\",\n",
       "  \"'\",\n",
       "  ',',\n",
       "  \"'skin\",\n",
       "  \"'\",\n",
       "  ',',\n",
       "  \"'diagnosis\",\n",
       "  \"'\",\n",
       "  ','])"
      ]
     },
     "execution_count": 37,
     "metadata": {},
     "output_type": "execute_result"
    }
   ],
   "source": [
    "len(tok_corp), tok_corp[1:20]"
   ]
  },
  {
   "cell_type": "markdown",
   "metadata": {},
   "source": [
    "### Let's start with no specific input for worker"
   ]
  },
  {
   "cell_type": "code",
   "execution_count": 53,
   "metadata": {},
   "outputs": [
    {
     "name": "stdout",
     "output_type": "stream",
     "text": [
      "word_tokenize():\t 58.950172424316406\n"
     ]
    }
   ],
   "source": [
    "start = time.time()\n",
    "\n",
    "ct2vec = w2v.Word2Vec(\n",
    "    texts,\n",
    "    size=100,\n",
    "    min_count=5,\n",
    "    window=5,\n",
    "    sample=1e-3,\n",
    ")\n",
    "\n",
    "print ('word_tokenize():\\t', time.time() - start)"
   ]
  },
  {
   "cell_type": "markdown",
   "metadata": {},
   "source": [
    "### Let's start with 1 worker "
   ]
  },
  {
   "cell_type": "code",
   "execution_count": 55,
   "metadata": {},
   "outputs": [
    {
     "name": "stdout",
     "output_type": "stream",
     "text": [
      "word_tokenize():\t 102.41815304756165\n"
     ]
    }
   ],
   "source": [
    "start = time.time()\n",
    "\n",
    "ct2vec = w2v.Word2Vec(\n",
    "    texts,\n",
    "    workers=1,\n",
    "    size=100,\n",
    "    min_count=5,\n",
    "    window=5,\n",
    "    sample=1e-3,\n",
    ")\n",
    "\n",
    "print ('word_tokenize():\\t', time.time() - start)"
   ]
  },
  {
   "cell_type": "markdown",
   "metadata": {},
   "source": [
    "### Let's try with 3 workers"
   ]
  },
  {
   "cell_type": "code",
   "execution_count": 51,
   "metadata": {},
   "outputs": [
    {
     "name": "stdout",
     "output_type": "stream",
     "text": [
      "word_tokenize():\t 59.04199290275574\n"
     ]
    }
   ],
   "source": [
    "start = time.time()\n",
    "\n",
    "ct2vec = w2v.Word2Vec(\n",
    "    texts,\n",
    "    workers=3,\n",
    "    size=100,\n",
    "    min_count=5,\n",
    "    window=5,\n",
    "    sample=1e-3,\n",
    ")\n",
    "\n",
    "print ('word_tokenize():\\t', time.time() - start)"
   ]
  },
  {
   "cell_type": "markdown",
   "metadata": {},
   "source": [
    "### Let's try with 7 workers"
   ]
  },
  {
   "cell_type": "code",
   "execution_count": 56,
   "metadata": {},
   "outputs": [
    {
     "name": "stdout",
     "output_type": "stream",
     "text": [
      "word_tokenize():\t 45.07705521583557\n"
     ]
    }
   ],
   "source": [
    "start = time.time()\n",
    "\n",
    "ct2vec = w2v.Word2Vec(\n",
    "    texts,\n",
    "    workers=7,\n",
    "    size=100,\n",
    "    min_count=5,\n",
    "    window=5,\n",
    "    sample=1e-3,\n",
    ")\n",
    "\n",
    "print ('word_tokenize():\\t', time.time() - start)"
   ]
  },
  {
   "cell_type": "markdown",
   "metadata": {},
   "source": [
    "### Now let's try with 16 workers"
   ]
  },
  {
   "cell_type": "code",
   "execution_count": 52,
   "metadata": {},
   "outputs": [
    {
     "name": "stdout",
     "output_type": "stream",
     "text": [
      "word_tokenize():\t 44.11270618438721\n"
     ]
    }
   ],
   "source": [
    "start = time.time()\n",
    "\n",
    "ct2vec = w2v.Word2Vec(\n",
    "    texts,\n",
    "    workers=16,\n",
    "    size=100,\n",
    "    min_count=5,\n",
    "    window=5,\n",
    "    sample=1e-3,\n",
    ")\n",
    "\n",
    "print ('word_tokenize():\\t', time.time() - start)"
   ]
  },
  {
   "cell_type": "markdown",
   "metadata": {},
   "source": [
    "# Let's move on to inferences"
   ]
  },
  {
   "cell_type": "code",
   "execution_count": 67,
   "metadata": {},
   "outputs": [
    {
     "name": "stdout",
     "output_type": "stream",
     "text": [
      "[ 2.4131155   0.24132387  0.43815342  0.36739308 -0.83589536  2.0517\n",
      "  0.01133581  0.02461856  1.8907418   1.0808561  -1.0471681   3.2787938\n",
      "  0.06309839  0.24490382  1.7549249   0.41513923  1.3437625   3.062722\n",
      " -2.1651413   0.12668914 -6.3054514  -2.5788245  -4.08834     2.128924\n",
      "  3.7871323  -0.8519633   0.1281437  -0.53177387  0.7217792  -1.0318798\n",
      " -6.516103    0.5657095  -0.85469854 -0.8715294  -5.5852885   1.7638673\n",
      " -1.4840723   2.7711775  -2.9290268   1.7543273  -2.1623347   0.40513882\n",
      "  3.5259671  -1.3860146  -1.7506224  -3.2872171  -1.9815975  -0.23040795\n",
      "  0.10585112 -0.21160589  1.2898772   3.8753004  -3.170181   -2.271826\n",
      "  2.5881205   0.06941617  2.4410079  -1.1882691  -1.4426079  -0.64798254\n",
      "  0.07357289  2.1005      1.0163097  -1.7964715  -0.07074342 -1.8445625\n",
      "  0.5680017  -1.8165491  -0.23063196  0.70163256 -0.34674612  1.4038872\n",
      "  2.4477835   0.14748792  0.49375564  0.09416357  1.319798    0.8012989\n",
      "  1.232327    0.8720661   0.24465881  1.7936103   0.2271051   1.6649978\n",
      " -1.4157077   0.02478987  0.70427936 -1.2886803  -1.5204575  -1.6424515\n",
      "  0.22136323  1.4877108   4.173627    4.408727    2.4296231  -3.1366796\n",
      "  2.2715905  -1.6502733   0.862969   -3.7527902 ]\n"
     ]
    }
   ],
   "source": [
    "print(ct2vec['aml'])"
   ]
  },
  {
   "cell_type": "markdown",
   "metadata": {},
   "source": [
    "^ This is how the actual embeddings look like for a word. Any concept is represented using a collection of 100 variables as we have specified it in word2vec function call above."
   ]
  },
  {
   "cell_type": "code",
   "execution_count": 68,
   "metadata": {},
   "outputs": [
    {
     "data": {
      "text/plain": [
       "100"
      ]
     },
     "execution_count": 68,
     "metadata": {},
     "output_type": "execute_result"
    }
   ],
   "source": [
    "len(ct2vec['aml'])"
   ]
  },
  {
   "cell_type": "code",
   "execution_count": 69,
   "metadata": {},
   "outputs": [
    {
     "data": {
      "text/plain": [
       "[('mds', 0.6901994347572327),\n",
       " ('myelodysplasia', 0.6220169067382812),\n",
       " ('crthree', 0.5785877704620361),\n",
       " ('cml', 0.5752544403076172),\n",
       " ('mpn', 0.5641536116600037),\n",
       " ('raeb', 0.5424069166183472),\n",
       " ('apl', 0.5397809147834778),\n",
       " ('rcmd', 0.5383357405662537),\n",
       " ('blast', 0.5380486249923706),\n",
       " ('lthree', 0.5368593335151672)]"
      ]
     },
     "execution_count": 69,
     "metadata": {},
     "output_type": "execute_result"
    }
   ],
   "source": [
    "ct2vec.most_similar('aml')"
   ]
  },
  {
   "cell_type": "markdown",
   "metadata": {},
   "source": [
    "^ This is interesting as MDS is precursor to AML, MDS trial is often combined with AML."
   ]
  },
  {
   "cell_type": "code",
   "execution_count": 70,
   "metadata": {},
   "outputs": [
    {
     "data": {
      "text/plain": [
       "[('Niacinamide', 0.9907951354980469),\n",
       " ('Sunitinib', 0.9198187589645386),\n",
       " ('Bevacizumab', 0.8942933082580566),\n",
       " ('Tremelimumab', 0.8942492008209229),\n",
       " ('Everolimus', 0.8913912177085876),\n",
       " ('Sirolimus', 0.8866170644760132),\n",
       " ('Interferons', 0.8779564499855042),\n",
       " ('Trebananib', 0.8662943840026855),\n",
       " ('Interferon-alpha', 0.8598595261573792),\n",
       " ('Epothilones', 0.858574390411377)]"
      ]
     },
     "execution_count": 70,
     "metadata": {},
     "output_type": "execute_result"
    }
   ],
   "source": [
    "ct2vec.most_similar('Sorafenib')"
   ]
  },
  {
   "cell_type": "markdown",
   "metadata": {},
   "source": [
    "Let's try the blockbuster drug Keytruda"
   ]
  },
  {
   "cell_type": "code",
   "execution_count": 71,
   "metadata": {},
   "outputs": [
    {
     "data": {
      "text/plain": [
       "[('Nivolumab', 0.9329681992530823),\n",
       " ('Sirolimus', 0.8790919780731201),\n",
       " ('Everolimus', 0.8767455220222473),\n",
       " ('Antibodies', 0.8755160570144653),\n",
       " ('Vaccines', 0.8712477087974548),\n",
       " ('Azacitidine', 0.86952805519104),\n",
       " ('Carboplatin', 0.8693208694458008),\n",
       " ('Immunoglobulins', 0.8668407797813416),\n",
       " ('Bevacizumab', 0.8646867275238037),\n",
       " ('Tremelimumab', 0.8559767007827759)]"
      ]
     },
     "execution_count": 71,
     "metadata": {},
     "output_type": "execute_result"
    }
   ],
   "source": [
    "ct2vec.most_similar('Pembrolizumab')"
   ]
  },
  {
   "cell_type": "markdown",
   "metadata": {},
   "source": [
    "Pembrolizumab is a CheckPoint Inhibitor which targets PD-1/PD-L1. Interestingly we can see a few more CPIs in the results like Nivolumab, Tremelimumab. Additional, these CPIs are often combined with mAb like Bevacizumab or chemo like Carboplatin"
   ]
  },
  {
   "cell_type": "markdown",
   "metadata": {},
   "source": [
    "Let's try Enzalutamide a drug used in Castrate-Resistant Prostate Cancer."
   ]
  },
  {
   "cell_type": "code",
   "execution_count": 72,
   "metadata": {},
   "outputs": [
    {
     "data": {
      "text/plain": [
       "[('Androgens', 0.8064804077148438),\n",
       " ('Atrasentan', 0.8015974760055542),\n",
       " ('Deslorelin', 0.7961522340774536),\n",
       " ('Hormones', 0.794691801071167),\n",
       " ('Methyltestosterone', 0.791942834854126),\n",
       " ('Antagonists', 0.7792664766311646),\n",
       " ('Denosumab', 0.7791566848754883),\n",
       " ('Goserelin', 0.7789286971092224),\n",
       " ('Leuprolide', 0.7720438241958618),\n",
       " ('Diphosphonates', 0.7693747878074646)]"
      ]
     },
     "execution_count": 72,
     "metadata": {},
     "output_type": "execute_result"
    }
   ],
   "source": [
    "ct2vec.most_similar('Enzalutamide')"
   ]
  },
  {
   "cell_type": "markdown",
   "metadata": {},
   "source": [
    "These results are not that useful. Enzalutamide is a second generation anti-androgen drug (NAAD). I was expecting something like Apalutamide or Abiraterone."
   ]
  },
  {
   "cell_type": "code",
   "execution_count": 73,
   "metadata": {},
   "outputs": [
    {
     "data": {
      "text/plain": [
       "[('Modulators', 0.9232880473136902),\n",
       " ('Receptor', 0.9219001531600952),\n",
       " ('Selective', 0.8934230804443359),\n",
       " ('Androgen', 0.7948561310768127),\n",
       " ('Antagonists', 0.7755141258239746),\n",
       " ('Sleepiness', 0.7606209516525269),\n",
       " ('Leukotriene', 0.7423794269561768),\n",
       " ('Female', 0.7398806214332581),\n",
       " ('Esterified', 0.7373208999633789),\n",
       " ('TNBC', 0.7357364296913147)]"
      ]
     },
     "execution_count": 73,
     "metadata": {},
     "output_type": "execute_result"
    }
   ],
   "source": [
    "ct2vec.most_similar('Estrogen')"
   ]
  },
  {
   "cell_type": "markdown",
   "metadata": {},
   "source": [
    "^ This is again a moderately useful result. Estrogen is one of the hormone and Estrogen receptor plays a key role in a type of Breast Cancer, the other 2 being Progesteron and HER2 (both missing). When all three have negative status we call it a Triple-Negative Breast Cancer, which you can see above as TNBC. "
   ]
  }
 ],
 "metadata": {
  "kernelspec": {
   "display_name": "Python 3",
   "language": "python",
   "name": "python3"
  },
  "language_info": {
   "codemirror_mode": {
    "name": "ipython",
    "version": 3
   },
   "file_extension": ".py",
   "mimetype": "text/x-python",
   "name": "python",
   "nbconvert_exporter": "python",
   "pygments_lexer": "ipython3",
   "version": "3.7.3"
  }
 },
 "nbformat": 4,
 "nbformat_minor": 2
}
