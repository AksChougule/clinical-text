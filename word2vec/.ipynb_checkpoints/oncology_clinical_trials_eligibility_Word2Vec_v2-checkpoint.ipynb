{
 "cells": [
  {
   "cell_type": "code",
   "execution_count": 1,
   "metadata": {},
   "outputs": [],
   "source": [
    "#!pip3 install turicreate\n",
    "#pip install nltk\n",
    "#conda install gensim worked"
   ]
  },
  {
   "cell_type": "code",
   "execution_count": 2,
   "metadata": {},
   "outputs": [],
   "source": [
    "import re\n",
    "import gensim\n",
    "from gensim import corpora, models, similarities\n",
    "import nltk\n",
    "import pandas as pd\n",
    "import os\n",
    "import codecs\n",
    "import gensim.models.word2vec as w2v\n",
    "import time"
   ]
  },
  {
   "cell_type": "code",
   "execution_count": 3,
   "metadata": {},
   "outputs": [],
   "source": [
    "import warnings\n",
    "warnings.filterwarnings('ignore')"
   ]
  },
  {
   "cell_type": "code",
   "execution_count": 4,
   "metadata": {},
   "outputs": [],
   "source": [
    "# to use multiple cores for heavy duty functions, but the installation did not work\n",
    "# import turicreate"
   ]
  },
  {
   "cell_type": "code",
   "execution_count": 5,
   "metadata": {},
   "outputs": [],
   "source": [
    "corpus = pd.read_csv(\"/home/ubuntu/datasets/cancer-clinical-trials-eligibility/labeledEligibilitySample1000000.csv\", \n",
    "                     sep='\\t',\n",
    "                     error_bad_lines=False,\n",
    "                     header=None)"
   ]
  },
  {
   "cell_type": "code",
   "execution_count": 6,
   "metadata": {},
   "outputs": [
    {
     "data": {
      "text/plain": [
       "1000000"
      ]
     },
     "execution_count": 6,
     "metadata": {},
     "output_type": "execute_result"
    }
   ],
   "source": [
    "len(corpus)"
   ]
  },
  {
   "cell_type": "code",
   "execution_count": 7,
   "metadata": {},
   "outputs": [
    {
     "data": {
      "text/html": [
       "<div>\n",
       "<style scoped>\n",
       "    .dataframe tbody tr th:only-of-type {\n",
       "        vertical-align: middle;\n",
       "    }\n",
       "\n",
       "    .dataframe tbody tr th {\n",
       "        vertical-align: top;\n",
       "    }\n",
       "\n",
       "    .dataframe thead th {\n",
       "        text-align: right;\n",
       "    }\n",
       "</style>\n",
       "<table border=\"1\" class=\"dataframe\">\n",
       "  <thead>\n",
       "    <tr style=\"text-align: right;\">\n",
       "      <th></th>\n",
       "      <th>0</th>\n",
       "      <th>1</th>\n",
       "    </tr>\n",
       "  </thead>\n",
       "  <tbody>\n",
       "    <tr>\n",
       "      <th>0</th>\n",
       "      <td>__label__0</td>\n",
       "      <td>study interventions are recombinant CD40-ligan...</td>\n",
       "    </tr>\n",
       "    <tr>\n",
       "      <th>1</th>\n",
       "      <td>__label__0</td>\n",
       "      <td>study interventions are Liposomal doxorubicin ...</td>\n",
       "    </tr>\n",
       "    <tr>\n",
       "      <th>2</th>\n",
       "      <td>__label__0</td>\n",
       "      <td>study interventions are BI 836909 . multiple m...</td>\n",
       "    </tr>\n",
       "    <tr>\n",
       "      <th>3</th>\n",
       "      <td>__label__0</td>\n",
       "      <td>study interventions are Immunoglobulins . recu...</td>\n",
       "    </tr>\n",
       "    <tr>\n",
       "      <th>4</th>\n",
       "      <td>__label__0</td>\n",
       "      <td>study interventions are Paclitaxel . stage ova...</td>\n",
       "    </tr>\n",
       "  </tbody>\n",
       "</table>\n",
       "</div>"
      ],
      "text/plain": [
       "            0                                                  1\n",
       "0  __label__0  study interventions are recombinant CD40-ligan...\n",
       "1  __label__0  study interventions are Liposomal doxorubicin ...\n",
       "2  __label__0  study interventions are BI 836909 . multiple m...\n",
       "3  __label__0  study interventions are Immunoglobulins . recu...\n",
       "4  __label__0  study interventions are Paclitaxel . stage ova..."
      ]
     },
     "execution_count": 7,
     "metadata": {},
     "output_type": "execute_result"
    }
   ],
   "source": [
    "corpus.head()"
   ]
  },
  {
   "cell_type": "code",
   "execution_count": 8,
   "metadata": {},
   "outputs": [
    {
     "data": {
      "text/plain": [
       "array(['__label__0', '__label__1'], dtype=object)"
      ]
     },
     "execution_count": 8,
     "metadata": {},
     "output_type": "execute_result"
    }
   ],
   "source": [
    "corpus.iloc[:,0].unique()"
   ]
  },
  {
   "cell_type": "code",
   "execution_count": 9,
   "metadata": {},
   "outputs": [
    {
     "data": {
      "text/plain": [
       "0    study interventions are recombinant CD40-ligan...\n",
       "1    study interventions are Liposomal doxorubicin ...\n",
       "2    study interventions are BI 836909 . multiple m...\n",
       "3    study interventions are Immunoglobulins . recu...\n",
       "4    study interventions are Paclitaxel . stage ova...\n",
       "Name: 1, dtype: object"
      ]
     },
     "execution_count": 9,
     "metadata": {},
     "output_type": "execute_result"
    }
   ],
   "source": [
    "corpus.iloc[:,1].head()"
   ]
  },
  {
   "cell_type": "code",
   "execution_count": 10,
   "metadata": {},
   "outputs": [],
   "source": [
    "corpus_data= pd.DataFrame(corpus.iloc[:,1])"
   ]
  },
  {
   "cell_type": "code",
   "execution_count": 11,
   "metadata": {},
   "outputs": [
    {
     "data": {
      "text/plain": [
       "((1000000, 2), pandas.core.frame.DataFrame)"
      ]
     },
     "execution_count": 11,
     "metadata": {},
     "output_type": "execute_result"
    }
   ],
   "source": [
    "corpus.shape, type(corpus)"
   ]
  },
  {
   "cell_type": "code",
   "execution_count": 12,
   "metadata": {},
   "outputs": [
    {
     "data": {
      "text/html": [
       "<div>\n",
       "<style scoped>\n",
       "    .dataframe tbody tr th:only-of-type {\n",
       "        vertical-align: middle;\n",
       "    }\n",
       "\n",
       "    .dataframe tbody tr th {\n",
       "        vertical-align: top;\n",
       "    }\n",
       "\n",
       "    .dataframe thead th {\n",
       "        text-align: right;\n",
       "    }\n",
       "</style>\n",
       "<table border=\"1\" class=\"dataframe\">\n",
       "  <thead>\n",
       "    <tr style=\"text-align: right;\">\n",
       "      <th></th>\n",
       "      <th>label</th>\n",
       "      <th>text</th>\n",
       "    </tr>\n",
       "  </thead>\n",
       "  <tbody>\n",
       "    <tr>\n",
       "      <th>0</th>\n",
       "      <td>__label__0</td>\n",
       "      <td>study interventions are recombinant CD40-ligan...</td>\n",
       "    </tr>\n",
       "    <tr>\n",
       "      <th>1</th>\n",
       "      <td>__label__0</td>\n",
       "      <td>study interventions are Liposomal doxorubicin ...</td>\n",
       "    </tr>\n",
       "    <tr>\n",
       "      <th>2</th>\n",
       "      <td>__label__0</td>\n",
       "      <td>study interventions are BI 836909 . multiple m...</td>\n",
       "    </tr>\n",
       "    <tr>\n",
       "      <th>3</th>\n",
       "      <td>__label__0</td>\n",
       "      <td>study interventions are Immunoglobulins . recu...</td>\n",
       "    </tr>\n",
       "    <tr>\n",
       "      <th>4</th>\n",
       "      <td>__label__0</td>\n",
       "      <td>study interventions are Paclitaxel . stage ova...</td>\n",
       "    </tr>\n",
       "  </tbody>\n",
       "</table>\n",
       "</div>"
      ],
      "text/plain": [
       "        label                                               text\n",
       "0  __label__0  study interventions are recombinant CD40-ligan...\n",
       "1  __label__0  study interventions are Liposomal doxorubicin ...\n",
       "2  __label__0  study interventions are BI 836909 . multiple m...\n",
       "3  __label__0  study interventions are Immunoglobulins . recu...\n",
       "4  __label__0  study interventions are Paclitaxel . stage ova..."
      ]
     },
     "execution_count": 12,
     "metadata": {},
     "output_type": "execute_result"
    }
   ],
   "source": [
    "corpus.columns = ['label','text']\n",
    "corpus.head()"
   ]
  },
  {
   "cell_type": "code",
   "execution_count": 13,
   "metadata": {},
   "outputs": [
    {
     "data": {
      "text/html": [
       "<div>\n",
       "<style scoped>\n",
       "    .dataframe tbody tr th:only-of-type {\n",
       "        vertical-align: middle;\n",
       "    }\n",
       "\n",
       "    .dataframe tbody tr th {\n",
       "        vertical-align: top;\n",
       "    }\n",
       "\n",
       "    .dataframe thead th {\n",
       "        text-align: right;\n",
       "    }\n",
       "</style>\n",
       "<table border=\"1\" class=\"dataframe\">\n",
       "  <thead>\n",
       "    <tr style=\"text-align: right;\">\n",
       "      <th></th>\n",
       "      <th>label</th>\n",
       "      <th>text</th>\n",
       "    </tr>\n",
       "  </thead>\n",
       "  <tbody>\n",
       "    <tr>\n",
       "      <th>0</th>\n",
       "      <td>__label__0</td>\n",
       "      <td>study interventions are recombinant CD40-ligan...</td>\n",
       "    </tr>\n",
       "    <tr>\n",
       "      <th>1</th>\n",
       "      <td>__label__1</td>\n",
       "      <td>study interventions are Prednisone . patients ...</td>\n",
       "    </tr>\n",
       "  </tbody>\n",
       "</table>\n",
       "</div>"
      ],
      "text/plain": [
       "        label                                               text\n",
       "0  __label__0  study interventions are recombinant CD40-ligan...\n",
       "1  __label__1  study interventions are Prednisone . patients ..."
      ]
     },
     "execution_count": 13,
     "metadata": {},
     "output_type": "execute_result"
    }
   ],
   "source": [
    "corpus_blob = corpus.groupby('label')['text'].apply(' '.join).reset_index()\n",
    "corpus_blob"
   ]
  },
  {
   "cell_type": "code",
   "execution_count": 14,
   "metadata": {},
   "outputs": [
    {
     "data": {
      "text/plain": [
       "(83466072,\n",
       " 'study interventions are recombinant CD40-ligand . melanoma skin diagnosis and no active cns metastases by ct scan or mri study interventions are Liposomal doxorubicin . colorectal cancer diagnosis and cardiovascular study interventions are BI 836909 . multiple myeloma diagnosis and indwelling central venous cateder or willingness to undergo intra venous central line placement study interventions are Immunoglobulins . recurrent fallopian tube carcinoma diagnosis and patients are allowed to receiv')"
      ]
     },
     "execution_count": 14,
     "metadata": {},
     "output_type": "execute_result"
    }
   ],
   "source": [
    "inclusion_criteria_0 = corpus_blob['text'][0]\n",
    "len(inclusion_criteria_0),inclusion_criteria_0[0:500]"
   ]
  },
  {
   "cell_type": "code",
   "execution_count": 15,
   "metadata": {},
   "outputs": [],
   "source": [
    "inclusion_criteria = corpus['text']"
   ]
  },
  {
   "cell_type": "code",
   "execution_count": 16,
   "metadata": {},
   "outputs": [],
   "source": [
    "stoplist = set('for a of the and to in is at an must be with are but not no none has have other from as prior or except none see below . study , use \" one two three four five six patients before start greater than any allowed by for they since'.split())\n",
    "texts = [[word for word in inclusion_criteria.split() if word not in stoplist]\n",
    "         for inclusion_criteria in inclusion_criteria]"
   ]
  },
  {
   "cell_type": "code",
   "execution_count": 17,
   "metadata": {},
   "outputs": [
    {
     "data": {
      "text/plain": [
       "1000000"
      ]
     },
     "execution_count": 17,
     "metadata": {},
     "output_type": "execute_result"
    }
   ],
   "source": [
    "len(texts)"
   ]
  },
  {
   "cell_type": "code",
   "execution_count": 18,
   "metadata": {},
   "outputs": [
    {
     "data": {
      "text/plain": [
       "[['interventions',\n",
       "  'Androgens',\n",
       "  'prostate',\n",
       "  'cancer',\n",
       "  'diagnosis',\n",
       "  'patient',\n",
       "  'characteristics'],\n",
       " ['interventions',\n",
       "  'Bortezomib',\n",
       "  'multiple',\n",
       "  'myeloma',\n",
       "  'diagnosis',\n",
       "  'renal',\n",
       "  'insufficiency',\n",
       "  's'],\n",
       " ['interventions',\n",
       "  'Prednisone',\n",
       "  'testicular',\n",
       "  'lymphoma',\n",
       "  'diagnosis',\n",
       "  'bulky',\n",
       "  'disease',\n",
       "  'greater_than',\n",
       "  'equal_than',\n",
       "  'cm',\n",
       "  'least',\n",
       "  'dimension'],\n",
       " ['interventions',\n",
       "  'Razoxane',\n",
       "  'unspecified',\n",
       "  'adult',\n",
       "  'solid',\n",
       "  'tumor',\n",
       "  'protocol',\n",
       "  'specific',\n",
       "  'diagnosis',\n",
       "  'platelet',\n",
       "  'count',\n",
       "  'greater_than',\n",
       "  'hundred',\n",
       "  'zero',\n",
       "  'mm³'],\n",
       " ['interventions',\n",
       "  'Fludarabine',\n",
       "  'natural_killer',\n",
       "  'cell',\n",
       "  'lymphoblastic',\n",
       "  'leukemia',\n",
       "  'lymphoma',\n",
       "  'diagnosis',\n",
       "  'bilirubin',\n",
       "  'more',\n",
       "  'doc',\n",
       "  'mg',\n",
       "  'dl',\n",
       "  'alanine',\n",
       "  'aminotransferase',\n",
       "  'alt',\n",
       "  'aspartate',\n",
       "  'aminotransferase',\n",
       "  'ast',\n",
       "  'alkaline',\n",
       "  'phosphatase',\n",
       "  'alp',\n",
       "  'more',\n",
       "  'times',\n",
       "  'upper',\n",
       "  'limit',\n",
       "  'normal',\n",
       "  'uln'],\n",
       " ['interventions',\n",
       "  'Fludarabine',\n",
       "  'phosphate',\n",
       "  'stage',\n",
       "  'iv',\n",
       "  'adult',\n",
       "  'immunoblastic',\n",
       "  'large',\n",
       "  'cell',\n",
       "  'lymphoma',\n",
       "  'diagnosis',\n",
       "  'unrelated',\n",
       "  'donor'],\n",
       " ['interventions',\n",
       "  'Interferon-gamma',\n",
       "  'lung',\n",
       "  'cancer',\n",
       "  'diagnosis',\n",
       "  'endocrine',\n",
       "  'therapy'],\n",
       " ['interventions',\n",
       "  'Antibodies',\n",
       "  'intraocular',\n",
       "  'lymphoma',\n",
       "  'diagnosis',\n",
       "  'may',\n",
       "  'treated',\n",
       "  'first',\n",
       "  'cr'],\n",
       " ['interventions',\n",
       "  'Pharmacological',\n",
       "  'Study',\n",
       "  'dermatofibrosarcoma_protuberans',\n",
       "  'diagnosis',\n",
       "  'platelets',\n",
       "  'greater_than',\n",
       "  'equal_than',\n",
       "  'hundred',\n",
       "  'zero',\n",
       "  'mcl']]"
      ]
     },
     "execution_count": 18,
     "metadata": {},
     "output_type": "execute_result"
    }
   ],
   "source": [
    "texts[11:20]"
   ]
  },
  {
   "cell_type": "code",
   "execution_count": 19,
   "metadata": {},
   "outputs": [
    {
     "data": {
      "text/plain": [
       "(1000000,\n",
       " [['interventions',\n",
       "   'Liposomal',\n",
       "   'doxorubicin',\n",
       "   'colorectal',\n",
       "   'cancer',\n",
       "   'diagnosis',\n",
       "   'cardiovascular'],\n",
       "  ['interventions',\n",
       "   'BI',\n",
       "   '836909',\n",
       "   'multiple',\n",
       "   'myeloma',\n",
       "   'diagnosis',\n",
       "   'indwelling',\n",
       "   'central',\n",
       "   'venous',\n",
       "   'cateder',\n",
       "   'willingness',\n",
       "   'undergo',\n",
       "   'intra',\n",
       "   'venous',\n",
       "   'central',\n",
       "   'line',\n",
       "   'placement'],\n",
       "  ['interventions',\n",
       "   'Immunoglobulins',\n",
       "   'recurrent',\n",
       "   'fallopian',\n",
       "   'tube',\n",
       "   'carcinoma',\n",
       "   'diagnosis',\n",
       "   'receive',\n",
       "   'required',\n",
       "   'receive',\n",
       "   'additional',\n",
       "   'cytotoxic',\n",
       "   'regimens',\n",
       "   'management',\n",
       "   'recurrent',\n",
       "   'persistent',\n",
       "   'disease',\n",
       "   'more',\n",
       "   'non',\n",
       "   'platinum',\n",
       "   'non',\n",
       "   'taxane',\n",
       "   'regimen'],\n",
       "  ['interventions',\n",
       "   'Paclitaxel',\n",
       "   'stage',\n",
       "   'ovarian',\n",
       "   'cancer',\n",
       "   'diagnosis',\n",
       "   'recovered',\n",
       "   'effects',\n",
       "   'recent',\n",
       "   'surgery',\n",
       "   'radiotherapy',\n",
       "   'therapy'],\n",
       "  ['interventions',\n",
       "   'Antibodies,',\n",
       "   'Monoclonal',\n",
       "   'recurrent',\n",
       "   'verrucous',\n",
       "   'carcinoma',\n",
       "   'oral',\n",
       "   'cavity',\n",
       "   'diagnosis',\n",
       "   'undergone',\n",
       "   'radiotherapy',\n",
       "   'component',\n",
       "   'treatment'],\n",
       "  ['interventions',\n",
       "   'Hormones',\n",
       "   'prostate',\n",
       "   'cancer',\n",
       "   'diagnosis',\n",
       "   'imaging',\n",
       "   'examinations',\n",
       "   'including',\n",
       "   'emission',\n",
       "   'computed',\n",
       "   'tomography',\n",
       "   'ect',\n",
       "   'positron_emission',\n",
       "   'tomography',\n",
       "   'pet',\n",
       "   'computed',\n",
       "   'tomography',\n",
       "   'ct',\n",
       "   'magnetic',\n",
       "   'resonance',\n",
       "   'imaging',\n",
       "   'mri',\n",
       "   'revealed',\n",
       "   'non',\n",
       "   'regional',\n",
       "   'lymph',\n",
       "   'node',\n",
       "   'metastasis',\n",
       "   'bone',\n",
       "   'metastasis',\n",
       "   'visceral',\n",
       "   'metastasis'],\n",
       "  ['interventions',\n",
       "   'Bendamustine',\n",
       "   'Hydrochloride',\n",
       "   'diffuse',\n",
       "   'large',\n",
       "   'cell',\n",
       "   'lymphoma',\n",
       "   'diagnosis',\n",
       "   'previous',\n",
       "   'treatment'],\n",
       "  ['interventions',\n",
       "   'Nivolumab',\n",
       "   'recovered',\n",
       "   'all',\n",
       "   'toxicities',\n",
       "   'associated',\n",
       "   'treatment',\n",
       "   'acceptable',\n",
       "   'baseline',\n",
       "   'status',\n",
       "   'laboratory',\n",
       "   'toxicity',\n",
       "   'limits',\n",
       "   'inclusion',\n",
       "   'national',\n",
       "   'cancer',\n",
       "   'institute',\n",
       "   'common',\n",
       "   'terminology',\n",
       "   'criteria',\n",
       "   'adverse',\n",
       "   'events',\n",
       "   'nci',\n",
       "   'ctcae',\n",
       "   'version',\n",
       "   'doc',\n",
       "   'grade',\n",
       "   'zero',\n",
       "   'toxicities',\n",
       "   'considered',\n",
       "   'safety',\n",
       "   'risk',\n",
       "   'alopecia',\n",
       "   'vitiligo'],\n",
       "  ['interventions',\n",
       "   'Thalidomide',\n",
       "   'kidney',\n",
       "   'cancer',\n",
       "   'diagnosis',\n",
       "   'diabetes',\n",
       "   'mellitus']])"
      ]
     },
     "execution_count": 19,
     "metadata": {},
     "output_type": "execute_result"
    }
   ],
   "source": [
    "len(texts), texts[1:10]"
   ]
  },
  {
   "cell_type": "code",
   "execution_count": 20,
   "metadata": {},
   "outputs": [
    {
     "name": "stderr",
     "output_type": "stream",
     "text": [
      "[nltk_data] Downloading package punkt to /home/ubuntu/nltk_data...\n",
      "[nltk_data]   Package punkt is already up-to-date!\n",
      "[nltk_data] Downloading package stopwords to /home/ubuntu/nltk_data...\n",
      "[nltk_data]   Package stopwords is already up-to-date!\n"
     ]
    },
    {
     "data": {
      "text/plain": [
       "True"
      ]
     },
     "execution_count": 20,
     "metadata": {},
     "output_type": "execute_result"
    }
   ],
   "source": [
    "nltk.download(\"punkt\")\n",
    "nltk.download(\"stopwords\")"
   ]
  },
  {
   "cell_type": "code",
   "execution_count": 21,
   "metadata": {},
   "outputs": [
    {
     "data": {
      "text/plain": [
       "list"
      ]
     },
     "execution_count": 21,
     "metadata": {},
     "output_type": "execute_result"
    }
   ],
   "source": [
    "type(texts)"
   ]
  },
  {
   "cell_type": "code",
   "execution_count": 22,
   "metadata": {},
   "outputs": [],
   "source": [
    "#f = codecs.open('C:\\Python26\\text.txt', 'r', 'utf-8-sig')\n",
    "#text = f.read()\n",
    "tok_corp = nltk.word_tokenize(str(texts))"
   ]
  },
  {
   "cell_type": "code",
   "execution_count": 23,
   "metadata": {},
   "outputs": [
    {
     "data": {
      "text/plain": [
       "(49526498,\n",
       " ['[',\n",
       "  \"'interventions\",\n",
       "  \"'\",\n",
       "  ',',\n",
       "  \"'recombinant\",\n",
       "  \"'\",\n",
       "  ',',\n",
       "  \"'CD40-ligand\",\n",
       "  \"'\",\n",
       "  ',',\n",
       "  \"'melanoma\",\n",
       "  \"'\",\n",
       "  ',',\n",
       "  \"'skin\",\n",
       "  \"'\",\n",
       "  ',',\n",
       "  \"'diagnosis\",\n",
       "  \"'\",\n",
       "  ','])"
      ]
     },
     "execution_count": 23,
     "metadata": {},
     "output_type": "execute_result"
    }
   ],
   "source": [
    "len(tok_corp), tok_corp[1:20]"
   ]
  },
  {
   "cell_type": "markdown",
   "metadata": {},
   "source": [
    "#### Let's try with 14 workers"
   ]
  },
  {
   "cell_type": "code",
   "execution_count": 24,
   "metadata": {},
   "outputs": [
    {
     "name": "stdout",
     "output_type": "stream",
     "text": [
      "word_tokenize():\t 53.3589084148407\n"
     ]
    }
   ],
   "source": [
    "start = time.time()\n",
    "\n",
    "ct2vec = w2v.Word2Vec(\n",
    "    texts,\n",
    "    workers=16,\n",
    "    size=100,\n",
    "    min_count=5,\n",
    "    window=5,\n",
    "    sample=1e-3,\n",
    ")\n",
    "\n",
    "print ('word_tokenize():\\t', time.time() - start)"
   ]
  },
  {
   "cell_type": "markdown",
   "metadata": {},
   "source": [
    "# Let's move on to inferences"
   ]
  },
  {
   "cell_type": "code",
   "execution_count": 25,
   "metadata": {},
   "outputs": [
    {
     "name": "stdout",
     "output_type": "stream",
     "text": [
      "[-1.5130395   1.0651273  -1.3339647   1.9434758  -1.0667231  -3.723767\n",
      "  0.42655203 -1.263188    1.0921146   0.35902965  1.0599599   0.3029279\n",
      " -1.6345255  -0.18858792 -0.02089053 -0.25254977  0.3574394   0.11491508\n",
      "  3.8129048   2.176203    3.0383651   2.18803     2.1440363  -3.3317416\n",
      " -3.8390663  -0.13867578 -2.3765476   0.35668296  0.92299575  1.9025663\n",
      " -1.3185846   2.0637517  -2.3231142  -0.7959717  -2.0102618   1.4483111\n",
      "  4.320182    0.91007864  0.19460995 -1.6897639   2.5530157  -0.26437318\n",
      " -0.3735732  -0.68136525  0.4627584  -3.3380866  -3.083154   -0.8690795\n",
      "  0.625053   -4.056018   -0.6529801  -1.3461798  -1.0131177  -0.9501094\n",
      "  0.07059646 -1.4425861  -0.03741329  0.15734145 -6.708997   -0.15194938\n",
      "  1.7021779  -2.4321184  -1.6103584   0.8285542  -1.1081165  -0.6382768\n",
      "  3.6999745   1.8984995  -0.84975266  1.2356646   0.7284954   1.2739803\n",
      " -0.60046846  3.0264533   3.748585    1.0606896  -1.861937    2.0555112\n",
      "  0.1829372   3.1792302   0.88453233 -3.304588    0.45827127 -1.7737902\n",
      "  2.3784666   0.9356881   0.8371895  -0.8542258   1.8088012   0.57584894\n",
      " -6.88234     2.2737174   2.2703576  -0.8812938  -2.7555537   1.1350199\n",
      " -2.5654094   0.09793191 -0.35603637  2.4603186 ]\n"
     ]
    }
   ],
   "source": [
    "print(ct2vec['aml'])"
   ]
  },
  {
   "cell_type": "markdown",
   "metadata": {},
   "source": [
    "^ This is how the actual embeddings look like for a word. Any concept is represented using a collection of 100 variables as we have specified it in word2vec function call above."
   ]
  },
  {
   "cell_type": "code",
   "execution_count": 26,
   "metadata": {},
   "outputs": [
    {
     "data": {
      "text/plain": [
       "100"
      ]
     },
     "execution_count": 26,
     "metadata": {},
     "output_type": "execute_result"
    }
   ],
   "source": [
    "len(ct2vec['aml'])"
   ]
  },
  {
   "cell_type": "code",
   "execution_count": 27,
   "metadata": {},
   "outputs": [
    {
     "data": {
      "text/plain": [
       "[('mds', 0.7235063910484314),\n",
       " ('crthree', 0.6261923313140869),\n",
       " ('cml', 0.5991892218589783),\n",
       " ('myelodysplasia', 0.5828728079795837),\n",
       " ('raeb', 0.5643167495727539),\n",
       " ('apl', 0.5623947978019714),\n",
       " ('blast', 0.5532690286636353),\n",
       " ('myeloblasts', 0.5460888147354126),\n",
       " ('atll', 0.5376821756362915),\n",
       " ('blasts', 0.5362112522125244)]"
      ]
     },
     "execution_count": 27,
     "metadata": {},
     "output_type": "execute_result"
    }
   ],
   "source": [
    "ct2vec.most_similar('aml')"
   ]
  },
  {
   "cell_type": "markdown",
   "metadata": {},
   "source": [
    "^ This is interesting as MDS is precursor to AML, MDS trial is often combined with AML."
   ]
  },
  {
   "cell_type": "code",
   "execution_count": 28,
   "metadata": {},
   "outputs": [
    {
     "data": {
      "text/plain": [
       "[('Niacinamide', 0.9934252500534058),\n",
       " ('Sunitinib', 0.9160200953483582),\n",
       " ('Bevacizumab', 0.8969194889068604),\n",
       " ('Tremelimumab', 0.8870413899421692),\n",
       " ('Everolimus', 0.8860596418380737),\n",
       " ('Sirolimus', 0.8782651424407959),\n",
       " ('Trebananib', 0.8664243221282959),\n",
       " ('Interferons', 0.8612068295478821),\n",
       " ('Dasatinib', 0.8541008830070496),\n",
       " ('Interferon-alpha', 0.8526219725608826)]"
      ]
     },
     "execution_count": 28,
     "metadata": {},
     "output_type": "execute_result"
    }
   ],
   "source": [
    "ct2vec.most_similar('Sorafenib')"
   ]
  },
  {
   "cell_type": "markdown",
   "metadata": {},
   "source": [
    "Let's try the blockbuster drug Keytruda"
   ]
  },
  {
   "cell_type": "code",
   "execution_count": 29,
   "metadata": {},
   "outputs": [
    {
     "data": {
      "text/plain": [
       "[('Nivolumab', 0.94188392162323),\n",
       " ('Carboplatin', 0.8752785325050354),\n",
       " ('Tremelimumab', 0.8730031847953796),\n",
       " ('Everolimus', 0.8719791769981384),\n",
       " ('Vaccines', 0.871956467628479),\n",
       " ('Sirolimus', 0.8719024658203125),\n",
       " ('Azacitidine', 0.8702929615974426),\n",
       " ('Antibodies', 0.8689152002334595),\n",
       " ('Immunoglobulins', 0.8639222979545593),\n",
       " ('Bevacizumab', 0.8617658615112305)]"
      ]
     },
     "execution_count": 29,
     "metadata": {},
     "output_type": "execute_result"
    }
   ],
   "source": [
    "ct2vec.most_similar('Pembrolizumab')"
   ]
  },
  {
   "cell_type": "markdown",
   "metadata": {},
   "source": [
    "Pembrolizumab is a CheckPoint Inhibitor which targets PD-1/PD-L1. Interestingly we can see a few more CPIs in the results like Nivolumab, Tremelimumab. Additional, these CPIs are often combined with mAb like Bevacizumab or chemo like Carboplatin"
   ]
  },
  {
   "cell_type": "markdown",
   "metadata": {},
   "source": [
    "Let's try Enzalutamide a drug used in Castrate-Resistant Prostate Cancer."
   ]
  },
  {
   "cell_type": "code",
   "execution_count": 30,
   "metadata": {},
   "outputs": [
    {
     "data": {
      "text/plain": [
       "[('Hormones', 0.798703134059906),\n",
       " ('Antagonists', 0.7974197864532471),\n",
       " ('Androgens', 0.7825336456298828),\n",
       " ('Deslorelin', 0.7810865044593811),\n",
       " ('Goserelin', 0.773699939250946),\n",
       " ('Methyltestosterone', 0.7691765427589417),\n",
       " ('Denosumab', 0.7683835029602051),\n",
       " ('Diphosphonates', 0.7679646611213684),\n",
       " ('Estradiol', 0.7661968469619751),\n",
       " ('Foxy-5', 0.7647279500961304)]"
      ]
     },
     "execution_count": 30,
     "metadata": {},
     "output_type": "execute_result"
    }
   ],
   "source": [
    "ct2vec.most_similar('Enzalutamide')"
   ]
  },
  {
   "cell_type": "markdown",
   "metadata": {},
   "source": [
    "These results are not that useful. Enzalutamide is a second generation anti-androgen drug (NAAD). I was expecting something like Apalutamide or Abiraterone."
   ]
  },
  {
   "cell_type": "code",
   "execution_count": 31,
   "metadata": {},
   "outputs": [
    {
     "data": {
      "text/plain": [
       "[('Receptor', 0.9366602897644043),\n",
       " ('Modulators', 0.9226491451263428),\n",
       " ('Selective', 0.8971734642982483),\n",
       " ('Androgen', 0.8226393461227417),\n",
       " ('Endothelin', 0.7972637414932251),\n",
       " ('Female', 0.7724226713180542),\n",
       " ('Esterified', 0.7712032198905945),\n",
       " ('Antagonists', 0.759407639503479),\n",
       " ('TNBC', 0.7290056943893433),\n",
       " ('Leukotriene', 0.7271155118942261)]"
      ]
     },
     "execution_count": 31,
     "metadata": {},
     "output_type": "execute_result"
    }
   ],
   "source": [
    "ct2vec.most_similar('Estrogen')"
   ]
  },
  {
   "cell_type": "markdown",
   "metadata": {},
   "source": [
    "^ This is again a moderately useful result. Estrogen is one of the hormone and Estrogen receptor plays a key role in a type of Breast Cancer, the other 2 being Progesteron and HER2 (both missing). When all three have negative status we call it a Triple-Negative Breast Cancer, which you can see above as TNBC. "
   ]
  },
  {
   "cell_type": "code",
   "execution_count": 32,
   "metadata": {},
   "outputs": [
    {
     "data": {
      "text/plain": [
       "[('platin', 0.7030496001243591),\n",
       " ('taxane', 0.6441717743873596),\n",
       " ('cisplatin', 0.6221863031387329),\n",
       " ('carboplatin', 0.5843871831893921),\n",
       " ('docetaxel', 0.5569339990615845),\n",
       " ('irinotecan', 0.5461264848709106),\n",
       " ('paclitaxel', 0.5292472243309021),\n",
       " ('gemcitabine', 0.5221594572067261),\n",
       " ('front', 0.5139111280441284),\n",
       " ('anthracycline', 0.5077583193778992)]"
      ]
     },
     "execution_count": 32,
     "metadata": {},
     "output_type": "execute_result"
    }
   ],
   "source": [
    "ct2vec.most_similar('platinum')"
   ]
  },
  {
   "cell_type": "markdown",
   "metadata": {},
   "source": [
    "Since platin-based chemotherapies are widely used in treating various types of cancer, we do see specific therapies like Carboplatin, Cisplatin in the results.\n",
    "\n",
    "However, we missed Oxaliplatin. Also we see taxane-based chemotherapies"
   ]
  },
  {
   "cell_type": "code",
   "execution_count": 36,
   "metadata": {},
   "outputs": [
    {
     "data": {
      "text/plain": [
       "[('docetaxel', 0.7668116092681885),\n",
       " ('taxanes', 0.7520090341567993),\n",
       " ('gemcitabine', 0.7359477877616882),\n",
       " ('anthracycline', 0.6918892860412598),\n",
       " ('doublet', 0.670578122138977),\n",
       " ('carboplatin', 0.6650657653808594),\n",
       " ('trastuzumab', 0.6632235050201416),\n",
       " ('paclitaxel', 0.6628816723823547),\n",
       " ('vinorelbine', 0.6612695455551147),\n",
       " ('cisplatin', 0.6593953371047974)]"
      ]
     },
     "execution_count": 36,
     "metadata": {},
     "output_type": "execute_result"
    }
   ],
   "source": [
    "ct2vec.most_similar('taxane')"
   ]
  },
  {
   "cell_type": "markdown",
   "metadata": {},
   "source": [
    "We do see docetaxane, paclitaxane in the results. Interestingly gemcitabine is often combined with taxanes in treating various types of tumors."
   ]
  },
  {
   "cell_type": "code",
   "execution_count": 37,
   "metadata": {},
   "outputs": [
    {
     "data": {
      "text/plain": [
       "[('Adoptive', 0.9501046538352966),\n",
       " ('(CMV)-Specific', 0.9440615177154541),\n",
       " ('Cytomegalovirus', 0.9419352412223816),\n",
       " ('Regulatory', 0.9336546659469604),\n",
       " ('re-directed', 0.9330792427062988),\n",
       " ('Anti-CD19', 0.9325973987579346),\n",
       " ('AIJP', 0.9322923421859741),\n",
       " ('(Tcon)', 0.9313881993293762),\n",
       " ('sonographical', 0.9234209656715393),\n",
       " ('FAmily', 0.9212117195129395)]"
      ]
     },
     "execution_count": 37,
     "metadata": {},
     "output_type": "execute_result"
    }
   ],
   "source": [
    "ct2vec.most_similar('CD20')"
   ]
  },
  {
   "cell_type": "code",
   "execution_count": 38,
   "metadata": {},
   "outputs": [
    {
     "data": {
      "text/plain": [
       "[('Adoptive', 0.9669453501701355),\n",
       " ('re-directed', 0.9485307931900024),\n",
       " ('methoxyamine', 0.9469189643859863),\n",
       " ('Buspirone', 0.9443287253379822),\n",
       " ('orazdeight', 0.9441092014312744),\n",
       " ('Anti-CD20', 0.9436116218566895),\n",
       " ('wocpb', 0.94005286693573),\n",
       " ('Cytomegalovirus', 0.9396030902862549),\n",
       " ('mesenterial', 0.9366781711578369),\n",
       " ('fiveac', 0.9335872530937195)]"
      ]
     },
     "execution_count": 38,
     "metadata": {},
     "output_type": "execute_result"
    }
   ],
   "source": [
    "ct2vec.most_similar('Anti-CD19')"
   ]
  },
  {
   "cell_type": "code",
   "execution_count": 39,
   "metadata": {},
   "outputs": [
    {
     "data": {
      "text/plain": [
       "[('Adoptive', 0.9515570998191833),\n",
       " ('Anti-CD19', 0.9436115622520447),\n",
       " ('re-directed', 0.9316964149475098),\n",
       " ('CD20', 0.9195340871810913),\n",
       " ('Regulatory', 0.890544593334198),\n",
       " ('(CMV)-Specific', 0.8848384618759155),\n",
       " ('Cytomegalovirus', 0.881388783454895),\n",
       " ('(Tcon)', 0.8786172866821289),\n",
       " ('Retroviral', 0.8754958510398865),\n",
       " ('Passy', 0.8741341829299927)]"
      ]
     },
     "execution_count": 39,
     "metadata": {},
     "output_type": "execute_result"
    }
   ],
   "source": [
    "ct2vec.most_similar('Anti-CD20')"
   ]
  },
  {
   "cell_type": "code",
   "execution_count": 40,
   "metadata": {},
   "outputs": [
    {
     "data": {
      "text/plain": [
       "[('brentuximab_vedotin', 0.6643871068954468),\n",
       " ('velcade', 0.6260936856269836),\n",
       " ('chop', 0.6114883422851562),\n",
       " ('bortezomib', 0.6056703925132751),\n",
       " ('bendamustine', 0.591356098651886),\n",
       " ('radioimmunotherapy', 0.5589418411254883),\n",
       " ('carfilzomib', 0.5559267401695251),\n",
       " ('cyclophosphamide', 0.544562816619873),\n",
       " ('alemtuzumab', 0.5433436036109924),\n",
       " ('monotherapy', 0.5314849019050598)]"
      ]
     },
     "execution_count": 40,
     "metadata": {},
     "output_type": "execute_result"
    }
   ],
   "source": [
    "ct2vec.most_similar('rituximab')"
   ]
  },
  {
   "cell_type": "markdown",
   "metadata": {},
   "source": [
    "Rituximab is a monoclonal anti-CD20 antibody used to treat non-Hodgkin's lymphoma, chronic lymphocytic leukemia, Wegener's granulomatosis, pemphigus vulgaris, and rheumatoid arthritis. Other anti-cd20 mAbs include Ofatumumab, Obinutuzumab, Ocrelizumab which we do not see here."
   ]
  }
 ],
 "metadata": {
  "kernelspec": {
   "display_name": "Python 3",
   "language": "python",
   "name": "python3"
  },
  "language_info": {
   "codemirror_mode": {
    "name": "ipython",
    "version": 3
   },
   "file_extension": ".py",
   "mimetype": "text/x-python",
   "name": "python",
   "nbconvert_exporter": "python",
   "pygments_lexer": "ipython3",
   "version": "3.6.10"
  }
 },
 "nbformat": 4,
 "nbformat_minor": 2
}
