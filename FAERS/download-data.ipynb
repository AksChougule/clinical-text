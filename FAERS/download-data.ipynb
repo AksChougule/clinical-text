{
 "cells": [
  {
   "cell_type": "code",
   "execution_count": 2,
   "metadata": {},
   "outputs": [],
   "source": [
    "import os\n",
    "import re\n",
    "import lxml\n",
    "import time\n",
    "import shutil\n",
    "import warnings\n",
    "import requests\n",
    "from tqdm import tqdm\n",
    "from io import BytesIO\n",
    "from zipfile import ZipFile\n",
    "from datetime import datetime\n",
    "from bs4 import BeautifulSoup\n",
    "from urllib.request import urlopen"
   ]
  },
  {
   "cell_type": "code",
   "execution_count": 3,
   "metadata": {},
   "outputs": [],
   "source": [
    "# this script will find target in this list pages.\n",
    "target_page = [\"https://fis.fda.gov/extensions/FPD-QDE-FAERS/FPD-QDE-FAERS.html\"]\n",
    "\n",
    "# local directory to save files.\n",
    "source_dir = \"FAERSsrc\"\n",
    "data_dir = \"FAERSdata\"\n",
    "\n",
    "# ignore warnings\n",
    "warnings.filterwarnings('ignore')"
   ]
  },
  {
   "cell_type": "code",
   "execution_count": 4,
   "metadata": {},
   "outputs": [],
   "source": [
    "def downloadFiles(faers_files, source_dir, data_dir):\n",
    "    \"\"\"\n",
    "    download faers data files.\n",
    "    :param faers_files: dict faers_files = {\"name\":\"url\"}\n",
    "    :param source_dir: FAERSsrc\n",
    "    :param data_dir: FAERSdata\n",
    "    :return: none\n",
    "    \"\"\"\n",
    "    for file_name in tqdm(faers_files):\n",
    "        try:\n",
    "            print(\"Download \" + file_name + \"\\t\" + datetime.now().strftime('%Y-%m-%d %H:%M:%S'))\n",
    "            r = requests.get(faers_files[file_name], timeout=200)\n",
    "            z = ZipFile(BytesIO(r.content))\n",
    "            z.extractall(source_dir)\n",
    "            r.close()\n",
    "\n",
    "            # delete and copy files to FAERSdata.\n",
    "            deleteUnwantedFiles(source_dir)\n",
    "            copyFiles(source_dir, data_dir)\n",
    "            print(\"Download \" + file_name + \" success!\\t\" + datetime.now().strftime('%Y-%m-%d %H:%M:%S'))\n",
    "        except Exception as e:\n",
    "            print(\"Download \" + file_name + \" failed! Error: \" + str(e))\n",
    "        print(\"Sleep 30 seconds before starting download a new file.\\n\")\n",
    "        time.sleep(30)"
   ]
  },
  {
   "cell_type": "code",
   "execution_count": 5,
   "metadata": {},
   "outputs": [],
   "source": [
    "def deleteUnwantedFiles(path):\n",
    "    \"\"\"\n",
    "    delete unwanted files.\n",
    "    :param path: FAERSsrc\n",
    "    :return: none\n",
    "    \"\"\"\n",
    "    print(\"Delete unwanted files.\\t\" + datetime.now().strftime('%Y-%m-%d %H:%M:%S'))\n",
    "    for parent, dirnames, filenames in os.walk(path):\n",
    "        for fn in filenames:\n",
    "            # FDA Adverse Event Reporting System (FAERS) began 2012Q4.\n",
    "            # keep data from 2012Q4 and after.\n",
    "            if fn[4:8] < \"12Q4\":\n",
    "                print(\"Delete \" + fn)\n",
    "                os.remove(os.path.join(parent, fn))\n",
    "            if fn.lower().endswith('.pdf') or fn.lower().endswith('.doc'):\n",
    "                print(\"Delete \" + fn)\n",
    "                os.remove(os.path.join(parent, fn))\n",
    "            elif fn.upper().startswith((\"RPSR\", \"INDI\", \"THER\", \"SIZE\", \"STAT\", \"OUTC\")):\n",
    "                print(\"Delete \" + fn)\n",
    "                os.remove(os.path.join(parent, fn))\n",
    "    print(\"Delete unwanted files done!\\t\" + datetime.now().strftime('%Y-%m-%d %H:%M:%S'))\n",
    "\n",
    "\n"
   ]
  },
  {
   "cell_type": "code",
   "execution_count": 6,
   "metadata": {},
   "outputs": [],
   "source": [
    "def copyFiles(source_dir, data_dir):\n",
    "    \"\"\"\n",
    "    Copy files from FAERSsrc to FAERSdata.\n",
    "    :param source_dir: FAERSsrc\n",
    "    :param data_dir: FAERSdata\n",
    "    :return: none\n",
    "    \"\"\"\n",
    "    print(\"Copy files from \" + source_dir + \" to \" + data_dir + \".    \", end=\"\")\n",
    "    RootDir = os.getcwd() + '/' + source_dir\n",
    "    TargetFolder = os.getcwd() + '/' + data_dir\n",
    "    for root, dirs, files in os.walk((os.path.normpath(RootDir)), topdown=False):\n",
    "        for name in files:\n",
    "            if name.lower().endswith('.txt'):\n",
    "                SourceFolder = os.path.join(root, name)\n",
    "                shutil.move(SourceFolder, TargetFolder)\n",
    "    print(\"Done! \")\n",
    "\n",
    "\n",
    "def getFilesUrl():\n",
    "    \"\"\"\n",
    "    find all web urls in target page.\n",
    "    :return: dict files = {\"name\":\"url\"}\n",
    "    \"\"\"\n",
    "    print(\"Get web urls.\\t\")\n",
    "    files = {}\n",
    "    for page_url in target_page:\n",
    "        try:\n",
    "            request = urlopen(page_url)\n",
    "            page_bs = BeautifulSoup(request, \"lxml\")\n",
    "            request.close()\n",
    "        except:\n",
    "            request = urlopen(page_url)\n",
    "            page_bs = BeautifulSoup(request)\n",
    "        for url in page_bs.find_all(\"a\"):\n",
    "            a_string = str(url)\n",
    "            if \"ASCII\" in a_string.upper():\n",
    "                t_url = url.get('href')\n",
    "                files[str(url.get('href'))[-16:-4]] = t_url\n",
    "\n",
    "    # save urls to FaersFilesWebUrls.txt\n",
    "    save_path = os.getcwd() + \"/FaersFilesWebUrls.txt\"\n",
    "    if (os.path.exists(save_path)):\n",
    "        os.remove(save_path)\n",
    "    with open(save_path, 'a+') as f:\n",
    "        for k in files.keys():\n",
    "            f.write(k + \":\" + files[k] + \"\\n\")\n",
    "\n",
    "    print(\"Done!\")\n",
    "    return files"
   ]
  },
  {
   "cell_type": "code",
   "execution_count": 7,
   "metadata": {},
   "outputs": [
    {
     "name": "stdout",
     "output_type": "stream",
     "text": [
      "Get web urls.\t\n"
     ]
    },
    {
     "name": "stderr",
     "output_type": "stream",
     "text": [
      "\r",
      "  0%|          | 0/66 [00:00<?, ?it/s]"
     ]
    },
    {
     "name": "stdout",
     "output_type": "stream",
     "text": [
      "Done!\n",
      "Download ascii_2020Q2\t2020-10-12 21:10:59\n",
      "Delete unwanted files.\t2020-10-12 21:11:17\n",
      "Delete FAQs.pdf\n",
      "Delete FAQs.pdf\n",
      "Download ascii_2020Q2 failed! Error: [Errno 2] No such file or directory: 'FAERSsrc/FAQs.pdf'\n",
      "Sleep 30 seconds before starting download a new file.\n",
      "\n"
     ]
    },
    {
     "name": "stderr",
     "output_type": "stream",
     "text": [
      "\r",
      "  2%|▏         | 1/66 [00:48<52:57, 48.88s/it]"
     ]
    },
    {
     "name": "stdout",
     "output_type": "stream",
     "text": [
      "Download ascii_2020Q1\t2020-10-12 21:11:47\n",
      "Delete unwanted files.\t2020-10-12 21:12:06\n",
      "Delete FAQs.pdf\n",
      "Delete FAQs.pdf\n",
      "Download ascii_2020Q1 failed! Error: [Errno 2] No such file or directory: 'FAERSsrc/FAQs.pdf'\n",
      "Sleep 30 seconds before starting download a new file.\n",
      "\n"
     ]
    },
    {
     "name": "stderr",
     "output_type": "stream",
     "text": [
      "\r",
      "  3%|▎         | 2/66 [01:37<52:03, 48.80s/it]"
     ]
    },
    {
     "name": "stdout",
     "output_type": "stream",
     "text": [
      "Download ascii_2019Q4\t2020-10-12 21:12:36\n",
      "Delete unwanted files.\t2020-10-12 21:12:56\n",
      "Delete FAQs.pdf\n",
      "Delete FAQs.pdf\n",
      "Download ascii_2019Q4 failed! Error: [Errno 2] No such file or directory: 'FAERSsrc/FAQs.pdf'\n",
      "Sleep 30 seconds before starting download a new file.\n",
      "\n"
     ]
    },
    {
     "name": "stderr",
     "output_type": "stream",
     "text": [
      "\r",
      "  5%|▍         | 3/66 [02:27<51:43, 49.27s/it]"
     ]
    },
    {
     "name": "stdout",
     "output_type": "stream",
     "text": [
      "Download ascii_2019Q3\t2020-10-12 21:13:26\n",
      "Delete unwanted files.\t2020-10-12 21:13:48\n",
      "Delete FAQs.pdf\n",
      "Delete FAQs.pdf\n",
      "Download ascii_2019Q3 failed! Error: [Errno 2] No such file or directory: 'FAERSsrc/FAQs.pdf'\n",
      "Sleep 30 seconds before starting download a new file.\n",
      "\n"
     ]
    },
    {
     "name": "stderr",
     "output_type": "stream",
     "text": [
      "  5%|▍         | 3/66 [03:10<1:06:36, 63.44s/it]\n"
     ]
    },
    {
     "ename": "KeyboardInterrupt",
     "evalue": "",
     "output_type": "error",
     "traceback": [
      "\u001b[0;31m---------------------------------------------------------------------------\u001b[0m",
      "\u001b[0;31mKeyboardInterrupt\u001b[0m                         Traceback (most recent call last)",
      "\u001b[0;32m<ipython-input-7-9b74aa826677>\u001b[0m in \u001b[0;36m<module>\u001b[0;34m\u001b[0m\n\u001b[1;32m     12\u001b[0m \u001b[0;34m\u001b[0m\u001b[0m\n\u001b[1;32m     13\u001b[0m \u001b[0;32mif\u001b[0m \u001b[0m__name__\u001b[0m \u001b[0;34m==\u001b[0m \u001b[0;34m'__main__'\u001b[0m\u001b[0;34m:\u001b[0m\u001b[0;34m\u001b[0m\u001b[0;34m\u001b[0m\u001b[0m\n\u001b[0;32m---> 14\u001b[0;31m     \u001b[0mmain\u001b[0m\u001b[0;34m(\u001b[0m\u001b[0;34m)\u001b[0m\u001b[0;34m\u001b[0m\u001b[0;34m\u001b[0m\u001b[0m\n\u001b[0m",
      "\u001b[0;32m<ipython-input-7-9b74aa826677>\u001b[0m in \u001b[0;36mmain\u001b[0;34m()\u001b[0m\n\u001b[1;32m      8\u001b[0m     \u001b[0;31m# get faers data file's url and download them.\u001b[0m\u001b[0;34m\u001b[0m\u001b[0;34m\u001b[0m\u001b[0;34m\u001b[0m\u001b[0m\n\u001b[1;32m      9\u001b[0m     \u001b[0mfaers_files\u001b[0m \u001b[0;34m=\u001b[0m \u001b[0mgetFilesUrl\u001b[0m\u001b[0;34m(\u001b[0m\u001b[0;34m)\u001b[0m\u001b[0;34m\u001b[0m\u001b[0;34m\u001b[0m\u001b[0m\n\u001b[0;32m---> 10\u001b[0;31m     \u001b[0mdownloadFiles\u001b[0m\u001b[0;34m(\u001b[0m\u001b[0mfaers_files\u001b[0m\u001b[0;34m,\u001b[0m \u001b[0msource_dir\u001b[0m\u001b[0;34m,\u001b[0m \u001b[0mdata_dir\u001b[0m\u001b[0;34m)\u001b[0m\u001b[0;34m\u001b[0m\u001b[0;34m\u001b[0m\u001b[0m\n\u001b[0m\u001b[1;32m     11\u001b[0m \u001b[0;34m\u001b[0m\u001b[0m\n\u001b[1;32m     12\u001b[0m \u001b[0;34m\u001b[0m\u001b[0m\n",
      "\u001b[0;32m<ipython-input-4-f30c029e8fa6>\u001b[0m in \u001b[0;36mdownloadFiles\u001b[0;34m(faers_files, source_dir, data_dir)\u001b[0m\n\u001b[1;32m     22\u001b[0m             \u001b[0mprint\u001b[0m\u001b[0;34m(\u001b[0m\u001b[0;34m\"Download \"\u001b[0m \u001b[0;34m+\u001b[0m \u001b[0mfile_name\u001b[0m \u001b[0;34m+\u001b[0m \u001b[0;34m\" failed! Error: \"\u001b[0m \u001b[0;34m+\u001b[0m \u001b[0mstr\u001b[0m\u001b[0;34m(\u001b[0m\u001b[0me\u001b[0m\u001b[0;34m)\u001b[0m\u001b[0;34m)\u001b[0m\u001b[0;34m\u001b[0m\u001b[0;34m\u001b[0m\u001b[0m\n\u001b[1;32m     23\u001b[0m         \u001b[0mprint\u001b[0m\u001b[0;34m(\u001b[0m\u001b[0;34m\"Sleep 30 seconds before starting download a new file.\\n\"\u001b[0m\u001b[0;34m)\u001b[0m\u001b[0;34m\u001b[0m\u001b[0;34m\u001b[0m\u001b[0m\n\u001b[0;32m---> 24\u001b[0;31m         \u001b[0mtime\u001b[0m\u001b[0;34m.\u001b[0m\u001b[0msleep\u001b[0m\u001b[0;34m(\u001b[0m\u001b[0;36m30\u001b[0m\u001b[0;34m)\u001b[0m\u001b[0;34m\u001b[0m\u001b[0;34m\u001b[0m\u001b[0m\n\u001b[0m",
      "\u001b[0;31mKeyboardInterrupt\u001b[0m: "
     ]
    }
   ],
   "source": [
    "def main():\n",
    "    # creating the source directory if not exits.\n",
    "    if not os.path.isdir(source_dir):\n",
    "        os.makedirs(source_dir)\n",
    "    if not os.path.isdir(data_dir):\n",
    "        os.makedirs(data_dir)\n",
    "\n",
    "    # get faers data file's url and download them.\n",
    "    faers_files = getFilesUrl()\n",
    "    downloadFiles(faers_files, source_dir, data_dir)\n",
    "\n",
    "\n",
    "if __name__ == '__main__':\n",
    "    main()"
   ]
  },
  {
   "cell_type": "code",
   "execution_count": null,
   "metadata": {},
   "outputs": [],
   "source": []
  }
 ],
 "metadata": {
  "hide_input": false,
  "kernelspec": {
   "display_name": "Python 3",
   "language": "python",
   "name": "python3"
  },
  "language_info": {
   "codemirror_mode": {
    "name": "ipython",
    "version": 3
   },
   "file_extension": ".py",
   "mimetype": "text/x-python",
   "name": "python",
   "nbconvert_exporter": "python",
   "pygments_lexer": "ipython3",
   "version": "3.7.6"
  },
  "toc": {
   "base_numbering": 1,
   "nav_menu": {},
   "number_sections": true,
   "sideBar": true,
   "skip_h1_title": false,
   "title_cell": "Table of Contents",
   "title_sidebar": "Contents",
   "toc_cell": false,
   "toc_position": {},
   "toc_section_display": true,
   "toc_window_display": false
  }
 },
 "nbformat": 4,
 "nbformat_minor": 4
}
