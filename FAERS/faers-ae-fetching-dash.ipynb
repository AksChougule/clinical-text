{
 "cells": [
  {
   "cell_type": "markdown",
   "metadata": {},
   "source": [
    "Date Created - 6th November 2020\n",
    "\n",
    "Date Updates - 6th November 2020\n",
    "\n",
    "Created by - Akshay Chougule"
   ]
  },
  {
   "cell_type": "markdown",
   "metadata": {},
   "source": [
    "## Basics"
   ]
  },
  {
   "cell_type": "code",
   "execution_count": 1,
   "metadata": {},
   "outputs": [],
   "source": [
    "import pandas as pd\n",
    "import numpy as np\n",
    "import requests\n",
    "import datetime\n",
    "import json\n",
    "# from pandas.io.json import json_normalize\n",
    "# import xlrd"
   ]
  },
  {
   "cell_type": "code",
   "execution_count": 2,
   "metadata": {},
   "outputs": [],
   "source": [
    "# import plotly.express as px \n",
    "# import plotly.graph_objects as go\n",
    "\n",
    "import dash  \n",
    "import dash_core_components as dcc\n",
    "import dash_html_components as html\n",
    "from dash.dependencies import Input, Output\n",
    "import dash_table_experiments as dt"
   ]
  },
  {
   "cell_type": "code",
   "execution_count": 3,
   "metadata": {},
   "outputs": [],
   "source": [
    "import dash_table"
   ]
  },
  {
   "cell_type": "code",
   "execution_count": 4,
   "metadata": {},
   "outputs": [],
   "source": [
    "pd.set_option('display.max_rows', 500)\n",
    "pd.set_option('display.max_columns', 500)\n",
    "pd.set_option('display.width', 1000)"
   ]
  },
  {
   "cell_type": "code",
   "execution_count": 5,
   "metadata": {},
   "outputs": [],
   "source": [
    "nctid = 'NCT01859988'"
   ]
  },
  {
   "cell_type": "markdown",
   "metadata": {},
   "source": [
    "## AE Fetching Functions"
   ]
  },
  {
   "cell_type": "code",
   "execution_count": 6,
   "metadata": {},
   "outputs": [],
   "source": [
    "def get_data(query_url):\n",
    "    r = requests.get(query_url)\n",
    "    j = json.loads(r.content)\n",
    "    return(pd.DataFrame(j['results']))\n",
    "\n",
    "def get_ae_pt_data(drug_brand_name):\n",
    "    male_serious_url = f'https://api.fda.gov/drug/event.json?search=patient.drug.openfda.brand_name:%22{drug_brand_name}%22+AND+serious:1+AND+patient.patientsex:1+AND+receivedate:[2013-01-01+TO+2018-12-31]&count=patient.reaction.reactionmeddrapt.exact&limit=1000'\n",
    "    female_serious_url = f'https://api.fda.gov/drug/event.json?search=patient.drug.openfda.brand_name:%22{drug_brand_name}%22+AND+serious:1+AND+patient.patientsex:0+AND+receivedate:[2013-01-01+TO+2018-12-31]&count=patient.reaction.reactionmeddrapt.exact&limit=1000'\n",
    "    male_nonserious_url = f'https://api.fda.gov/drug/event.json?search=patient.drug.openfda.brand_name:%22{drug_brand_name}%22+AND+serious:2+AND+patient.patientsex:1+AND+receivedate:[2013-01-01+TO+2018-12-31]&count=patient.reaction.reactionmeddrapt.exact&limit=1000'\n",
    "    female_nonserious_url = f'https://api.fda.gov/drug/event.json?search=patient.drug.openfda.brand_name:%22{drug_brand_name}%22+AND+serious:2+AND+patient.patientsex:0+AND+receivedate:[2013-01-01+TO+2018-12-31]&count=patient.reaction.reactionmeddrapt.exact&limit=1000'\n",
    "    df_male_ser = get_data(male_serious_url)\n",
    "    df_male_ser['gender']='male'\n",
    "    df_male_ser['serious']=1\n",
    "    df_female_ser = get_data(female_serious_url)\n",
    "    df_female_ser['gender']='female'\n",
    "    df_female_ser['serious']=1\n",
    "    df_male_nonser = get_data(male_nonserious_url)\n",
    "    df_male_nonser['gender']='male'\n",
    "    df_male_nonser['serious']=0\n",
    "    df_female_nonser = get_data(female_nonserious_url)\n",
    "    df_female_nonser['gender']='female'\n",
    "    df_female_nonser['serious']=0\n",
    "    return(pd.concat([df_male_ser, df_female_ser,df_male_nonser,df_female_nonser], ignore_index=True))"
   ]
  },
  {
   "cell_type": "markdown",
   "metadata": {},
   "source": [
    "## Testing"
   ]
  },
  {
   "cell_type": "code",
   "execution_count": 7,
   "metadata": {},
   "outputs": [
    {
     "data": {
      "text/html": [
       "<div>\n",
       "<style scoped>\n",
       "    .dataframe tbody tr th:only-of-type {\n",
       "        vertical-align: middle;\n",
       "    }\n",
       "\n",
       "    .dataframe tbody tr th {\n",
       "        vertical-align: top;\n",
       "    }\n",
       "\n",
       "    .dataframe thead th {\n",
       "        text-align: right;\n",
       "    }\n",
       "</style>\n",
       "<table border=\"1\" class=\"dataframe\">\n",
       "  <thead>\n",
       "    <tr style=\"text-align: right;\">\n",
       "      <th></th>\n",
       "      <th>term</th>\n",
       "      <th>count</th>\n",
       "      <th>gender</th>\n",
       "      <th>serious</th>\n",
       "    </tr>\n",
       "  </thead>\n",
       "  <tbody>\n",
       "    <tr>\n",
       "      <th>0</th>\n",
       "      <td>DEATH</td>\n",
       "      <td>1544</td>\n",
       "      <td>male</td>\n",
       "      <td>1</td>\n",
       "    </tr>\n",
       "    <tr>\n",
       "      <th>1</th>\n",
       "      <td>DIARRHOEA</td>\n",
       "      <td>839</td>\n",
       "      <td>male</td>\n",
       "      <td>1</td>\n",
       "    </tr>\n",
       "    <tr>\n",
       "      <th>2</th>\n",
       "      <td>OFF LABEL USE</td>\n",
       "      <td>791</td>\n",
       "      <td>male</td>\n",
       "      <td>1</td>\n",
       "    </tr>\n",
       "    <tr>\n",
       "      <th>3</th>\n",
       "      <td>DISEASE PROGRESSION</td>\n",
       "      <td>716</td>\n",
       "      <td>male</td>\n",
       "      <td>1</td>\n",
       "    </tr>\n",
       "    <tr>\n",
       "      <th>4</th>\n",
       "      <td>FATIGUE</td>\n",
       "      <td>613</td>\n",
       "      <td>male</td>\n",
       "      <td>1</td>\n",
       "    </tr>\n",
       "  </tbody>\n",
       "</table>\n",
       "</div>"
      ],
      "text/plain": [
       "                  term  count gender  serious\n",
       "0                DEATH   1544   male        1\n",
       "1            DIARRHOEA    839   male        1\n",
       "2        OFF LABEL USE    791   male        1\n",
       "3  DISEASE PROGRESSION    716   male        1\n",
       "4              FATIGUE    613   male        1"
      ]
     },
     "execution_count": 7,
     "metadata": {},
     "output_type": "execute_result"
    }
   ],
   "source": [
    "tt = get_ae_pt_data('avastin')\n",
    "tt.head()"
   ]
  },
  {
   "cell_type": "code",
   "execution_count": 8,
   "metadata": {},
   "outputs": [
    {
     "data": {
      "text/html": [
       "<div>\n",
       "<style scoped>\n",
       "    .dataframe tbody tr th:only-of-type {\n",
       "        vertical-align: middle;\n",
       "    }\n",
       "\n",
       "    .dataframe tbody tr th {\n",
       "        vertical-align: top;\n",
       "    }\n",
       "\n",
       "    .dataframe thead th {\n",
       "        text-align: right;\n",
       "    }\n",
       "</style>\n",
       "<table border=\"1\" class=\"dataframe\">\n",
       "  <thead>\n",
       "    <tr style=\"text-align: right;\">\n",
       "      <th></th>\n",
       "      <th>term</th>\n",
       "      <th>count</th>\n",
       "      <th>gender</th>\n",
       "      <th>serious</th>\n",
       "    </tr>\n",
       "  </thead>\n",
       "  <tbody>\n",
       "    <tr>\n",
       "      <th>0</th>\n",
       "      <td>DRUG INEFFECTIVE</td>\n",
       "      <td>4025</td>\n",
       "      <td>male</td>\n",
       "      <td>1</td>\n",
       "    </tr>\n",
       "    <tr>\n",
       "      <th>1</th>\n",
       "      <td>CROHN^S DISEASE</td>\n",
       "      <td>2730</td>\n",
       "      <td>male</td>\n",
       "      <td>1</td>\n",
       "    </tr>\n",
       "    <tr>\n",
       "      <th>2</th>\n",
       "      <td>ARTHRALGIA</td>\n",
       "      <td>2308</td>\n",
       "      <td>male</td>\n",
       "      <td>1</td>\n",
       "    </tr>\n",
       "    <tr>\n",
       "      <th>3</th>\n",
       "      <td>PAIN</td>\n",
       "      <td>2104</td>\n",
       "      <td>male</td>\n",
       "      <td>1</td>\n",
       "    </tr>\n",
       "    <tr>\n",
       "      <th>4</th>\n",
       "      <td>DEATH</td>\n",
       "      <td>1738</td>\n",
       "      <td>male</td>\n",
       "      <td>1</td>\n",
       "    </tr>\n",
       "  </tbody>\n",
       "</table>\n",
       "</div>"
      ],
      "text/plain": [
       "               term  count gender  serious\n",
       "0  DRUG INEFFECTIVE   4025   male        1\n",
       "1   CROHN^S DISEASE   2730   male        1\n",
       "2        ARTHRALGIA   2308   male        1\n",
       "3              PAIN   2104   male        1\n",
       "4             DEATH   1738   male        1"
      ]
     },
     "execution_count": 8,
     "metadata": {},
     "output_type": "execute_result"
    }
   ],
   "source": [
    "tt = get_ae_pt_data('humira')\n",
    "tt.head()"
   ]
  },
  {
   "cell_type": "markdown",
   "metadata": {},
   "source": [
    "## Dash App"
   ]
  },
  {
   "cell_type": "code",
   "execution_count": 9,
   "metadata": {},
   "outputs": [],
   "source": [
    "app = dash.Dash(__name__)"
   ]
  },
  {
   "cell_type": "code",
   "execution_count": null,
   "metadata": {},
   "outputs": [
    {
     "name": "stdout",
     "output_type": "stream",
     "text": [
      "Dash is running on http://127.0.0.1:8050/\n",
      "\n",
      " * Serving Flask app \"__main__\" (lazy loading)\n",
      " * Environment: production\n",
      "   WARNING: This is a development server. Do not use it in a production deployment.\n",
      "   Use a production WSGI server instead.\n",
      " * Debug mode: off\n"
     ]
    },
    {
     "name": "stderr",
     "output_type": "stream",
     "text": [
      " * Running on http://127.0.0.1:8050/ (Press CTRL+C to quit)\n",
      "127.0.0.1 - - [07/Nov/2020 10:02:42] \"\u001b[37mGET / HTTP/1.1\u001b[0m\" 200 -\n",
      "127.0.0.1 - - [07/Nov/2020 10:02:42] \"\u001b[37mGET /_dash-dependencies HTTP/1.1\u001b[0m\" 200 -\n",
      "127.0.0.1 - - [07/Nov/2020 10:02:42] \"\u001b[37mGET /_dash-layout HTTP/1.1\u001b[0m\" 200 -\n",
      "127.0.0.1 - - [07/Nov/2020 10:02:42] \"\u001b[37mGET /_favicon.ico?v=1.16.0 HTTP/1.1\u001b[0m\" 200 -\n"
     ]
    },
    {
     "name": "stdout",
     "output_type": "stream",
     "text": [
      "None\n"
     ]
    },
    {
     "name": "stderr",
     "output_type": "stream",
     "text": [
      "/home/ubuntu/anaconda3/envs/fastai2/lib/python3.7/site-packages/pandas/core/frame.py:1490: FutureWarning:\n",
      "\n",
      "Using short name for 'orient' is deprecated. Only the options: ('dict', list, 'series', 'split', 'records', 'index') will be used in a future version. Use one of the above to silence this warning.\n",
      "\n",
      "127.0.0.1 - - [07/Nov/2020 10:02:43] \"\u001b[37mPOST /_dash-update-component HTTP/1.1\u001b[0m\" 200 -\n"
     ]
    }
   ],
   "source": [
    "# App layout\n",
    "app.layout = html.Div([\n",
    "\n",
    "    html.H1(\"Safety Data Explorer\", style={'text-align': 'center'}),\n",
    "\n",
    "    html.Div([\n",
    "        html.Br(),\n",
    "        dcc.Input(id=\"trial1\", type=\"text\", placeholder=\"Enter Drug (brand) Name\", debounce =True),\n",
    "        html.Br(),\n",
    "    ]),\n",
    "    html.Br(),   \n",
    "    html.Br(), html.Br(),\n",
    "    \n",
    "    dcc.Tabs([\n",
    "        dcc.Tab(label='Explore FAERS Data', children=[\n",
    "            html.Div(id='blank4', style={'width': '7%', 'display': 'inline-block'}),    \n",
    "            html.Div(id='output-sae-subs', style={'width': '85%', 'display': 'inline-block'}),\n",
    "        ]),\n",
    "     \n",
    "        dcc.Tab(label='Explore Trial Safety Data', children=[\n",
    "            html.Div(id='blank5', style={'width': '7%', 'display': 'inline-block'}),    \n",
    "            html.Div(id='output-oae-subs', style={'width': '85%', 'display': 'inline-block'}),\n",
    "        ]),\n",
    "        dcc.Tab(label='Compare', children=[\n",
    "            \n",
    "        ])\n",
    "     ]),\n",
    "    \n",
    "    html.Br(),\n",
    "])\n",
    "\n",
    "\n",
    "# ------------------------------------------------------------------------------\n",
    "# Connect the data with Dash Components\n",
    "@app.callback(\n",
    "    [dash.dependencies.Output('output-sae-subs', 'children'),\n",
    "     dash.dependencies.Output('output-oae-subs', 'children')],\n",
    "    Input(component_id='trial1', component_property='value')\n",
    ")\n",
    "\n",
    "\n",
    "# update logic\n",
    "def update_graph(drug_brand_name):\n",
    "    print(drug_brand_name)  \n",
    "    \n",
    "    df = get_ae_pt_data(drug_brand_name)\n",
    "\n",
    "    sae_tab = dash_table.DataTable(\n",
    "                    id='table',\n",
    "                    columns=[{\"name\": i, \"id\": i} for i in df.columns],\n",
    "                    data=df.to_dict(\"rows\"),\n",
    "                    filter_action=\"native\",\n",
    "                    export_format=\"csv\",\n",
    "                    export_headers=\"display\",\n",
    "                    style_cell={'width': '300px',\n",
    "                    'height': '60px',\n",
    "                    'textAlign': 'left'},\n",
    "                    style_data_conditional=[{\n",
    "                        'if': {'row_index': 'odd'},\n",
    "                        'backgroundColor': 'rgb(248, 248, 248)'\n",
    "                    }],\n",
    "                    style_header={\n",
    "                        'backgroundColor': 'rgb(230, 230, 230)',\n",
    "                        'fontWeight': 'bold'\n",
    "                    })\n",
    "       \n",
    "    oae_tab=dash_table.DataTable(\n",
    "                id='table2',\n",
    "                columns=[{\"name\": i, \"id\": i} for i in df.columns],\n",
    "                data=df.to_dict(\"rows\"),\n",
    "                filter_action=\"native\",\n",
    "                export_format=\"csv\",\n",
    "                export_headers=\"display\",\n",
    "                style_cell={'width': '300px',\n",
    "                'height': '60px',\n",
    "                'textAlign': 'left'},\n",
    "                style_data_conditional=[{\n",
    "                    'if': {'row_index': 'odd'},\n",
    "                    'backgroundColor': 'rgb(248, 248, 248)'\n",
    "                }],\n",
    "                style_header={\n",
    "                    'backgroundColor': 'rgb(230, 230, 230)',\n",
    "                    'fontWeight': 'bold'\n",
    "                })\n",
    "\n",
    "\n",
    "    return html.Div([\n",
    "        html.H4(' ', style={'text-align': 'center'}),\n",
    "        sae_tab\n",
    "    ]), html.Div([\n",
    "        html.H4(' ', style={'text-align': 'center'}),\n",
    "        oae_tab\n",
    "    ])\n",
    "\n",
    "\n",
    "# ------------------------------------------------------------------------------\n",
    "if __name__ == '__main__':\n",
    "    app.run_server(debug=False)"
   ]
  },
  {
   "cell_type": "code",
   "execution_count": null,
   "metadata": {},
   "outputs": [],
   "source": []
  }
 ],
 "metadata": {
  "hide_input": false,
  "kernelspec": {
   "display_name": "Python 3",
   "language": "python",
   "name": "python3"
  },
  "language_info": {
   "codemirror_mode": {
    "name": "ipython",
    "version": 3
   },
   "file_extension": ".py",
   "mimetype": "text/x-python",
   "name": "python",
   "nbconvert_exporter": "python",
   "pygments_lexer": "ipython3",
   "version": "3.7.6"
  },
  "toc": {
   "base_numbering": 1,
   "nav_menu": {},
   "number_sections": true,
   "sideBar": true,
   "skip_h1_title": false,
   "title_cell": "Table of Contents",
   "title_sidebar": "Contents",
   "toc_cell": false,
   "toc_position": {
    "height": "calc(100% - 180px)",
    "left": "10px",
    "top": "150px",
    "width": "240.167px"
   },
   "toc_section_display": true,
   "toc_window_display": true
  }
 },
 "nbformat": 4,
 "nbformat_minor": 4
}
