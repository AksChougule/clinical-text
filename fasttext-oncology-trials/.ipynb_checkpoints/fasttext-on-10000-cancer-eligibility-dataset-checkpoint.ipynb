{
 "cells": [
  {
   "cell_type": "markdown",
   "metadata": {},
   "source": [
    "This notebook contains code to download the title, description and inclusion/exclsion criteria for oncology trials  using clinicaltrials.gov api.\n",
    "\n",
    "Author - Akshay Chougule<br>\n",
    "Created on - 30th May 2020<br>\n",
    "<br>"
   ]
  },
  {
   "cell_type": "code",
   "execution_count": 1,
   "metadata": {},
   "outputs": [],
   "source": [
    "import pandas as pd\n",
    "import numpy as np\n",
    "import requests\n",
    "import datetime\n",
    "import json\n",
    "import seaborn as sns\n",
    "import matplotlib.pyplot as plt"
   ]
  },
  {
   "cell_type": "code",
   "execution_count": 2,
   "metadata": {},
   "outputs": [],
   "source": [
    "pd.set_option('max_colwidth', 4000)"
   ]
  },
  {
   "cell_type": "markdown",
   "metadata": {},
   "source": [
    "### Section 0. Data Collection and Preprocessing\n",
    "#### Skip to section 1 if you are interesting in findings."
   ]
  },
  {
   "cell_type": "markdown",
   "metadata": {},
   "source": [
    "Since we can get only 1000 trials as the result of this api query and the total number of covid-19 trials exceed 100, we will have to break our query in 2 parts. The first part will cover first thousand results `&min_rnk=1&max_rnk=1000`, the second part would cover next thousand `&min_rnk=1001&max_rnk=2000` and so on."
   ]
  },
  {
   "cell_type": "code",
   "execution_count": 3,
   "metadata": {},
   "outputs": [],
   "source": [
    "CT_GOV_URL = 'https://clinicaltrials.gov/api/query/study_fields?expr=cancer&min_rnk=1&max_rnk=1000&fmt=json'"
   ]
  },
  {
   "cell_type": "code",
   "execution_count": 4,
   "metadata": {},
   "outputs": [],
   "source": [
    "rct_fields = [\n",
    "    'NCTId',\n",
    "    'BriefTitle',\n",
    "    'BriefSummary',\n",
    "    'DetailedDescription',\n",
    "    'EligibilityCriteria',\n",
    "]"
   ]
  },
  {
   "cell_type": "code",
   "execution_count": 5,
   "metadata": {},
   "outputs": [
    {
     "name": "stdout",
     "output_type": "stream",
     "text": [
      "https://clinicaltrials.gov/api/query/study_fields?expr=cancer&min_rnk=1&max_rnk=1000&fmt=json&fields=NCTId,BriefTitle,BriefSummary,DetailedDescription,EligibilityCriteria\n"
     ]
    }
   ],
   "source": [
    "query_url = f'{CT_GOV_URL}&fields={\",\".join(rct_fields)}'\n",
    "print(query_url)"
   ]
  },
  {
   "cell_type": "code",
   "execution_count": 6,
   "metadata": {},
   "outputs": [
    {
     "data": {
      "text/plain": [
       "200"
      ]
     },
     "execution_count": 6,
     "metadata": {},
     "output_type": "execute_result"
    }
   ],
   "source": [
    "r = requests.get(query_url)\n",
    "r.status_code"
   ]
  },
  {
   "cell_type": "code",
   "execution_count": 7,
   "metadata": {},
   "outputs": [
    {
     "data": {
      "text/plain": [
       "(1000, 6)"
      ]
     },
     "execution_count": 7,
     "metadata": {},
     "output_type": "execute_result"
    }
   ],
   "source": [
    "j = json.loads(r.content)\n",
    "df1 = pd.DataFrame(j['StudyFieldsResponse']['StudyFields'])\n",
    "df1.shape"
   ]
  },
  {
   "cell_type": "code",
   "execution_count": 8,
   "metadata": {},
   "outputs": [
    {
     "name": "stdout",
     "output_type": "stream",
     "text": [
      "Records from 1001 to 2000 with status code 200\n",
      "(2000, 6)\n",
      "Records from 2001 to 3000 with status code 200\n",
      "(3000, 6)\n",
      "Records from 3001 to 4000 with status code 200\n",
      "(4000, 6)\n",
      "Records from 4001 to 5000 with status code 200\n",
      "(5000, 6)\n",
      "Records from 5001 to 6000 with status code 200\n",
      "(6000, 6)\n",
      "Records from 6001 to 7000 with status code 200\n",
      "(7000, 6)\n",
      "Records from 7001 to 8000 with status code 200\n",
      "(8000, 6)\n",
      "Records from 8001 to 9000 with status code 200\n",
      "(9000, 6)\n",
      "Records from 9001 to 10000 with status code 200\n",
      "(10000, 6)\n",
      "Records from 10001 to 11000 with status code 200\n",
      "(11000, 6)\n",
      "Records from 11001 to 12000 with status code 200\n",
      "(12000, 6)\n",
      "Records from 12001 to 13000 with status code 200\n",
      "(13000, 6)\n",
      "Records from 13001 to 14000 with status code 200\n",
      "(14000, 6)\n",
      "Records from 14001 to 15000 with status code 200\n",
      "(15000, 6)\n",
      "Records from 15001 to 16000 with status code 200\n",
      "(16000, 6)\n",
      "Records from 16001 to 17000 with status code 200\n",
      "(17000, 6)\n",
      "Records from 17001 to 18000 with status code 200\n",
      "(18000, 6)\n",
      "Records from 18001 to 19000 with status code 200\n",
      "(19000, 6)\n",
      "Records from 19001 to 20000 with status code 200\n",
      "(20000, 6)\n",
      "Records from 20001 to 21000 with status code 200\n",
      "(21000, 6)\n",
      "Records from 21001 to 22000 with status code 200\n",
      "(22000, 6)\n",
      "Records from 22001 to 23000 with status code 200\n",
      "(23000, 6)\n",
      "Records from 23001 to 24000 with status code 200\n",
      "(24000, 6)\n",
      "Records from 24001 to 25000 with status code 200\n",
      "(25000, 6)\n",
      "Records from 25001 to 26000 with status code 200\n",
      "(26000, 6)\n",
      "Records from 26001 to 27000 with status code 200\n",
      "(27000, 6)\n",
      "Records from 27001 to 28000 with status code 200\n",
      "(28000, 6)\n",
      "Records from 28001 to 29000 with status code 200\n",
      "(29000, 6)\n",
      "Records from 29001 to 30000 with status code 200\n",
      "(30000, 6)\n",
      "Records from 30001 to 31000 with status code 200\n",
      "(31000, 6)\n",
      "Records from 31001 to 32000 with status code 200\n",
      "(32000, 6)\n",
      "Records from 32001 to 33000 with status code 200\n",
      "(33000, 6)\n",
      "Records from 33001 to 34000 with status code 200\n",
      "(34000, 6)\n",
      "Records from 34001 to 35000 with status code 200\n",
      "(35000, 6)\n",
      "Records from 35001 to 36000 with status code 200\n",
      "(36000, 6)\n",
      "Records from 36001 to 37000 with status code 200\n",
      "(37000, 6)\n",
      "Records from 37001 to 38000 with status code 200\n",
      "(38000, 6)\n",
      "Records from 38001 to 39000 with status code 200\n",
      "(39000, 6)\n",
      "Records from 39001 to 40000 with status code 200\n",
      "(40000, 6)\n",
      "Records from 40001 to 41000 with status code 200\n",
      "(41000, 6)\n",
      "Records from 41001 to 42000 with status code 200\n",
      "(42000, 6)\n",
      "Records from 42001 to 43000 with status code 200\n",
      "(43000, 6)\n",
      "Records from 43001 to 44000 with status code 200\n",
      "(44000, 6)\n",
      "Records from 44001 to 45000 with status code 200\n",
      "(45000, 6)\n",
      "Records from 45001 to 46000 with status code 200\n",
      "(46000, 6)\n",
      "Records from 46001 to 47000 with status code 200\n",
      "(47000, 6)\n",
      "Records from 47001 to 48000 with status code 200\n",
      "(48000, 6)\n",
      "Records from 48001 to 49000 with status code 200\n",
      "(49000, 6)\n",
      "Records from 49001 to 50000 with status code 200\n",
      "(50000, 6)\n",
      "Records from 50001 to 51000 with status code 200\n",
      "(51000, 6)\n",
      "Records from 51001 to 52000 with status code 200\n",
      "(52000, 6)\n",
      "Records from 52001 to 53000 with status code 200\n",
      "(53000, 6)\n",
      "Records from 53001 to 54000 with status code 200\n",
      "(54000, 6)\n",
      "Records from 54001 to 55000 with status code 200\n",
      "(55000, 6)\n",
      "Records from 55001 to 56000 with status code 200\n",
      "(56000, 6)\n",
      "Records from 56001 to 57000 with status code 200\n",
      "(57000, 6)\n",
      "Records from 57001 to 58000 with status code 200\n",
      "(58000, 6)\n",
      "Records from 58001 to 59000 with status code 200\n",
      "(59000, 6)\n",
      "Records from 59001 to 60000 with status code 200\n",
      "(60000, 6)\n",
      "Records from 60001 to 61000 with status code 200\n",
      "(61000, 6)\n",
      "Records from 61001 to 62000 with status code 200\n",
      "(62000, 6)\n",
      "Records from 62001 to 63000 with status code 200\n",
      "(63000, 6)\n",
      "Records from 63001 to 64000 with status code 200\n",
      "(64000, 6)\n",
      "Records from 64001 to 65000 with status code 200\n",
      "(65000, 6)\n",
      "Records from 65001 to 66000 with status code 200\n",
      "(66000, 6)\n",
      "Records from 66001 to 67000 with status code 200\n",
      "(67000, 6)\n",
      "Records from 67001 to 68000 with status code 200\n",
      "(68000, 6)\n",
      "Records from 68001 to 69000 with status code 200\n",
      "(69000, 6)\n",
      "Records from 69001 to 70000 with status code 200\n",
      "(70000, 6)\n",
      "Records from 70001 to 71000 with status code 200\n",
      "(71000, 6)\n",
      "Records from 71001 to 72000 with status code 200\n",
      "(72000, 6)\n",
      "Records from 72001 to 73000 with status code 200\n",
      "(73000, 6)\n",
      "Records from 73001 to 74000 with status code 200\n",
      "(74000, 6)\n",
      "Records from 74001 to 75000 with status code 200\n",
      "(75000, 6)\n",
      "Records from 75001 to 76000 with status code 200\n",
      "(76000, 6)\n"
     ]
    }
   ],
   "source": [
    "# Let's iterate over the results 1000 at a time\n",
    "min_rank = 1\n",
    "max_rank = 1000\n",
    "for i in range(75):\n",
    "    min_rank = min_rank + 1000\n",
    "    max_rank = max_rank + 1000\n",
    "    CT_GOV_URL = f'https://clinicaltrials.gov/api/query/study_fields?expr=cancer&min_rnk={min_rank}&max_rnk={max_rank}&fmt=json'\n",
    "    query_url = f'{CT_GOV_URL}&fields={\",\".join(rct_fields)}'\n",
    "    r = requests.get(query_url)\n",
    "    print(f'Records from {min_rank} to {max_rank} with status code {r.status_code}')\n",
    "    j = json.loads(r.content)\n",
    "    df2 = pd.DataFrame(j['StudyFieldsResponse']['StudyFields'])\n",
    "    df1 = pd.concat([df1, df2])\n",
    "    print(df1.shape)"
   ]
  },
  {
   "cell_type": "code",
   "execution_count": 19,
   "metadata": {},
   "outputs": [
    {
     "data": {
      "text/plain": [
       "(76000, 6)"
      ]
     },
     "execution_count": 19,
     "metadata": {},
     "output_type": "execute_result"
    }
   ],
   "source": [
    "df = df1\n",
    "df.shape"
   ]
  },
  {
   "cell_type": "markdown",
   "metadata": {},
   "source": [
    "#### Let's use the 76k oncology trials data as our training corpus"
   ]
  },
  {
   "cell_type": "code",
   "execution_count": 20,
   "metadata": {},
   "outputs": [
    {
     "data": {
      "text/html": [
       "<div>\n",
       "<style scoped>\n",
       "    .dataframe tbody tr th:only-of-type {\n",
       "        vertical-align: middle;\n",
       "    }\n",
       "\n",
       "    .dataframe tbody tr th {\n",
       "        vertical-align: top;\n",
       "    }\n",
       "\n",
       "    .dataframe thead th {\n",
       "        text-align: right;\n",
       "    }\n",
       "</style>\n",
       "<table border=\"1\" class=\"dataframe\">\n",
       "  <thead>\n",
       "    <tr style=\"text-align: right;\">\n",
       "      <th></th>\n",
       "      <th>Rank</th>\n",
       "      <th>NCTId</th>\n",
       "      <th>BriefTitle</th>\n",
       "      <th>BriefSummary</th>\n",
       "      <th>DetailedDescription</th>\n",
       "      <th>EligibilityCriteria</th>\n",
       "    </tr>\n",
       "  </thead>\n",
       "  <tbody>\n",
       "    <tr>\n",
       "      <th>0</th>\n",
       "      <td>1</td>\n",
       "      <td>[NCT04318756]</td>\n",
       "      <td>[The Italian Version of Cancer Worry Scale]</td>\n",
       "      <td>[An Italian language version of the Cancer Worry Scale is not available yet.\\n\\nThe aim of this study is to develop and validate the Italian version of Cancer Worry Scale through subjects at high risk of pancreatic cancer for familiarity/genetic predisposition, or suffering from premalignant cystic lesions.]</td>\n",
       "      <td>[The Fear of Cancer remains a significant problem for subjects enrolled surveillance programs. This emotional condition can influence the patients' wellbeing and their adherence to treatments. No results coming from the application of Cancer Worry Scale on high-risk of Pancreatic cancer individuals have been provided yet.\\n\\nThe fear is an emotional reaction that can be the result of interpretation and cognitions of perceived internal cues and/or external cues. To objectify this emotion, a cancer worry scale, has been developed to investigate the fear in female breast cancer survivors. The proposed scale assesses the psychological distress caused by fear of cancer.\\n\\nThe detection of high level of fear can prevent problematic behaviours, including anxious preoccupation, avoidance, and excessive checking, and moreover it can help patients to reduce difficulties in performing the individual's daily and social activities. The scale could use to evaluate the psychological burden produced by the enrolment in a surveillance program due to a certain predisposition to Pancreatic cancer. One step forward will be to manage those individuals with high-level of Fear of cancer, providing them a proper psychological support.\\n\\nAt the General and Pancreatic Surgery Unit of the Pancreas Institute, some experimental self-made psychological support programs that investigate different psychologic distress through validated instruments, like anxiety, depression, perceived stress and global assessment or quality of life have been built up. It must be noted that the scale is not available specifically for Pancreatic cancer (originally it was created for breast cancer) , and for the Italian language, thus it has never been applied in an italian surveillance/follow-up program dealing with Pancreatic cancer. Nowadays, there is only a well-structured paper assessing psychological factors associated with cancer worries in high risk participants in a pancreatic cancer surveillance program. Differently than what has been already reported by Konings et al, the cohorts of patients that will be considered are heterogeneous, reflecting more accurately the real-life scenario of the subjects to whom the scale is administered to. In addition, this may help to identify those individuals that may benefit from a psychological support, in order to prevent a withdrawal from the surveillance program.\\n\\nHowever, a cut-off has not been provided yet. With next step study we'll aim at determining a cut-off for the detection clinically relevant worry for cancer.]</td>\n",
       "      <td>[Inclusion Criteria:\\n\\nSubject will be recruited from the current outpatients' clinic activity of the General and Pancreatic Surgery Unit, Pancreas Institute, Verona University Hospital. Subjects must be able to read and write in Italian. After obtained informed consent we will ask them to participate to preliminary pilot phase.\\n\\nThe interview of the pilot group will be audio recorded to allow to investigate and track detail that will highlight the comprehension of scale and participants' suggestion.\\n\\nPatients affected by cynic neoplasm (group A) and high risk subjects for familiarity/genetic predisposition (group B) are currently enrolled at General and Pancreatic Surgery Unit of the Pancreas Institute of the University of Verona.\\n\\nGroup A Patients with premalignant lesions (such as intraductal papillary mucinous neoplasms) that are followed-up at our Institution, to detect any clinic-radiological progression. Subjects older than 18 will be enrolled.\\n\\nGroup B\\n\\nThe enrolment criteria were the following :\\n\\nHaving at least 45 years of age or 10 years younger than the age of the youngest relative with pancreatic cancer (only for subject with familiar history of pancreatic cancer)\\nHaving at least 40 years of age or 5 years younger than the age of the youngest relative with pancreatic cancer (only for subject with familial pancreatitis and subject affected by Lynch syndrome with at least one relative first- or second-degree affected by pancreatic cancer and subject having a known genetic mutation with at least a first-degree relative or a second-degree relative affected by pancreatic cancer\\nHaving at least 30 years of age for subject with Familial Multiple Melanoma Syndrome\\nHaving at least 30 years of age for patients affected by Peutz-Jeghers syndrome.\\n\\nThe interview of pilot group will be record to allow us to investigate and track detail that will highlight the comprehension of cancer worry scale and participants' suggestion.\\n\\nExclusion Criteria:\\n\\npatients who not meet eligibility criteria]</td>\n",
       "    </tr>\n",
       "    <tr>\n",
       "      <th>1</th>\n",
       "      <td>2</td>\n",
       "      <td>[NCT03581708]</td>\n",
       "      <td>[Venous Thromboembolism in Advanced Lung Cancer]</td>\n",
       "      <td>[This is a prospective observatory clinical study, aiming to establish and validate venous thromboembolism risk model in Chinese advanced non-small cell lung cancer.]</td>\n",
       "      <td>[VTE has high incidence in lung cancer and increases the mortality. Appropriate preventive measures contribute to 50% increase of incidence. The investigators are to investigate the VTE in advanced non-small cell lung cancer and delineate the risk factors to establish a VTE risk model system helping clinicians to differentiate VTE high risk population and apply early prevention in order to reduce the incidence of VTE.]</td>\n",
       "      <td>[Inclusion Criteria:\\n\\nAge ≥ 18 years at the time of screening.\\nEastern Cooperative Oncology Group performance status of ≤ 2.\\nWritten informed consent obtained from the patient.\\nHistologically and cytologically documented Stage 3B-4 lung cancer (according to Version 8 of the International Association for the Study of Lung Cancer Staging system).\\nPatients with stage 1 to 3, who undergo radical therapy with disease free survival (DFS) &gt;12 months.\\nWillingness and ability to comply with scheduled visits and other study procedures.\\n\\nExclusion Criteria:\\n\\nHistory of another primary malignancy except for malignancy treated with curative intent with known active disease ≥ 5 years before date of the informed consent.\\nWithout signed informed consent.\\nUnwillingness or inability to comply with scheduled visits or other study procedures.\\nPreviously diagnosed with VTE before signing informed consent.]</td>\n",
       "    </tr>\n",
       "    <tr>\n",
       "      <th>2</th>\n",
       "      <td>3</td>\n",
       "      <td>[NCT02053662]</td>\n",
       "      <td>[Biomarker Identification for Bladder Cancer Patients]</td>\n",
       "      <td>[To develop a simple blood and urine test that we would perform before patients start their treatment to predict the risk that their bladder cancer might come back. To develop this test the investigators plan to analyze blood, urine and cancer tissue from bladder cancer patients and follow them closely during and after treatment. This will include looking for changes in proteins and genes that might play a role in bladder cancer biology. The investigators will then compare the information obtained from the studies of blood, urine and cancer tissue between patients that are cured and those whose cancer comes back. The knowledge about these differences between patients can then potentially be used to develop a blood or urine test to tell us who has a high risk for having bladder cancer come back.]</td>\n",
       "      <td>[]</td>\n",
       "      <td>[Inclusion Criteria:\\n\\nAdult patients ≥18 years old.\\nPatients suspected, clinically diagnosed, or histologically diagnosed bladder cancer.\\nPatients undergoing cystoscopy without cancer suspicion.\\nAbility to give an informed consent.\\n\\nExclusion Criteria:\\n\\nPatients receiving concurrent therapy for a second malignancy.\\n&lt; 18 years old.\\nInability to give an informed consent.]</td>\n",
       "    </tr>\n",
       "    <tr>\n",
       "      <th>3</th>\n",
       "      <td>4</td>\n",
       "      <td>[NCT00897650]</td>\n",
       "      <td>[Protein and RNA Expression Patterns in Predicting Response to Treatment in Patients With Lung Cancer]</td>\n",
       "      <td>[RATIONALE: Studying samples of tumor tissue and blood in the laboratory from patients with cancer may help doctors learn more about changes that occur in genetic material (DNA and RNA) and may also identify protein expression patterns related to cancer. It may also help doctors predict how patients will respond to treatment.\\n\\nPURPOSE: This research study evaluates changes in DNA, RNA, and proteins with the goal of predicting response to treatment in patients with lung cancer.]</td>\n",
       "      <td>[OBJECTIVES:\\n\\nTo determine protein and/or RNA expression patterns capable of predicting tumor response to therapy in tumor tissue samples from patients with lung cancer or suspected of having lung cancer.\\nTo characterize the genes and proteins found to be predictive of response in order to help elucidate the molecular biology underlying cancer chemosensitivity.\\nTo evaluate DNA mutations found within the lung cancer sample which may be predictive of response or resistance to certain therapeutic agents.\\n\\nOUTLINE: Patients undergo collection of tumor tissue by percutaneous fine needle aspiration, core biopsy, thoracentesis, or during any medically indicated procedure involving removal of lung cancer tissue. Tissue samples are analyzed by a variety of techniques, including DNA sequencing, RNA sequencing and expression levels, protein assessment [by immunohistochemistry, western blot, Matrix-assisted laser desorption/ionization time of flight mass spectrometry (MALDI-MS]). The goal of these studies is to identify of gene mutations, gene expression levels, and proteins predictive of treatment response. Blood samples are also collected to obtain normal DNA for analysis.\\n\\nAfter completion of study, patients will be followed until their death.]</td>\n",
       "      <td>[Inclusion criteria\\n\\nDiagnosis of suspected lung cancer or lung cancer\\n\\nExclusion criteria\\n\\nInability to undergo therapy]</td>\n",
       "    </tr>\n",
       "    <tr>\n",
       "      <th>4</th>\n",
       "      <td>5</td>\n",
       "      <td>[NCT02890667]</td>\n",
       "      <td>[Evaluation of Algorithms to Identify Incident Cancer Cases by Using French Health Administrative Databases]</td>\n",
       "      <td>[\"This study is a population based observational study conducted on the French administrative databases to estimate cancer incidence in 2012 by using the \"ECHANTILLON GENERALISTE DES BENEFICIAIRES\" (EGB, a 1/97th dynamic random sample of the SNIIRAM).\\n\\nThe EGB database contains anonymous and prospectively recorded data about all beneficiaries' medical reimbursements. Many algorithm definitions are defined to estimate the incident rate of cancer in 2012 from the EGB database. The incidence rates obtained by each algorithm definition are compared to national incidence rates by indirect age and sex standardization. National incidence rates are obtained from \"FRANCE CANCER INCIDENCE ET MORTALITE\" (FRANCIM): the French network of cancer registries.\"]</td>\n",
       "      <td>[\"This study is a population based observational study conducted on the French administrative databases to estimate cancer incidence in 2012 by using the \"ECHANTILLON GENERALISTE DES BENEFICIAIRES\" (EGB, a 1/97th dynamic random sample of the SNIIRAM).\\n\\nThe EGB database contains anonymous and prospectively recorded data about all beneficiaries' medical reimbursements including age, gender, long-term chronic disease (LTD), date of death, all out-hospital health-spending reimbursements and all patients' hospitalizations. Many algorithm definitions are defined to estimate the incident rate of cancer in 2012 from the EGB database and are applied separately for men and women. These algorithms use information from either out-hospital care only (LTD status, anticancer specific drugs, outpatient radiotherapy sessions), or inpatient stays only (primary or related diagnosis of cancer, cancer-related procedures) or combine both information. The incidence rates obtained by each algorithm definition are compared to national incidence rates by indirect age and sex standardization. National incidence rates are obtained from FRANCE CANCER INCIDENCE ET MORTALITE (FRANCIM): the French network of cancer registries that has collected cancer cases since 1975 from 21 French registries (general or specific) covering 17 of the 95 French metropolitan departments. The most recent estimation of the FRANCIM network was published for 2012 and included all cancer locations (C00-C97) excluding non-melanoma skin cancer (C44).\\n\\nFollow up All patients included are followed from January 1, 2012 until the occurrence of the first of death, cancer occurrence, moving out of the general insurance scheme or January 1, 2013.\\n\\nTo allow for comparison with data from cancer registries, only malignant neoplasms are considered: ICD-10 codes (C00-C97), excluding non-melanoma skin cancer (C44).\\n\\nStatistical analysis\\n\\nThe number of incident cancer cases obtained with each algorithm is compared to the expected number of cancer cases calculated by using national estimation for the same age and sex stratum. The standardized incidence ratio (SIR) with 95% confidence intervals is calculated by indirect age and sex standardization. Age- and sex-specific incident rates are compared to the incident rates in 2012 estimated by FRANCIM.\\n\\nThe investigators also apply the most accurate algorithm separately for men and women to the 3 most common cancers in the corresponding gender by restricting the involved cancer codes, procedures and drugs to those related to the cancer of interest. The investigators also restrict our population to the most-studied age groups in cancer etiological studies (40 to 75 years). All the analyses are performed using SAS Enterprise Guide, version 4.3.\"]</td>\n",
       "      <td>[Inclusion Criteria:\\n\\nBeneficiaries present in the EGB on January 1, 2012.\\nBeneficiaries who are &lt; 90 years old on January 1, 2012.\\nBeneficiaries residing in metropolitan France.\\nBeneficiaries affiliated with the general insurance scheme since January 1, 2011 or before.\\n\\nExclusion Criteria:\\n\\nNo prevalent cancer before January 1, 2012; ( hospital discharge with a primary, related or associated diagnosis of cancer (C00-C97), or personal history of cancer (Z85); LTD status related to cancer; reimbursement for any cancer-specific drug; or external radiotherapy session).]</td>\n",
       "    </tr>\n",
       "  </tbody>\n",
       "</table>\n",
       "</div>"
      ],
      "text/plain": [
       "   Rank          NCTId  \\\n",
       "0     1  [NCT04318756]   \n",
       "1     2  [NCT03581708]   \n",
       "2     3  [NCT02053662]   \n",
       "3     4  [NCT00897650]   \n",
       "4     5  [NCT02890667]   \n",
       "\n",
       "                                                                                                     BriefTitle  \\\n",
       "0                                                                   [The Italian Version of Cancer Worry Scale]   \n",
       "1                                                              [Venous Thromboembolism in Advanced Lung Cancer]   \n",
       "2                                                        [Biomarker Identification for Bladder Cancer Patients]   \n",
       "3        [Protein and RNA Expression Patterns in Predicting Response to Treatment in Patients With Lung Cancer]   \n",
       "4  [Evaluation of Algorithms to Identify Incident Cancer Cases by Using French Health Administrative Databases]   \n",
       "\n",
       "                                                                                                                                                                                                                                                                                                                                                                                                                                                                                                                                                                                                                                                                                                                                                                                                                             BriefSummary  \\\n",
       "0                                                                                                                                                                                                                                                                                                                                                                                                                                                                                                                   [An Italian language version of the Cancer Worry Scale is not available yet.\\n\\nThe aim of this study is to develop and validate the Italian version of Cancer Worry Scale through subjects at high risk of pancreatic cancer for familiarity/genetic predisposition, or suffering from premalignant cystic lesions.]   \n",
       "1                                                                                                                                                                                                                                                                                                                                                                                                                                                                                                                                                                                                                                                                  [This is a prospective observatory clinical study, aiming to establish and validate venous thromboembolism risk model in Chinese advanced non-small cell lung cancer.]   \n",
       "2  [To develop a simple blood and urine test that we would perform before patients start their treatment to predict the risk that their bladder cancer might come back. To develop this test the investigators plan to analyze blood, urine and cancer tissue from bladder cancer patients and follow them closely during and after treatment. This will include looking for changes in proteins and genes that might play a role in bladder cancer biology. The investigators will then compare the information obtained from the studies of blood, urine and cancer tissue between patients that are cured and those whose cancer comes back. The knowledge about these differences between patients can then potentially be used to develop a blood or urine test to tell us who has a high risk for having bladder cancer come back.]   \n",
       "3                                                                                                                                                                                                                                                                                                                                    [RATIONALE: Studying samples of tumor tissue and blood in the laboratory from patients with cancer may help doctors learn more about changes that occur in genetic material (DNA and RNA) and may also identify protein expression patterns related to cancer. It may also help doctors predict how patients will respond to treatment.\\n\\nPURPOSE: This research study evaluates changes in DNA, RNA, and proteins with the goal of predicting response to treatment in patients with lung cancer.]   \n",
       "4                                                   [\"This study is a population based observational study conducted on the French administrative databases to estimate cancer incidence in 2012 by using the \"ECHANTILLON GENERALISTE DES BENEFICIAIRES\" (EGB, a 1/97th dynamic random sample of the SNIIRAM).\\n\\nThe EGB database contains anonymous and prospectively recorded data about all beneficiaries' medical reimbursements. Many algorithm definitions are defined to estimate the incident rate of cancer in 2012 from the EGB database. The incidence rates obtained by each algorithm definition are compared to national incidence rates by indirect age and sex standardization. National incidence rates are obtained from \"FRANCE CANCER INCIDENCE ET MORTALITE\" (FRANCIM): the French network of cancer registries.\"]   \n",
       "\n",
       "                                                                                                                                                                                                                                                                                                                                                                                                                                                                                                                                                                                                                                                                                                                                                                                                                                                                                                                                                                                                                                                                                                                                                                                                                                                                                                                                                                                                                                                                                                                                                                                                                                                                                                                                                                                                                                                                                                                                                                                                                                                                                                                                                                                                                                                                                                                                                                                                                                                                                                                                                                                                                                                                                                                                                                                                                                                                           DetailedDescription  \\\n",
       "0                                                                                                                                                                                                                        [The Fear of Cancer remains a significant problem for subjects enrolled surveillance programs. This emotional condition can influence the patients' wellbeing and their adherence to treatments. No results coming from the application of Cancer Worry Scale on high-risk of Pancreatic cancer individuals have been provided yet.\\n\\nThe fear is an emotional reaction that can be the result of interpretation and cognitions of perceived internal cues and/or external cues. To objectify this emotion, a cancer worry scale, has been developed to investigate the fear in female breast cancer survivors. The proposed scale assesses the psychological distress caused by fear of cancer.\\n\\nThe detection of high level of fear can prevent problematic behaviours, including anxious preoccupation, avoidance, and excessive checking, and moreover it can help patients to reduce difficulties in performing the individual's daily and social activities. The scale could use to evaluate the psychological burden produced by the enrolment in a surveillance program due to a certain predisposition to Pancreatic cancer. One step forward will be to manage those individuals with high-level of Fear of cancer, providing them a proper psychological support.\\n\\nAt the General and Pancreatic Surgery Unit of the Pancreas Institute, some experimental self-made psychological support programs that investigate different psychologic distress through validated instruments, like anxiety, depression, perceived stress and global assessment or quality of life have been built up. It must be noted that the scale is not available specifically for Pancreatic cancer (originally it was created for breast cancer) , and for the Italian language, thus it has never been applied in an italian surveillance/follow-up program dealing with Pancreatic cancer. Nowadays, there is only a well-structured paper assessing psychological factors associated with cancer worries in high risk participants in a pancreatic cancer surveillance program. Differently than what has been already reported by Konings et al, the cohorts of patients that will be considered are heterogeneous, reflecting more accurately the real-life scenario of the subjects to whom the scale is administered to. In addition, this may help to identify those individuals that may benefit from a psychological support, in order to prevent a withdrawal from the surveillance program.\\n\\nHowever, a cut-off has not been provided yet. With next step study we'll aim at determining a cut-off for the detection clinically relevant worry for cancer.]   \n",
       "1                                                                                                                                                                                                                                                                                                                                                                                                                                                                                                                                                                                                                                                                                                                                                                                                                                                                                                                                                                                                                                                                                                                                                                                                                                                                                                                                                                                                                                                                                                                                                                                                                                                                                                                                                                                                                                                                                                                                                                                                                                                                                                                                                                                                                                                                                                                                                                                                                                                       [VTE has high incidence in lung cancer and increases the mortality. Appropriate preventive measures contribute to 50% increase of incidence. The investigators are to investigate the VTE in advanced non-small cell lung cancer and delineate the risk factors to establish a VTE risk model system helping clinicians to differentiate VTE high risk population and apply early prevention in order to reduce the incidence of VTE.]   \n",
       "2                                                                                                                                                                                                                                                                                                                                                                                                                                                                                                                                                                                                                                                                                                                                                                                                                                                                                                                                                                                                                                                                                                                                                                                                                                                                                                                                                                                                                                                                                                                                                                                                                                                                                                                                                                                                                                                                                                                                                                                                                                                                                                                                                                                                                                                                                                                                                                                                                                                                                                                                                                                                                                                                                                                                                                                                                                                                                           []   \n",
       "3                                                                                                                                                                                                                                                                                                                                                                                                                                                                                                                                                                                                                                                                                                                                                                                                                                                                                                                                                                                                                                                                                                                                                                                                                                                                                                                                                                                                                                                                                                                                                                              [OBJECTIVES:\\n\\nTo determine protein and/or RNA expression patterns capable of predicting tumor response to therapy in tumor tissue samples from patients with lung cancer or suspected of having lung cancer.\\nTo characterize the genes and proteins found to be predictive of response in order to help elucidate the molecular biology underlying cancer chemosensitivity.\\nTo evaluate DNA mutations found within the lung cancer sample which may be predictive of response or resistance to certain therapeutic agents.\\n\\nOUTLINE: Patients undergo collection of tumor tissue by percutaneous fine needle aspiration, core biopsy, thoracentesis, or during any medically indicated procedure involving removal of lung cancer tissue. Tissue samples are analyzed by a variety of techniques, including DNA sequencing, RNA sequencing and expression levels, protein assessment [by immunohistochemistry, western blot, Matrix-assisted laser desorption/ionization time of flight mass spectrometry (MALDI-MS]). The goal of these studies is to identify of gene mutations, gene expression levels, and proteins predictive of treatment response. Blood samples are also collected to obtain normal DNA for analysis.\\n\\nAfter completion of study, patients will be followed until their death.]   \n",
       "4  [\"This study is a population based observational study conducted on the French administrative databases to estimate cancer incidence in 2012 by using the \"ECHANTILLON GENERALISTE DES BENEFICIAIRES\" (EGB, a 1/97th dynamic random sample of the SNIIRAM).\\n\\nThe EGB database contains anonymous and prospectively recorded data about all beneficiaries' medical reimbursements including age, gender, long-term chronic disease (LTD), date of death, all out-hospital health-spending reimbursements and all patients' hospitalizations. Many algorithm definitions are defined to estimate the incident rate of cancer in 2012 from the EGB database and are applied separately for men and women. These algorithms use information from either out-hospital care only (LTD status, anticancer specific drugs, outpatient radiotherapy sessions), or inpatient stays only (primary or related diagnosis of cancer, cancer-related procedures) or combine both information. The incidence rates obtained by each algorithm definition are compared to national incidence rates by indirect age and sex standardization. National incidence rates are obtained from FRANCE CANCER INCIDENCE ET MORTALITE (FRANCIM): the French network of cancer registries that has collected cancer cases since 1975 from 21 French registries (general or specific) covering 17 of the 95 French metropolitan departments. The most recent estimation of the FRANCIM network was published for 2012 and included all cancer locations (C00-C97) excluding non-melanoma skin cancer (C44).\\n\\nFollow up All patients included are followed from January 1, 2012 until the occurrence of the first of death, cancer occurrence, moving out of the general insurance scheme or January 1, 2013.\\n\\nTo allow for comparison with data from cancer registries, only malignant neoplasms are considered: ICD-10 codes (C00-C97), excluding non-melanoma skin cancer (C44).\\n\\nStatistical analysis\\n\\nThe number of incident cancer cases obtained with each algorithm is compared to the expected number of cancer cases calculated by using national estimation for the same age and sex stratum. The standardized incidence ratio (SIR) with 95% confidence intervals is calculated by indirect age and sex standardization. Age- and sex-specific incident rates are compared to the incident rates in 2012 estimated by FRANCIM.\\n\\nThe investigators also apply the most accurate algorithm separately for men and women to the 3 most common cancers in the corresponding gender by restricting the involved cancer codes, procedures and drugs to those related to the cancer of interest. The investigators also restrict our population to the most-studied age groups in cancer etiological studies (40 to 75 years). All the analyses are performed using SAS Enterprise Guide, version 4.3.\"]   \n",
       "\n",
       "                                                                                                                                                                                                                                                                                                                                                                                                                                                                                                                                                                                                                                                                                                                                                                                                                                                                                                                                                                                                                                                                                                                                                                                                                                                                                                                                                                                                                                                                                                                                                                                                                                                                                                                                                                                                                                                                                                                                                                                                                                                                                                             EligibilityCriteria  \n",
       "0  [Inclusion Criteria:\\n\\nSubject will be recruited from the current outpatients' clinic activity of the General and Pancreatic Surgery Unit, Pancreas Institute, Verona University Hospital. Subjects must be able to read and write in Italian. After obtained informed consent we will ask them to participate to preliminary pilot phase.\\n\\nThe interview of the pilot group will be audio recorded to allow to investigate and track detail that will highlight the comprehension of scale and participants' suggestion.\\n\\nPatients affected by cynic neoplasm (group A) and high risk subjects for familiarity/genetic predisposition (group B) are currently enrolled at General and Pancreatic Surgery Unit of the Pancreas Institute of the University of Verona.\\n\\nGroup A Patients with premalignant lesions (such as intraductal papillary mucinous neoplasms) that are followed-up at our Institution, to detect any clinic-radiological progression. Subjects older than 18 will be enrolled.\\n\\nGroup B\\n\\nThe enrolment criteria were the following :\\n\\nHaving at least 45 years of age or 10 years younger than the age of the youngest relative with pancreatic cancer (only for subject with familiar history of pancreatic cancer)\\nHaving at least 40 years of age or 5 years younger than the age of the youngest relative with pancreatic cancer (only for subject with familial pancreatitis and subject affected by Lynch syndrome with at least one relative first- or second-degree affected by pancreatic cancer and subject having a known genetic mutation with at least a first-degree relative or a second-degree relative affected by pancreatic cancer\\nHaving at least 30 years of age for subject with Familial Multiple Melanoma Syndrome\\nHaving at least 30 years of age for patients affected by Peutz-Jeghers syndrome.\\n\\nThe interview of pilot group will be record to allow us to investigate and track detail that will highlight the comprehension of cancer worry scale and participants' suggestion.\\n\\nExclusion Criteria:\\n\\npatients who not meet eligibility criteria]  \n",
       "1                                                                                                                                                                                                                                                                                                                                                                                                                                                                                                                                                                                                                                                                                                                                                                                                                                                                                                                                                                                                                                                                                                                                                                               [Inclusion Criteria:\\n\\nAge ≥ 18 years at the time of screening.\\nEastern Cooperative Oncology Group performance status of ≤ 2.\\nWritten informed consent obtained from the patient.\\nHistologically and cytologically documented Stage 3B-4 lung cancer (according to Version 8 of the International Association for the Study of Lung Cancer Staging system).\\nPatients with stage 1 to 3, who undergo radical therapy with disease free survival (DFS) >12 months.\\nWillingness and ability to comply with scheduled visits and other study procedures.\\n\\nExclusion Criteria:\\n\\nHistory of another primary malignancy except for malignancy treated with curative intent with known active disease ≥ 5 years before date of the informed consent.\\nWithout signed informed consent.\\nUnwillingness or inability to comply with scheduled visits or other study procedures.\\nPreviously diagnosed with VTE before signing informed consent.]  \n",
       "2                                                                                                                                                                                                                                                                                                                                                                                                                                                                                                                                                                                                                                                                                                                                                                                                                                                                                                                                                                                                                                                                                                                                                                                                                                                                                                                                                                                                                                                                                                                                                                                                                                                                                                                                [Inclusion Criteria:\\n\\nAdult patients ≥18 years old.\\nPatients suspected, clinically diagnosed, or histologically diagnosed bladder cancer.\\nPatients undergoing cystoscopy without cancer suspicion.\\nAbility to give an informed consent.\\n\\nExclusion Criteria:\\n\\nPatients receiving concurrent therapy for a second malignancy.\\n< 18 years old.\\nInability to give an informed consent.]  \n",
       "3                                                                                                                                                                                                                                                                                                                                                                                                                                                                                                                                                                                                                                                                                                                                                                                                                                                                                                                                                                                                                                                                                                                                                                                                                                                                                                                                                                                                                                                                                                                                                                                                                                                                                                                                                                                                                                                                                                                                                                                                [Inclusion criteria\\n\\nDiagnosis of suspected lung cancer or lung cancer\\n\\nExclusion criteria\\n\\nInability to undergo therapy]  \n",
       "4                                                                                                                                                                                                                                                                                                                                                                                                                                                                                                                                                                                                                                                                                                                                                                                                                                                                                                                                                                                                                                                                                                                                                                                                                                                                                                                                                                                                                                                                                                                         [Inclusion Criteria:\\n\\nBeneficiaries present in the EGB on January 1, 2012.\\nBeneficiaries who are < 90 years old on January 1, 2012.\\nBeneficiaries residing in metropolitan France.\\nBeneficiaries affiliated with the general insurance scheme since January 1, 2011 or before.\\n\\nExclusion Criteria:\\n\\nNo prevalent cancer before January 1, 2012; ( hospital discharge with a primary, related or associated diagnosis of cancer (C00-C97), or personal history of cancer (Z85); LTD status related to cancer; reimbursement for any cancer-specific drug; or external radiotherapy session).]  "
      ]
     },
     "execution_count": 20,
     "metadata": {},
     "output_type": "execute_result"
    }
   ],
   "source": [
    "df.head()"
   ]
  },
  {
   "cell_type": "code",
   "execution_count": 21,
   "metadata": {},
   "outputs": [
    {
     "data": {
      "text/plain": [
       "0    NCT04318756\n",
       "1    NCT03581708\n",
       "2    NCT02053662\n",
       "3    NCT00897650\n",
       "4    NCT02890667\n",
       "Name: NCTId, dtype: object"
      ]
     },
     "execution_count": 21,
     "metadata": {},
     "output_type": "execute_result"
    }
   ],
   "source": [
    "temp = df['NCTId'].str[0]\n",
    "temp.head()"
   ]
  },
  {
   "cell_type": "code",
   "execution_count": 22,
   "metadata": {},
   "outputs": [
    {
     "name": "stdout",
     "output_type": "stream",
     "text": [
      "NCTId\n",
      "BriefTitle\n",
      "BriefSummary\n",
      "DetailedDescription\n",
      "EligibilityCriteria\n"
     ]
    }
   ],
   "source": [
    "for col in df.columns[1:]:\n",
    "    print(col)\n",
    "    df[col] = df[col].str[0]"
   ]
  },
  {
   "cell_type": "code",
   "execution_count": 23,
   "metadata": {},
   "outputs": [
    {
     "data": {
      "text/html": [
       "<div>\n",
       "<style scoped>\n",
       "    .dataframe tbody tr th:only-of-type {\n",
       "        vertical-align: middle;\n",
       "    }\n",
       "\n",
       "    .dataframe tbody tr th {\n",
       "        vertical-align: top;\n",
       "    }\n",
       "\n",
       "    .dataframe thead th {\n",
       "        text-align: right;\n",
       "    }\n",
       "</style>\n",
       "<table border=\"1\" class=\"dataframe\">\n",
       "  <thead>\n",
       "    <tr style=\"text-align: right;\">\n",
       "      <th></th>\n",
       "      <th>Rank</th>\n",
       "      <th>NCTId</th>\n",
       "      <th>BriefTitle</th>\n",
       "      <th>BriefSummary</th>\n",
       "      <th>DetailedDescription</th>\n",
       "      <th>EligibilityCriteria</th>\n",
       "    </tr>\n",
       "  </thead>\n",
       "  <tbody>\n",
       "    <tr>\n",
       "      <th>0</th>\n",
       "      <td>1</td>\n",
       "      <td>NCT04318756</td>\n",
       "      <td>The Italian Version of Cancer Worry Scale</td>\n",
       "      <td>An Italian language version of the Cancer Worry Scale is not available yet.\\n\\nThe aim of this study is to develop and validate the Italian version of Cancer Worry Scale through subjects at high risk of pancreatic cancer for familiarity/genetic predisposition, or suffering from premalignant cystic lesions.</td>\n",
       "      <td>The Fear of Cancer remains a significant problem for subjects enrolled surveillance programs. This emotional condition can influence the patients' wellbeing and their adherence to treatments. No results coming from the application of Cancer Worry Scale on high-risk of Pancreatic cancer individuals have been provided yet.\\n\\nThe fear is an emotional reaction that can be the result of interpretation and cognitions of perceived internal cues and/or external cues. To objectify this emotion, a cancer worry scale, has been developed to investigate the fear in female breast cancer survivors. The proposed scale assesses the psychological distress caused by fear of cancer.\\n\\nThe detection of high level of fear can prevent problematic behaviours, including anxious preoccupation, avoidance, and excessive checking, and moreover it can help patients to reduce difficulties in performing the individual's daily and social activities. The scale could use to evaluate the psychological burden produced by the enrolment in a surveillance program due to a certain predisposition to Pancreatic cancer. One step forward will be to manage those individuals with high-level of Fear of cancer, providing them a proper psychological support.\\n\\nAt the General and Pancreatic Surgery Unit of the Pancreas Institute, some experimental self-made psychological support programs that investigate different psychologic distress through validated instruments, like anxiety, depression, perceived stress and global assessment or quality of life have been built up. It must be noted that the scale is not available specifically for Pancreatic cancer (originally it was created for breast cancer) , and for the Italian language, thus it has never been applied in an italian surveillance/follow-up program dealing with Pancreatic cancer. Nowadays, there is only a well-structured paper assessing psychological factors associated with cancer worries in high risk participants in a pancreatic cancer surveillance program. Differently than what has been already reported by Konings et al, the cohorts of patients that will be considered are heterogeneous, reflecting more accurately the real-life scenario of the subjects to whom the scale is administered to. In addition, this may help to identify those individuals that may benefit from a psychological support, in order to prevent a withdrawal from the surveillance program.\\n\\nHowever, a cut-off has not been provided yet. With next step study we'll aim at determining a cut-off for the detection clinically relevant worry for cancer.</td>\n",
       "      <td>Inclusion Criteria:\\n\\nSubject will be recruited from the current outpatients' clinic activity of the General and Pancreatic Surgery Unit, Pancreas Institute, Verona University Hospital. Subjects must be able to read and write in Italian. After obtained informed consent we will ask them to participate to preliminary pilot phase.\\n\\nThe interview of the pilot group will be audio recorded to allow to investigate and track detail that will highlight the comprehension of scale and participants' suggestion.\\n\\nPatients affected by cynic neoplasm (group A) and high risk subjects for familiarity/genetic predisposition (group B) are currently enrolled at General and Pancreatic Surgery Unit of the Pancreas Institute of the University of Verona.\\n\\nGroup A Patients with premalignant lesions (such as intraductal papillary mucinous neoplasms) that are followed-up at our Institution, to detect any clinic-radiological progression. Subjects older than 18 will be enrolled.\\n\\nGroup B\\n\\nThe enrolment criteria were the following :\\n\\nHaving at least 45 years of age or 10 years younger than the age of the youngest relative with pancreatic cancer (only for subject with familiar history of pancreatic cancer)\\nHaving at least 40 years of age or 5 years younger than the age of the youngest relative with pancreatic cancer (only for subject with familial pancreatitis and subject affected by Lynch syndrome with at least one relative first- or second-degree affected by pancreatic cancer and subject having a known genetic mutation with at least a first-degree relative or a second-degree relative affected by pancreatic cancer\\nHaving at least 30 years of age for subject with Familial Multiple Melanoma Syndrome\\nHaving at least 30 years of age for patients affected by Peutz-Jeghers syndrome.\\n\\nThe interview of pilot group will be record to allow us to investigate and track detail that will highlight the comprehension of cancer worry scale and participants' suggestion.\\n\\nExclusion Criteria:\\n\\npatients who not meet eligibility criteria</td>\n",
       "    </tr>\n",
       "    <tr>\n",
       "      <th>1</th>\n",
       "      <td>2</td>\n",
       "      <td>NCT03581708</td>\n",
       "      <td>Venous Thromboembolism in Advanced Lung Cancer</td>\n",
       "      <td>This is a prospective observatory clinical study, aiming to establish and validate venous thromboembolism risk model in Chinese advanced non-small cell lung cancer.</td>\n",
       "      <td>VTE has high incidence in lung cancer and increases the mortality. Appropriate preventive measures contribute to 50% increase of incidence. The investigators are to investigate the VTE in advanced non-small cell lung cancer and delineate the risk factors to establish a VTE risk model system helping clinicians to differentiate VTE high risk population and apply early prevention in order to reduce the incidence of VTE.</td>\n",
       "      <td>Inclusion Criteria:\\n\\nAge ≥ 18 years at the time of screening.\\nEastern Cooperative Oncology Group performance status of ≤ 2.\\nWritten informed consent obtained from the patient.\\nHistologically and cytologically documented Stage 3B-4 lung cancer (according to Version 8 of the International Association for the Study of Lung Cancer Staging system).\\nPatients with stage 1 to 3, who undergo radical therapy with disease free survival (DFS) &gt;12 months.\\nWillingness and ability to comply with scheduled visits and other study procedures.\\n\\nExclusion Criteria:\\n\\nHistory of another primary malignancy except for malignancy treated with curative intent with known active disease ≥ 5 years before date of the informed consent.\\nWithout signed informed consent.\\nUnwillingness or inability to comply with scheduled visits or other study procedures.\\nPreviously diagnosed with VTE before signing informed consent.</td>\n",
       "    </tr>\n",
       "    <tr>\n",
       "      <th>2</th>\n",
       "      <td>3</td>\n",
       "      <td>NCT02053662</td>\n",
       "      <td>Biomarker Identification for Bladder Cancer Patients</td>\n",
       "      <td>To develop a simple blood and urine test that we would perform before patients start their treatment to predict the risk that their bladder cancer might come back. To develop this test the investigators plan to analyze blood, urine and cancer tissue from bladder cancer patients and follow them closely during and after treatment. This will include looking for changes in proteins and genes that might play a role in bladder cancer biology. The investigators will then compare the information obtained from the studies of blood, urine and cancer tissue between patients that are cured and those whose cancer comes back. The knowledge about these differences between patients can then potentially be used to develop a blood or urine test to tell us who has a high risk for having bladder cancer come back.</td>\n",
       "      <td>NaN</td>\n",
       "      <td>Inclusion Criteria:\\n\\nAdult patients ≥18 years old.\\nPatients suspected, clinically diagnosed, or histologically diagnosed bladder cancer.\\nPatients undergoing cystoscopy without cancer suspicion.\\nAbility to give an informed consent.\\n\\nExclusion Criteria:\\n\\nPatients receiving concurrent therapy for a second malignancy.\\n&lt; 18 years old.\\nInability to give an informed consent.</td>\n",
       "    </tr>\n",
       "    <tr>\n",
       "      <th>3</th>\n",
       "      <td>4</td>\n",
       "      <td>NCT00897650</td>\n",
       "      <td>Protein and RNA Expression Patterns in Predicting Response to Treatment in Patients With Lung Cancer</td>\n",
       "      <td>RATIONALE: Studying samples of tumor tissue and blood in the laboratory from patients with cancer may help doctors learn more about changes that occur in genetic material (DNA and RNA) and may also identify protein expression patterns related to cancer. It may also help doctors predict how patients will respond to treatment.\\n\\nPURPOSE: This research study evaluates changes in DNA, RNA, and proteins with the goal of predicting response to treatment in patients with lung cancer.</td>\n",
       "      <td>OBJECTIVES:\\n\\nTo determine protein and/or RNA expression patterns capable of predicting tumor response to therapy in tumor tissue samples from patients with lung cancer or suspected of having lung cancer.\\nTo characterize the genes and proteins found to be predictive of response in order to help elucidate the molecular biology underlying cancer chemosensitivity.\\nTo evaluate DNA mutations found within the lung cancer sample which may be predictive of response or resistance to certain therapeutic agents.\\n\\nOUTLINE: Patients undergo collection of tumor tissue by percutaneous fine needle aspiration, core biopsy, thoracentesis, or during any medically indicated procedure involving removal of lung cancer tissue. Tissue samples are analyzed by a variety of techniques, including DNA sequencing, RNA sequencing and expression levels, protein assessment [by immunohistochemistry, western blot, Matrix-assisted laser desorption/ionization time of flight mass spectrometry (MALDI-MS]). The goal of these studies is to identify of gene mutations, gene expression levels, and proteins predictive of treatment response. Blood samples are also collected to obtain normal DNA for analysis.\\n\\nAfter completion of study, patients will be followed until their death.</td>\n",
       "      <td>Inclusion criteria\\n\\nDiagnosis of suspected lung cancer or lung cancer\\n\\nExclusion criteria\\n\\nInability to undergo therapy</td>\n",
       "    </tr>\n",
       "    <tr>\n",
       "      <th>4</th>\n",
       "      <td>5</td>\n",
       "      <td>NCT02890667</td>\n",
       "      <td>Evaluation of Algorithms to Identify Incident Cancer Cases by Using French Health Administrative Databases</td>\n",
       "      <td>\"This study is a population based observational study conducted on the French administrative databases to estimate cancer incidence in 2012 by using the \"ECHANTILLON GENERALISTE DES BENEFICIAIRES\" (EGB, a 1/97th dynamic random sample of the SNIIRAM).\\n\\nThe EGB database contains anonymous and prospectively recorded data about all beneficiaries' medical reimbursements. Many algorithm definitions are defined to estimate the incident rate of cancer in 2012 from the EGB database. The incidence rates obtained by each algorithm definition are compared to national incidence rates by indirect age and sex standardization. National incidence rates are obtained from \"FRANCE CANCER INCIDENCE ET MORTALITE\" (FRANCIM): the French network of cancer registries.\"</td>\n",
       "      <td>\"This study is a population based observational study conducted on the French administrative databases to estimate cancer incidence in 2012 by using the \"ECHANTILLON GENERALISTE DES BENEFICIAIRES\" (EGB, a 1/97th dynamic random sample of the SNIIRAM).\\n\\nThe EGB database contains anonymous and prospectively recorded data about all beneficiaries' medical reimbursements including age, gender, long-term chronic disease (LTD), date of death, all out-hospital health-spending reimbursements and all patients' hospitalizations. Many algorithm definitions are defined to estimate the incident rate of cancer in 2012 from the EGB database and are applied separately for men and women. These algorithms use information from either out-hospital care only (LTD status, anticancer specific drugs, outpatient radiotherapy sessions), or inpatient stays only (primary or related diagnosis of cancer, cancer-related procedures) or combine both information. The incidence rates obtained by each algorithm definition are compared to national incidence rates by indirect age and sex standardization. National incidence rates are obtained from FRANCE CANCER INCIDENCE ET MORTALITE (FRANCIM): the French network of cancer registries that has collected cancer cases since 1975 from 21 French registries (general or specific) covering 17 of the 95 French metropolitan departments. The most recent estimation of the FRANCIM network was published for 2012 and included all cancer locations (C00-C97) excluding non-melanoma skin cancer (C44).\\n\\nFollow up All patients included are followed from January 1, 2012 until the occurrence of the first of death, cancer occurrence, moving out of the general insurance scheme or January 1, 2013.\\n\\nTo allow for comparison with data from cancer registries, only malignant neoplasms are considered: ICD-10 codes (C00-C97), excluding non-melanoma skin cancer (C44).\\n\\nStatistical analysis\\n\\nThe number of incident cancer cases obtained with each algorithm is compared to the expected number of cancer cases calculated by using national estimation for the same age and sex stratum. The standardized incidence ratio (SIR) with 95% confidence intervals is calculated by indirect age and sex standardization. Age- and sex-specific incident rates are compared to the incident rates in 2012 estimated by FRANCIM.\\n\\nThe investigators also apply the most accurate algorithm separately for men and women to the 3 most common cancers in the corresponding gender by restricting the involved cancer codes, procedures and drugs to those related to the cancer of interest. The investigators also restrict our population to the most-studied age groups in cancer etiological studies (40 to 75 years). All the analyses are performed using SAS Enterprise Guide, version 4.3.\"</td>\n",
       "      <td>Inclusion Criteria:\\n\\nBeneficiaries present in the EGB on January 1, 2012.\\nBeneficiaries who are &lt; 90 years old on January 1, 2012.\\nBeneficiaries residing in metropolitan France.\\nBeneficiaries affiliated with the general insurance scheme since January 1, 2011 or before.\\n\\nExclusion Criteria:\\n\\nNo prevalent cancer before January 1, 2012; ( hospital discharge with a primary, related or associated diagnosis of cancer (C00-C97), or personal history of cancer (Z85); LTD status related to cancer; reimbursement for any cancer-specific drug; or external radiotherapy session).</td>\n",
       "    </tr>\n",
       "  </tbody>\n",
       "</table>\n",
       "</div>"
      ],
      "text/plain": [
       "   Rank        NCTId  \\\n",
       "0     1  NCT04318756   \n",
       "1     2  NCT03581708   \n",
       "2     3  NCT02053662   \n",
       "3     4  NCT00897650   \n",
       "4     5  NCT02890667   \n",
       "\n",
       "                                                                                                   BriefTitle  \\\n",
       "0                                                                   The Italian Version of Cancer Worry Scale   \n",
       "1                                                              Venous Thromboembolism in Advanced Lung Cancer   \n",
       "2                                                        Biomarker Identification for Bladder Cancer Patients   \n",
       "3        Protein and RNA Expression Patterns in Predicting Response to Treatment in Patients With Lung Cancer   \n",
       "4  Evaluation of Algorithms to Identify Incident Cancer Cases by Using French Health Administrative Databases   \n",
       "\n",
       "                                                                                                                                                                                                                                                                                                                                                                                                                                                                                                                                                                                                                                                                                                                                                                                                                           BriefSummary  \\\n",
       "0                                                                                                                                                                                                                                                                                                                                                                                                                                                                                                                   An Italian language version of the Cancer Worry Scale is not available yet.\\n\\nThe aim of this study is to develop and validate the Italian version of Cancer Worry Scale through subjects at high risk of pancreatic cancer for familiarity/genetic predisposition, or suffering from premalignant cystic lesions.   \n",
       "1                                                                                                                                                                                                                                                                                                                                                                                                                                                                                                                                                                                                                                                                  This is a prospective observatory clinical study, aiming to establish and validate venous thromboembolism risk model in Chinese advanced non-small cell lung cancer.   \n",
       "2  To develop a simple blood and urine test that we would perform before patients start their treatment to predict the risk that their bladder cancer might come back. To develop this test the investigators plan to analyze blood, urine and cancer tissue from bladder cancer patients and follow them closely during and after treatment. This will include looking for changes in proteins and genes that might play a role in bladder cancer biology. The investigators will then compare the information obtained from the studies of blood, urine and cancer tissue between patients that are cured and those whose cancer comes back. The knowledge about these differences between patients can then potentially be used to develop a blood or urine test to tell us who has a high risk for having bladder cancer come back.   \n",
       "3                                                                                                                                                                                                                                                                                                                                    RATIONALE: Studying samples of tumor tissue and blood in the laboratory from patients with cancer may help doctors learn more about changes that occur in genetic material (DNA and RNA) and may also identify protein expression patterns related to cancer. It may also help doctors predict how patients will respond to treatment.\\n\\nPURPOSE: This research study evaluates changes in DNA, RNA, and proteins with the goal of predicting response to treatment in patients with lung cancer.   \n",
       "4                                                   \"This study is a population based observational study conducted on the French administrative databases to estimate cancer incidence in 2012 by using the \"ECHANTILLON GENERALISTE DES BENEFICIAIRES\" (EGB, a 1/97th dynamic random sample of the SNIIRAM).\\n\\nThe EGB database contains anonymous and prospectively recorded data about all beneficiaries' medical reimbursements. Many algorithm definitions are defined to estimate the incident rate of cancer in 2012 from the EGB database. The incidence rates obtained by each algorithm definition are compared to national incidence rates by indirect age and sex standardization. National incidence rates are obtained from \"FRANCE CANCER INCIDENCE ET MORTALITE\" (FRANCIM): the French network of cancer registries.\"   \n",
       "\n",
       "                                                                                                                                                                                                                                                                                                                                                                                                                                                                                                                                                                                                                                                                                                                                                                                                                                                                                                                                                                                                                                                                                                                                                                                                                                                                                                                                                                                                                                                                                                                                                                                                                                                                                                                                                                                                                                                                                                                                                                                                                                                                                                                                                                                                                                                                                                                                                                                                                                                                                                                                                                                                                                                                                                                                                                                                                                                                         DetailedDescription  \\\n",
       "0                                                                                                                                                                                                                        The Fear of Cancer remains a significant problem for subjects enrolled surveillance programs. This emotional condition can influence the patients' wellbeing and their adherence to treatments. No results coming from the application of Cancer Worry Scale on high-risk of Pancreatic cancer individuals have been provided yet.\\n\\nThe fear is an emotional reaction that can be the result of interpretation and cognitions of perceived internal cues and/or external cues. To objectify this emotion, a cancer worry scale, has been developed to investigate the fear in female breast cancer survivors. The proposed scale assesses the psychological distress caused by fear of cancer.\\n\\nThe detection of high level of fear can prevent problematic behaviours, including anxious preoccupation, avoidance, and excessive checking, and moreover it can help patients to reduce difficulties in performing the individual's daily and social activities. The scale could use to evaluate the psychological burden produced by the enrolment in a surveillance program due to a certain predisposition to Pancreatic cancer. One step forward will be to manage those individuals with high-level of Fear of cancer, providing them a proper psychological support.\\n\\nAt the General and Pancreatic Surgery Unit of the Pancreas Institute, some experimental self-made psychological support programs that investigate different psychologic distress through validated instruments, like anxiety, depression, perceived stress and global assessment or quality of life have been built up. It must be noted that the scale is not available specifically for Pancreatic cancer (originally it was created for breast cancer) , and for the Italian language, thus it has never been applied in an italian surveillance/follow-up program dealing with Pancreatic cancer. Nowadays, there is only a well-structured paper assessing psychological factors associated with cancer worries in high risk participants in a pancreatic cancer surveillance program. Differently than what has been already reported by Konings et al, the cohorts of patients that will be considered are heterogeneous, reflecting more accurately the real-life scenario of the subjects to whom the scale is administered to. In addition, this may help to identify those individuals that may benefit from a psychological support, in order to prevent a withdrawal from the surveillance program.\\n\\nHowever, a cut-off has not been provided yet. With next step study we'll aim at determining a cut-off for the detection clinically relevant worry for cancer.   \n",
       "1                                                                                                                                                                                                                                                                                                                                                                                                                                                                                                                                                                                                                                                                                                                                                                                                                                                                                                                                                                                                                                                                                                                                                                                                                                                                                                                                                                                                                                                                                                                                                                                                                                                                                                                                                                                                                                                                                                                                                                                                                                                                                                                                                                                                                                                                                                                                                                                                                                                       VTE has high incidence in lung cancer and increases the mortality. Appropriate preventive measures contribute to 50% increase of incidence. The investigators are to investigate the VTE in advanced non-small cell lung cancer and delineate the risk factors to establish a VTE risk model system helping clinicians to differentiate VTE high risk population and apply early prevention in order to reduce the incidence of VTE.   \n",
       "2                                                                                                                                                                                                                                                                                                                                                                                                                                                                                                                                                                                                                                                                                                                                                                                                                                                                                                                                                                                                                                                                                                                                                                                                                                                                                                                                                                                                                                                                                                                                                                                                                                                                                                                                                                                                                                                                                                                                                                                                                                                                                                                                                                                                                                                                                                                                                                                                                                                                                                                                                                                                                                                                                                                                                                                                                                                                                        NaN   \n",
       "3                                                                                                                                                                                                                                                                                                                                                                                                                                                                                                                                                                                                                                                                                                                                                                                                                                                                                                                                                                                                                                                                                                                                                                                                                                                                                                                                                                                                                                                                                                                                                                              OBJECTIVES:\\n\\nTo determine protein and/or RNA expression patterns capable of predicting tumor response to therapy in tumor tissue samples from patients with lung cancer or suspected of having lung cancer.\\nTo characterize the genes and proteins found to be predictive of response in order to help elucidate the molecular biology underlying cancer chemosensitivity.\\nTo evaluate DNA mutations found within the lung cancer sample which may be predictive of response or resistance to certain therapeutic agents.\\n\\nOUTLINE: Patients undergo collection of tumor tissue by percutaneous fine needle aspiration, core biopsy, thoracentesis, or during any medically indicated procedure involving removal of lung cancer tissue. Tissue samples are analyzed by a variety of techniques, including DNA sequencing, RNA sequencing and expression levels, protein assessment [by immunohistochemistry, western blot, Matrix-assisted laser desorption/ionization time of flight mass spectrometry (MALDI-MS]). The goal of these studies is to identify of gene mutations, gene expression levels, and proteins predictive of treatment response. Blood samples are also collected to obtain normal DNA for analysis.\\n\\nAfter completion of study, patients will be followed until their death.   \n",
       "4  \"This study is a population based observational study conducted on the French administrative databases to estimate cancer incidence in 2012 by using the \"ECHANTILLON GENERALISTE DES BENEFICIAIRES\" (EGB, a 1/97th dynamic random sample of the SNIIRAM).\\n\\nThe EGB database contains anonymous and prospectively recorded data about all beneficiaries' medical reimbursements including age, gender, long-term chronic disease (LTD), date of death, all out-hospital health-spending reimbursements and all patients' hospitalizations. Many algorithm definitions are defined to estimate the incident rate of cancer in 2012 from the EGB database and are applied separately for men and women. These algorithms use information from either out-hospital care only (LTD status, anticancer specific drugs, outpatient radiotherapy sessions), or inpatient stays only (primary or related diagnosis of cancer, cancer-related procedures) or combine both information. The incidence rates obtained by each algorithm definition are compared to national incidence rates by indirect age and sex standardization. National incidence rates are obtained from FRANCE CANCER INCIDENCE ET MORTALITE (FRANCIM): the French network of cancer registries that has collected cancer cases since 1975 from 21 French registries (general or specific) covering 17 of the 95 French metropolitan departments. The most recent estimation of the FRANCIM network was published for 2012 and included all cancer locations (C00-C97) excluding non-melanoma skin cancer (C44).\\n\\nFollow up All patients included are followed from January 1, 2012 until the occurrence of the first of death, cancer occurrence, moving out of the general insurance scheme or January 1, 2013.\\n\\nTo allow for comparison with data from cancer registries, only malignant neoplasms are considered: ICD-10 codes (C00-C97), excluding non-melanoma skin cancer (C44).\\n\\nStatistical analysis\\n\\nThe number of incident cancer cases obtained with each algorithm is compared to the expected number of cancer cases calculated by using national estimation for the same age and sex stratum. The standardized incidence ratio (SIR) with 95% confidence intervals is calculated by indirect age and sex standardization. Age- and sex-specific incident rates are compared to the incident rates in 2012 estimated by FRANCIM.\\n\\nThe investigators also apply the most accurate algorithm separately for men and women to the 3 most common cancers in the corresponding gender by restricting the involved cancer codes, procedures and drugs to those related to the cancer of interest. The investigators also restrict our population to the most-studied age groups in cancer etiological studies (40 to 75 years). All the analyses are performed using SAS Enterprise Guide, version 4.3.\"   \n",
       "\n",
       "                                                                                                                                                                                                                                                                                                                                                                                                                                                                                                                                                                                                                                                                                                                                                                                                                                                                                                                                                                                                                                                                                                                                                                                                                                                                                                                                                                                                                                                                                                                                                                                                                                                                                                                                                                                                                                                                                                                                                                                                                                                                                                           EligibilityCriteria  \n",
       "0  Inclusion Criteria:\\n\\nSubject will be recruited from the current outpatients' clinic activity of the General and Pancreatic Surgery Unit, Pancreas Institute, Verona University Hospital. Subjects must be able to read and write in Italian. After obtained informed consent we will ask them to participate to preliminary pilot phase.\\n\\nThe interview of the pilot group will be audio recorded to allow to investigate and track detail that will highlight the comprehension of scale and participants' suggestion.\\n\\nPatients affected by cynic neoplasm (group A) and high risk subjects for familiarity/genetic predisposition (group B) are currently enrolled at General and Pancreatic Surgery Unit of the Pancreas Institute of the University of Verona.\\n\\nGroup A Patients with premalignant lesions (such as intraductal papillary mucinous neoplasms) that are followed-up at our Institution, to detect any clinic-radiological progression. Subjects older than 18 will be enrolled.\\n\\nGroup B\\n\\nThe enrolment criteria were the following :\\n\\nHaving at least 45 years of age or 10 years younger than the age of the youngest relative with pancreatic cancer (only for subject with familiar history of pancreatic cancer)\\nHaving at least 40 years of age or 5 years younger than the age of the youngest relative with pancreatic cancer (only for subject with familial pancreatitis and subject affected by Lynch syndrome with at least one relative first- or second-degree affected by pancreatic cancer and subject having a known genetic mutation with at least a first-degree relative or a second-degree relative affected by pancreatic cancer\\nHaving at least 30 years of age for subject with Familial Multiple Melanoma Syndrome\\nHaving at least 30 years of age for patients affected by Peutz-Jeghers syndrome.\\n\\nThe interview of pilot group will be record to allow us to investigate and track detail that will highlight the comprehension of cancer worry scale and participants' suggestion.\\n\\nExclusion Criteria:\\n\\npatients who not meet eligibility criteria  \n",
       "1                                                                                                                                                                                                                                                                                                                                                                                                                                                                                                                                                                                                                                                                                                                                                                                                                                                                                                                                                                                                                                                                                                                                                                               Inclusion Criteria:\\n\\nAge ≥ 18 years at the time of screening.\\nEastern Cooperative Oncology Group performance status of ≤ 2.\\nWritten informed consent obtained from the patient.\\nHistologically and cytologically documented Stage 3B-4 lung cancer (according to Version 8 of the International Association for the Study of Lung Cancer Staging system).\\nPatients with stage 1 to 3, who undergo radical therapy with disease free survival (DFS) >12 months.\\nWillingness and ability to comply with scheduled visits and other study procedures.\\n\\nExclusion Criteria:\\n\\nHistory of another primary malignancy except for malignancy treated with curative intent with known active disease ≥ 5 years before date of the informed consent.\\nWithout signed informed consent.\\nUnwillingness or inability to comply with scheduled visits or other study procedures.\\nPreviously diagnosed with VTE before signing informed consent.  \n",
       "2                                                                                                                                                                                                                                                                                                                                                                                                                                                                                                                                                                                                                                                                                                                                                                                                                                                                                                                                                                                                                                                                                                                                                                                                                                                                                                                                                                                                                                                                                                                                                                                                                                                                                                                                Inclusion Criteria:\\n\\nAdult patients ≥18 years old.\\nPatients suspected, clinically diagnosed, or histologically diagnosed bladder cancer.\\nPatients undergoing cystoscopy without cancer suspicion.\\nAbility to give an informed consent.\\n\\nExclusion Criteria:\\n\\nPatients receiving concurrent therapy for a second malignancy.\\n< 18 years old.\\nInability to give an informed consent.  \n",
       "3                                                                                                                                                                                                                                                                                                                                                                                                                                                                                                                                                                                                                                                                                                                                                                                                                                                                                                                                                                                                                                                                                                                                                                                                                                                                                                                                                                                                                                                                                                                                                                                                                                                                                                                                                                                                                                                                                                                                                                                                Inclusion criteria\\n\\nDiagnosis of suspected lung cancer or lung cancer\\n\\nExclusion criteria\\n\\nInability to undergo therapy  \n",
       "4                                                                                                                                                                                                                                                                                                                                                                                                                                                                                                                                                                                                                                                                                                                                                                                                                                                                                                                                                                                                                                                                                                                                                                                                                                                                                                                                                                                                                                                                                                                         Inclusion Criteria:\\n\\nBeneficiaries present in the EGB on January 1, 2012.\\nBeneficiaries who are < 90 years old on January 1, 2012.\\nBeneficiaries residing in metropolitan France.\\nBeneficiaries affiliated with the general insurance scheme since January 1, 2011 or before.\\n\\nExclusion Criteria:\\n\\nNo prevalent cancer before January 1, 2012; ( hospital discharge with a primary, related or associated diagnosis of cancer (C00-C97), or personal history of cancer (Z85); LTD status related to cancer; reimbursement for any cancer-specific drug; or external radiotherapy session).  "
      ]
     },
     "execution_count": 23,
     "metadata": {},
     "output_type": "execute_result"
    }
   ],
   "source": [
    "df.head()"
   ]
  },
  {
   "cell_type": "markdown",
   "metadata": {},
   "source": [
    "^ This looks good now."
   ]
  },
  {
   "cell_type": "code",
   "execution_count": 24,
   "metadata": {},
   "outputs": [
    {
     "data": {
      "text/plain": [
       "0                                                                                                                                                                                                                                                                                                                                                                                                                                                                                                                                                                                                                                                                                                                                                                                                                                                                                                                                                                                                                                                                                                                                                                                                                                                                                                                                                                                                                                                                                                The Fear of Cancer remains a significant problem for subjects enrolled surveillance programs. This emotional condition can influence the patients' wellbeing and their adherence to treatments. No results coming from the application of Cancer Worry Scale on high-risk of Pancreatic cancer individuals have been provided yet.\\n\\nThe fear is an emotional reaction that can be the result of interpretation and cognitions of perceived internal cues and/or external cues. To objectify this emotion, a cancer worry scale, has been developed to investigate the fear in female breast cancer survivors. The proposed scale assesses the psychological distress caused by fear of cancer.\\n\\nThe detection of high level of fear can prevent problematic behaviours, including anxious preoccupation, avoidance, and excessive checking, and moreover it can help patients to reduce difficulties in performing the individual's daily and social activities. The scale could use to evaluate the psychological burden produced by the enrolment in a surveillance program due to a certain predisposition to Pancreatic cancer. One step forward will be to manage those individuals with high-level of Fear of cancer, providing them a proper psychological support.\\n\\nAt the General and Pancreatic Surgery Unit of the Pancreas Institute, some experimental self-made psychological support programs that investigate different psychologic distress through validated instruments, like anxiety, depression, perceived stress and global assessment or quality of life have been built up. It must be noted that the scale is not available specifically for Pancreatic cancer (originally it was created for breast cancer) , and for the Italian language, thus it has never been applied in an italian surveillance/follow-up program dealing with Pancreatic cancer. Nowadays, there is only a well-structured paper assessing psychological factors associated with cancer worries in high risk participants in a pancreatic cancer surveillance program. Differently than what has been already reported by Konings et al, the cohorts of patients that will be considered are heterogeneous, reflecting more accurately the real-life scenario of the subjects to whom the scale is administered to. In addition, this may help to identify those individuals that may benefit from a psychological support, in order to prevent a withdrawal from the surveillance program.\\n\\nHowever, a cut-off has not been provided yet. With next step study we'll aim at determining a cut-off for the detection clinically relevant worry for cancer.\n",
       "0                                                                                                                                                                                                                                                                                                                                                                                                                                                                                                                                                                                                                                                                                                                                                                                                                                                                                                                                                                                                                                                                                                                                                                                                                                                                                                                                                                                                                                                                                                                                                                                                                                                                                                                                                                                                                                                                                                                                                                                                                                                                                                                                                                                                                            In Phase I (months 1-8) of this five-year project, we will develop an interactive, Internet-based, patient information and decision aid. In Phase II (months 9-60), we will evaluate the impact of this decision aid in a randomized controlled trial with male primary care patients aged 45-70 from three Washington, District of Columbia area health care settings (N = 1875). Trial arms include: 1) print-based information and decision aid (Print), 2) web-based information plus interactive decision aid (Web), and 3) usual care (UC). Subjects will complete outcome assessments at baseline, one- and 13-months post-baseline. The specific aims are to: 1. Evaluate the impact of the delivery method (Web vs. Print vs. Usual Care) on the key patient outcome variables of knowledge, decisional satisfaction, and the screening decision. 2. Identify factors that moderate the interventions' impact on the primary outcomes. 3. Identify the mechanisms by which the interventions impact knowledge and decisional satisfaction. In exploratory analyses, we will evaluate factors that are related to use of the web and print materials. This research has the potential to make several significant and innovative contributions: 1) the development and evaluation of a widely accessible method of educating a heterogeneous group of patients about a controversial topic, which can be adapted for other similarly contentious issues, 2) a determination of whether Web based materials are a feasible method of patient education for this age cohort, compared to print materials, 3) an understanding of cognitive factors that may hinder comprehension of a controversial medical decision, 4) a determination of who among the target population benefits the most from a web-based intervention, and 5) the information required to streamline and target future web-based educational interventions.\n",
       "0                                                                                                                                                                                                                                                                                                                                                                                                                                                                                                                                                                                                                                                                                                                                                                                                            Treatment for certain types of bladder cancer (BC) involves the removal of the bladder and construction of a new voiding system and is physically and psychologically profoundly challenging for patients and caregivers. Based on investigators' published literature and extensive pilot data, patients and caregivers have extensive unmet informational, social, psychological, instrumental, and medical needs from the time of diagnosis, through treatment and recovery which are not adequately addressed by health care professionals. Investigators propose to address these unmet needs through the refinement and evaluation of a comprehensive, 2-part (in-person and web-based) intervention, geared towards the patient and caregiver. Specifically, during Aim 1, the formative phase, investigators propose to further refine the newly developed intervention components with the help of an established patient/caregiver advisory board. The intervention, Recovery Support for Bladder Cancer (RSBC), consists of a pre-treatment, in-person preparatory instructional session with a trained health care professional (Module 1) to equip patients and caregivers with the skills to adjust to the upcoming treatment and recovery period. This is followed by a post-treatment, interactive web-based program (Module 2) to provide further support for both patients and caregivers to enhance quality of life (QOL) and reduce infections and nurse/ER visits. The RSBC intervention will be evaluated in a 12-month randomized controlled trial (Aim 2) among patients and caregiver dyads (N=330 initial; 230 final sample) against a time and attention comparison condition (the Facing Forward brochures). Primary outcomes for both patients and caregivers will be improved QOL, which is hypothesized to be significantly higher among participants randomized into RSBC. Secondary outcomes will be fewer infections and nurse-ER visits for patients randomized into RSBC. Aim 3 proposes moderator (i.e., age, gender, surgical diversion type) and mediator (i.e., patient activation, distress) analyses of intervention efficacy. Investigators hypothesize that RSBC will be significantly more successful among (a) older, (b) female participants, and (c) patients with a conduit diversion type. Elevated levels of patient activation (i.e., higher self-care knowledge, self-efficacy, lower distress) will mediate the intervention effects. Exploratory Aim 4 will examine the costs and potential savings associated with developing and implementing the RSBC intervention. Investigators hypothesize that initial development and implementation costs of RSBC will be offset by reduced nurse/ER visits. The scientific premise is strong and supported by an established theoretical framework, extensive pilot data and a rigorous application of clinical research methods. The proposed study is highly innovative, as it comprehensively addresses unmet needs of both patients and caregivers from pre- and (immediate) post-treatment to recovery. This is achieved through an innovative combination of in-person preparation and skill-building and web-based technology. If successful, RSBC has the potential to significantly change clinical care for patients and caregivers with BC.\n",
       "0                                                                                                                                                                                                                                                                                                                                                                                                                                                                                                                                                                                                                                                                                                                                                                                                                                                                                                                                                                                                                                                                                                                                                                                                                                                                                                                                                                                                                                                                                                                                                                                                                                                                                                                                                                                                                                                                                                                                                                                                                                                                                                                                                                                                                                                                                                                                                                                                                                                                                                                                                                                                                                                                                                                                                                                                                                                                                                                                                                                                                                                                                                                                                                                                                                                                                                                                                                                                                                                                                                                                                                                                                                                                                                                                                                                                                                                                                                                                                                                                                                                                                                                                                                NaN\n",
       "0                                                                                                                                                                                                                                                                                                                                                                                                                                                                                                                                                                                                                                                                                                                                                                                                                                                                                                                                                                                                                                                                                                                                                                                                                                                                                                                                                                                                                                                                                                                                                                                                                                                                                                                                                                                                                                                                                                                                                                                                                                                                                                                                                                                                                                                                                                                                                                                                                                                                                                                                                                                                                                                                                                                                                                                                                                                                                                                                                                                                                                                                                                                                                                                                                                                                                                                                                                                                                                                                                                                                                                                                                                                                                                                                                                                                                                                                                                                                                                                                                                                                                                                                                                NaN\n",
       "                                                                                                                                                                                                                                                                                                                                                                                                                                                                                                                                                                                                                                                                                                                                                                                                                                                                                                                                                                                                                                                                                                                                                                                                                                                                                                                                                                                                                                                                                                                                                                                                                                                                                                                                                                                                                                                                                                                                                                                                                                                                                  ...                                                                                                                                                                                                                                                                                                                                                                                                                                                                                                                                                                                                                                                                                                                                                                                                                                                                                                                                                                                                                                                                                                                                                                                                                                                                                                                                                                                                                                                                                                                                                                                                                                                                                                                                                                                                                                                                                                                                                                                                                                                                               \n",
       "0                                                                                                                                                                                                                                                                                                                                                                                                                                                                                                                                                                                                                                                                                                                                                                                                                                                                                                                                                                                                                                                                                                                                                                                                                                                                                                                                                                                                                                                                                                                                                                                                                                                                                                                                                                                                                                                                                                                                                                                                                                                                                                                                                                                                                                                                                                                                                                                                                                                                                                                                                                                                                                                                                                                                                                                                                                                                                                                                                                                                                                                                                                                                                                                                                                                                                                                                                                                                                                                                                                                                                                                                                                                    Arginine is potential interesting considering the metabolic syndrome. Studies so far indicated both long-term effects, as well as acute - postprandial - actions; especially when metabolism is already challenged, e.g. in diabetic patients or after a high-fat meal. If arginine-rich proteins are equally effective is not known. Therefore we are interested in the effect of (arginine rich) protein on postprandial (dys)metabolism, inflammation and endothelial function, within 6 hours after a meal.\n",
       "0    The duration of the study will be 1 year, and it will be divided in several phases:\\n\\nA) Initial phase (double-blind trial): Between week 0 and week 24. Placebo or Infliximab at a dose of 3 mg/kg/day at weeks 0, 2 and 6.\\n\\nAfter the screening process, patients who meet the inclusion/exclusion criteria of the protocol will be randomized to receive three infusions of placebo or infliximab as previously described.\\n\\nAfter the first infusion (week 0), the prednisone dose will be tapered according to the following schedule: Prednisone (or equivalent) should be decreased at a rate of 1.25 mg per week until complete withdrawal of corticosteroids. In case of relapse, the dose of prednisone will be increased up to the previous dose that controlled the symptoms of PMR, and after 4 weeks of stable dose, prednisone will be again tapered but with a slower schedule: 1.25 mg every 2 weeks until complete withdrawal of corticosteroids. In case of a new relapse, the dose of prednisone will be managed according to the physician criteria.\\n\\nB) Extension phase (open trial): Between week 24 and week 48. Infliximab at a dose of 3 mg/kg/day at weeks 24, 26 and 30.\\n\\nAt 24 weeks, all the patients included into the trial and still on corticosteroid therapy with or without clinical manifestations of PMR, will receive three infusions of infliximab according to the previous described schedule.\\n\\nAfter the first infusion (week 24) the dose of prednisone will be decreased according to the same schedule previously described in the initial phase of the trial.\\n\\nThe schedule therapy proposed in the extension phase is going to be for:\\n\\n(GROUP A) To evaluate time response to Infliximab in responders concerning active treatment group in phase 1.\\n(GROUP B). To incorporate patients placebo- treated to treatment who have showed efficacy (in case of favorable results in the interim analysis)\\n(GROUP C). To offer maintenance treatment to patients who have showed complete response during phase 1 and this treatment is associated to a significant corticosteroid tapering dose or maintenance response.\\n(GROUP D). Discontinuation of the treatment in patients who have been receiving active treatment during phase 1 and have not showed response in any time.\\n\\nAfter the first infusion (week 24), it will be reduced prednisone dose following same regimen described in the clinical phase of the study.\\n\\nTreatment duration.\\n\\n•Study will be administrate for 24 + 24 weeks. In the end of the study the patient will continue treatment the most efficacy in the investigator opinion.\\n\\nObjectives:\\n\\nPrimary objective: Proportion of responders (complete remission without corticosteroids) at 24 weeks.\\n\\nSecondary objectives:\\n\\nProportion of responders at 48 weeks.\\nTime to response\\nNumber of relapses / recurrences.\\nResponse duration\\nCumulative dose and side effects of steroids at 24 and 48 weeks.\\nNumber of patients that should be re-treated with infliximab.\\nSide effects of Infliximab in this patient population.\\nSerum cytokine analysis\\n\\nI) CLINICAL ASSESSMENT:\\n\\nEvaluations will be performed at screening, baseline, every 2 weeks during the first 2 months of treatment and monthly thereafter.\\n\\nThe following data will be recorded at each visit:\\n\\nA structured questionnaire on symptoms of PMR.\\nGlobal evaluation of disease activity by the patients and physicians (visual analogue scale, 0-100).\\nGlobal evaluation of pain by the patients (visual analogue scale, 0-100).\\nAcute phase reactants: ESR (Westergren) and CRP (nephelometry).\\nComplete blood cell count, glucose (glycosylated hemoglobin in case of diabetes), blood urea and creatinine, liver enzymes and albumin.\\nSteroid dosage. Cumulative steroid dosage during the study period.\\nPresence of relapse\\nSide effects, with special emphasis in infections and corticosteroid side effects.\\n\\nAll patients will have a PPD test and chest X-rays performed at screening following the current recommendations for anti-TNF the...\n",
       "0                                                                                                                                                                                                                                                                                                                                                                                                                                                                                                                                                                                                                                                                                                                                                                                                                                                                                                                                                                                                                                                                                                                                                                                                                                                                                                                                                                                                                                                                                                                                                                                                                                                                                                                                                                                                                                                                                                                                                                                                                                                                                                                                                                                                                                                                                                                                                                                                                                                                                                                                                                                                                                                                                                                                                                                                                                                                                                                                                                                                                     In premenopause, 25% of endometrial polyps regresses spontaneously in 1 year. According to guidelines, given that most premenopausal polyps are not malignant, there is an option for expectant approach with no surgical intervention. Studies on the efficacy of medical treatments for endometrial polyps are also recommended by gynaecologic societies, with the aim of finding cost-saving not invasive strategies to manage this common pathology. Up to now, nobody has investigated the effect of progestin administration on polyps, but molecular and clinical data suggest that the antiestrogenic effect of this hormone can be exploited to increase and speed-up their regression rate. Our preliminary results on the effect of three months of progesterone demonstrated a regression rate of 47,5% in women treated vs 12,5% in those don't receiving treatment.\\n\\nAccordingly, in this prospective randomized study we aim to compare the regression rates of women managed with watch-and-wait approach and of those treated with 3 cycles of luteal 25mg subcutaneous progesterone from 18 to 25 days of menstrual cycle\n",
       "0                                                                                                                                                                                                                                                                                                                                                                                                                                                                                                                                                                                                                                                                                                                                                                                                                                                                                                                                                                                                                                                                                                                                                                                                                                                                                                                                                                                                                                                                                                                                                                                                                                                                                                                                                                                                                                                                                                                                                                                                                                                                                                                                                                                                                                                                                                                                                                                                                                                                                                                                                                                                                                                                                                                                                                                                                                                                                                                                                                                                                                                                                                                                                                                                                                                                                                                                                                                                                                                               Elderly patients diagnosed with pneumonia after getting information and signing informed consent will be included in this trial. Simvastatin 20 mg will be administered to intervention group, while control group will receive placebo. Both groups will receive drugs (or placebo) for 30 days.\\n\\nBaseline data will be collected within 24 hours after admission. Then the subject will be followed up for 30 days. At the 7th day, patients will be underwent several laboratory tests, i.e. serum TNF-α (Tumor Necrosis Factor alpha), IFN-ϒ Interferon gamma), CRP (C-Reactive Protein), and PAI-1 (Plasminogen Activator Inhibitor-1). Death from all causes until 30 days will be recorded.\n",
       "0                                                                                                                                                                                                                                                                                                                                                                                                                                                                                                                                                                                                                                                                                                                                                                                                                                                                                                                                                                                                                                                                                                                                                                                                                                                                                                                                                                                                                                                                                                                                                                                                                                                                                                                                                                                                                                                                                                                                                                                                                                                                                                                                                                                                                                                                                                                                                                                                                                                                                                                                                                                                                                                                                                                                                                                                                                                                                                                                                                                                                                                                                                                                                                                                                                                                                                                                                                                                                                                                                                                                                                                                                                                                                                                                                                  The relapsed/refractory AML patients will receive IA/DA/MA(I,Idamycin，D，Daunorubicin，M，Mitoxantrone，A，cytosine arabinoside) chemotherapy followed by infusion of high dose allogeneic mismatched hematopoietic stem cells.\\n\\nno graft-versus-host disease (GVHD) prevention will be conducted before transplantation. Cytokine storm,GVHD snd donor graft will be detected post-transplantation.\n",
       "Name: DetailedDescription, Length: 76, dtype: object"
      ]
     },
     "execution_count": 24,
     "metadata": {},
     "output_type": "execute_result"
    }
   ],
   "source": [
    "df.DetailedDescription[0]"
   ]
  },
  {
   "cell_type": "code",
   "execution_count": 26,
   "metadata": {},
   "outputs": [],
   "source": [
    "df.to_csv(\"/home/ubuntu/datasets/cancer-clinical-trials/76k_cancer_trials_description.csv\")"
   ]
  },
  {
   "cell_type": "markdown",
   "metadata": {},
   "source": [
    "### Preprocessing the corpus"
   ]
  },
  {
   "cell_type": "code",
   "execution_count": 38,
   "metadata": {},
   "outputs": [
    {
     "data": {
      "text/plain": [
       "'{\\'s\\', \\'ain\\', \"that\\'ll\", \\'as\\', \\'yours\\', \\'some\\', \"hasn\\'t\", \"don\\'t\", \\'but\\', \\'further\\', \\'me\\', \\'have\\', \\'over\\', \\'each\\', \\'will\\', \\'aren\\', \"wasn\\'t\", \\'themselves\\', \\'own\\', \\'no\\', \"mightn\\'t\", \\'yourself\\', \\'mustn\\', \\'needn\\', \\'what\\', \\'too\\', \\'doesn\\', \\'than\\', \\'am\\', \\'are\\', \\'when\\', \\'such\\', \\'haven\\', \\'by\\', \\'all\\', \\'nor\\', \\'or\\', \\'out\\', \\'isn\\', \\'its\\', \\'why\\', \\'do\\', \"didn\\'t\", \\'between\\', \\'itself\\', \\'few\\', \\'wasn\\', \\'having\\', \\'any\\', \"should\\'ve\", \"shouldn\\'t\", \\'i\\', \\'most\\', \\'through\\', \\'herself\\', \\'should\\', \"couldn\\'t\", \\'his\\', \\'which\\', \\'here\\', \"aren\\'t\", \\'if\\', \\'can\\', \\'don\\', \\'her\\', \\'did\\', \\'himself\\', \\'below\\', \\'re\\', \\'y\\', \\'o\\', \"needn\\'t\", \\'ours\\', \\'from\\', \\'very\\', \"hadn\\'t\", \"wouldn\\'t\", \\'their\\', \\'so\\', \\'on\\', \"you\\'d\", \\'once\\', \\'myself\\', \\'she\\', \\'during\\', \"doesn\\'t\", \\'m\\', \\'only\\', \\'we\\', \\'ma\\', \\'mightn\\', \\'more\\', \\'because\\', \"she\\'s\", \"it\\'s\", \\'that\\', \\'has\\', \\'at\\', \\'for\\', \"haven\\'t\", \\'who\\', \\'is\\', \\'there\\', \\'your\\', \\'our\\', \\'both\\', \"won\\'t\", \\'again\\', \\'under\\', \\'hadn\\', \\'other\\', \"you\\'re\", \\'above\\', \\'wouldn\\', \"weren\\'t\", \\'was\\', \\'won\\', \\'into\\', \\'those\\', \\'about\\', \\'shan\\', \\'to\\', \\'they\\', \\'where\\', \\'then\\', \\'before\\', \\'ourselves\\', \\'an\\', \\'same\\', \\'didn\\', \\'my\\', \"shan\\'t\", \\'does\\', \"you\\'ll\", \\'just\\', \\'were\\', \\'after\\', \\'against\\', \\'shouldn\\', \\'had\\', \\'while\\', \\'been\\', \\'you\\', \"you\\'ve\", \\'d\\', \\'couldn\\', \\'whom\\', \\'them\\', \\'and\\', \\'up\\', \\'theirs\\', \\'in\\', \\'he\\', \\'off\\', \\'how\\', \\'ve\\', \\'yourselves\\', \\'of\\', \\'down\\', \\'be\\', \\'doing\\', \\'it\\', \\'hasn\\', \\'a\\', \\'these\\', \\'this\\', \\'hers\\', \\'the\\', \\'not\\', \\'ll\\', \\'t\\', \\'weren\\', \\'him\\', \\'being\\', \\'with\\', \"mustn\\'t\", \\'now\\', \"isn\\'t\", \\'until\\'}'"
      ]
     },
     "execution_count": 38,
     "metadata": {},
     "output_type": "execute_result"
    }
   ],
   "source": [
    "import nltk\n",
    "from nltk.corpus import stopwords\n",
    "# Get nltk stopword list into a set.\n",
    "stop_words = set(stopwords.words('english'))\n",
    "str(stop_words)"
   ]
  },
  {
   "cell_type": "code",
   "execution_count": 40,
   "metadata": {},
   "outputs": [
    {
     "data": {
      "text/plain": [
       "'{\\'greater\\', \\'as\\', \\',\\', \\'but\\', \\'two\\', \\'any\\', \\'and\\', \\'has\\', \\'have\\', \\'must\\', \\'patients\\', \\'study\\', \\'for\\', \\'in\\', \\'at\\', \\'is\\', \\'one\\', \\'see\\', \\'allowed\\', \\'three\\', \\'other\\', \\'none\\', \\'no\\', \\'of\\', \\'be\\', \\'four\\', \\'a\\', \\'below\\', \\'to\\', \\'use\\', \\'prior\\', \\'five\\', \\'except\\', \\'the\\', \\'\"\\', \\'six\\', \\'start\\', \\'than\\', \\'from\\', \\'before\\', \\'they\\', \\'are\\', \\'not\\', \\')\\', \\'an\\', \\'since\\', \\'by\\', \\'(\\', \\'or\\', \\'with\\'}'"
      ]
     },
     "execution_count": 40,
     "metadata": {},
     "output_type": "execute_result"
    }
   ],
   "source": [
    "stop_words2 = set('for a ( of the ) and to in is at an must be with are but not no none has have other from as prior or except none see below study , use \" one two three four five six patients before start greater than any allowed by for they since'.split())\n",
    "str(stop_words2)"
   ]
  },
  {
   "cell_type": "code",
   "execution_count": 44,
   "metadata": {},
   "outputs": [
    {
     "data": {
      "text/plain": [
       "'{\\'greater\\', \\'s\\', \\'ain\\', \"that\\'ll\", \\'as\\', \\'yours\\', \\'some\\', \"hasn\\'t\", \"don\\'t\", \\'but\\', \\'further\\', \\'me\\', \\'have\\', \\'over\\', \\'each\\', \\'will\\', \\'aren\\', \"wasn\\'t\", \\'none\\', \\'themselves\\', \\'own\\', \\'no\\', \"mightn\\'t\", \\'yourself\\', \\'mustn\\', \\'needn\\', \\'what\\', \\'too\\', \\'six\\', \\'doesn\\', \\'than\\', \\'am\\', \\'are\\', \\'when\\', \\'such\\', \\'haven\\', \\'by\\', \\'all\\', \\'nor\\', \\'or\\', \\'out\\', \\'isn\\', \\'its\\', \\'why\\', \\'do\\', \"didn\\'t\", \\'between\\', \\'itself\\', \\'few\\', \\',\\', \\'wasn\\', \\'having\\', \\'any\\', \"should\\'ve\", \"shouldn\\'t\", \\'i\\', \\'must\\', \\'most\\', \\'through\\', \\'herself\\', \\'should\\', \"couldn\\'t\", \\'his\\', \\'which\\', \\'here\\', \"aren\\'t\", \\'if\\', \\'can\\', \\'don\\', \\'her\\', \\'did\\', \\'himself\\', \\'below\\', \\'re\\', \\'y\\', \\'five\\', \\'o\\', \"needn\\'t\", \\'ours\\', \\'from\\', \\'very\\', \"hadn\\'t\", \\')\\', \"wouldn\\'t\", \\'their\\', \\'so\\', \\'(\\', \\'on\\', \"you\\'d\", \\'once\\', \\'myself\\', \\'she\\', \\'during\\', \"doesn\\'t\", \\'m\\', \\'only\\', \\'we\\', \\'ma\\', \\'mightn\\', \\'more\\', \\'because\\', \"she\\'s\", \\'two\\', \"it\\'s\", \\'that\\', \\'has\\', \\'patients\\', \\'study\\', \\'at\\', \\'for\\', \"haven\\'t\", \\'who\\', \\'is\\', \\'there\\', \\'your\\', \\'one\\', \\'our\\', \\'both\\', \"won\\'t\", \\'see\\', \\'again\\', \\'under\\', \\'hadn\\', \\'other\\', \"you\\'re\", \\'above\\', \\'wouldn\\', \"weren\\'t\", \\'was\\', \\'won\\', \\'into\\', \\'those\\', \\'about\\', \\'shan\\', \\'to\\', \\'they\\', \\'where\\', \\'then\\', \\'before\\', \\'ourselves\\', \\'since\\', \\'an\\', \\'same\\', \\'didn\\', \\'my\\', \"shan\\'t\", \\'does\\', \"you\\'ll\", \\'just\\', \\'were\\', \\'after\\', \\'against\\', \\'shouldn\\', \\'had\\', \\'while\\', \\'been\\', \\'you\\', \"you\\'ve\", \\'d\\', \\'couldn\\', \\'whom\\', \\'them\\', \\'and\\', \\'up\\', \\'theirs\\', \\'in\\', \\'he\\', \\'allowed\\', \\'three\\', \\'off\\', \\'how\\', \\'ve\\', \\'yourselves\\', \\'of\\', \\'down\\', \\'be\\', \\'doing\\', \\'it\\', \\'four\\', \\'hasn\\', \\'a\\', \\'these\\', \\'use\\', \\'prior\\', \\'except\\', \\'this\\', \\'hers\\', \\'the\\', \\'\"\\', \\'start\\', \\'not\\', \\'ll\\', \\'t\\', \\'weren\\', \\'him\\', \\'being\\', \\'with\\', \"mustn\\'t\", \\'now\\', \"isn\\'t\", \\'until\\'}'"
      ]
     },
     "execution_count": 44,
     "metadata": {},
     "output_type": "execute_result"
    }
   ],
   "source": [
    "master_stop_words = stop_words.union(stop_words2)\n",
    "str(master_stop_words)"
   ]
  },
  {
   "cell_type": "code",
   "execution_count": 52,
   "metadata": {},
   "outputs": [
    {
     "name": "stdout",
     "output_type": "stream",
     "text": [
      "16078121 stop words found and removed\n",
      "Saved as 'stopwords-removed.txt' \n"
     ]
    }
   ],
   "source": [
    "# Open and read in a text file.\n",
    "txt_file = open(\"/home/ubuntu/datasets/cancer-clinical-trials/76k_cancer_trials_description_copy.txt\")\n",
    "txt_line = txt_file.read()\n",
    "txt_words = txt_line.split()\n",
    " \n",
    "# stopwords found counter.\n",
    "sw_found = 0\n",
    " \n",
    "# If each word checked is not in stopwords list,\n",
    "# then append word to a new text file.\n",
    "for check_word in txt_words:\n",
    "    if not check_word.lower() in master_stop_words:\n",
    "        # Not found on stopword list, so remove noise and then append.\n",
    "        check_word = check_word.replace('(','').replace(')','').replace('[','').replace(']','').replace('.','').replace('-','').replace(':','').replace('.','')\n",
    "        appendFile = open('/home/ubuntu/datasets/cancer-clinical-trials/76k_cancer_trials_description_stopwords_removed.txt','a')\n",
    "        appendFile.write(\" \"+check_word)\n",
    "        appendFile.close()\n",
    "    else:\n",
    "        # It's on the stopword list\n",
    "        sw_found +=1\n",
    "        #print(check_word)\n",
    "\n",
    "print(sw_found,\"stop words found and removed\")\n",
    "print(\"Saved as 'stopwords-removed.txt' \")"
   ]
  },
  {
   "cell_type": "markdown",
   "metadata": {},
   "source": [
    "### 1. Training on Cancer trial data"
   ]
  },
  {
   "cell_type": "code",
   "execution_count": 28,
   "metadata": {},
   "outputs": [
    {
     "name": "stdout",
     "output_type": "stream",
     "text": [
      "Collecting fasttext\n",
      "  Downloading fasttext-0.9.2.tar.gz (68 kB)\n",
      "\u001b[K     |████████████████████████████████| 68 kB 2.3 MB/s eta 0:00:011\n",
      "\u001b[?25hRequirement already satisfied: pybind11>=2.2 in /home/ubuntu/anaconda3/envs/fastai/lib/python3.6/site-packages (from fasttext) (2.5.0)\n",
      "Requirement already satisfied: setuptools>=0.7.0 in /home/ubuntu/.local/lib/python3.6/site-packages (from fasttext) (45.2.0)\n",
      "Requirement already satisfied: numpy in /home/ubuntu/.local/lib/python3.6/site-packages (from fasttext) (1.18.1)\n",
      "Building wheels for collected packages: fasttext\n",
      "  Building wheel for fasttext (setup.py) ... \u001b[?25ldone\n",
      "\u001b[?25h  Created wheel for fasttext: filename=fasttext-0.9.2-cp36-cp36m-linux_x86_64.whl size=3173570 sha256=f5897a7aa95461d44db97e2b5e627864b3ccd78ba756974385849c46cb94fe00\n",
      "  Stored in directory: /home/ubuntu/.cache/pip/wheels/c3/5c/d0/4a725c6ee7df3267d818d3bc9d89bb173b94832f2b9eca6368\n",
      "Successfully built fasttext\n",
      "Installing collected packages: fasttext\n",
      "Successfully installed fasttext-0.9.2\n",
      "Note: you may need to restart the kernel to use updated packages.\n"
     ]
    }
   ],
   "source": [
    "pip install fasttext"
   ]
  },
  {
   "cell_type": "code",
   "execution_count": 29,
   "metadata": {},
   "outputs": [],
   "source": [
    "import fasttext"
   ]
  },
  {
   "cell_type": "code",
   "execution_count": 53,
   "metadata": {},
   "outputs": [],
   "source": [
    "model = fasttext.train_unsupervised('/home/ubuntu/datasets/cancer-clinical-trials/76k_cancer_trials_description_stopwords_removed.txt')"
   ]
  },
  {
   "cell_type": "code",
   "execution_count": 54,
   "metadata": {},
   "outputs": [
    {
     "data": {
      "text/plain": [
       "array([ 2.4892978e-01, -1.6563013e-01, -6.5934040e-02,  4.5928913e-01,\n",
       "        2.0202581e-02,  7.6780237e-02,  3.3513233e-01, -4.1252303e-01,\n",
       "        2.0858361e-01, -9.1023928e-01, -3.0293906e-01, -5.1558006e-01,\n",
       "       -4.1902757e-01, -1.2521465e-01, -1.6299035e-01, -2.6738225e-02,\n",
       "        7.8007823e-01,  1.3554697e-01, -4.8519111e-01, -3.5083588e-02,\n",
       "        2.5528473e-01,  3.0092922e-01, -1.9155055e-01,  1.4476283e-01,\n",
       "        1.7660636e-07, -6.0222067e-02,  4.0759182e-01,  5.4100269e-01,\n",
       "        8.0235440e-01, -4.7768134e-01, -3.0493966e-01, -2.8303018e-01,\n",
       "        4.9820712e-01, -3.2064819e-01, -2.5452789e-02, -6.0181928e-01,\n",
       "        2.5312525e-01,  2.5672410e-02, -7.9386222e-01, -4.2245692e-01,\n",
       "        3.7047675e-01,  4.2844656e-01,  1.9379880e-01,  3.1470615e-02,\n",
       "        1.1510277e-01,  4.6984351e-01, -4.0669106e-02,  8.8827230e-02,\n",
       "       -9.4303268e-04,  9.2533886e-01, -4.6607573e-02, -3.7166696e-02,\n",
       "        2.9520580e-01, -4.3344401e-02, -5.8495682e-01,  8.1720948e-01,\n",
       "       -2.2767925e-01,  7.0530629e-01,  5.4304737e-01, -2.0582025e-01,\n",
       "       -1.7904982e-02,  6.5044485e-02, -1.3373013e-02,  7.5482678e-01,\n",
       "        7.2169137e-01,  3.9257196e-01, -6.3985789e-01, -5.5542481e-01,\n",
       "        2.2684260e-01, -6.0773230e-01,  2.8113779e-01, -1.6758309e-01,\n",
       "       -9.6145737e-01, -3.3234322e-01,  4.5897490e-01, -1.0461767e-02,\n",
       "       -3.4581339e-01, -4.2683654e-02,  1.8543316e-01, -8.7018210e-01,\n",
       "        4.5336992e-01, -5.4789609e-01,  7.2146887e-01,  7.2287172e-01,\n",
       "       -4.7295871e-01, -4.0735599e-01, -1.2483835e-01, -7.2645605e-01,\n",
       "        4.1815683e-01,  2.3653288e-01,  4.6549869e-01, -2.9711100e-01,\n",
       "        6.4703286e-01, -5.2731121e-01, -1.9302545e-01, -5.2586871e-01,\n",
       "       -1.6514771e-01, -1.4753647e-01,  2.1202278e-01, -8.4089452e-01],\n",
       "      dtype=float32)"
      ]
     },
     "execution_count": 54,
     "metadata": {},
     "output_type": "execute_result"
    }
   ],
   "source": [
    "model.get_word_vector(\"estrogen\")"
   ]
  },
  {
   "cell_type": "code",
   "execution_count": 55,
   "metadata": {},
   "outputs": [
    {
     "data": {
      "text/plain": [
       "[(0.9273011088371277, '[estrogen'),\n",
       " (0.9223880767822266, 'estrogen/progesterone'),\n",
       " (0.9073039293289185, 'progesterone'),\n",
       " (0.8981960415840149, 'progesterones'),\n",
       " (0.8929575085639954, 'Estrogen/progesterone'),\n",
       " (0.8849475979804993, 'estrogen,'),\n",
       " (0.8834394812583923, '[ER]/progesterone'),\n",
       " (0.8831318020820618, 'progesterone.'),\n",
       " (0.8800917863845825, 'receptor/progesterone'),\n",
       " (0.8786907196044922, 'progesterones,')]"
      ]
     },
     "execution_count": 55,
     "metadata": {},
     "output_type": "execute_result"
    }
   ],
   "source": [
    "model.get_nearest_neighbors('estrogen') "
   ]
  },
  {
   "cell_type": "code",
   "execution_count": 56,
   "metadata": {},
   "outputs": [
    {
     "data": {
      "text/plain": [
       "[(0.9559347629547119, '+Pembrolizumab'),\n",
       " (0.951829731464386, '(Pembrolizumab'),\n",
       " (0.9217069745063782, 'Pembrolizumab,'),\n",
       " (0.9184354543685913, 'Nivolumab'),\n",
       " (0.9098639488220215, 'Pembrolizumab:'),\n",
       " (0.9070537090301514, 'Pembrolizumab)'),\n",
       " (0.8792606592178345, '(Nivolumab'),\n",
       " (0.8746487498283386, 'Atezolizumab'),\n",
       " (0.8567278981208801, '(Pembrolizumab)'),\n",
       " (0.8501065969467163, '(MK3475)')]"
      ]
     },
     "execution_count": 56,
     "metadata": {},
     "output_type": "execute_result"
    }
   ],
   "source": [
    "model.get_nearest_neighbors('Pembrolizumab') "
   ]
  },
  {
   "cell_type": "code",
   "execution_count": 57,
   "metadata": {},
   "outputs": [
    {
     "data": {
      "text/plain": [
       "[(0.9353123307228088, 'NSCLC；'),\n",
       " (0.9346041083335876, 'nsNSCLC'),\n",
       " (0.9293544292449951, 'NSCLC*'),\n",
       " (0.9225519895553589, 'aNSCLC'),\n",
       " (0.9197292923927307, 'NSCLCC'),\n",
       " (0.8932170867919922, 'NSCLCA'),\n",
       " (0.889642059803009, '(NSCLC'),\n",
       " (0.88927161693573, 'NSCLC-'),\n",
       " (0.8864023089408875, 'NSCLC)'),\n",
       " (0.8786198496818542, 'nonsmall-cell')]"
      ]
     },
     "execution_count": 57,
     "metadata": {},
     "output_type": "execute_result"
    }
   ],
   "source": [
    "model.get_nearest_neighbors('NSCLC') "
   ]
  },
  {
   "cell_type": "code",
   "execution_count": 59,
   "metadata": {},
   "outputs": [
    {
     "data": {
      "text/plain": [
       "[(0.646023690700531, 'cardiovascular/cerebrovascular'),\n",
       " (0.635280191898346, 'cardiovascular/'),\n",
       " (0.6086441278457642, 'cardiovascularly'),\n",
       " (0.6009490489959717, '(cardiovascular'),\n",
       " (0.5713033080101013, 'cardiovacular'),\n",
       " (0.5709266066551208, 'cardiovascular/pulmonary/renal'),\n",
       " (0.5489823222160339, 'anticancer,'),\n",
       " (0.5482404232025146, 'Cerebrovascular'),\n",
       " (0.5465226173400879, 'cardio/cerebrovascular'),\n",
       " (0.5408843755722046, 'accident/stroke,')]"
      ]
     },
     "execution_count": 59,
     "metadata": {},
     "output_type": "execute_result"
    }
   ],
   "source": [
    "model.get_analogies(\"immunotherapy\",\"oncology\",\"cardiovascular\")"
   ]
  },
  {
   "cell_type": "code",
   "execution_count": null,
   "metadata": {},
   "outputs": [],
   "source": []
  }
 ],
 "metadata": {
  "kernelspec": {
   "display_name": "Python 3",
   "language": "python",
   "name": "python3"
  },
  "language_info": {
   "codemirror_mode": {
    "name": "ipython",
    "version": 3
   },
   "file_extension": ".py",
   "mimetype": "text/x-python",
   "name": "python",
   "nbconvert_exporter": "python",
   "pygments_lexer": "ipython3",
   "version": "3.6.10"
  }
 },
 "nbformat": 4,
 "nbformat_minor": 4
}
