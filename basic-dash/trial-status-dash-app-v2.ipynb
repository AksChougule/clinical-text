{
 "cells": [
  {
   "cell_type": "markdown",
   "metadata": {},
   "source": [
    "Date Created - 1st November 2020\n",
    "\n",
    "Date Updates - 1st November 2020"
   ]
  },
  {
   "cell_type": "markdown",
   "metadata": {},
   "source": [
    "## Basics"
   ]
  },
  {
   "cell_type": "code",
   "execution_count": 1,
   "metadata": {},
   "outputs": [],
   "source": [
    "import pandas as pd\n",
    "import dash  \n",
    "import dash_core_components as dcc\n",
    "import dash_html_components as html\n",
    "from dash.dependencies import Input, Output\n",
    "import dash_table_experiments as dt\n",
    "import dash_table\n",
    "import dash_pivottable"
   ]
  },
  {
   "cell_type": "code",
   "execution_count": 2,
   "metadata": {},
   "outputs": [
    {
     "data": {
      "text/html": [
       "<div>\n",
       "<style scoped>\n",
       "    .dataframe tbody tr th:only-of-type {\n",
       "        vertical-align: middle;\n",
       "    }\n",
       "\n",
       "    .dataframe tbody tr th {\n",
       "        vertical-align: top;\n",
       "    }\n",
       "\n",
       "    .dataframe thead th {\n",
       "        text-align: right;\n",
       "    }\n",
       "</style>\n",
       "<table border=\"1\" class=\"dataframe\">\n",
       "  <thead>\n",
       "    <tr style=\"text-align: right;\">\n",
       "      <th></th>\n",
       "      <th>Total Study Count</th>\n",
       "      <th>Total Subjects</th>\n",
       "      <th>Industry Funded Study Count</th>\n",
       "      <th>Subjects from Industry Funded Studies</th>\n",
       "      <th>Studies with Clinical Data Rights</th>\n",
       "      <th>Subjects from Studies with Clinical Data Rights</th>\n",
       "    </tr>\n",
       "  </thead>\n",
       "  <tbody>\n",
       "    <tr>\n",
       "      <th>0</th>\n",
       "      <td>28</td>\n",
       "      <td>453748</td>\n",
       "      <td>16</td>\n",
       "      <td>275187</td>\n",
       "      <td>11</td>\n",
       "      <td>160942</td>\n",
       "    </tr>\n",
       "  </tbody>\n",
       "</table>\n",
       "</div>"
      ],
      "text/plain": [
       "   Total Study Count  Total Subjects  Industry Funded Study Count  \\\n",
       "0                 28          453748                           16   \n",
       "\n",
       "   Subjects from Industry Funded Studies  Studies with Clinical Data Rights  \\\n",
       "0                                 275187                                 11   \n",
       "\n",
       "   Subjects from Studies with Clinical Data Rights  \n",
       "0                                           160942  "
      ]
     },
     "execution_count": 2,
     "metadata": {},
     "output_type": "execute_result"
    }
   ],
   "source": [
    "data = pd.read_csv('dummy_df2.csv')\n",
    "# create a list of rows\n",
    "data_list = [data.columns.values.tolist()] + data.values.tolist()\n",
    "trials_df = pd.read_csv('dummy_df.csv')\n",
    "\n",
    "d = {'Total Study Count': len(data), \n",
    "             'Total Subjects': data['Subjects'].sum(),\n",
    "             'Industry Funded Study Count': len(data[data['Funder Type']=='Industry']), \n",
    "             'Subjects from Industry Funded Studies': sum(data[data['Funder Type']=='Industry']['Subjects']), \n",
    "             'Studies with Clinical Data Rights': len(data[data['Clinical Rights']=='Yes']),\n",
    "             'Subjects from Studies with Clinical Data Rights': sum(data[data['Clinical Rights']=='Yes']['Subjects']) \n",
    "             }\n",
    "quick_summary = pd.DataFrame(data=d, index=[0])\n",
    "quick_summary"
   ]
  },
  {
   "cell_type": "code",
   "execution_count": 3,
   "metadata": {},
   "outputs": [
    {
     "name": "stdout",
     "output_type": "stream",
     "text": [
      "Dash is running on http://127.0.0.1:8050/\n",
      "\n",
      " * Serving Flask app \"__main__\" (lazy loading)\n",
      " * Environment: production\n",
      "   WARNING: This is a development server. Do not use it in a production deployment.\n",
      "   Use a production WSGI server instead.\n",
      " * Debug mode: off\n"
     ]
    },
    {
     "name": "stderr",
     "output_type": "stream",
     "text": [
      "/home/ubuntu/anaconda3/envs/fastai2/lib/python3.7/site-packages/pandas/core/frame.py:1490: FutureWarning:\n",
      "\n",
      "Using short name for 'orient' is deprecated. Only the options: ('dict', list, 'series', 'split', 'records', 'index') will be used in a future version. Use one of the above to silence this warning.\n",
      "\n",
      " * Running on http://127.0.0.1:8050/ (Press CTRL+C to quit)\n",
      "127.0.0.1 - - [01/Nov/2020 22:56:02] \"\u001b[37mGET / HTTP/1.1\u001b[0m\" 200 -\n",
      "127.0.0.1 - - [01/Nov/2020 22:56:02] \"\u001b[37mGET /_dash-dependencies HTTP/1.1\u001b[0m\" 200 -\n",
      "127.0.0.1 - - [01/Nov/2020 22:56:02] \"\u001b[37mGET /_dash-layout HTTP/1.1\u001b[0m\" 200 -\n"
     ]
    }
   ],
   "source": [
    "app = dash.Dash(__name__)\n",
    "\n",
    "# App layout\n",
    "app.layout = html.Div([\n",
    "\n",
    "    html.H1(\"COVID19 trial dashboard\", style={'text-align': 'center'}),\n",
    "    html.H4(\"Last updated on 01-Nov-2020\", style={'text-align': 'center'}),\n",
    "    \n",
    "    html.Br(),\n",
    "    html.Br(), html.Br(),\n",
    "    \n",
    "    dcc.Tabs([\n",
    "        dcc.Tab(label='Study list', children=[\n",
    "            html.Div(id='blank1', style={'width': '7%', 'display': 'inline-block'}),    \n",
    "            dash_table.DataTable(\n",
    "                    id='table',\n",
    "                    columns=[{\"name\": i, \"id\": i} for i in trials_df.columns],\n",
    "                    data=trials_df.to_dict(\"rows\"),\n",
    "                    filter_action=\"native\",\n",
    "                    sort_action='native',\n",
    "                    style_cell={'width': '300px',\n",
    "                    'height': '60px',\n",
    "                    'textAlign': 'left'},\n",
    "                    style_data_conditional=[{\n",
    "                        'if': {'row_index': 'odd'},\n",
    "                        'backgroundColor': 'rgb(248, 248, 248)'\n",
    "                    }],\n",
    "                    style_header={\n",
    "                        'backgroundColor': 'rgb(230, 230, 230)',\n",
    "                        'fontWeight': 'bold'\n",
    "                    })\n",
    "        ]),\n",
    "     \n",
    "        dcc.Tab(label='Quick Summary', children=[\n",
    "            html.Br(),\n",
    "            html.Div(id='blank2', style={'width': '7%', 'display': 'inline-block'}),   \n",
    "            \n",
    "            dash_table.DataTable(\n",
    "                    id='table2',\n",
    "                    columns=[{\"name\": i, \"id\": i} for i in quick_summary.columns],\n",
    "                    data=quick_summary.to_dict(\"rows\"),\n",
    "                    style_cell={'width': '300px',\n",
    "                    'height': '60px',\n",
    "                    'textAlign': 'left'},\n",
    "                    style_data_conditional=[{\n",
    "                        'if': {'row_index': 'odd'},\n",
    "                        'backgroundColor': 'rgb(248, 248, 248)'\n",
    "                    }],\n",
    "                    style_header={\n",
    "                        'backgroundColor': 'rgb(230, 230, 230)',\n",
    "                        'fontWeight': 'bold'\n",
    "                    })\n",
    "        ]),\n",
    "     \n",
    "        dcc.Tab(label='Custom Analysis', children=[\n",
    "            html.Div(id='blank3', style={'width': '7%', 'display': 'inline-block'}),    \n",
    "            html.Div(id='custom-analysis', style={'width': '85%', 'display': 'inline-block'}),\n",
    "            html.Div(\n",
    "            dash_pivottable.PivotTable(\n",
    "                data=data_list,\n",
    "                cols=[\"Phase\"],\n",
    "                rows=[\"Clinical Rights\"],\n",
    "                vals=[\"Count\"]\n",
    "                ), style={'width': '85%', 'display': 'inline-block'}\n",
    "            )\n",
    "        ])\n",
    "    ]),\n",
    "    \n",
    "    html.Br(),\n",
    "])\n",
    "\n",
    "\n",
    "# ------------------------------------------------------------------------------\n",
    "if __name__ == '__main__':\n",
    "    app.run_server(debug=False)"
   ]
  },
  {
   "cell_type": "code",
   "execution_count": null,
   "metadata": {},
   "outputs": [],
   "source": []
  }
 ],
 "metadata": {
  "hide_input": false,
  "kernelspec": {
   "display_name": "Python 3",
   "language": "python",
   "name": "python3"
  },
  "language_info": {
   "codemirror_mode": {
    "name": "ipython",
    "version": 3
   },
   "file_extension": ".py",
   "mimetype": "text/x-python",
   "name": "python",
   "nbconvert_exporter": "python",
   "pygments_lexer": "ipython3",
   "version": "3.7.6"
  },
  "toc": {
   "base_numbering": 1,
   "nav_menu": {},
   "number_sections": true,
   "sideBar": true,
   "skip_h1_title": false,
   "title_cell": "Table of Contents",
   "title_sidebar": "Contents",
   "toc_cell": false,
   "toc_position": {
    "height": "calc(100% - 180px)",
    "left": "10px",
    "top": "150px",
    "width": "240.167px"
   },
   "toc_section_display": true,
   "toc_window_display": true
  }
 },
 "nbformat": 4,
 "nbformat_minor": 4
}
