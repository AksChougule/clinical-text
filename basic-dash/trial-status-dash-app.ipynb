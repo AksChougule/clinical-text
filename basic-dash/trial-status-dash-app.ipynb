{
 "cells": [
  {
   "cell_type": "markdown",
   "metadata": {},
   "source": [
    "Date Created - 1st November 2020\n",
    "\n",
    "Date Updates - 1st November 2020"
   ]
  },
  {
   "cell_type": "markdown",
   "metadata": {},
   "source": [
    "## Basics"
   ]
  },
  {
   "cell_type": "code",
   "execution_count": 1,
   "metadata": {},
   "outputs": [],
   "source": [
    "import pandas as pd\n",
    "import dash  \n",
    "import dash_core_components as dcc\n",
    "import dash_html_components as html\n",
    "from dash.dependencies import Input, Output\n",
    "import dash_table_experiments as dt\n",
    "import dash_table"
   ]
  },
  {
   "cell_type": "code",
   "execution_count": 2,
   "metadata": {},
   "outputs": [],
   "source": [
    "app = dash.Dash(__name__)"
   ]
  },
  {
   "cell_type": "code",
   "execution_count": 3,
   "metadata": {},
   "outputs": [
    {
     "name": "stdout",
     "output_type": "stream",
     "text": [
      "Dash is running on http://127.0.0.1:8050/\n",
      "\n",
      " * Serving Flask app \"__main__\" (lazy loading)\n",
      " * Environment: production\n",
      "   WARNING: This is a development server. Do not use it in a production deployment.\n",
      "   Use a production WSGI server instead.\n",
      " * Debug mode: off\n"
     ]
    },
    {
     "name": "stderr",
     "output_type": "stream",
     "text": [
      " * Running on http://127.0.0.1:8050/ (Press CTRL+C to quit)\n",
      "127.0.0.1 - - [01/Nov/2020 20:11:18] \"\u001b[37mGET / HTTP/1.1\u001b[0m\" 200 -\n",
      "127.0.0.1 - - [01/Nov/2020 20:11:18] \"\u001b[37mGET /_dash-dependencies HTTP/1.1\u001b[0m\" 200 -\n",
      "127.0.0.1 - - [01/Nov/2020 20:11:18] \"\u001b[37mGET /_dash-layout HTTP/1.1\u001b[0m\" 200 -\n",
      "/home/ubuntu/anaconda3/envs/fastai2/lib/python3.7/site-packages/pandas/core/frame.py:1490: FutureWarning:\n",
      "\n",
      "Using short name for 'orient' is deprecated. Only the options: ('dict', list, 'series', 'split', 'records', 'index') will be used in a future version. Use one of the above to silence this warning.\n",
      "\n",
      "127.0.0.1 - - [01/Nov/2020 20:11:18] \"\u001b[37mPOST /_dash-update-component HTTP/1.1\u001b[0m\" 200 -\n"
     ]
    },
    {
     "name": "stdout",
     "output_type": "stream",
     "text": [
      "None\n"
     ]
    }
   ],
   "source": [
    "# App layout\n",
    "app.layout = html.Div([\n",
    "\n",
    "    html.H1(\"COVID19 trial dashboard\", style={'text-align': 'center'}),\n",
    "\n",
    "    html.Div([\n",
    "        html.Br(),\n",
    "        dcc.Input(id=\"trial1\", type=\"text\", placeholder=\"Enter the trial id or name\", debounce =True),\n",
    "        html.Br(),\n",
    "    ]),\n",
    "    html.Br(),\n",
    "    html.Br(), html.Br(),\n",
    "    \n",
    "    dcc.Tabs([\n",
    "        dcc.Tab(label='Trial list', children=[\n",
    "            html.Div(id='blank1', style={'width': '7%', 'display': 'inline-block'}),    \n",
    "            html.Div(id='cov19-study-list', style={'width': '85%', 'display': 'inline-block'}),\n",
    "        ]),\n",
    "     \n",
    "        dcc.Tab(label='Aggregate Summary', children=[\n",
    "            html.Div(id='blank2', style={'width': '7%', 'display': 'inline-block'}),    \n",
    "            html.Div(id='cov19-summaries', style={'width': '85%', 'display': 'inline-block'}),\n",
    "        ]),\n",
    "     \n",
    "        dcc.Tab(label='Custom Analysis', children=[\n",
    "            html.Div(id='blank3', style={'width': '7%', 'display': 'inline-block'}),    \n",
    "            html.Div(id='custom-analysis', style={'width': '85%', 'display': 'inline-block'}),\n",
    "        ])\n",
    "    ]),\n",
    "    \n",
    "    html.Br(),\n",
    "])\n",
    "\n",
    "\n",
    "# ------------------------------------------------------------------------------\n",
    "# Connect the data with Dash Components\n",
    "@app.callback(\n",
    "    [dash.dependencies.Output('cov19-study-list', 'children'),\n",
    "     dash.dependencies.Output('cov19-summaries', 'children'),\n",
    "     dash.dependencies.Output('custom-analysis', 'children')],\n",
    "    Input(component_id='trial1', component_property='value')\n",
    ")\n",
    "\n",
    "\n",
    "# update logic\n",
    "def update_graph(trial):\n",
    "    print(trial)  \n",
    "    \n",
    "    trials_df = pd.read_csv('dummy_df.csv')\n",
    "\n",
    "    cov19_trials = dash_table.DataTable(\n",
    "                    id='table',\n",
    "                    columns=[{\"name\": i, \"id\": i} for i in trials_df.columns],\n",
    "                    data=trials_df.to_dict(\"rows\"),\n",
    "                    filter_action=\"native\",\n",
    "                    style_cell={'width': '300px',\n",
    "                    'height': '60px',\n",
    "                    'textAlign': 'left'},\n",
    "                    style_data_conditional=[{\n",
    "                        'if': {'row_index': 'odd'},\n",
    "                        'backgroundColor': 'rgb(248, 248, 248)'\n",
    "                    }],\n",
    "                    style_header={\n",
    "                        'backgroundColor': 'rgb(230, 230, 230)',\n",
    "                        'fontWeight': 'bold'\n",
    "                    })\n",
    "       \n",
    "    cov19_trials_summary= 'Under Construction'\n",
    "\n",
    "    return html.Div([\n",
    "        html.H4(' ', style={'text-align': 'center'}),\n",
    "        cov19_trials\n",
    "    ]), html.Div([\n",
    "        html.H4(' ', style={'text-align': 'center'}),\n",
    "        cov19_trials_summary\n",
    "    ]), html.Div([\n",
    "        html.H4(' ', style={'text-align': 'center'}),\n",
    "        cov19_trials_summary\n",
    "    ])\n",
    "\n",
    "# ------------------------------------------------------------------------------\n",
    "if __name__ == '__main__':\n",
    "    app.run_server(debug=False)"
   ]
  },
  {
   "cell_type": "code",
   "execution_count": null,
   "metadata": {},
   "outputs": [],
   "source": []
  }
 ],
 "metadata": {
  "hide_input": false,
  "kernelspec": {
   "display_name": "Python 3",
   "language": "python",
   "name": "python3"
  },
  "language_info": {
   "codemirror_mode": {
    "name": "ipython",
    "version": 3
   },
   "file_extension": ".py",
   "mimetype": "text/x-python",
   "name": "python",
   "nbconvert_exporter": "python",
   "pygments_lexer": "ipython3",
   "version": "3.7.6"
  },
  "toc": {
   "base_numbering": 1,
   "nav_menu": {},
   "number_sections": true,
   "sideBar": true,
   "skip_h1_title": false,
   "title_cell": "Table of Contents",
   "title_sidebar": "Contents",
   "toc_cell": false,
   "toc_position": {
    "height": "calc(100% - 180px)",
    "left": "10px",
    "top": "150px",
    "width": "240.167px"
   },
   "toc_section_display": true,
   "toc_window_display": true
  }
 },
 "nbformat": 4,
 "nbformat_minor": 4
}
