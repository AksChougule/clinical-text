{
 "cells": [
  {
   "cell_type": "code",
   "execution_count": null,
   "metadata": {},
   "outputs": [],
   "source": []
  },
  {
   "cell_type": "code",
   "execution_count": 1,
   "metadata": {},
   "outputs": [
    {
     "name": "stdout",
     "output_type": "stream",
     "text": [
      "WARNING: pip is being invoked by an old script wrapper. This will fail in a future version of pip.\n",
      "Please see https://github.com/pypa/pip/issues/5599 for advice on fixing the underlying issue.\n",
      "To avoid this problem you can invoke Python with '-m pip' instead of running pip directly.\n",
      "Collecting COVID19Py\n",
      "  Downloading COVID19Py-0.3.0.tar.gz (4.9 kB)\n",
      "Building wheels for collected packages: COVID19Py\n",
      "  Building wheel for COVID19Py (setup.py) ... \u001b[?25ldone\n",
      "\u001b[?25h  Created wheel for COVID19Py: filename=COVID19Py-0.3.0-py3-none-any.whl size=4719 sha256=c841838764dbe53cfbe897fe180029e09ca1e4c913df77ec41bf43b3ba9394dd\n",
      "  Stored in directory: /home/ubuntu/.cache/pip/wheels/55/8b/28/79b91890a476d8351046cfc3521a492be74cfb0000cf9b288e\n",
      "Successfully built COVID19Py\n",
      "Installing collected packages: COVID19Py\n",
      "Successfully installed COVID19Py-0.3.0\n"
     ]
    }
   ],
   "source": [
    "!pip install COVID19Py"
   ]
  },
  {
   "cell_type": "code",
   "execution_count": 3,
   "metadata": {},
   "outputs": [],
   "source": [
    "import COVID19Py"
   ]
  },
  {
   "cell_type": "code",
   "execution_count": 5,
   "metadata": {},
   "outputs": [],
   "source": [
    "covid19 = COVID19Py.COVID19()"
   ]
  },
  {
   "cell_type": "code",
   "execution_count": 7,
   "metadata": {},
   "outputs": [],
   "source": [
    "covid19 = COVID19Py.COVID19(data_source=\"csbs\")"
   ]
  },
  {
   "cell_type": "code",
   "execution_count": 8,
   "metadata": {},
   "outputs": [],
   "source": [
    "latest = covid19.getLatest()"
   ]
  },
  {
   "cell_type": "code",
   "execution_count": 9,
   "metadata": {},
   "outputs": [
    {
     "data": {
      "text/plain": [
       "{'confirmed': 1444698, 'deaths': 85932, 'recovered': 0}"
      ]
     },
     "execution_count": 9,
     "metadata": {},
     "output_type": "execute_result"
    }
   ],
   "source": [
    "latest"
   ]
  },
  {
   "cell_type": "code",
   "execution_count": null,
   "metadata": {},
   "outputs": [],
   "source": []
  }
 ],
 "metadata": {
  "kernelspec": {
   "display_name": "Python 3",
   "language": "python",
   "name": "python3"
  },
  "language_info": {
   "codemirror_mode": {
    "name": "ipython",
    "version": 3
   },
   "file_extension": ".py",
   "mimetype": "text/x-python",
   "name": "python",
   "nbconvert_exporter": "python",
   "pygments_lexer": "ipython3",
   "version": "3.6.10"
  }
 },
 "nbformat": 4,
 "nbformat_minor": 4
}
